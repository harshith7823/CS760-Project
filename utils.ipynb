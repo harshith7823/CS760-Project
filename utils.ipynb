{
  "nbformat": 4,
  "nbformat_minor": 0,
  "metadata": {
    "colab": {
      "name": "utils.ipynb",
      "provenance": [],
      "authorship_tag": "ABX9TyPdTfz6nez3BLlUUi6aECUa",
      "include_colab_link": true
    },
    "kernelspec": {
      "name": "python3",
      "display_name": "Python 3"
    },
    "language_info": {
      "name": "python"
    }
  },
  "cells": [
    {
      "cell_type": "markdown",
      "metadata": {
        "id": "view-in-github",
        "colab_type": "text"
      },
      "source": [
        "<a href=\"https://colab.research.google.com/github/harshith7823/CS760-Project/blob/utils/utils.ipynb\" target=\"_parent\"><img src=\"https://colab.research.google.com/assets/colab-badge.svg\" alt=\"Open In Colab\"/></a>"
      ]
    },
    {
      "cell_type": "code",
      "execution_count": null,
      "metadata": {
        "id": "LvEZKgiN9Nvc"
      },
      "outputs": [],
      "source": [
        ""
      ]
    },
    {
      "cell_type": "markdown",
      "source": [
        "Refer for importing in colab https://stackoverflow.com/questions/48905127/importing-py-files-in-google-colab"
      ],
      "metadata": {
        "id": "sv7Y6W9p_GB9"
      }
    },
    {
      "cell_type": "code",
      "execution_count": null,
      "metadata": {
        "id": "dzDKo4obCOiz"
      },
      "outputs": [],
      "source": [
        "import pandas as pd\n",
        "import torch\n",
        "import numpy as np\n",
        "import torch.nn as nn\n",
        "import torch.nn.functional as F\n",
        "import torch.optim as optim\n",
        "from torchvision import transforms\n",
        "from torch.utils.data import Dataset, DataLoader,IterableDataset\n",
        "from sklearn.model_selection import train_test_split\n",
        "from sklearn.preprocessing import StandardScaler"
      ]
    },
    {
      "cell_type": "code",
      "source": [
        "def clean_ct_data(oppScrData):\n",
        "    # Delete rows with empty values\n",
        "    ct_data= oppScrData[[\"L1_HU_BMD\", \"TAT Area (cm2)\", 'Total Body                Area EA (cm2)',\n",
        "       'VAT Area (cm2)', 'SAT Area (cm2)', 'VAT/SAT     Ratio', 'Muscle HU',\n",
        "       ' Muscle Area (cm2)', 'L3 SMI (cm2/m2)', 'AoCa        Agatston',\n",
        "       'Liver HU    (Median)', 'Age at CT']]\n",
        "    n = ct_data.shape[0]\n",
        "    preprocessed_ct_data = []\n",
        "    for i in range(n):\n",
        "        row = ct_data.loc[i]\n",
        "        ignore = False\n",
        "        for j in row:\n",
        "          if pd.isna(j) or j == ' ': # There is an empty string somewhere in Liver column\n",
        "            ignore = True\n",
        "            break\n",
        "        if not ignore:\n",
        "          preprocessed_ct_data.append(row)\n",
        "    return np.array(preprocessed_ct_data, dtype=np.float32)\n"
      ],
      "metadata": {
        "id": "HEznW1BHD8Zj"
      },
      "execution_count": null,
      "outputs": []
    },
    {
      "cell_type": "code",
      "source": [
        "def preprocess_clinical_data(oppScrData, mean=True):\n",
        "    clinical_data = oppScrData.filter(['BMI','BMI >30', 'Sex', 'Tobacco', 'Met Sx', 'FRAX 10y Fx Prob (Orange-w/ DXA)',\n",
        "                                'FRAX 10y Hip Fx Prob (Orange-w/ DXA)','FRS 10-year risk (%)' ], axis=1)\n",
        "\n",
        "    clinical_data['BMI >30'] = (clinical_data['BMI >30'] == 'Y').astype(int)\n",
        "    clinical_data['Sex'] = (clinical_data['Sex'] == 'Male').astype(int)\n",
        "    clinical_data['Tobacco'] = (clinical_data['Tobacco'] == 'Yes').astype(int) #Do we want a 3rd type for unknown?\n",
        "    clinical_data['Met Sx'] = (clinical_data['Met Sx'] == 'Yes').astype(int) #Do we want a 3rd type for unknown?\n",
        "    clinical_data['FRAX 10y Fx Prob (Orange-w/ DXA)'] = clinical_data['FRAX 10y Fx Prob (Orange-w/ DXA)'].replace(\"_\", 0, regex=True)\n",
        "    clinical_data['FRAX 10y Hip Fx Prob (Orange-w/ DXA)'] = clinical_data['FRAX 10y Hip Fx Prob (Orange-w/ DXA)'].replace(\"_\", 0, regex=True)\n",
        "    clinical_data['FRS 10-year risk (%)'] = clinical_data['FRS 10-year risk (%)'].replace(\"X\", 0, regex=True)\n",
        "    clinical_data['FRS 10-year risk (%)'] = clinical_data['FRS 10-year risk (%)'].replace(\"<1\", 0, regex=True)\n",
        "    clinical_data['FRS 10-year risk (%)'] = clinical_data['FRS 10-year risk (%)'].replace(\">30\", 30, regex=True)\n",
        "    \n",
        "    for c in clinical_data.columns:\n",
        "      print(c)\n",
        "      if mean:  \n",
        "        clinical_data[c].fillna(value=clinical_data[c].mean(), inplace=True)\n",
        "      else :\n",
        "        clinical_data[c].fillna(value=clinical_data[c].median(), inplace=True)\n",
        "        \n",
        "    return np.array(clinical_data, dtype=np.float32)\n",
        "\n",
        "    "
      ],
      "metadata": {
        "id": "z-dsvc_gIU_c"
      },
      "execution_count": null,
      "outputs": []
    },
    {
      "cell_type": "code",
      "source": [
        "def normalize_ct_data(ct_data):\n",
        "    n = ct_data.shape[1]    \n",
        "    for i in range(n-1):\n",
        "      print(i)\n",
        "      ct_data[:,i] = (ct_data[:,i] - np.min(ct_data[:,i]))/(np.max(ct_data[:,i])- np.min(ct_data[:,i]))\n",
        "    return ct_data"
      ],
      "metadata": {
        "id": "tLPIjSdgEAeY"
      },
      "execution_count": null,
      "outputs": []
    },
    {
      "cell_type": "code",
      "source": [
        "def normalize_with_ss(ct_data):\n",
        "  scaler = StandardScaler()\n",
        "  return scaler.fit(ct_data)\n"
      ],
      "metadata": {
        "id": "nDYh-iCj8C2d"
      },
      "execution_count": 1,
      "outputs": []
    }
  ]
}