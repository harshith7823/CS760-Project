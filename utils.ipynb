{
  "cells": [
    {
      "cell_type": "markdown",
      "metadata": {
        "id": "view-in-github",
        "colab_type": "text"
      },
      "source": [
        "<a href=\"https://colab.research.google.com/github/harshith7823/CS760-Project/blob/reetu/utils.ipynb\" target=\"_parent\"><img src=\"https://colab.research.google.com/assets/colab-badge.svg\" alt=\"Open In Colab\"/></a>"
      ]
    },
    {
      "cell_type": "markdown",
      "metadata": {
        "id": "sv7Y6W9p_GB9"
      },
      "source": [
        "Refer for importing in colab https://stackoverflow.com/questions/48905127/importing-py-files-in-google-colab"
      ]
    },
    {
      "cell_type": "code",
      "execution_count": null,
      "metadata": {
        "id": "dzDKo4obCOiz"
      },
      "outputs": [],
      "source": [
        "import pandas as pd\n",
        "import numpy as np\n",
        "from sklearn.preprocessing import StandardScaler"
      ]
    },
    {
      "cell_type": "code",
      "source": [
        "def fill_death_col(clinical_data):\n",
        "  \n",
        "  male_obese = (clinical_data['Sex'] == 1) & (clinical_data['BMI'] > 30)\n",
        "  female_obese = (clinical_data['Sex'] == -1) & (clinical_data['BMI'] > 30)\n",
        "  male_underweight = (clinical_data['Sex'] == 1) & (clinical_data['BMI'] < 18.5)\n",
        "  female_underweight = (clinical_data['Sex'] == -1) & (clinical_data['BMI'] < 18.5)\n",
        "  clinical_data['BMI_reduction_factor'] = 0\n",
        "  clinical_data.loc[male_obese, 'BMI_reduction_factor'] = 4.2\n",
        "  clinical_data.loc[female_obese, 'BMI_reduction_factor'] = 3.5\n",
        "  clinical_data.loc[male_underweight, 'BMI_reduction_factor'] = 4.3\n",
        "  clinical_data.loc[female_underweight, 'BMI_reduction_factor'] = 4.5\n",
        "\n",
        "  clinical_data['Tobacco_reduction_factor'] = np.where(clinical_data['Tobacco']==1,10,0)\n",
        "\n",
        "  \n",
        "  #Leave na on rows with no death data, fill the rest with age*365+death days \n",
        "  clinical_data['Age_at_death'] = np.where(clinical_data['DEATH [d from CT]'].isna(), np.nan, clinical_data['Age at CT']*365 + clinical_data['DEATH [d from CT]'])\n",
        "  \n",
        "  # fill death with avg lifespan - alpha(reduction for tobacco) - beta(reduction for bmi)\n",
        "  corr_bmi_death = clinical_data['BMI'].corr(clinical_data['Age_at_death'])\n",
        "  corr_tobacco_death = clinical_data['Tobacco'].corr(clinical_data['Age_at_death'])\n",
        "\n",
        "  # print(corr_bmi_death)\n",
        "  # print(corr_tobacco_death)\n",
        "\n",
        "  #normalize\n",
        "  alpha = corr_bmi_death/(corr_bmi_death+corr_tobacco_death)\n",
        "  beta = corr_tobacco_death/(corr_bmi_death+corr_tobacco_death)\n",
        "\n",
        "  # print(alpha)\n",
        "  # print(beta)\n",
        "  \n",
        "  avg_lifespan_male=76.3  \n",
        "  avg_lifespan_female=81.2\n",
        "\n",
        "  clinical_data['avg_life'] = np.where(clinical_data['Sex']==1, avg_lifespan_male, avg_lifespan_female)\n",
        "  clinical_data['avg_life'] = clinical_data['avg_life'] - alpha*(clinical_data['BMI_reduction_factor'])-beta*(clinical_data['Tobacco_reduction_factor'])\n",
        "  clinical_data['DEATH [d from CT]'].fillna((clinical_data['avg_life']-clinical_data['Age at CT'])*365, inplace=True)\n",
        "  \n",
        "  clinical_data.drop(columns=['Age_at_death'], inplace=True) #only used for correlation, we dont need this any further\n",
        "  return clinical_data\n"
      ],
      "metadata": {
        "id": "guFpAjpQM-tW"
      },
      "execution_count": null,
      "outputs": []
    },
    {
      "cell_type": "code",
      "execution_count": null,
      "metadata": {
        "id": "z-dsvc_gIU_c"
      },
      "outputs": [],
      "source": [
        ""
      ]
    },
    {
      "cell_type": "code",
      "execution_count": null,
      "metadata": {
        "id": "J-MUZX4QNBU2"
      },
      "outputs": [],
      "source": [
        "def preprocess_clinical_data(oppScrData, mean=True):\n",
        "    clinical_data = oppScrData.filter(['BMI','BMI >30', 'Sex', 'Tobacco', 'Met Sx', 'FRAX 10y Fx Prob (Orange-w/ DXA)',\n",
        "                                'FRAX 10y Hip Fx Prob (Orange-w/ DXA)','FRS 10-year risk (%)', 'DEATH [d from CT]' , 'Age at CT'], axis=1)\n",
        "    # Replace all _,X,blanks with nan\n",
        "    clinical_data = clinical_data.replace(r'_', np.nan, regex=True)\n",
        "    clinical_data = clinical_data.replace(r'X', np.nan, regex=True)\n",
        "    clinical_data = clinical_data.replace(r'^\\s*$', np.nan, regex=True)\n",
        "\n",
        "    # Fill na in bmi column with mean\n",
        "    clinical_data['BMI'].fillna(value=clinical_data['BMI'].mean(skipna=True), inplace=True)\n",
        "    \n",
        "    # Fill na in bmi>30 column based on bmi col\n",
        "    clinical_data.loc[clinical_data.BMI>30, 'BMI >30'] = 1\n",
        "    clinical_data.loc[clinical_data.BMI<=30, 'BMI >30'] = -1\n",
        "    \n",
        "    clinical_data['Sex'] = np.where(clinical_data['Sex']=='Male',1,-1)\n",
        "    clinical_data['Met Sx'] = np.where(clinical_data['Met Sx']=='Y',1,-1) \n",
        "\n",
        "    # Treat no data in tobacco as no tobacco usage \n",
        "    clinical_data['Tobacco'] = np.where(clinical_data['Tobacco']=='Yes',1,-1) \n",
        "  \n",
        "    clinical_data['FRS 10-year risk (%)'] = clinical_data['FRS 10-year risk (%)'].replace(\"<1\", 0.01, regex=True)\n",
        "    clinical_data['FRS 10-year risk (%)'] = clinical_data['FRS 10-year risk (%)'].replace(\">30\", 0.30, regex=True)\n",
        "    clinical_data['FRS 10-year risk (%)'] =  clinical_data['FRS 10-year risk (%)'] * 100\n",
        " \n",
        "    cols_to_be_filled = ['FRAX 10y Fx Prob (Orange-w/ DXA)','FRAX 10y Hip Fx Prob (Orange-w/ DXA)','FRS 10-year risk (%)']\n",
        "    for c in cols_to_be_filled:\n",
        "      if mean:  \n",
        "        clinical_data[c].fillna(value=clinical_data[c].mean(skipna=True), inplace=True)\n",
        "      else :\n",
        "        clinical_data[c].fillna(value=clinical_data[c].median(skipna=True), inplace=True)\n",
        "\n",
        "    clinical_data = fill_death_col(clinical_data)\n",
        "\n",
        "    return [clinical_data, np.array(clinical_data, dtype=np.float32)]"
      ]
    },
    {
      "cell_type": "code",
      "execution_count": null,
      "metadata": {
        "id": "nDYh-iCj8C2d"
      },
      "outputs": [],
      "source": [
        "def normalize_ss(data):\n",
        "  return StandardScaler().fit_transform(data)"
      ]
    },
    {
      "cell_type": "code",
      "execution_count": null,
      "metadata": {
        "id": "tLPIjSdgEAeY"
      },
      "outputs": [],
      "source": [
        "def normalize_min_max(data):\n",
        "    n = data.shape[1]    \n",
        "    for i in range(n-1):\n",
        "      data[:,i] = (data[:,i] - np.min(data[:,i]))/(np.max(data[:,i])- np.min(data[:,i]))\n",
        "    return data"
      ]
    },
    {
      "cell_type": "code",
      "execution_count": null,
      "metadata": {
        "id": "BFg50hCxsWrF"
      },
      "outputs": [],
      "source": [
        "# oppScrData = pd.read_excel (r'sample_data/OppScrData.xlsx')  "
      ]
    },
    {
      "cell_type": "code",
      "execution_count": null,
      "metadata": {
        "colab": {
          "base_uri": "https://localhost:8080/"
        },
        "id": "Kj09ynRasm27",
        "outputId": "fba03bb0-3ba5-45e4-e5e2-2481007d3e55"
      },
      "outputs": [
        {
          "name": "stdout",
          "output_type": "stream",
          "text": [
            "-0.13617739399608175\n",
            "-0.018215285783995346\n",
            "0.8820197576080556\n",
            "0.11798024239194438\n"
          ]
        }
      ],
      "source": [
        "# clinical_data, clinical_data_np = preprocess_clinical_data(oppScrData)"
      ]
    }
  ],
  "metadata": {
    "colab": {
      "name": "utils.ipynb",
      "provenance": [],
      "include_colab_link": true
    },
    "kernelspec": {
      "display_name": "Python 3",
      "name": "python3"
    },
    "language_info": {
      "name": "python"
    }
  },
  "nbformat": 4,
  "nbformat_minor": 0
}