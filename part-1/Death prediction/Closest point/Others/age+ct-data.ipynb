{
  "cells": [
    {
      "cell_type": "code",
      "execution_count": 2,
      "id": "431d2be8",
      "metadata": {
        "id": "431d2be8"
      },
      "outputs": [],
      "source": [
        "import pandas as pd\n",
        "import numpy as np\n",
        "from sklearn.ensemble import RandomForestRegressor\n",
        "from sklearn.model_selection import RandomizedSearchCV\n",
        "from sklearn.ensemble import ExtraTreesRegressor\n",
        "from sklearn.metrics import mean_absolute_error\n",
        "from sklearn.model_selection import GridSearchCV\n",
        "from sklearn.model_selection import train_test_split\n",
        "from sklearn.metrics import mean_squared_error\n",
        "from sklearn.metrics import mean_absolute_percentage_error\n",
        "from sklearn.preprocessing import MinMaxScaler,StandardScaler\n",
        "from sklearn.neighbors import KNeighborsRegressor"
      ]
    },
    {
      "cell_type": "code",
      "source": [
        "oppScrData = pd.read_excel(r'sample_data/OppScrData.xlsx')"
      ],
      "metadata": {
        "id": "Be0Zbdgrsf0K"
      },
      "id": "Be0Zbdgrsf0K",
      "execution_count": 3,
      "outputs": []
    },
    {
      "cell_type": "code",
      "source": [
        "def clean_ct_data(oppScrData):\n",
        "    # Delete rows with empty values\n",
        "    cols = [\"L1_HU_BMD\", \"TAT Area (cm2)\", 'Total Body                Area EA (cm2)',\n",
        "       'VAT Area (cm2)', 'SAT Area (cm2)', 'VAT/SAT     Ratio', 'Muscle HU',\n",
        "       ' Muscle Area (cm2)', 'L3 SMI (cm2/m2)', 'AoCa        Agatston',\n",
        "       'Liver HU    (Median)', 'Age at CT','DEATH [d from CT]']\n",
        "    ct_data= oppScrData[cols]\n",
        "    n = ct_data.shape[0]\n",
        "    preprocessed_ct_data = pd.DataFrame( columns=cols)\n",
        "    for i in range(n):\n",
        "        row = ct_data.loc[i]\n",
        "        ignore = False\n",
        "        for k,j in enumerate(row):\n",
        "          if pd.isna(j) or j == ' ': \n",
        "            if k == 12:              \n",
        "              ignore = False\n",
        "            else:\n",
        "              ignore = True\n",
        "              break\n",
        "        if not ignore:\n",
        "          preprocessed_ct_data.loc[i]= row\n",
        "    return preprocessed_ct_data\n",
        "\n",
        "clinical_data = clean_ct_data(oppScrData=oppScrData)"
      ],
      "metadata": {
        "id": "3IMWecrXSNlN"
      },
      "id": "3IMWecrXSNlN",
      "execution_count": 5,
      "outputs": []
    },
    {
      "cell_type": "code",
      "source": [
        "clinical_data"
      ],
      "metadata": {
        "colab": {
          "base_uri": "https://localhost:8080/",
          "height": 540
        },
        "id": "ioiFSipvlpvW",
        "outputId": "8e42e14a-0094-4ae8-93cd-f39f0192fbb6"
      },
      "id": "ioiFSipvlpvW",
      "execution_count": 6,
      "outputs": [
        {
          "output_type": "execute_result",
          "data": {
            "text/plain": [
              "      L1_HU_BMD  TAT Area (cm2)  Total Body                Area EA (cm2)  \\\n",
              "1         192.0      485.502857                               694.314286   \n",
              "2         256.0      490.054545                               706.051515   \n",
              "3         149.0      289.108108                               584.489189   \n",
              "4         106.0      315.530769                               588.892308   \n",
              "5          94.0      247.412821                               601.705128   \n",
              "...         ...             ...                                      ...   \n",
              "9217      148.0      420.046763                               642.357864   \n",
              "9218      167.0      185.183362                               500.051686   \n",
              "9219      135.0      822.287179                              1154.605128   \n",
              "9220      219.0      418.200000                               660.346154   \n",
              "9221      151.0       61.543590                               362.889744   \n",
              "\n",
              "      VAT Area (cm2)  SAT Area (cm2)  VAT/SAT     Ratio  Muscle HU  \\\n",
              "1         183.497143      302.008571           0.607589  16.150123   \n",
              "2         159.706061      330.348485           0.483447  23.337964   \n",
              "3         144.002703      145.102703           0.992419  30.804567   \n",
              "4         202.317949      113.212821           1.787059  -3.181874   \n",
              "5         145.653846      101.758974           1.431361  40.243137   \n",
              "...              ...             ...                ...        ...   \n",
              "9217      157.105587      262.941176           0.597493  31.595440   \n",
              "9218       92.813192       92.370170           1.004796  41.896333   \n",
              "9219      247.784615      574.502564           0.431303  17.102222   \n",
              "9220      213.748718      204.448718           1.045488  29.610469   \n",
              "9221       31.202564       30.341026           1.028395  22.753997   \n",
              "\n",
              "       Muscle Area (cm2)  L3 SMI (cm2/m2)  AoCa        Agatston  \\\n",
              "1             123.968745        48.413187              2709.064   \n",
              "2             136.566261        50.101332                 0.000   \n",
              "3             212.296726        69.115854              2586.575   \n",
              "4             168.923950        47.814581               431.519   \n",
              "5             174.813554        53.751548                35.760   \n",
              "...                  ...              ...                   ...   \n",
              "9217          165.413121        55.447848                 0.000   \n",
              "9218          188.676052        59.683360               139.967   \n",
              "9219          143.309862        57.786350              1115.997   \n",
              "9220          138.824463        50.929786              3515.371   \n",
              "9221           93.852591        29.688124              3015.129   \n",
              "\n",
              "     Liver HU    (Median) Age at CT  DEATH [d from CT]  \n",
              "1                      52        55              359.0  \n",
              "2                      54        52                NaN  \n",
              "3                      57        60             2351.0  \n",
              "4                      53        88              658.0  \n",
              "5                      54        68                NaN  \n",
              "...                   ...       ...                ...  \n",
              "9217                   38        52                NaN  \n",
              "9218                   54        51                NaN  \n",
              "9219                   45        63                NaN  \n",
              "9220                   44        55                NaN  \n",
              "9221                   54        61                NaN  \n",
              "\n",
              "[8878 rows x 13 columns]"
            ],
            "text/html": [
              "\n",
              "  <div id=\"df-7bc399a6-5108-41f6-ad47-f1ebb68e736a\">\n",
              "    <div class=\"colab-df-container\">\n",
              "      <div>\n",
              "<style scoped>\n",
              "    .dataframe tbody tr th:only-of-type {\n",
              "        vertical-align: middle;\n",
              "    }\n",
              "\n",
              "    .dataframe tbody tr th {\n",
              "        vertical-align: top;\n",
              "    }\n",
              "\n",
              "    .dataframe thead th {\n",
              "        text-align: right;\n",
              "    }\n",
              "</style>\n",
              "<table border=\"1\" class=\"dataframe\">\n",
              "  <thead>\n",
              "    <tr style=\"text-align: right;\">\n",
              "      <th></th>\n",
              "      <th>L1_HU_BMD</th>\n",
              "      <th>TAT Area (cm2)</th>\n",
              "      <th>Total Body                Area EA (cm2)</th>\n",
              "      <th>VAT Area (cm2)</th>\n",
              "      <th>SAT Area (cm2)</th>\n",
              "      <th>VAT/SAT     Ratio</th>\n",
              "      <th>Muscle HU</th>\n",
              "      <th>Muscle Area (cm2)</th>\n",
              "      <th>L3 SMI (cm2/m2)</th>\n",
              "      <th>AoCa        Agatston</th>\n",
              "      <th>Liver HU    (Median)</th>\n",
              "      <th>Age at CT</th>\n",
              "      <th>DEATH [d from CT]</th>\n",
              "    </tr>\n",
              "  </thead>\n",
              "  <tbody>\n",
              "    <tr>\n",
              "      <th>1</th>\n",
              "      <td>192.0</td>\n",
              "      <td>485.502857</td>\n",
              "      <td>694.314286</td>\n",
              "      <td>183.497143</td>\n",
              "      <td>302.008571</td>\n",
              "      <td>0.607589</td>\n",
              "      <td>16.150123</td>\n",
              "      <td>123.968745</td>\n",
              "      <td>48.413187</td>\n",
              "      <td>2709.064</td>\n",
              "      <td>52</td>\n",
              "      <td>55</td>\n",
              "      <td>359.0</td>\n",
              "    </tr>\n",
              "    <tr>\n",
              "      <th>2</th>\n",
              "      <td>256.0</td>\n",
              "      <td>490.054545</td>\n",
              "      <td>706.051515</td>\n",
              "      <td>159.706061</td>\n",
              "      <td>330.348485</td>\n",
              "      <td>0.483447</td>\n",
              "      <td>23.337964</td>\n",
              "      <td>136.566261</td>\n",
              "      <td>50.101332</td>\n",
              "      <td>0.000</td>\n",
              "      <td>54</td>\n",
              "      <td>52</td>\n",
              "      <td>NaN</td>\n",
              "    </tr>\n",
              "    <tr>\n",
              "      <th>3</th>\n",
              "      <td>149.0</td>\n",
              "      <td>289.108108</td>\n",
              "      <td>584.489189</td>\n",
              "      <td>144.002703</td>\n",
              "      <td>145.102703</td>\n",
              "      <td>0.992419</td>\n",
              "      <td>30.804567</td>\n",
              "      <td>212.296726</td>\n",
              "      <td>69.115854</td>\n",
              "      <td>2586.575</td>\n",
              "      <td>57</td>\n",
              "      <td>60</td>\n",
              "      <td>2351.0</td>\n",
              "    </tr>\n",
              "    <tr>\n",
              "      <th>4</th>\n",
              "      <td>106.0</td>\n",
              "      <td>315.530769</td>\n",
              "      <td>588.892308</td>\n",
              "      <td>202.317949</td>\n",
              "      <td>113.212821</td>\n",
              "      <td>1.787059</td>\n",
              "      <td>-3.181874</td>\n",
              "      <td>168.923950</td>\n",
              "      <td>47.814581</td>\n",
              "      <td>431.519</td>\n",
              "      <td>53</td>\n",
              "      <td>88</td>\n",
              "      <td>658.0</td>\n",
              "    </tr>\n",
              "    <tr>\n",
              "      <th>5</th>\n",
              "      <td>94.0</td>\n",
              "      <td>247.412821</td>\n",
              "      <td>601.705128</td>\n",
              "      <td>145.653846</td>\n",
              "      <td>101.758974</td>\n",
              "      <td>1.431361</td>\n",
              "      <td>40.243137</td>\n",
              "      <td>174.813554</td>\n",
              "      <td>53.751548</td>\n",
              "      <td>35.760</td>\n",
              "      <td>54</td>\n",
              "      <td>68</td>\n",
              "      <td>NaN</td>\n",
              "    </tr>\n",
              "    <tr>\n",
              "      <th>...</th>\n",
              "      <td>...</td>\n",
              "      <td>...</td>\n",
              "      <td>...</td>\n",
              "      <td>...</td>\n",
              "      <td>...</td>\n",
              "      <td>...</td>\n",
              "      <td>...</td>\n",
              "      <td>...</td>\n",
              "      <td>...</td>\n",
              "      <td>...</td>\n",
              "      <td>...</td>\n",
              "      <td>...</td>\n",
              "      <td>...</td>\n",
              "    </tr>\n",
              "    <tr>\n",
              "      <th>9217</th>\n",
              "      <td>148.0</td>\n",
              "      <td>420.046763</td>\n",
              "      <td>642.357864</td>\n",
              "      <td>157.105587</td>\n",
              "      <td>262.941176</td>\n",
              "      <td>0.597493</td>\n",
              "      <td>31.595440</td>\n",
              "      <td>165.413121</td>\n",
              "      <td>55.447848</td>\n",
              "      <td>0.000</td>\n",
              "      <td>38</td>\n",
              "      <td>52</td>\n",
              "      <td>NaN</td>\n",
              "    </tr>\n",
              "    <tr>\n",
              "      <th>9218</th>\n",
              "      <td>167.0</td>\n",
              "      <td>185.183362</td>\n",
              "      <td>500.051686</td>\n",
              "      <td>92.813192</td>\n",
              "      <td>92.370170</td>\n",
              "      <td>1.004796</td>\n",
              "      <td>41.896333</td>\n",
              "      <td>188.676052</td>\n",
              "      <td>59.683360</td>\n",
              "      <td>139.967</td>\n",
              "      <td>54</td>\n",
              "      <td>51</td>\n",
              "      <td>NaN</td>\n",
              "    </tr>\n",
              "    <tr>\n",
              "      <th>9219</th>\n",
              "      <td>135.0</td>\n",
              "      <td>822.287179</td>\n",
              "      <td>1154.605128</td>\n",
              "      <td>247.784615</td>\n",
              "      <td>574.502564</td>\n",
              "      <td>0.431303</td>\n",
              "      <td>17.102222</td>\n",
              "      <td>143.309862</td>\n",
              "      <td>57.786350</td>\n",
              "      <td>1115.997</td>\n",
              "      <td>45</td>\n",
              "      <td>63</td>\n",
              "      <td>NaN</td>\n",
              "    </tr>\n",
              "    <tr>\n",
              "      <th>9220</th>\n",
              "      <td>219.0</td>\n",
              "      <td>418.200000</td>\n",
              "      <td>660.346154</td>\n",
              "      <td>213.748718</td>\n",
              "      <td>204.448718</td>\n",
              "      <td>1.045488</td>\n",
              "      <td>29.610469</td>\n",
              "      <td>138.824463</td>\n",
              "      <td>50.929786</td>\n",
              "      <td>3515.371</td>\n",
              "      <td>44</td>\n",
              "      <td>55</td>\n",
              "      <td>NaN</td>\n",
              "    </tr>\n",
              "    <tr>\n",
              "      <th>9221</th>\n",
              "      <td>151.0</td>\n",
              "      <td>61.543590</td>\n",
              "      <td>362.889744</td>\n",
              "      <td>31.202564</td>\n",
              "      <td>30.341026</td>\n",
              "      <td>1.028395</td>\n",
              "      <td>22.753997</td>\n",
              "      <td>93.852591</td>\n",
              "      <td>29.688124</td>\n",
              "      <td>3015.129</td>\n",
              "      <td>54</td>\n",
              "      <td>61</td>\n",
              "      <td>NaN</td>\n",
              "    </tr>\n",
              "  </tbody>\n",
              "</table>\n",
              "<p>8878 rows × 13 columns</p>\n",
              "</div>\n",
              "      <button class=\"colab-df-convert\" onclick=\"convertToInteractive('df-7bc399a6-5108-41f6-ad47-f1ebb68e736a')\"\n",
              "              title=\"Convert this dataframe to an interactive table.\"\n",
              "              style=\"display:none;\">\n",
              "        \n",
              "  <svg xmlns=\"http://www.w3.org/2000/svg\" height=\"24px\"viewBox=\"0 0 24 24\"\n",
              "       width=\"24px\">\n",
              "    <path d=\"M0 0h24v24H0V0z\" fill=\"none\"/>\n",
              "    <path d=\"M18.56 5.44l.94 2.06.94-2.06 2.06-.94-2.06-.94-.94-2.06-.94 2.06-2.06.94zm-11 1L8.5 8.5l.94-2.06 2.06-.94-2.06-.94L8.5 2.5l-.94 2.06-2.06.94zm10 10l.94 2.06.94-2.06 2.06-.94-2.06-.94-.94-2.06-.94 2.06-2.06.94z\"/><path d=\"M17.41 7.96l-1.37-1.37c-.4-.4-.92-.59-1.43-.59-.52 0-1.04.2-1.43.59L10.3 9.45l-7.72 7.72c-.78.78-.78 2.05 0 2.83L4 21.41c.39.39.9.59 1.41.59.51 0 1.02-.2 1.41-.59l7.78-7.78 2.81-2.81c.8-.78.8-2.07 0-2.86zM5.41 20L4 18.59l7.72-7.72 1.47 1.35L5.41 20z\"/>\n",
              "  </svg>\n",
              "      </button>\n",
              "      \n",
              "  <style>\n",
              "    .colab-df-container {\n",
              "      display:flex;\n",
              "      flex-wrap:wrap;\n",
              "      gap: 12px;\n",
              "    }\n",
              "\n",
              "    .colab-df-convert {\n",
              "      background-color: #E8F0FE;\n",
              "      border: none;\n",
              "      border-radius: 50%;\n",
              "      cursor: pointer;\n",
              "      display: none;\n",
              "      fill: #1967D2;\n",
              "      height: 32px;\n",
              "      padding: 0 0 0 0;\n",
              "      width: 32px;\n",
              "    }\n",
              "\n",
              "    .colab-df-convert:hover {\n",
              "      background-color: #E2EBFA;\n",
              "      box-shadow: 0px 1px 2px rgba(60, 64, 67, 0.3), 0px 1px 3px 1px rgba(60, 64, 67, 0.15);\n",
              "      fill: #174EA6;\n",
              "    }\n",
              "\n",
              "    [theme=dark] .colab-df-convert {\n",
              "      background-color: #3B4455;\n",
              "      fill: #D2E3FC;\n",
              "    }\n",
              "\n",
              "    [theme=dark] .colab-df-convert:hover {\n",
              "      background-color: #434B5C;\n",
              "      box-shadow: 0px 1px 3px 1px rgba(0, 0, 0, 0.15);\n",
              "      filter: drop-shadow(0px 1px 2px rgba(0, 0, 0, 0.3));\n",
              "      fill: #FFFFFF;\n",
              "    }\n",
              "  </style>\n",
              "\n",
              "      <script>\n",
              "        const buttonEl =\n",
              "          document.querySelector('#df-7bc399a6-5108-41f6-ad47-f1ebb68e736a button.colab-df-convert');\n",
              "        buttonEl.style.display =\n",
              "          google.colab.kernel.accessAllowed ? 'block' : 'none';\n",
              "\n",
              "        async function convertToInteractive(key) {\n",
              "          const element = document.querySelector('#df-7bc399a6-5108-41f6-ad47-f1ebb68e736a');\n",
              "          const dataTable =\n",
              "            await google.colab.kernel.invokeFunction('convertToInteractive',\n",
              "                                                     [key], {});\n",
              "          if (!dataTable) return;\n",
              "\n",
              "          const docLinkHtml = 'Like what you see? Visit the ' +\n",
              "            '<a target=\"_blank\" href=https://colab.research.google.com/notebooks/data_table.ipynb>data table notebook</a>'\n",
              "            + ' to learn more about interactive tables.';\n",
              "          element.innerHTML = '';\n",
              "          dataTable['output_type'] = 'display_data';\n",
              "          await google.colab.output.renderOutput(dataTable, element);\n",
              "          const docLink = document.createElement('div');\n",
              "          docLink.innerHTML = docLinkHtml;\n",
              "          element.appendChild(docLink);\n",
              "        }\n",
              "      </script>\n",
              "    </div>\n",
              "  </div>\n",
              "  "
            ]
          },
          "metadata": {},
          "execution_count": 6
        }
      ]
    },
    {
      "cell_type": "markdown",
      "source": [
        "**Model training**"
      ],
      "metadata": {
        "id": "wC8n1AiGjuZx"
      },
      "id": "wC8n1AiGjuZx"
    },
    {
      "cell_type": "code",
      "execution_count": 7,
      "id": "8f9c523b",
      "metadata": {
        "colab": {
          "base_uri": "https://localhost:8080/"
        },
        "id": "8f9c523b",
        "outputId": "23f76d22-2946-427d-a1a3-35ea75998fdc"
      },
      "outputs": [
        {
          "output_type": "stream",
          "name": "stderr",
          "text": [
            "/usr/local/lib/python3.7/dist-packages/ipykernel_launcher.py:6: SettingWithCopyWarning: \n",
            "A value is trying to be set on a copy of a slice from a DataFrame.\n",
            "Try using .loc[row_indexer,col_indexer] = value instead\n",
            "\n",
            "See the caveats in the documentation: https://pandas.pydata.org/pandas-docs/stable/user_guide/indexing.html#returning-a-view-versus-a-copy\n",
            "  \n"
          ]
        }
      ],
      "source": [
        "sc = StandardScaler()\n",
        "\n",
        "non_null_death_rows = clinical_data[~clinical_data['DEATH [d from CT]'].isnull()]\n",
        "\n",
        "# Convert to years\n",
        "non_null_death_rows['DEATH [d from CT]'] /= 365\n",
        "\n",
        "X = non_null_death_rows.iloc[:, 0:12]\n",
        "y = non_null_death_rows.iloc[:, 12]\n",
        "X = pd.DataFrame(sc.fit_transform(X), columns = X.columns)\n",
        "\n",
        "null_death_rows=clinical_data[clinical_data['DEATH [d from CT]'].isnull()]\n",
        "X2 = null_death_rows.iloc[:, 0:12]\n",
        "X2 = pd.DataFrame(sc.fit_transform(X2), columns = X2.columns)"
      ]
    },
    {
      "cell_type": "code",
      "execution_count": 8,
      "id": "fd6baa60",
      "metadata": {
        "id": "fd6baa60"
      },
      "outputs": [],
      "source": [
        "X_train, X_test, y_train, y_test  = train_test_split(X, y, test_size=0.2, random_state=0)"
      ]
    },
    {
      "cell_type": "code",
      "execution_count": 9,
      "id": "5fb5a621",
      "metadata": {
        "colab": {
          "base_uri": "https://localhost:8080/"
        },
        "id": "5fb5a621",
        "outputId": "15d854ea-e476-40e1-aa0d-df1352d5654b"
      },
      "outputs": [
        {
          "output_type": "execute_result",
          "data": {
            "text/plain": [
              "0.034842850423695615"
            ]
          },
          "metadata": {},
          "execution_count": 9
        }
      ],
      "source": [
        "RFparams2={'n_estimators':[50],\n",
        "          'min_samples_split':[16],\n",
        "          'min_samples_leaf': [4],\n",
        "           'max_features': [6],\n",
        "           'max_depth': [20],\n",
        "           'bootstrap': [True]}\n",
        "\n",
        "rf = RandomForestRegressor(random_state = 21)\n",
        "clf = GridSearchCV(rf, RFparams2, refit=True)\n",
        "clf.fit(X_train, y_train)\n",
        "clf.best_estimator_.score(X_test, y_test)"
      ]
    },
    {
      "cell_type": "code",
      "execution_count": 10,
      "id": "814d721b",
      "metadata": {
        "colab": {
          "base_uri": "https://localhost:8080/"
        },
        "id": "814d721b",
        "outputId": "b1b6e85a-c6a2-4011-df57-059832646f49"
      },
      "outputs": [
        {
          "output_type": "stream",
          "name": "stdout",
          "text": [
            "RMSE : 3.24\n",
            "MApe : 4.02\n",
            "MAE : 2.686602856158458\n"
          ]
        }
      ],
      "source": [
        "p = clf.predict(X_test)\n",
        "Mse = mean_squared_error(y_test, p)\n",
        "error = mean_absolute_error(y_test, p)\n",
        "mape = mean_absolute_percentage_error(y_test, p)\n",
        "print(\"RMSE : %.2f\" % (Mse**(1/2.0)))\n",
        "print(\"MApe : %.2f\" %(mape))\n",
        "print(\"MAE :\", error)"
      ]
    },
    {
      "cell_type": "markdown",
      "source": [
        "**Fill death column**"
      ],
      "metadata": {
        "id": "_oQFxiWcmiHu"
      },
      "id": "_oQFxiWcmiHu"
    },
    {
      "cell_type": "code",
      "execution_count": 11,
      "id": "3b555280",
      "metadata": {
        "colab": {
          "base_uri": "https://localhost:8080/"
        },
        "id": "3b555280",
        "outputId": "ff1b801a-49a3-4ef9-959a-7650f98dcf21"
      },
      "outputs": [
        {
          "output_type": "stream",
          "name": "stderr",
          "text": [
            "/usr/local/lib/python3.7/dist-packages/ipykernel_launcher.py:1: SettingWithCopyWarning: \n",
            "A value is trying to be set on a copy of a slice from a DataFrame.\n",
            "Try using .loc[row_indexer,col_indexer] = value instead\n",
            "\n",
            "See the caveats in the documentation: https://pandas.pydata.org/pandas-docs/stable/user_guide/indexing.html#returning-a-view-versus-a-copy\n",
            "  \"\"\"Entry point for launching an IPython kernel.\n"
          ]
        }
      ],
      "source": [
        "null_death_rows['DEATH [d from CT]'] = clf.predict(X2)\n",
        "df = pd.concat([non_null_death_rows,null_death_rows])\n",
        "y = df.iloc[:,12]\n",
        "X = df.iloc[:, 0:12]"
      ]
    },
    {
      "cell_type": "markdown",
      "source": [
        "**Train model**"
      ],
      "metadata": {
        "id": "1BXiMauhtzdY"
      },
      "id": "1BXiMauhtzdY"
    },
    {
      "cell_type": "code",
      "execution_count": 12,
      "id": "2229fd70",
      "metadata": {
        "colab": {
          "base_uri": "https://localhost:8080/"
        },
        "id": "2229fd70",
        "outputId": "a6a569e8-d0b1-4da0-f52f-3208a6d617cc"
      },
      "outputs": [
        {
          "output_type": "stream",
          "name": "stdout",
          "text": [
            "RMSE: 1.06\n",
            "MApe: 0.19\n",
            "MAE: 0.68\n"
          ]
        }
      ],
      "source": [
        "X_train, X_test, y_train, y_test  = train_test_split(X, y, test_size=0.2)\n",
        "\n",
        "knn = KNeighborsRegressor(n_neighbors=9)\n",
        "param_grid2 = dict(weights = [\"uniform\", \"distance\"])\n",
        "    \n",
        "grid = GridSearchCV(knn, param_grid2)\n",
        "grid.fit(X_train, y_train)\n",
        "p3 = grid.predict(X_test) \n",
        "Mse = mean_squared_error(y_test, p3)\n",
        "\n",
        "mape=mean_absolute_percentage_error(y_test, p3)\n",
        "print(\"RMSE: %.2f\" % (Mse**(1/2.0)))\n",
        "print(\"MApe: %.2f\" %(mape))\n",
        "print(\"MAE: %.2f\" %(mean_absolute_error(y_test, p3)))\n"
      ]
    },
    {
      "cell_type": "code",
      "source": [
        ""
      ],
      "metadata": {
        "id": "4h-9W1pgmvlE"
      },
      "id": "4h-9W1pgmvlE",
      "execution_count": null,
      "outputs": []
    }
  ],
  "metadata": {
    "kernelspec": {
      "display_name": "Python 3",
      "language": "python",
      "name": "python3"
    },
    "language_info": {
      "codemirror_mode": {
        "name": "ipython",
        "version": 3
      },
      "file_extension": ".py",
      "mimetype": "text/x-python",
      "name": "python",
      "nbconvert_exporter": "python",
      "pygments_lexer": "ipython3",
      "version": "3.8.8"
    },
    "colab": {
      "name": "ct-sanyam.ipynb",
      "provenance": []
    }
  },
  "nbformat": 4,
  "nbformat_minor": 5
}