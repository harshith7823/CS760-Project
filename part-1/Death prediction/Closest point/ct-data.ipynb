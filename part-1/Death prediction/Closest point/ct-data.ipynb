{
  "nbformat": 4,
  "nbformat_minor": 0,
  "metadata": {
    "colab": {
      "name": "Death-prediction-nearest-neighbor.ipynb",
      "provenance": [],
      "collapsed_sections": []
    },
    "kernelspec": {
      "name": "python3",
      "display_name": "Python 3"
    },
    "language_info": {
      "name": "python"
    }
  },
  "cells": [
    {
      "cell_type": "code",
      "execution_count": 2,
      "metadata": {
        "id": "uT3lLjy4gBhn"
      },
      "outputs": [],
      "source": [
        "import pandas as pd\n",
        "import numpy as np\n",
        "from sklearn.metrics import mean_absolute_error\n",
        "from sklearn.model_selection import GridSearchCV\n",
        "from sklearn.model_selection import train_test_split\n",
        "from sklearn.neighbors import KNeighborsRegressor\n",
        "from sklearn.preprocessing import MinMaxScaler,StandardScaler\n",
        "from sklearn.metrics import mean_squared_error\n",
        "from sklearn.metrics import mean_absolute_percentage_error"
      ]
    },
    {
      "cell_type": "code",
      "source": [
        "oppScrData = pd.read_excel (r'sample_data/OppScrData.xlsx')  "
      ],
      "metadata": {
        "id": "fTX9Kp1T7cMM"
      },
      "execution_count": 3,
      "outputs": []
    },
    {
      "cell_type": "code",
      "source": [
        "def clean_ct_data(oppScrData):\n",
        "    # Delete rows with empty values\n",
        "    cols = [\"L1_HU_BMD\", \"TAT Area (cm2)\", 'Total Body                Area EA (cm2)',\n",
        "       'VAT Area (cm2)', 'SAT Area (cm2)', 'VAT/SAT     Ratio', 'Muscle HU',\n",
        "       ' Muscle Area (cm2)', 'L3 SMI (cm2/m2)', 'AoCa        Agatston',\n",
        "       'Liver HU    (Median)', 'DEATH [d from CT]']\n",
        "    ct_data= oppScrData[cols]\n",
        "    n = ct_data.shape[0]\n",
        "    preprocessed_ct_data = pd.DataFrame( columns=cols)\n",
        "    for i in range(n):\n",
        "        row = ct_data.loc[i]\n",
        "        ignore = False\n",
        "        for k,j in enumerate(row):\n",
        "          if pd.isna(j) or j == ' ': \n",
        "            if k == 11:              \n",
        "              ignore = False\n",
        "            else:\n",
        "              ignore = True\n",
        "              break\n",
        "        if not ignore:\n",
        "          preprocessed_ct_data.loc[i]= row\n",
        "    return preprocessed_ct_data"
      ],
      "metadata": {
        "id": "5aT1J36q9DGK"
      },
      "execution_count": 4,
      "outputs": []
    },
    {
      "cell_type": "code",
      "source": [
        "def preprocess_clinical_data(oppScrData, mean=True):\n",
        "    \n",
        "    l = ['BMI','BMI >30', 'Sex', 'Tobacco', 'Met Sx', 'Age at CT', 'CVD DX', 'Heart failure DX',\n",
        "                                       'MI DX','Type 2 Diabetes DX', 'Primary Cancer Site', 'Humerus fracture DX',\n",
        "                                       'Femoral neck fracture DX', 'Unspec femoral fracture DX', 'Forearm fracture DX'\n",
        "                                       ,'Primary Cancer Site 2','Pathologic fracture DX','DEATH [d from CT]']\n",
        "\n",
        "    clinical_data = oppScrData.filter(l, axis=1)\n",
        "    # Replace all _,X,blanks with nan\n",
        "    clinical_data = clinical_data.replace(r'_', np.nan, regex=True)\n",
        "    clinical_data = clinical_data.replace(r'X', np.nan, regex=True)\n",
        "    clinical_data = clinical_data.replace(r'^\\s*$', np.nan, regex=True)\n",
        "\n",
        "    # Fill na in bmi column with mean\n",
        "    clinical_data['BMI'].fillna(value=clinical_data['BMI'].mean(skipna=True), inplace=True)\n",
        "    \n",
        "    # Fill na in bmi>30 column based on bmi col\n",
        "    clinical_data.loc[clinical_data.BMI>30, 'BMI >30'] = 1\n",
        "    clinical_data.loc[clinical_data.BMI<=30, 'BMI >30'] = -1\n",
        "    \n",
        "    clinical_data['Sex'] = np.where(clinical_data['Sex']=='Male',1,-1)\n",
        "    clinical_data['Met Sx'] = np.where(clinical_data['Met Sx']=='Y',1,-1) \n",
        "\n",
        "    # Treat no data in tobacco as no tobacco usage\n",
        "    clinical_data['Tobacco'] = np.where(clinical_data['Tobacco']=='Yes',1,-1) \n",
        "\n",
        "    for col in l[l.index('CVD DX'):l.index('DEATH [d from CT]')]:      \n",
        "      clinical_data.loc[clinical_data[col].notna(), col] = 1\n",
        "      clinical_data[col].fillna(value=0, inplace=True)\n",
        "  \n",
        "    return clinical_data"
      ],
      "metadata": {
        "id": "aSuG42KAgUJb"
      },
      "execution_count": 5,
      "outputs": []
    },
    {
      "cell_type": "code",
      "source": [
        "clinical_data = preprocess_clinical_data(oppScrData)"
      ],
      "metadata": {
        "id": "3ybmLGdvjLT5"
      },
      "execution_count": 6,
      "outputs": []
    },
    {
      "cell_type": "code",
      "source": [
        "sc = StandardScaler()\n",
        "\n",
        "non_null_death_rows = clinical_data[~clinical_data['DEATH [d from CT]'].isnull()]\n",
        "\n",
        "# Convert to years\n",
        "non_null_death_rows['DEATH [d from CT]'] /= 365\n",
        "\n",
        "m = non_null_death_rows.columns.get_loc('DEATH [d from CT]')\n",
        "\n",
        "X = non_null_death_rows.iloc[:, 0:m]\n",
        "y = non_null_death_rows.iloc[:, m]\n",
        "X = pd.DataFrame(sc.fit_transform(X), columns = X.columns)\n"
      ],
      "metadata": {
        "colab": {
          "base_uri": "https://localhost:8080/"
        },
        "id": "67vKGUFFglN_",
        "outputId": "58147eb5-397d-40ce-bb2d-322f603c67dd"
      },
      "execution_count": 149,
      "outputs": [
        {
          "output_type": "stream",
          "name": "stderr",
          "text": [
            "/usr/local/lib/python3.7/dist-packages/ipykernel_launcher.py:6: SettingWithCopyWarning: \n",
            "A value is trying to be set on a copy of a slice from a DataFrame.\n",
            "Try using .loc[row_indexer,col_indexer] = value instead\n",
            "\n",
            "See the caveats in the documentation: https://pandas.pydata.org/pandas-docs/stable/user_guide/indexing.html#returning-a-view-versus-a-copy\n",
            "  \n"
          ]
        }
      ]
    },
    {
      "cell_type": "markdown",
      "source": [
        "**Train**"
      ],
      "metadata": {
        "id": "mQG1HxFkoAIO"
      }
    },
    {
      "cell_type": "code",
      "source": [
        "X_train, X_test, y_train, y_test  = train_test_split(X, y, test_size=0.2)\n",
        "\n",
        "knn = KNeighborsRegressor()\n",
        "param_grid2 = dict(weights = [\"uniform\", \"distance\"], n_neighbors=list(range(2, 14)))\n",
        "    \n",
        "grid = GridSearchCV(knn, param_grid2)\n",
        "grid.fit(X_train, y_train)\n",
        "p3 = grid.predict(X_test)\n",
        "print(\"MAE: %.2f\" %(mean_absolute_error(y_test, p3)))\n",
        "print(grid.best_params_)\n"
      ],
      "metadata": {
        "colab": {
          "base_uri": "https://localhost:8080/"
        },
        "id": "kqxMqvAwlLXq",
        "outputId": "8c1b9c1f-e885-4ad2-c9ba-513bc0b2d6f3"
      },
      "execution_count": 150,
      "outputs": [
        {
          "output_type": "stream",
          "name": "stdout",
          "text": [
            "MAE: 2.72\n",
            "{'n_neighbors': 13, 'weights': 'uniform'}\n"
          ]
        }
      ]
    },
    {
      "cell_type": "markdown",
      "source": [
        "**Fill death column**"
      ],
      "metadata": {
        "id": "QJUTo2y6oB6K"
      }
    },
    {
      "cell_type": "code",
      "source": [
        "clinical_data = preprocess_clinical_data(oppScrData)\n",
        "\n",
        "for idx, row in clinical_data.iterrows():  \n",
        "  if np.isnan(clinical_data.at[idx,'DEATH [d from CT]']):\n",
        "    l = ['BMI','BMI >30', 'Sex', 'Tobacco', 'Met Sx', 'Age at CT', 'CVD DX', 'Heart failure DX',\n",
        "                                       'MI DX','Type 2 Diabetes DX', 'Primary Cancer Site', 'Humerus fracture DX',\n",
        "                                       'Femoral neck fracture DX', 'Unspec femoral fracture DX', 'Forearm fracture DX'\n",
        "                                       ,'Primary Cancer Site 2','Pathologic fracture DX']\n",
        "    row = clinical_data.iloc[idx]     \n",
        "    r = row.filter(l).to_numpy().reshape(1, -1) \n",
        "    clinical_data.at[idx,'DEATH [d from CT]'] = (grid.predict(r))\n",
        "  else:\n",
        "    clinical_data.at[idx,'DEATH [d from CT]'] /= 365"
      ],
      "metadata": {
        "id": "lOb5Njasy65u"
      },
      "execution_count": null,
      "outputs": []
    },
    {
      "cell_type": "code",
      "source": [
        "oppScrData['DEATH [d from CT]'] = clinical_data['DEATH [d from CT]']"
      ],
      "metadata": {
        "id": "qyOE5n2k31ld"
      },
      "execution_count": 162,
      "outputs": []
    },
    {
      "cell_type": "code",
      "source": [
        "ct_data = clean_ct_data(oppScrData=oppScrData)"
      ],
      "metadata": {
        "id": "VkBW6d2AojcC"
      },
      "execution_count": 164,
      "outputs": []
    },
    {
      "cell_type": "markdown",
      "source": [
        "**Build regressor**"
      ],
      "metadata": {
        "id": "LqwgmsssF8KA"
      }
    },
    {
      "cell_type": "code",
      "source": [
        "y = ct_data.iloc[:,11]\n",
        "X = ct_data.iloc[:, 0:11]\n",
        "X_train, X_test, y_train, y_test  = train_test_split(X, y, test_size=0.2)\n",
        "\n",
        "knn = KNeighborsRegressor(n_neighbors=9)\n",
        "param_grid2 = dict(weights = [\"uniform\", \"distance\"])\n",
        "    \n",
        "grid = GridSearchCV(knn, param_grid2)\n",
        "grid.fit(X_train, y_train)\n",
        "p3 = grid.predict(X_test) \n",
        "Mse = mean_squared_error(y_test, p3)\n",
        "\n",
        "mape=mean_absolute_percentage_error(y_test, p3)\n",
        "print(\"RMSE: %.2f\" % (Mse**(1/2.0)))\n",
        "print(\"MApe: %.2f\" %(mape))\n",
        "print(\"MAE: %.2f\" %(mean_absolute_error(y_test, p3)))"
      ],
      "metadata": {
        "colab": {
          "base_uri": "https://localhost:8080/"
        },
        "id": "3V1SCeoX-Hzr",
        "outputId": "1356bcde-8ee5-405b-b269-a56de89d5b30"
      },
      "execution_count": 173,
      "outputs": [
        {
          "output_type": "stream",
          "name": "stdout",
          "text": [
            "RMSE: 1.00\n",
            "MApe: 0.13\n",
            "MAE: 0.47\n"
          ]
        }
      ]
    },
    {
      "cell_type": "code",
      "source": [
        ""
      ],
      "metadata": {
        "id": "qH7vzsbK-XVX"
      },
      "execution_count": null,
      "outputs": []
    }
  ]
}