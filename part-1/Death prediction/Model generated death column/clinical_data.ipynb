{
  "cells": [
    {
      "cell_type": "code",
      "execution_count": 18,
      "id": "431d2be8",
      "metadata": {
        "id": "431d2be8"
      },
      "outputs": [],
      "source": [
        "import pandas as pd\n",
        "import numpy as np\n",
        "from sklearn.ensemble import RandomForestRegressor\n",
        "from sklearn.ensemble import ExtraTreesRegressor\n",
        "from sklearn.metrics import mean_absolute_error\n",
        "from sklearn.metrics import mean_squared_error\n",
        "from sklearn.metrics import mean_absolute_percentage_error\n",
        "from sklearn.model_selection import GridSearchCV\n",
        "from sklearn.model_selection import train_test_split\n",
        "from sklearn.neighbors import KNeighborsRegressor"
      ]
    },
    {
      "cell_type": "code",
      "execution_count": 2,
      "id": "e47d6ba4",
      "metadata": {
        "id": "e47d6ba4"
      },
      "outputs": [],
      "source": [
        "def preprocess_clinical_data(oppScrData, mean=True):\n",
        "    clinical_data = oppScrData.filter(['Clinical F/U interval  [d from CT]','BMI','BMI >30', 'Sex', 'Tobacco', 'Met Sx', 'FRAX 10y Fx Prob (Orange-w/ DXA)',\n",
        "                                'FRAX 10y Hip Fx Prob (Orange-w/ DXA)','FRS 10-year risk (%)', 'DEATH [d from CT]' , 'Age at CT'], axis=1)\n",
        "    # Replace all _,X,blanks with nan\n",
        "    clinical_data = clinical_data.replace(r'_', np.nan, regex=True)\n",
        "    clinical_data = clinical_data.replace(r'X', np.nan, regex=True)\n",
        "    clinical_data = clinical_data.replace(r'^\\s*$', np.nan, regex=True)\n",
        "\n",
        "    # Fill na in bmi column with mean\n",
        "    clinical_data['BMI'].fillna(value=clinical_data['BMI'].mean(skipna=True), inplace=True)\n",
        "    \n",
        "    # Fill na in bmi>30 column based on bmi col\n",
        "    clinical_data.loc[clinical_data.BMI>30, 'BMI >30'] = 1\n",
        "    clinical_data.loc[clinical_data.BMI<=30, 'BMI >30'] = -1\n",
        "    \n",
        "    clinical_data['Sex'] = np.where(clinical_data['Sex']=='Male',1,-1)\n",
        "    clinical_data['Met Sx'] = np.where(clinical_data['Met Sx']=='Y',1,-1) \n",
        "\n",
        "    # Treat no data in tobacco as no tobacco usage \n",
        "    clinical_data['Tobacco'] = np.where(clinical_data['Tobacco']=='Yes',1,-1) \n",
        "    \n",
        "    #Fill death col\n",
        "    #fill_death_col(clinical_data)\n",
        "\n",
        "    clinical_data['FRS 10-year risk (%)'] = clinical_data['FRS 10-year risk (%)'].replace(\"<1\", 0.01, regex=True)\n",
        "    clinical_data['FRS 10-year risk (%)'] = clinical_data['FRS 10-year risk (%)'].replace(\">30\", 0.30, regex=True)\n",
        "    clinical_data['FRS 10-year risk (%)'] =  clinical_data['FRS 10-year risk (%)'] * 100\n",
        " \n",
        "    cols_to_be_filled = ['FRAX 10y Fx Prob (Orange-w/ DXA)','FRAX 10y Hip Fx Prob (Orange-w/ DXA)','FRS 10-year risk (%)']\n",
        "    for c in cols_to_be_filled:\n",
        "      if mean:  \n",
        "        clinical_data[c].fillna(value=clinical_data[c].mean(skipna=True), inplace=True)\n",
        "      else :\n",
        "        clinical_data[c].fillna(value=clinical_data[c].median(skipna=True), inplace=True)\n",
        "\n",
        "    return [clinical_data, np.array(clinical_data, dtype=np.float32)]"
      ]
    },
    {
      "cell_type": "code",
      "execution_count": 6,
      "id": "c4542d1f",
      "metadata": {
        "id": "c4542d1f"
      },
      "outputs": [],
      "source": [
        "oppScrData = pd.read_excel (r'sample_data/OppScrData.xlsx')  "
      ]
    },
    {
      "cell_type": "code",
      "execution_count": 8,
      "id": "7cce62ca",
      "metadata": {
        "id": "7cce62ca"
      },
      "outputs": [],
      "source": [
        "clinical_data, clinical_data_np = preprocess_clinical_data(oppScrData)"
      ]
    },
    {
      "cell_type": "code",
      "execution_count": 10,
      "id": "8f9c523b",
      "metadata": {
        "id": "8f9c523b"
      },
      "outputs": [],
      "source": [
        "selected_rows = clinical_data[~clinical_data['DEATH [d from CT]'].isnull()]\n",
        "selected_rows\n",
        "\n",
        "selected_row2=clinical_data[clinical_data['DEATH [d from CT]'].isnull()]\n",
        "\n",
        "X=selected_rows.iloc[:, 0:9]\n",
        "X\n",
        "X2=selected_row2.iloc[:, 0:9]\n",
        "\n",
        "y=selected_rows.iloc[:, 9]\n",
        "y\n",
        "y2=selected_row2.iloc[:, 9]\n",
        "\n",
        "from sklearn.preprocessing import MinMaxScaler,StandardScaler\n",
        "sc = StandardScaler()\n",
        "X = pd.DataFrame(sc.fit_transform(X), columns = X.columns)\n",
        "X2=pd.DataFrame(sc.fit_transform(X2), columns = X.columns)"
      ]
    },
    {
      "cell_type": "code",
      "execution_count": 11,
      "id": "fd6baa60",
      "metadata": {
        "id": "fd6baa60"
      },
      "outputs": [],
      "source": [
        "X_train, X_test, y_train, y_test  = train_test_split(X, y, test_size=0.2, random_state=0)"
      ]
    },
    {
      "cell_type": "code",
      "execution_count": 12,
      "id": "5fb5a621",
      "metadata": {
        "colab": {
          "base_uri": "https://localhost:8080/"
        },
        "id": "5fb5a621",
        "outputId": "c86b1ad8-0910-4b0a-934e-2c487be285d6"
      },
      "outputs": [
        {
          "output_type": "execute_result",
          "data": {
            "text/plain": [
              "0.9675514805768979"
            ]
          },
          "metadata": {},
          "execution_count": 12
        }
      ],
      "source": [
        "RFparams2={'n_estimators':[50],\n",
        "          'min_samples_split':[16],\n",
        "          'min_samples_leaf': [4],\n",
        "           'max_features': [6],\n",
        "           'max_depth': [20],\n",
        "           'bootstrap': [True]}\n",
        "\n",
        "rf = RandomForestRegressor(random_state = 21)\n",
        "clf = GridSearchCV(rf,RFparams2,refit=True)\n",
        "clf.fit(X_train,y_train)      \n",
        "clf.best_estimator_.score(X_test, y_test)"
      ]
    },
    {
      "cell_type": "code",
      "execution_count": 13,
      "id": "814d721b",
      "metadata": {
        "colab": {
          "base_uri": "https://localhost:8080/"
        },
        "id": "814d721b",
        "outputId": "e2e80d9f-d580-460c-9ad5-d70e412d2283"
      },
      "outputs": [
        {
          "output_type": "stream",
          "name": "stdout",
          "text": [
            "RMSE: 237.25\n",
            "MApe: 0.55\n",
            "error 160.64980233315563\n"
          ]
        }
      ],
      "source": [
        "p = clf.predict(X_test)\n",
        "null = clf.predict(X2)\n",
        "Mse = mean_squared_error(y_test, p)\n",
        "error = mean_absolute_error(y_test, p)\n",
        "mape = mean_absolute_percentage_error(y_test, p)\n",
        "print(\"RMSE: %.2f\" % (Mse**(1/2.0)))\n",
        "print(\"MApe: %.2f\" %(mape))\n",
        "print(\"error\",error)"
      ]
    },
    {
      "cell_type": "code",
      "execution_count": 14,
      "id": "3b555280",
      "metadata": {
        "colab": {
          "base_uri": "https://localhost:8080/"
        },
        "id": "3b555280",
        "outputId": "efe0575c-3487-485b-8283-ec47def753f7"
      },
      "outputs": [
        {
          "output_type": "stream",
          "name": "stderr",
          "text": [
            "/usr/local/lib/python3.7/dist-packages/ipykernel_launcher.py:1: SettingWithCopyWarning: \n",
            "A value is trying to be set on a copy of a slice from a DataFrame.\n",
            "Try using .loc[row_indexer,col_indexer] = value instead\n",
            "\n",
            "See the caveats in the documentation: https://pandas.pydata.org/pandas-docs/stable/user_guide/indexing.html#returning-a-view-versus-a-copy\n",
            "  \"\"\"Entry point for launching an IPython kernel.\n"
          ]
        }
      ],
      "source": [
        "selected_row2['DEATH [d from CT]']=null"
      ]
    },
    {
      "cell_type": "code",
      "execution_count": 15,
      "id": "0fb1a401",
      "metadata": {
        "id": "0fb1a401"
      },
      "outputs": [],
      "source": [
        "X3=pd.concat([selected_rows,selected_row2])"
      ]
    },
    {
      "cell_type": "code",
      "execution_count": 16,
      "id": "ab0d1879",
      "metadata": {
        "id": "ab0d1879"
      },
      "outputs": [],
      "source": [
        "y3=X3.iloc[:,9]\n",
        "X3=X3.iloc[:, 0:9]\n",
        "X_train3, X_test3, y_train3, y_test3  = train_test_split(X3, y3, test_size=0.2, random_state=0)"
      ]
    },
    {
      "cell_type": "code",
      "execution_count": 19,
      "id": "2229fd70",
      "metadata": {
        "colab": {
          "base_uri": "https://localhost:8080/"
        },
        "id": "2229fd70",
        "outputId": "f805b453-5458-4a02-94fa-5a06b606c800"
      },
      "outputs": [
        {
          "output_type": "stream",
          "name": "stdout",
          "text": [
            "RMSE: 194.44\n",
            "MApe: 0.07\n"
          ]
        },
        {
          "output_type": "execute_result",
          "data": {
            "text/plain": [
              "89.7835556471623"
            ]
          },
          "metadata": {},
          "execution_count": 19
        }
      ],
      "source": [
        "knn2 = KNeighborsRegressor(n_neighbors=9)\n",
        "weight_options = [\"uniform\", \"distance\"]\n",
        "param_grid2 = dict(weights = weight_options)\n",
        "    \n",
        "grid = GridSearchCV(knn2, param_grid2)\n",
        "grid.fit(X_train3,y_train3)\n",
        "p3=grid.predict(X_test3)\n",
        "Mse = mean_squared_error(y_test3, p3)\n",
        "\n",
        "mape=mean_absolute_percentage_error(y_test3, p3)\n",
        "print(\"RMSE: %.2f\" % (Mse**(1/2.0)))\n",
        "print(\"MApe: %.2f\" %(mape))\n",
        "\n",
        "mean_absolute_error(y_test3, p3)"
      ]
    },
    {
      "cell_type": "code",
      "execution_count": null,
      "id": "639205b4",
      "metadata": {
        "id": "639205b4"
      },
      "outputs": [],
      "source": [
        ""
      ]
    }
  ],
  "metadata": {
    "kernelspec": {
      "display_name": "Python 3",
      "language": "python",
      "name": "python3"
    },
    "language_info": {
      "codemirror_mode": {
        "name": "ipython",
        "version": 3
      },
      "file_extension": ".py",
      "mimetype": "text/x-python",
      "name": "python",
      "nbconvert_exporter": "python",
      "pygments_lexer": "ipython3",
      "version": "3.8.8"
    },
    "colab": {
      "name": "Model-generated-death-column(using clinical data).ipynb",
      "provenance": []
    }
  },
  "nbformat": 4,
  "nbformat_minor": 5
}