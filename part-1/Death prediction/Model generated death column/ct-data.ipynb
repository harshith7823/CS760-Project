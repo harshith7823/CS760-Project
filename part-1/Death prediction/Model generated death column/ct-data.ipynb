{
  "cells": [
    {
      "cell_type": "code",
      "execution_count": 33,
      "id": "431d2be8",
      "metadata": {
        "id": "431d2be8"
      },
      "outputs": [],
      "source": [
        "import pandas as pd\n",
        "import numpy as np\n",
        "from sklearn.ensemble import RandomForestRegressor\n",
        "from sklearn.model_selection import RandomizedSearchCV\n",
        "from sklearn.ensemble import ExtraTreesRegressor\n",
        "from sklearn.metrics import mean_absolute_error\n",
        "from sklearn.model_selection import GridSearchCV\n",
        "from sklearn.model_selection import train_test_split\n",
        "from sklearn.metrics import mean_squared_error\n",
        "from sklearn.metrics import mean_absolute_percentage_error\n",
        "from sklearn.preprocessing import MinMaxScaler,StandardScaler\n",
        "from sklearn.neighbors import KNeighborsRegressor"
      ]
    },
    {
      "cell_type": "code",
      "source": [
        "oppScrData = pd.read_excel(r'sample_data/OppScrData.xlsx')"
      ],
      "metadata": {
        "id": "Be0Zbdgrsf0K"
      },
      "id": "Be0Zbdgrsf0K",
      "execution_count": null,
      "outputs": []
    },
    {
      "cell_type": "code",
      "source": [
        "def clean_ct_data(oppScrData):\n",
        "    # Delete rows with empty values\n",
        "    cols = [\"L1_HU_BMD\", \"TAT Area (cm2)\", 'Total Body                Area EA (cm2)',\n",
        "       'VAT Area (cm2)', 'SAT Area (cm2)', 'VAT/SAT     Ratio', 'Muscle HU',\n",
        "       ' Muscle Area (cm2)', 'L3 SMI (cm2/m2)', 'AoCa        Agatston',\n",
        "       'Liver HU    (Median)', 'DEATH [d from CT]']\n",
        "    ct_data= oppScrData[cols]\n",
        "    n = ct_data.shape[0]\n",
        "    preprocessed_ct_data = pd.DataFrame( columns=cols)\n",
        "    for i in range(n):\n",
        "        row = ct_data.loc[i]\n",
        "        ignore = False\n",
        "        for k,j in enumerate(row):\n",
        "          if pd.isna(j) or j == ' ': \n",
        "            if k == 11:              \n",
        "              ignore = False\n",
        "            else:\n",
        "              ignore = True\n",
        "              break\n",
        "        if not ignore:\n",
        "          preprocessed_ct_data.loc[i]= row\n",
        "    return preprocessed_ct_data\n",
        "\n",
        "clinical_data = clean_ct_data(oppScrData=oppScrData)"
      ],
      "metadata": {
        "id": "3IMWecrXSNlN"
      },
      "id": "3IMWecrXSNlN",
      "execution_count": 112,
      "outputs": []
    },
    {
      "cell_type": "markdown",
      "source": [
        "**Model training**"
      ],
      "metadata": {
        "id": "wC8n1AiGjuZx"
      },
      "id": "wC8n1AiGjuZx"
    },
    {
      "cell_type": "code",
      "execution_count": 120,
      "id": "8f9c523b",
      "metadata": {
        "colab": {
          "base_uri": "https://localhost:8080/"
        },
        "id": "8f9c523b",
        "outputId": "65266ee2-a495-4bee-815b-a98d4f686eeb"
      },
      "outputs": [
        {
          "output_type": "stream",
          "name": "stderr",
          "text": [
            "/usr/local/lib/python3.7/dist-packages/ipykernel_launcher.py:6: SettingWithCopyWarning: \n",
            "A value is trying to be set on a copy of a slice from a DataFrame.\n",
            "Try using .loc[row_indexer,col_indexer] = value instead\n",
            "\n",
            "See the caveats in the documentation: https://pandas.pydata.org/pandas-docs/stable/user_guide/indexing.html#returning-a-view-versus-a-copy\n",
            "  \n"
          ]
        }
      ],
      "source": [
        "sc = StandardScaler()\n",
        "\n",
        "non_null_death_rows = clinical_data[~clinical_data['DEATH [d from CT]'].isnull()]\n",
        "\n",
        "# Convert to years\n",
        "non_null_death_rows['DEATH [d from CT]'] /= 365\n",
        "\n",
        "X = non_null_death_rows.iloc[:, 0:11]\n",
        "y = non_null_death_rows.iloc[:, 11]\n",
        "X = pd.DataFrame(sc.fit_transform(X), columns = X.columns)\n",
        "\n",
        "null_death_rows=clinical_data[clinical_data['DEATH [d from CT]'].isnull()]\n",
        "X2 = null_death_rows.iloc[:, 0:11]\n",
        "X2 = pd.DataFrame(sc.fit_transform(X2), columns = X2.columns)"
      ]
    },
    {
      "cell_type": "code",
      "execution_count": 121,
      "id": "fd6baa60",
      "metadata": {
        "id": "fd6baa60"
      },
      "outputs": [],
      "source": [
        "X_train, X_test, y_train, y_test  = train_test_split(X, y, test_size=0.2, random_state=0)"
      ]
    },
    {
      "cell_type": "code",
      "execution_count": 122,
      "id": "5fb5a621",
      "metadata": {
        "colab": {
          "base_uri": "https://localhost:8080/"
        },
        "id": "5fb5a621",
        "outputId": "6a863027-78f1-4b02-da33-d0dcb24ef272"
      },
      "outputs": [
        {
          "output_type": "execute_result",
          "data": {
            "text/plain": [
              "-0.0032878970518182005"
            ]
          },
          "metadata": {},
          "execution_count": 122
        }
      ],
      "source": [
        "RFparams2={'n_estimators':[50],\n",
        "          'min_samples_split':[16],\n",
        "          'min_samples_leaf': [4],\n",
        "           'max_features': [6],\n",
        "           'max_depth': [20],\n",
        "           'bootstrap': [True]}\n",
        "\n",
        "rf = RandomForestRegressor(random_state = 21)\n",
        "clf = GridSearchCV(rf, RFparams2, refit=True)\n",
        "clf.fit(X_train, y_train)\n",
        "clf.best_estimator_.score(X_test, y_test)"
      ]
    },
    {
      "cell_type": "code",
      "execution_count": 123,
      "id": "814d721b",
      "metadata": {
        "colab": {
          "base_uri": "https://localhost:8080/"
        },
        "id": "814d721b",
        "outputId": "90e25de8-bbcc-46e6-cc55-3af4580b21db"
      },
      "outputs": [
        {
          "output_type": "stream",
          "name": "stdout",
          "text": [
            "RMSE : 3.31\n",
            "MApe : 4.06\n",
            "MAE : 2.7602421790301745\n"
          ]
        }
      ],
      "source": [
        "p = clf.predict(X_test)\n",
        "Mse = mean_squared_error(y_test, p)\n",
        "error = mean_absolute_error(y_test, p)\n",
        "mape = mean_absolute_percentage_error(y_test, p)\n",
        "print(\"RMSE : %.2f\" % (Mse**(1/2.0)))\n",
        "print(\"MApe : %.2f\" %(mape))\n",
        "print(\"MAE :\", error)"
      ]
    },
    {
      "cell_type": "markdown",
      "source": [
        "**Fill death column**"
      ],
      "metadata": {
        "id": "_oQFxiWcmiHu"
      },
      "id": "_oQFxiWcmiHu"
    },
    {
      "cell_type": "code",
      "execution_count": 127,
      "id": "3b555280",
      "metadata": {
        "colab": {
          "base_uri": "https://localhost:8080/"
        },
        "id": "3b555280",
        "outputId": "1cbabf99-6a91-4b2a-9f89-f58ad0c1444a"
      },
      "outputs": [
        {
          "output_type": "stream",
          "name": "stderr",
          "text": [
            "/usr/local/lib/python3.7/dist-packages/ipykernel_launcher.py:1: SettingWithCopyWarning: \n",
            "A value is trying to be set on a copy of a slice from a DataFrame.\n",
            "Try using .loc[row_indexer,col_indexer] = value instead\n",
            "\n",
            "See the caveats in the documentation: https://pandas.pydata.org/pandas-docs/stable/user_guide/indexing.html#returning-a-view-versus-a-copy\n",
            "  \"\"\"Entry point for launching an IPython kernel.\n"
          ]
        }
      ],
      "source": [
        "null_death_rows['DEATH [d from CT]'] = clf.predict(X2)\n",
        "df = pd.concat([non_null_death_rows,null_death_rows])\n",
        "y = df.iloc[:,11]\n",
        "X = df.iloc[:, 0:11]"
      ]
    },
    {
      "cell_type": "markdown",
      "source": [
        "**Train model**"
      ],
      "metadata": {
        "id": "1BXiMauhtzdY"
      },
      "id": "1BXiMauhtzdY"
    },
    {
      "cell_type": "code",
      "execution_count": 129,
      "id": "2229fd70",
      "metadata": {
        "colab": {
          "base_uri": "https://localhost:8080/"
        },
        "id": "2229fd70",
        "outputId": "1061ad90-815a-4ccb-e8eb-bde938aa0346"
      },
      "outputs": [
        {
          "output_type": "stream",
          "name": "stdout",
          "text": [
            "RMSE: 1.10\n",
            "MApe: 0.33\n",
            "MAE: 0.67\n"
          ]
        }
      ],
      "source": [
        "X_train, X_test, y_train, y_test  = train_test_split(X, y, test_size=0.2)\n",
        "\n",
        "knn = KNeighborsRegressor(n_neighbors=9)\n",
        "param_grid2 = dict(weights = [\"uniform\", \"distance\"])\n",
        "    \n",
        "grid = GridSearchCV(knn, param_grid2)\n",
        "grid.fit(X_train, y_train)\n",
        "p3 = grid.predict(X_test) \n",
        "Mse = mean_squared_error(y_test, p3)\n",
        "\n",
        "mape=mean_absolute_percentage_error(y_test, p3)\n",
        "print(\"RMSE: %.2f\" % (Mse**(1/2.0)))\n",
        "print(\"MApe: %.2f\" %(mape))\n",
        "print(\"MAE: %.2f\" %(mean_absolute_error(y_test, p3)))\n"
      ]
    },
    {
      "cell_type": "code",
      "source": [
        ""
      ],
      "metadata": {
        "id": "4h-9W1pgmvlE"
      },
      "id": "4h-9W1pgmvlE",
      "execution_count": null,
      "outputs": []
    }
  ],
  "metadata": {
    "kernelspec": {
      "display_name": "Python 3",
      "language": "python",
      "name": "python3"
    },
    "language_info": {
      "codemirror_mode": {
        "name": "ipython",
        "version": 3
      },
      "file_extension": ".py",
      "mimetype": "text/x-python",
      "name": "python",
      "nbconvert_exporter": "python",
      "pygments_lexer": "ipython3",
      "version": "3.8.8"
    },
    "colab": {
      "name": "ct-sanyam.ipynb",
      "provenance": []
    }
  },
  "nbformat": 4,
  "nbformat_minor": 5
}