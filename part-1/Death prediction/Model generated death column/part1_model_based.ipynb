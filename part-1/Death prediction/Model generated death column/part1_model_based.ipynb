{
  "nbformat": 4,
  "nbformat_minor": 0,
  "metadata": {
    "colab": {
      "name": "part1_model_based.ipynb",
      "provenance": [],
      "authorship_tag": "ABX9TyPlaYi5sEF2/JcA89y0DaHn",
      "include_colab_link": true
    },
    "kernelspec": {
      "name": "python3",
      "display_name": "Python 3"
    },
    "language_info": {
      "name": "python"
    }
  },
  "cells": [
    {
      "cell_type": "markdown",
      "metadata": {
        "id": "view-in-github",
        "colab_type": "text"
      },
      "source": [
        "<a href=\"https://colab.research.google.com/github/harshith7823/CS760-Project/blob/reetu/part-1/Death%20prediction/Model%20generated%20death%20column/part1_model_based.ipynb\" target=\"_parent\"><img src=\"https://colab.research.google.com/assets/colab-badge.svg\" alt=\"Open In Colab\"/></a>"
      ]
    },
    {
      "cell_type": "code",
      "execution_count": 102,
      "metadata": {
        "id": "ArnBMoxN9Y5s"
      },
      "outputs": [],
      "source": [
        "import pandas as pd\n",
        "import numpy as np\n",
        "from sklearn.ensemble import RandomForestRegressor\n",
        "from sklearn.model_selection import RandomizedSearchCV\n",
        "from sklearn.ensemble import ExtraTreesRegressor\n",
        "from sklearn.metrics import mean_absolute_error\n",
        "from sklearn.model_selection import GridSearchCV\n",
        "from sklearn.model_selection import train_test_split\n",
        "from sklearn.metrics import mean_squared_error\n",
        "from sklearn.metrics import mean_absolute_percentage_error\n",
        "from sklearn.preprocessing import MinMaxScaler,StandardScaler\n",
        "from sklearn.neighbors import KNeighborsRegressor\n",
        "from numpy import mean\n",
        "from numpy import std\n",
        "from sklearn.model_selection import train_test_split\n",
        "from sklearn.linear_model import Lasso, ElasticNetCV,RidgeCV\n",
        "from sklearn.tree import DecisionTreeRegressor\n",
        "from sklearn.svm import SVR\n",
        "from sklearn.neural_network import MLPRegressor\n",
        "from sklearn.model_selection import GridSearchCV"
      ]
    },
    {
      "cell_type": "code",
      "source": [
        "oppScrData = pd.read_excel(r'sample_data/OppScrData.xlsx')"
      ],
      "metadata": {
        "id": "9PiQe7SI9hy7"
      },
      "execution_count": 3,
      "outputs": []
    },
    {
      "cell_type": "code",
      "source": [
        "def clean_ct_data(oppScrData):\n",
        "    # Delete rows with empty values\n",
        "    cols = [\"L1_HU_BMD\", \"TAT Area (cm2)\", 'Total Body                Area EA (cm2)',\n",
        "       'VAT Area (cm2)', 'SAT Area (cm2)', 'VAT/SAT     Ratio', 'Muscle HU',\n",
        "       ' Muscle Area (cm2)', 'L3 SMI (cm2/m2)', 'AoCa        Agatston',\n",
        "       'Liver HU    (Median)', 'DEATH [d from CT]']\n",
        "    ct_data= oppScrData[cols]\n",
        "    n = ct_data.shape[0]\n",
        "    preprocessed_ct_data = pd.DataFrame( columns=cols)\n",
        "    for i in range(n):\n",
        "        row = ct_data.loc[i]\n",
        "        ignore = False\n",
        "        for k,j in enumerate(row):\n",
        "          if pd.isna(j) or j == ' ': \n",
        "            if k == 11:              \n",
        "              ignore = False\n",
        "            else:\n",
        "              ignore = True\n",
        "              break\n",
        "        if not ignore:\n",
        "          preprocessed_ct_data.loc[i]= row\n",
        "    return preprocessed_ct_data"
      ],
      "metadata": {
        "id": "_EqFnD4b9iF0"
      },
      "execution_count": 4,
      "outputs": []
    },
    {
      "cell_type": "code",
      "source": [
        "sc = StandardScaler()\n",
        "ct_data = clean_ct_data(oppScrData=oppScrData)"
      ],
      "metadata": {
        "id": "V7vCi9G89iLt"
      },
      "execution_count": null,
      "outputs": []
    },
    {
      "cell_type": "code",
      "source": [
        "non_null_death_rows = ct_data[~ct_data['DEATH [d from CT]'].isnull()]\n",
        "print(non_null_death_rows.shape)\n",
        "print(non_null_death_rows.columns)"
      ],
      "metadata": {
        "colab": {
          "base_uri": "https://localhost:8080/"
        },
        "id": "rIRqLmsS-U8f",
        "outputId": "8ff43985-346b-44f0-d16a-ad11af397b7f"
      },
      "execution_count": 13,
      "outputs": [
        {
          "output_type": "stream",
          "name": "stdout",
          "text": [
            "(493, 12)\n",
            "Index(['L1_HU_BMD', 'TAT Area (cm2)',\n",
            "       'Total Body                Area EA (cm2)', 'VAT Area (cm2)',\n",
            "       'SAT Area (cm2)', 'VAT/SAT     Ratio', 'Muscle HU',\n",
            "       ' Muscle Area (cm2)', 'L3 SMI (cm2/m2)', 'AoCa        Agatston',\n",
            "       'Liver HU    (Median)', 'DEATH [d from CT]'],\n",
            "      dtype='object')\n"
          ]
        }
      ]
    },
    {
      "cell_type": "code",
      "source": [
        "# Convert to years\n",
        "non_null_death_rows['DEATH [d from CT]'] /= 365\n",
        "\n",
        "X = non_null_death_rows.iloc[:, 0:11]\n",
        "y = non_null_death_rows.iloc[:, 11]\n",
        "X = pd.DataFrame(sc.fit_transform(X), columns = X.columns)\n",
        "\n",
        "null_death_rows=ct_data[ct_data['DEATH [d from CT]'].isnull()]\n",
        "X2 = null_death_rows.iloc[:, 0:11]\n",
        "X2 = pd.DataFrame(sc.fit_transform(X2), columns = X2.columns)"
      ],
      "metadata": {
        "id": "vYcVicxT-Xjk"
      },
      "execution_count": null,
      "outputs": []
    },
    {
      "cell_type": "code",
      "source": [
        "X_train, X_test, y_train, y_test  = train_test_split(X, y, test_size=0.2, random_state=0)"
      ],
      "metadata": {
        "id": "3v7DBWHL9iQv"
      },
      "execution_count": 107,
      "outputs": []
    },
    {
      "cell_type": "code",
      "source": [
        "def testWithModel(model, X_train, X_test, y_train, y_test):\n",
        "  clf = model\n",
        "  clf.fit(X_train, y_train)\n",
        "  y_pred = clf.predict(X_test)\n",
        "\n",
        "  print(f'MAE = {mean_absolute_error(y_test, y_pred)}') \n",
        "  print(f'MAPE = {mean_absolute_percentage_error(y_test, y_pred)}')\n",
        "  print(f'RMSE = {mean_squared_error(y_test, y_pred)}')\n",
        "\n",
        "  # plot_results(y_test, y_pred)\n",
        "\n",
        "  return y_pred"
      ],
      "metadata": {
        "id": "GLamCOYwIA6-"
      },
      "execution_count": 119,
      "outputs": []
    },
    {
      "cell_type": "code",
      "source": [
        "RFparams2={'n_estimators':[50],\n",
        "          'min_samples_split':[16],\n",
        "          'min_samples_leaf': [4],\n",
        "           'max_features': [6],\n",
        "           'max_depth': [20],\n",
        "           'bootstrap': [True]}\n",
        "\n",
        "rf = RandomForestRegressor(random_state = 21)\n",
        "testWithModel(GridSearchCV(rf, RFparams2, refit=True) ,X_train, X_test, y_train, y_test )"
      ],
      "metadata": {
        "colab": {
          "base_uri": "https://localhost:8080/"
        },
        "id": "WS8FE5dO9iTS",
        "outputId": "db333593-99e3-4a86-b157-0da98ed52e56"
      },
      "execution_count": 112,
      "outputs": [
        {
          "output_type": "stream",
          "name": "stdout",
          "text": [
            "MAE = 0.46039507158959986\n",
            "MAPE = 0.13612173224098187\n",
            "RMSE = 0.8987656321839417\n"
          ]
        }
      ]
    },
    {
      "cell_type": "code",
      "source": [
        "testWithModel(Lasso(alpha=0.5), X_train, X_test, y_train, y_test)"
      ],
      "metadata": {
        "colab": {
          "base_uri": "https://localhost:8080/"
        },
        "id": "4SrTRX2M_L8t",
        "outputId": "618ac279-0b29-4fb4-a398-15d1c6ee9d1e"
      },
      "execution_count": 69,
      "outputs": [
        {
          "output_type": "stream",
          "name": "stdout",
          "text": [
            "MAE = 2.777563760826399\n",
            "MAPE = 3.784858071420441\n"
          ]
        }
      ]
    },
    {
      "cell_type": "code",
      "source": [
        "testWithModel(RidgeCV(),X_train, X_test, y_train, y_test)"
      ],
      "metadata": {
        "colab": {
          "base_uri": "https://localhost:8080/"
        },
        "id": "E_MFGnqpCb3R",
        "outputId": "d011ec35-04d4-4fef-a885-87defb32c8be"
      },
      "execution_count": 70,
      "outputs": [
        {
          "output_type": "stream",
          "name": "stdout",
          "text": [
            "MAE = 2.747641137627119\n",
            "MAPE = 4.038622420365689\n"
          ]
        }
      ]
    },
    {
      "cell_type": "code",
      "source": [
        "testWithModel(KNeighborsRegressor(),X_train, X_test, y_train, y_test)"
      ],
      "metadata": {
        "colab": {
          "base_uri": "https://localhost:8080/"
        },
        "id": "KEcFG8d4Co7K",
        "outputId": "f36fcaef-079c-4540-e925-05360e28e7fb"
      },
      "execution_count": 71,
      "outputs": [
        {
          "output_type": "stream",
          "name": "stdout",
          "text": [
            "MAE = 2.719313684793137\n",
            "MAPE = 4.192761817399197\n"
          ]
        }
      ]
    },
    {
      "cell_type": "code",
      "source": [
        "testWithModel(DecisionTreeRegressor(criterion=\"absolute_error\"),X_train, X_test, y_train, y_test)"
      ],
      "metadata": {
        "colab": {
          "base_uri": "https://localhost:8080/"
        },
        "id": "Xxu72Jd2C8ny",
        "outputId": "3fd3359b-7d88-4021-fa3e-285db73986bf"
      },
      "execution_count": 72,
      "outputs": [
        {
          "output_type": "stream",
          "name": "stdout",
          "text": [
            "MAE = 4.304358655043587\n",
            "MAPE = 5.092789480567514\n"
          ]
        }
      ]
    },
    {
      "cell_type": "code",
      "source": [
        "testWithModel(ElasticNetCV(random_state=0), X_train, X_test, y_train, y_test)"
      ],
      "metadata": {
        "colab": {
          "base_uri": "https://localhost:8080/"
        },
        "id": "_MdDzh35DPaT",
        "outputId": "fc5bbba4-a0c0-4555-b578-849e53ca5412"
      },
      "execution_count": 104,
      "outputs": [
        {
          "output_type": "stream",
          "name": "stdout",
          "text": [
            "MAE = 0.8897986325802388\n",
            "MAPE = 0.22393422581680358\n"
          ]
        }
      ]
    },
    {
      "cell_type": "code",
      "source": [
        "testWithModel(SVR(C=300, epsilon=0.8),X_train, X_test, y_train, y_test)"
      ],
      "metadata": {
        "colab": {
          "base_uri": "https://localhost:8080/"
        },
        "id": "bJLKjXz_Djdt",
        "outputId": "29621df5-7079-408a-f696-e936c60fdcc7"
      },
      "execution_count": 74,
      "outputs": [
        {
          "output_type": "stream",
          "name": "stdout",
          "text": [
            "MAE = 3.685610259644844\n",
            "MAPE = 4.438776918497148\n"
          ]
        }
      ]
    },
    {
      "cell_type": "markdown",
      "source": [
        "Fill death col using random forest"
      ],
      "metadata": {
        "id": "I-1zkrmKKMSa"
      }
    },
    {
      "cell_type": "code",
      "source": [
        "null_death_rows['DEATH [d from CT]'] = clf_random_forest.predict(X2)\n",
        "df = pd.concat([non_null_death_rows,null_death_rows])\n",
        "y = df.iloc[:,11]\n",
        "X = df.iloc[:, 0:11]"
      ],
      "metadata": {
        "id": "tej-ERuxKQxE"
      },
      "execution_count": null,
      "outputs": []
    },
    {
      "cell_type": "code",
      "source": [
        "print(X.shape)"
      ],
      "metadata": {
        "id": "M4nJDAyfKgVJ"
      },
      "execution_count": null,
      "outputs": []
    },
    {
      "cell_type": "code",
      "source": [
        "X_train, X_test, y_train, y_test  = train_test_split(X, y, test_size=0.2)"
      ],
      "metadata": {
        "id": "l5-BM-T9Kn-V"
      },
      "execution_count": 121,
      "outputs": []
    },
    {
      "cell_type": "code",
      "source": [
        "knn = KNeighborsRegressor(n_neighbors=9)\n",
        "param_grid2 = dict(weights = [\"uniform\", \"distance\"])\n",
        "knn_pred = testWithModel(GridSearchCV(knn, param_grid2),X_train, X_test, y_train, y_test)"
      ],
      "metadata": {
        "colab": {
          "base_uri": "https://localhost:8080/"
        },
        "id": "Z55ird3JTmcc",
        "outputId": "1feaa2ab-df99-4f90-e1d7-7ce54b9061bb"
      },
      "execution_count": 122,
      "outputs": [
        {
          "output_type": "stream",
          "name": "stdout",
          "text": [
            "MAE = 0.3373124321409\n",
            "MAPE = 25.574692234171945\n",
            "RMSE = 0.6685887576408439\n"
          ]
        }
      ]
    },
    {
      "cell_type": "code",
      "source": [
        "svr_pred = testWithModel(SVR(C=300, epsilon=0.8),X_train, X_test, y_train, y_test)"
      ],
      "metadata": {
        "colab": {
          "base_uri": "https://localhost:8080/"
        },
        "id": "9fR-MQZAK-Ft",
        "outputId": "b64d353a-ef42-4ee9-832e-ef29de1f36fa"
      },
      "execution_count": 123,
      "outputs": [
        {
          "output_type": "stream",
          "name": "stdout",
          "text": [
            "MAE = 0.8219293990837235\n",
            "MAPE = 22.7164988602485\n",
            "RMSE = 0.9470334824737148\n"
          ]
        }
      ]
    },
    {
      "cell_type": "code",
      "source": [
        "lasso_pred = testWithModel(Lasso(alpha=0.1), X_train, X_test, y_train, y_test)"
      ],
      "metadata": {
        "colab": {
          "base_uri": "https://localhost:8080/"
        },
        "id": "24vWtYnFLeyt",
        "outputId": "f2994a16-e1e3-4462-94ea-75ced8aef97b"
      },
      "execution_count": 130,
      "outputs": [
        {
          "output_type": "stream",
          "name": "stdout",
          "text": [
            "MAE = 0.3777356942736409\n",
            "MAPE = 25.363585992911695\n",
            "RMSE = 0.6248565753524965\n"
          ]
        }
      ]
    },
    {
      "cell_type": "code",
      "source": [
        "knn_pred = testWithModel(KNeighborsRegressor(),X_train, X_test, y_train, y_test)"
      ],
      "metadata": {
        "colab": {
          "base_uri": "https://localhost:8080/"
        },
        "id": "eFVKWvJjMD7h",
        "outputId": "d50e3a9f-3188-4f91-e252-25be25e4eb48"
      },
      "execution_count": 125,
      "outputs": [
        {
          "output_type": "stream",
          "name": "stdout",
          "text": [
            "MAE = 0.3403772681691468\n",
            "MAPE = 25.97534631530856\n",
            "RMSE = 0.7216121912212927\n"
          ]
        }
      ]
    },
    {
      "cell_type": "code",
      "source": [
        "elastic_net_pred = testWithModel(ElasticNetCV(random_state=0), X_train, X_test, y_train, y_test)"
      ],
      "metadata": {
        "colab": {
          "base_uri": "https://localhost:8080/"
        },
        "id": "a7Xey2dQMG7l",
        "outputId": "d92f1f78-bb86-4afd-bf8e-208e22fdf82e"
      },
      "execution_count": 126,
      "outputs": [
        {
          "output_type": "stream",
          "name": "stdout",
          "text": [
            "MAE = 0.3748046375630678\n",
            "MAPE = 25.580663406006014\n",
            "RMSE = 0.6264942588318286\n"
          ]
        }
      ]
    },
    {
      "cell_type": "code",
      "source": [
        "dtree_pred = testWithModel(DecisionTreeRegressor(criterion=\"absolute_error\"),X_train, X_test, y_train, y_test)"
      ],
      "metadata": {
        "colab": {
          "base_uri": "https://localhost:8080/"
        },
        "id": "49nejcQKM6Ue",
        "outputId": "f6070ab0-8aae-413d-b8cf-57d69b703057"
      },
      "execution_count": 128,
      "outputs": [
        {
          "output_type": "stream",
          "name": "stdout",
          "text": [
            "MAE = 0.3761834903189418\n",
            "MAPE = 25.27411700526631\n",
            "RMSE = 1.378670395820654\n"
          ]
        }
      ]
    },
    {
      "cell_type": "markdown",
      "source": [
        "Build Ensemble"
      ],
      "metadata": {
        "id": "4gmh5mWqVkcJ"
      }
    },
    {
      "cell_type": "code",
      "source": [
        "array_preds = np.array([ dtree_pred, elastic_net_pred, knn_pred, lasso_pred,dtree_pred])\n",
        "y_ens = np.mean((array_preds), axis=0 )"
      ],
      "metadata": {
        "id": "dg6xgmGDVmts"
      },
      "execution_count": 161,
      "outputs": []
    },
    {
      "cell_type": "code",
      "source": [
        "print(mean_absolute_error(y_ens, y_test))"
      ],
      "metadata": {
        "colab": {
          "base_uri": "https://localhost:8080/"
        },
        "id": "8UmSz085XbIL",
        "outputId": "48aa6c54-9a6a-43ca-8777-82a1aa43c28a"
      },
      "execution_count": 162,
      "outputs": [
        {
          "output_type": "stream",
          "name": "stdout",
          "text": [
            "0.3635115292706672\n"
          ]
        }
      ]
    },
    {
      "cell_type": "code",
      "source": [
        "print(array_preds.shape)"
      ],
      "metadata": {
        "colab": {
          "base_uri": "https://localhost:8080/"
        },
        "id": "rFGwoT0pZDyg",
        "outputId": "42f86f39-b913-4696-f6b0-2f513db81165"
      },
      "execution_count": 163,
      "outputs": [
        {
          "output_type": "stream",
          "name": "stdout",
          "text": [
            "(5, 1776)\n"
          ]
        }
      ]
    },
    {
      "cell_type": "code",
      "source": [
        "import random\n",
        "y_ens=[]\n",
        "\n",
        "for i,y in enumerate(y_test):\n",
        "\n",
        "  j = random.randint(0, 4)\n",
        "  y_ens.append( array_preds[j][i])"
      ],
      "metadata": {
        "id": "6V7PxLYuYV93"
      },
      "execution_count": 169,
      "outputs": []
    },
    {
      "cell_type": "code",
      "source": [
        "len(y_ens)"
      ],
      "metadata": {
        "colab": {
          "base_uri": "https://localhost:8080/"
        },
        "id": "-cr4NR3gZVTb",
        "outputId": "de31bdb8-0590-4a5a-a623-c1bf7c0b543e"
      },
      "execution_count": 172,
      "outputs": [
        {
          "output_type": "execute_result",
          "data": {
            "text/plain": [
              "1776"
            ]
          },
          "metadata": {},
          "execution_count": 172
        }
      ]
    },
    {
      "cell_type": "code",
      "source": [
        "print(mean_absolute_error(y_ens, y_test))"
      ],
      "metadata": {
        "colab": {
          "base_uri": "https://localhost:8080/"
        },
        "id": "76lvMItIaGRO",
        "outputId": "58b69c99-c168-43a2-c451-451c8e15adbb"
      },
      "execution_count": 173,
      "outputs": [
        {
          "output_type": "stream",
          "name": "stdout",
          "text": [
            "0.37534293123365936\n"
          ]
        }
      ]
    }
  ]
}