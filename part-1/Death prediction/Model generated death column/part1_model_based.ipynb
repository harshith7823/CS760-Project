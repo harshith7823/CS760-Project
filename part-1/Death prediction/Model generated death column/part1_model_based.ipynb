{
  "nbformat": 4,
  "nbformat_minor": 0,
  "metadata": {
    "colab": {
      "name": "part1_model_based.ipynb",
      "provenance": [],
      "authorship_tag": "ABX9TyP465QBKmRFlRVPeZqrglie",
      "include_colab_link": true
    },
    "kernelspec": {
      "name": "python3",
      "display_name": "Python 3"
    },
    "language_info": {
      "name": "python"
    }
  },
  "cells": [
    {
      "cell_type": "markdown",
      "metadata": {
        "id": "view-in-github",
        "colab_type": "text"
      },
      "source": [
        "<a href=\"https://colab.research.google.com/github/harshith7823/CS760-Project/blob/reetu/part-1/Death%20prediction/Model%20generated%20death%20column/part1_model_based.ipynb\" target=\"_parent\"><img src=\"https://colab.research.google.com/assets/colab-badge.svg\" alt=\"Open In Colab\"/></a>"
      ]
    },
    {
      "cell_type": "code",
      "execution_count": 1,
      "metadata": {
        "id": "ArnBMoxN9Y5s"
      },
      "outputs": [],
      "source": [
        "import pandas as pd\n",
        "import numpy as np\n",
        "from sklearn.ensemble import RandomForestRegressor\n",
        "from sklearn.model_selection import RandomizedSearchCV\n",
        "from sklearn.ensemble import ExtraTreesRegressor\n",
        "from sklearn.metrics import mean_absolute_error\n",
        "from sklearn.model_selection import GridSearchCV\n",
        "from sklearn.model_selection import train_test_split\n",
        "from sklearn.metrics import mean_squared_error\n",
        "from sklearn.metrics import mean_absolute_percentage_error\n",
        "from sklearn.preprocessing import MinMaxScaler,StandardScaler\n",
        "from sklearn.neighbors import KNeighborsRegressor\n",
        "from numpy import mean\n",
        "from numpy import std\n",
        "from sklearn.model_selection import train_test_split\n",
        "from sklearn.linear_model import Lasso, ElasticNetCV,RidgeCV\n",
        "from sklearn.tree import DecisionTreeRegressor\n",
        "from sklearn.svm import SVR\n",
        "from sklearn.neural_network import MLPRegressor\n",
        "from sklearn.model_selection import GridSearchCV"
      ]
    },
    {
      "cell_type": "code",
      "source": [
        "oppScrData = pd.read_excel(r'sample_data/OppScrData.xlsx')"
      ],
      "metadata": {
        "id": "9PiQe7SI9hy7"
      },
      "execution_count": 2,
      "outputs": []
    },
    {
      "cell_type": "code",
      "source": [
        "def clean_ct_data(oppScrData):\n",
        "    # Delete rows with empty values\n",
        "    cols = [\"L1_HU_BMD\", \"TAT Area (cm2)\", 'Total Body                Area EA (cm2)',\n",
        "       'VAT Area (cm2)', 'SAT Area (cm2)', 'VAT/SAT     Ratio', 'Muscle HU',\n",
        "       ' Muscle Area (cm2)', 'L3 SMI (cm2/m2)', 'AoCa        Agatston',\n",
        "       'Liver HU    (Median)', 'DEATH [d from CT]']\n",
        "    ct_data= oppScrData[cols]\n",
        "    n = ct_data.shape[0]\n",
        "    preprocessed_ct_data = pd.DataFrame( columns=cols)\n",
        "    for i in range(n):\n",
        "        row = ct_data.loc[i]\n",
        "        ignore = False\n",
        "        for k,j in enumerate(row):\n",
        "          if pd.isna(j) or j == ' ': \n",
        "            if k == 11:              \n",
        "              ignore = False\n",
        "            else:\n",
        "              ignore = True\n",
        "              break\n",
        "        if not ignore:\n",
        "          preprocessed_ct_data.loc[i]= row\n",
        "    return preprocessed_ct_data"
      ],
      "metadata": {
        "id": "_EqFnD4b9iF0"
      },
      "execution_count": 3,
      "outputs": []
    },
    {
      "cell_type": "code",
      "source": [
        "sc = StandardScaler()\n",
        "ct_data = clean_ct_data(oppScrData=oppScrData)"
      ],
      "metadata": {
        "id": "V7vCi9G89iLt"
      },
      "execution_count": 4,
      "outputs": []
    },
    {
      "cell_type": "code",
      "source": [
        "non_null_death_rows = ct_data[~ct_data['DEATH [d from CT]'].isnull()]\n",
        "print(non_null_death_rows.shape)\n",
        "print(non_null_death_rows.columns)"
      ],
      "metadata": {
        "colab": {
          "base_uri": "https://localhost:8080/"
        },
        "id": "rIRqLmsS-U8f",
        "outputId": "9364120a-19d4-4fc5-ac63-d3022b0ed538"
      },
      "execution_count": 5,
      "outputs": [
        {
          "output_type": "stream",
          "name": "stdout",
          "text": [
            "(493, 12)\n",
            "Index(['L1_HU_BMD', 'TAT Area (cm2)',\n",
            "       'Total Body                Area EA (cm2)', 'VAT Area (cm2)',\n",
            "       'SAT Area (cm2)', 'VAT/SAT     Ratio', 'Muscle HU',\n",
            "       ' Muscle Area (cm2)', 'L3 SMI (cm2/m2)', 'AoCa        Agatston',\n",
            "       'Liver HU    (Median)', 'DEATH [d from CT]'],\n",
            "      dtype='object')\n"
          ]
        }
      ]
    },
    {
      "cell_type": "code",
      "source": [
        "# Convert to years\n",
        "non_null_death_rows['DEATH [d from CT]'] /= 365\n",
        "\n",
        "X = non_null_death_rows.iloc[:, 0:11]\n",
        "y = non_null_death_rows.iloc[:, 11]\n",
        "X = pd.DataFrame(sc.fit_transform(X), columns = X.columns)\n",
        "\n",
        "null_death_rows=ct_data[ct_data['DEATH [d from CT]'].isnull()]\n",
        "X2 = null_death_rows.iloc[:, 0:11]\n",
        "X2 = pd.DataFrame(sc.fit_transform(X2), columns = X2.columns)"
      ],
      "metadata": {
        "id": "vYcVicxT-Xjk",
        "outputId": "4ba3e329-cfa0-4406-ca4a-2349fd572c18",
        "colab": {
          "base_uri": "https://localhost:8080/"
        }
      },
      "execution_count": 6,
      "outputs": [
        {
          "output_type": "stream",
          "name": "stderr",
          "text": [
            "/usr/local/lib/python3.7/dist-packages/ipykernel_launcher.py:2: SettingWithCopyWarning: \n",
            "A value is trying to be set on a copy of a slice from a DataFrame.\n",
            "Try using .loc[row_indexer,col_indexer] = value instead\n",
            "\n",
            "See the caveats in the documentation: https://pandas.pydata.org/pandas-docs/stable/user_guide/indexing.html#returning-a-view-versus-a-copy\n",
            "  \n"
          ]
        }
      ]
    },
    {
      "cell_type": "code",
      "source": [
        "X_train, X_test, y_train, y_test  = train_test_split(X, y, test_size=0.2, random_state=0)"
      ],
      "metadata": {
        "id": "3v7DBWHL9iQv"
      },
      "execution_count": 7,
      "outputs": []
    },
    {
      "cell_type": "code",
      "source": [
        "def testWithModel(model, X_train, X_test, y_train, y_test):\n",
        "  clf = model\n",
        "  clf.fit(X_train, y_train)\n",
        "  y_pred = clf.predict(X_test)\n",
        "\n",
        "  print(f'MAE = {mean_absolute_error(y_test, y_pred)}') \n",
        "  print(f'MAPE = {mean_absolute_percentage_error(y_test, y_pred)}')\n",
        "  print(f'RMSE = {mean_squared_error(y_test, y_pred)**0.5}')\n",
        "\n",
        "  # plot_results(y_test, y_pred)\n",
        "\n",
        "  return y_pred"
      ],
      "metadata": {
        "id": "GLamCOYwIA6-"
      },
      "execution_count": 70,
      "outputs": []
    },
    {
      "cell_type": "code",
      "source": [
        "RFparams2={'n_estimators':[50],\n",
        "          'min_samples_split':[16],\n",
        "          'min_samples_leaf': [4],\n",
        "           'max_features': [6],\n",
        "           'max_depth': [20],\n",
        "           'bootstrap': [True]}\n",
        "\n",
        "rf = RandomForestRegressor(random_state = 21)\n",
        "clf_random_forest = GridSearchCV(rf, RFparams2, refit=True)\n",
        "testWithModel(clf_random_forest ,X_train, X_test, y_train, y_test)"
      ],
      "metadata": {
        "colab": {
          "base_uri": "https://localhost:8080/"
        },
        "id": "WS8FE5dO9iTS",
        "outputId": "fbe3aca7-d10c-4411-bfaa-8104a160dd71"
      },
      "execution_count": 52,
      "outputs": [
        {
          "output_type": "stream",
          "name": "stdout",
          "text": [
            "MAE = 0.3177016904556609\n",
            "MAPE = 0.10556548814159779\n",
            "RMSE = 1.0095846946554512\n"
          ]
        }
      ]
    },
    {
      "cell_type": "code",
      "source": [
        "testWithModel(Lasso(alpha=0.5), X_train, X_test, y_train, y_test)"
      ],
      "metadata": {
        "colab": {
          "base_uri": "https://localhost:8080/"
        },
        "id": "4SrTRX2M_L8t",
        "outputId": "7f1de9af-c152-4a92-e976-f52286f8c19a"
      },
      "execution_count": 53,
      "outputs": [
        {
          "output_type": "stream",
          "name": "stdout",
          "text": [
            "MAE = 0.31166511904137817\n",
            "MAPE = 0.10179816634800201\n",
            "RMSE = 0.9968911490930105\n"
          ]
        }
      ]
    },
    {
      "cell_type": "code",
      "source": [
        "testWithModel(RidgeCV(),X_train, X_test, y_train, y_test)"
      ],
      "metadata": {
        "colab": {
          "base_uri": "https://localhost:8080/"
        },
        "id": "E_MFGnqpCb3R",
        "outputId": "0018a714-572b-4199-db6d-bc2655389688"
      },
      "execution_count": 54,
      "outputs": [
        {
          "output_type": "stream",
          "name": "stdout",
          "text": [
            "MAE = 0.31296540640937887\n",
            "MAPE = 0.10209742913003998\n",
            "RMSE = 0.9950907017053464\n"
          ]
        }
      ]
    },
    {
      "cell_type": "code",
      "source": [
        "testWithModel(KNeighborsRegressor(),X_train, X_test, y_train, y_test)"
      ],
      "metadata": {
        "colab": {
          "base_uri": "https://localhost:8080/"
        },
        "id": "KEcFG8d4Co7K",
        "outputId": "f827068f-aa93-4ec8-d5e8-ac8df2b345af"
      },
      "execution_count": 55,
      "outputs": [
        {
          "output_type": "stream",
          "name": "stdout",
          "text": [
            "MAE = 0.34097741475070614\n",
            "MAPE = 0.11040402555178135\n",
            "RMSE = 1.0872826525188202\n"
          ]
        }
      ]
    },
    {
      "cell_type": "code",
      "source": [
        "testWithModel(DecisionTreeRegressor(criterion=\"absolute_error\"),X_train, X_test, y_train, y_test)"
      ],
      "metadata": {
        "colab": {
          "base_uri": "https://localhost:8080/"
        },
        "id": "Xxu72Jd2C8ny",
        "outputId": "894c5042-4601-447e-8ffb-413c4f3b81ab"
      },
      "execution_count": 56,
      "outputs": [
        {
          "output_type": "stream",
          "name": "stdout",
          "text": [
            "MAE = 0.42613098831410445\n",
            "MAPE = 0.13340288541534914\n",
            "RMSE = 1.5133245313954877\n"
          ]
        }
      ]
    },
    {
      "cell_type": "code",
      "source": [
        "testWithModel(ElasticNetCV(random_state=0), X_train, X_test, y_train, y_test)"
      ],
      "metadata": {
        "colab": {
          "base_uri": "https://localhost:8080/"
        },
        "id": "_MdDzh35DPaT",
        "outputId": "c6a8e26c-f350-45d4-fb95-68edee2cff80"
      },
      "execution_count": 57,
      "outputs": [
        {
          "output_type": "stream",
          "name": "stdout",
          "text": [
            "MAE = 0.3117088740641135\n",
            "MAPE = 0.1018202953851333\n",
            "RMSE = 0.9970749589086461\n"
          ]
        }
      ]
    },
    {
      "cell_type": "code",
      "source": [
        "testWithModel(SVR(C=300, epsilon=0.8),X_train, X_test, y_train, y_test)"
      ],
      "metadata": {
        "colab": {
          "base_uri": "https://localhost:8080/"
        },
        "id": "bJLKjXz_Djdt",
        "outputId": "80eea3bc-7738-4813-fd1f-510374481a58"
      },
      "execution_count": 58,
      "outputs": [
        {
          "output_type": "stream",
          "name": "stdout",
          "text": [
            "MAE = 0.8800664313232881\n",
            "MAPE = 0.2539063475139941\n",
            "RMSE = 1.2163000915387363\n"
          ]
        }
      ]
    },
    {
      "cell_type": "markdown",
      "source": [
        "Fill death col using random forest"
      ],
      "metadata": {
        "id": "I-1zkrmKKMSa"
      }
    },
    {
      "cell_type": "code",
      "source": [
        "null_death_rows['DEATH [d from CT]'] = clf_random_forest.predict(X2)\n",
        "df = pd.concat([non_null_death_rows,null_death_rows])\n",
        "y = df.iloc[:,11]\n",
        "X = df.iloc[:, 0:11]"
      ],
      "metadata": {
        "id": "tej-ERuxKQxE",
        "outputId": "f91cb43b-a226-4c2a-917a-56439781e5a9",
        "colab": {
          "base_uri": "https://localhost:8080/"
        }
      },
      "execution_count": 59,
      "outputs": [
        {
          "output_type": "stream",
          "name": "stderr",
          "text": [
            "/usr/local/lib/python3.7/dist-packages/ipykernel_launcher.py:1: SettingWithCopyWarning: \n",
            "A value is trying to be set on a copy of a slice from a DataFrame.\n",
            "Try using .loc[row_indexer,col_indexer] = value instead\n",
            "\n",
            "See the caveats in the documentation: https://pandas.pydata.org/pandas-docs/stable/user_guide/indexing.html#returning-a-view-versus-a-copy\n",
            "  \"\"\"Entry point for launching an IPython kernel.\n"
          ]
        }
      ]
    },
    {
      "cell_type": "code",
      "source": [
        "print(X.shape)"
      ],
      "metadata": {
        "id": "M4nJDAyfKgVJ",
        "outputId": "6b74cde8-0a98-4499-f55e-5491913dcfd5",
        "colab": {
          "base_uri": "https://localhost:8080/"
        }
      },
      "execution_count": 60,
      "outputs": [
        {
          "output_type": "stream",
          "name": "stdout",
          "text": [
            "(8878, 11)\n"
          ]
        }
      ]
    },
    {
      "cell_type": "code",
      "source": [
        "X_train, X_test, y_train, y_test  = train_test_split(X, y, test_size=0.2)"
      ],
      "metadata": {
        "id": "l5-BM-T9Kn-V"
      },
      "execution_count": 61,
      "outputs": []
    },
    {
      "cell_type": "code",
      "source": [
        "knn = KNeighborsRegressor(n_neighbors=9)\n",
        "param_grid2 = dict(weights = [\"uniform\", \"distance\"])\n",
        "knn_pred = testWithModel(GridSearchCV(knn, param_grid2),X_train, X_test, y_train, y_test)"
      ],
      "metadata": {
        "colab": {
          "base_uri": "https://localhost:8080/"
        },
        "id": "Z55ird3JTmcc",
        "outputId": "0776e699-412f-4505-c6f3-9559b2f7e7a4"
      },
      "execution_count": 73,
      "outputs": [
        {
          "output_type": "stream",
          "name": "stdout",
          "text": [
            "MAE = 0.32587903017118763\n",
            "MAPE = 0.07531791562156971\n",
            "RMSE = 1.0034295397828479\n"
          ]
        }
      ]
    },
    {
      "cell_type": "code",
      "source": [
        "svr_pred = testWithModel(SVR(C=300, epsilon=0.8),X_train, X_test, y_train, y_test)"
      ],
      "metadata": {
        "colab": {
          "base_uri": "https://localhost:8080/"
        },
        "id": "9fR-MQZAK-Ft",
        "outputId": "cf1c1ad6-5249-4f80-ed58-b1a5f9cee647"
      },
      "execution_count": 74,
      "outputs": [
        {
          "output_type": "stream",
          "name": "stdout",
          "text": [
            "MAE = 0.7166039116632771\n",
            "MAPE = 0.16937317079943331\n",
            "RMSE = 1.0875351905195174\n"
          ]
        }
      ]
    },
    {
      "cell_type": "code",
      "source": [
        "lasso_pred = testWithModel(Lasso(alpha=0.1), X_train, X_test, y_train, y_test)"
      ],
      "metadata": {
        "colab": {
          "base_uri": "https://localhost:8080/"
        },
        "id": "24vWtYnFLeyt",
        "outputId": "bfc73c42-78ac-4f79-940f-7f4a9d6325f8"
      },
      "execution_count": 75,
      "outputs": [
        {
          "output_type": "stream",
          "name": "stdout",
          "text": [
            "MAE = 0.28464332630668493\n",
            "MAPE = 0.06456223731123001\n",
            "RMSE = 0.9604603331617797\n"
          ]
        }
      ]
    },
    {
      "cell_type": "code",
      "source": [
        "knn_pred = testWithModel(KNeighborsRegressor(),X_train, X_test, y_train, y_test)"
      ],
      "metadata": {
        "colab": {
          "base_uri": "https://localhost:8080/"
        },
        "id": "eFVKWvJjMD7h",
        "outputId": "b23ab9ab-9eaf-4eb8-8760-6b1667d89972"
      },
      "execution_count": 76,
      "outputs": [
        {
          "output_type": "stream",
          "name": "stdout",
          "text": [
            "MAE = 0.3460104406539516\n",
            "MAPE = 0.07914148263712746\n",
            "RMSE = 1.0575260535813897\n"
          ]
        }
      ]
    },
    {
      "cell_type": "code",
      "source": [
        "elastic_net_pred = testWithModel(ElasticNetCV(random_state=0), X_train, X_test, y_train, y_test)"
      ],
      "metadata": {
        "colab": {
          "base_uri": "https://localhost:8080/"
        },
        "id": "a7Xey2dQMG7l",
        "outputId": "2028dd60-948a-44d3-ee8c-cefe08c3ace5"
      },
      "execution_count": 77,
      "outputs": [
        {
          "output_type": "stream",
          "name": "stdout",
          "text": [
            "MAE = 0.2831924720771857\n",
            "MAPE = 0.06418159019851027\n",
            "RMSE = 0.9606106366747476\n"
          ]
        }
      ]
    },
    {
      "cell_type": "code",
      "source": [
        "dtree_pred = testWithModel(DecisionTreeRegressor(criterion=\"absolute_error\"),X_train, X_test, y_train, y_test)"
      ],
      "metadata": {
        "colab": {
          "base_uri": "https://localhost:8080/"
        },
        "id": "49nejcQKM6Ue",
        "outputId": "665e3d29-1885-4da6-cd47-ea3ace27f33c"
      },
      "execution_count": 78,
      "outputs": [
        {
          "output_type": "stream",
          "name": "stdout",
          "text": [
            "MAE = 0.4162848843603914\n",
            "MAPE = 0.09727644894780628\n",
            "RMSE = 1.5069771406731205\n"
          ]
        }
      ]
    },
    {
      "cell_type": "markdown",
      "source": [
        "Build Ensemble"
      ],
      "metadata": {
        "id": "4gmh5mWqVkcJ"
      }
    },
    {
      "cell_type": "code",
      "source": [
        "array_preds = np.array([ dtree_pred, elastic_net_pred, knn_pred, lasso_pred,dtree_pred])\n",
        "y_ens = np.mean((array_preds), axis=0 )"
      ],
      "metadata": {
        "id": "dg6xgmGDVmts"
      },
      "execution_count": 79,
      "outputs": []
    },
    {
      "cell_type": "code",
      "source": [
        "print(mean_absolute_error(y_ens, y_test))"
      ],
      "metadata": {
        "colab": {
          "base_uri": "https://localhost:8080/"
        },
        "id": "8UmSz085XbIL",
        "outputId": "42dfa51c-3404-47cc-d8f0-f28f9676c319"
      },
      "execution_count": 80,
      "outputs": [
        {
          "output_type": "stream",
          "name": "stdout",
          "text": [
            "0.3371806817215875\n"
          ]
        }
      ]
    },
    {
      "cell_type": "code",
      "source": [
        "print(array_preds.shape)"
      ],
      "metadata": {
        "colab": {
          "base_uri": "https://localhost:8080/"
        },
        "id": "rFGwoT0pZDyg",
        "outputId": "ef77331d-09e7-4146-9883-192a4f416f26"
      },
      "execution_count": 81,
      "outputs": [
        {
          "output_type": "stream",
          "name": "stdout",
          "text": [
            "(5, 1776)\n"
          ]
        }
      ]
    },
    {
      "cell_type": "code",
      "source": [
        "import random\n",
        "y_ens=[]\n",
        "\n",
        "for i,y in enumerate(y_test):\n",
        "\n",
        "  j = random.randint(0, 4)\n",
        "  y_ens.append( array_preds[j][i])"
      ],
      "metadata": {
        "id": "6V7PxLYuYV93"
      },
      "execution_count": 82,
      "outputs": []
    },
    {
      "cell_type": "code",
      "source": [
        "len(y_ens)"
      ],
      "metadata": {
        "colab": {
          "base_uri": "https://localhost:8080/"
        },
        "id": "-cr4NR3gZVTb",
        "outputId": "caaba21e-f3b3-427e-cb22-4836483c73d7"
      },
      "execution_count": 83,
      "outputs": [
        {
          "output_type": "execute_result",
          "data": {
            "text/plain": [
              "1776"
            ]
          },
          "metadata": {},
          "execution_count": 83
        }
      ]
    },
    {
      "cell_type": "code",
      "source": [
        "print(mean_absolute_error(y_ens, y_test))"
      ],
      "metadata": {
        "colab": {
          "base_uri": "https://localhost:8080/"
        },
        "id": "76lvMItIaGRO",
        "outputId": "39f61994-bd87-4f0e-cb94-9f3417946067"
      },
      "execution_count": 84,
      "outputs": [
        {
          "output_type": "stream",
          "name": "stdout",
          "text": [
            "0.35263111573870265\n"
          ]
        }
      ]
    }
  ]
}