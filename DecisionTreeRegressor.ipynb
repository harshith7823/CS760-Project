{
  "nbformat": 4,
  "nbformat_minor": 0,
  "metadata": {
    "colab": {
      "name": "DecisionTreeRegressor.ipynb",
      "provenance": []
    },
    "kernelspec": {
      "name": "python3",
      "display_name": "Python 3"
    },
    "language_info": {
      "name": "python"
    }
  },
  "cells": [
    {
      "cell_type": "code",
      "execution_count": 41,
      "metadata": {
        "id": "ozTpf5O8mgm0"
      },
      "outputs": [],
      "source": [
        "from sklearn import tree\n",
        "import pandas as pd\n",
        "import numpy as np\n",
        "from sklearn.model_selection import train_test_split\n",
        "from sklearn.model_selection import cross_val_score\n",
        "import matplotlib.pyplot as plt"
      ]
    },
    {
      "cell_type": "code",
      "source": [
        "def clean_ct_data(oppScrData):\n",
        "    # Delete rows with empty values\n",
        "    ct_data= oppScrData[[\"L1_HU_BMD\", \"TAT Area (cm2)\", 'Total Body                Area EA (cm2)',\n",
        "       'VAT Area (cm2)', 'SAT Area (cm2)', 'VAT/SAT     Ratio', 'Muscle HU',\n",
        "       ' Muscle Area (cm2)', 'L3 SMI (cm2/m2)', 'AoCa        Agatston',\n",
        "       'Liver HU    (Median)', 'Age at CT']]\n",
        "    n = ct_data.shape[0]\n",
        "    preprocessed_ct_data = []\n",
        "    for i in range(n):\n",
        "        row = ct_data.loc[i]\n",
        "        ignore = False\n",
        "        for j in row:\n",
        "          if pd.isna(j) or j == ' ': # There is an empty string somewhere in Liver column\n",
        "            ignore = True\n",
        "            break\n",
        "        if not ignore:\n",
        "          preprocessed_ct_data.append(row)\n",
        "    return np.array(preprocessed_ct_data, dtype=np.float32)\n"
      ],
      "metadata": {
        "id": "lgSCJtlvog4D"
      },
      "execution_count": 9,
      "outputs": []
    },
    {
      "cell_type": "code",
      "source": [
        "oppScrData = pd.read_excel (r'sample_data/OppScrData.xlsx')  \n",
        "ct_data = clean_ct_data(oppScrData)"
      ],
      "metadata": {
        "id": "gyN0ABTctEH4"
      },
      "execution_count": null,
      "outputs": []
    },
    {
      "cell_type": "code",
      "source": [
        "y = ct_data[:,-1]\n",
        "X = (ct_data[:,:-1])\n",
        "X_train, X_test, y_train, y_test = train_test_split(X, y, test_size=0.005, random_state=42)"
      ],
      "metadata": {
        "id": "ikjjgwetoiPC"
      },
      "execution_count": 85,
      "outputs": []
    },
    {
      "cell_type": "code",
      "source": [
        "X"
      ],
      "metadata": {
        "colab": {
          "base_uri": "https://localhost:8080/"
        },
        "id": "Gr6FphpKova3",
        "outputId": "115871e7-551e-474a-b78b-77f3a7d78c08"
      },
      "execution_count": 86,
      "outputs": [
        {
          "output_type": "execute_result",
          "data": {
            "text/plain": [
              "array([[ 192.      ,  485.50287 ,  694.3143  , ...,   48.41319 ,\n",
              "        2709.064   ,   52.      ],\n",
              "       [ 256.      ,  490.05453 ,  706.0515  , ...,   50.101334,\n",
              "           0.      ,   54.      ],\n",
              "       [ 149.      ,  289.1081  ,  584.4892  , ...,   69.11585 ,\n",
              "        2586.575   ,   57.      ],\n",
              "       ...,\n",
              "       [ 135.      ,  822.2872  , 1154.6051  , ...,   57.78635 ,\n",
              "        1115.997   ,   45.      ],\n",
              "       [ 219.      ,  418.2     ,  660.3461  , ...,   50.929787,\n",
              "        3515.371   ,   44.      ],\n",
              "       [ 151.      ,   61.54359 ,  362.88974 , ...,   29.688124,\n",
              "        3015.129   ,   54.      ]], dtype=float32)"
            ]
          },
          "metadata": {},
          "execution_count": 86
        }
      ]
    },
    {
      "cell_type": "code",
      "source": [
        "clf = tree.DecisionTreeRegressor()\n",
        "clf = clf.fit(X_train, y_train)"
      ],
      "metadata": {
        "id": "298X5PWzmkV7"
      },
      "execution_count": 87,
      "outputs": []
    },
    {
      "cell_type": "code",
      "source": [
        "predicted_y = clf.predict(X_test)"
      ],
      "metadata": {
        "id": "EkEJZRxDmqOc"
      },
      "execution_count": 88,
      "outputs": []
    },
    {
      "cell_type": "code",
      "source": [
        ""
      ],
      "metadata": {
        "id": "hJZLV_MyxBdv"
      },
      "execution_count": null,
      "outputs": []
    },
    {
      "cell_type": "code",
      "source": [
        "plt.figure()\n",
        "x = [i+1 for i in range(len(y_test))]\n",
        "plt.plot((x,x),([i for i in predicted_y], [j for j in y_test]),c='green')\n",
        "plt.scatter(x, predicted_y, label=\"predicted_y\")\n",
        "plt.scatter(x, y_test, label=\"actual_y\")\n",
        "plt.xlabel(\"X\")\n",
        "plt.ylabel(\"Y\")\n",
        "plt.title(\"Decision Tree Regression\")\n",
        "plt.legend()\n",
        "plt.show()"
      ],
      "metadata": {
        "colab": {
          "base_uri": "https://localhost:8080/",
          "height": 295
        },
        "id": "Zsc0FUdKt40-",
        "outputId": "18bd2aff-172e-4ccf-9ce9-0be150162060"
      },
      "execution_count": 91,
      "outputs": [
        {
          "output_type": "display_data",
          "data": {
            "image/png": "[encoded data removed]",
            "text/plain": [
              "<Figure size 432x288 with 1 Axes>"
            ]
          },
          "metadata": {
            "needs_background": "light"
          }
        }
      ]
    },
    {
      "cell_type": "code",
      "source": [
        "y_test"
      ],
      "metadata": {
        "colab": {
          "base_uri": "https://localhost:8080/"
        },
        "id": "fgW8FcByo93w",
        "outputId": "c2cd51b3-781f-43af-a4a7-fe28a43e57f9"
      },
      "execution_count": 82,
      "outputs": [
        {
          "output_type": "execute_result",
          "data": {
            "text/plain": [
              "array([62., 52., 51., 45., 51., 51., 50., 49., 58., 50., 62., 60., 64.,\n",
              "       56., 57., 65., 73., 50., 56., 57., 58., 51., 59., 64., 68., 67.,\n",
              "       51., 54., 58., 58., 52., 55., 71., 54., 55., 62., 52., 52., 51.,\n",
              "       63., 40., 62., 50., 60., 50.], dtype=float32)"
            ]
          },
          "metadata": {},
          "execution_count": 82
        }
      ]
    },
    {
      "cell_type": "code",
      "source": [
        "predicted_y"
      ],
      "metadata": {
        "colab": {
          "base_uri": "https://localhost:8080/"
        },
        "id": "zBuwiqSvuBGC",
        "outputId": "8066a5b8-acbc-4859-c71b-a2dd9e00ac55"
      },
      "execution_count": 58,
      "outputs": [
        {
          "output_type": "execute_result",
          "data": {
            "text/plain": [
              "array([56., 54., 51., 49., 42., 50., 51., 51., 51., 55., 69., 54., 58.,\n",
              "       63., 58., 71., 55., 55., 50., 58., 65., 52., 79., 78., 62., 56.,\n",
              "       54., 42., 50., 53., 50., 64., 58., 68., 67., 50., 86., 60., 50.,\n",
              "       49., 55., 52., 54., 69., 59.])"
            ]
          },
          "metadata": {},
          "execution_count": 58
        }
      ]
    },
    {
      "cell_type": "code",
      "source": [
        "sum(abs(y_test - clf.predict(X_test)))"
      ],
      "metadata": {
        "colab": {
          "base_uri": "https://localhost:8080/"
        },
        "id": "L4xCxRmnphPA",
        "outputId": "f4b13062-098b-4bb5-aa11-54f5a6e9e12d"
      },
      "execution_count": 37,
      "outputs": [
        {
          "output_type": "execute_result",
          "data": {
            "text/plain": [
              "2597.0"
            ]
          },
          "metadata": {},
          "execution_count": 37
        }
      ]
    },
    {
      "cell_type": "code",
      "source": [
        "regressor = tree.DecisionTreeRegressor()\n",
        "cross_val_score(regressor, X, y, cv=10)"
      ],
      "metadata": {
        "colab": {
          "base_uri": "https://localhost:8080/"
        },
        "id": "fpjRMchdpuGv",
        "outputId": "48a404c1-e765-453c-f63e-b56484dc7397"
      },
      "execution_count": 40,
      "outputs": [
        {
          "output_type": "execute_result",
          "data": {
            "text/plain": [
              "array([-0.00141493, -0.1856235 , -0.23901702, -0.40512294, -0.05780021,\n",
              "       -0.07633893, -0.2079092 , -0.09245704,  0.04382965,  0.09265226])"
            ]
          },
          "metadata": {},
          "execution_count": 40
        }
      ]
    },
    {
      "cell_type": "code",
      "source": [
        ""
      ],
      "metadata": {
        "id": "nUSLWLSYvcIw"
      },
      "execution_count": null,
      "outputs": []
    }
  ]
}