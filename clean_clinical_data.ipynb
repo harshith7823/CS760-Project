{
  "nbformat": 4,
  "nbformat_minor": 0,
  "metadata": {
    "colab": {
      "name": "PCA.ipynb",
      "provenance": [],
      "authorship_tag": "ABX9TyNirjvgEU4aoqnWaFFD6KB3",
      "include_colab_link": true
    },
    "kernelspec": {
      "name": "python3",
      "display_name": "Python 3"
    },
    "language_info": {
      "name": "python"
    }
  },
  "cells": [
    {
      "cell_type": "markdown",
      "metadata": {
        "id": "view-in-github",
        "colab_type": "text"
      },
      "source": [
        "<a href=\"https://colab.research.google.com/github/harshith7823/CS760-Project/blob/clean_clinical_data/clean_clinical_data.ipynb\" target=\"_parent\"><img src=\"https://colab.research.google.com/assets/colab-badge.svg\" alt=\"Open In Colab\"/></a>"
      ]
    },
    {
      "cell_type": "code",
      "execution_count": null,
      "metadata": {
        "id": "dzDKo4obCOiz"
      },
      "outputs": [],
      "source": [
        "import pandas as pd\n",
        "import torch\n",
        "import numpy as np\n",
        "import torch.nn as nn\n",
        "import torch.nn.functional as F\n",
        "import torch.optim as optim\n",
        "from torchvision import transforms\n",
        "from torch.utils.data import Dataset, DataLoader,IterableDataset\n",
        "from sklearn.model_selection import train_test_split"
      ]
    },
    {
      "cell_type": "code",
      "source": [
        "def clean_ct_data(oppScrData):\n",
        "    # Delete rows with empty values\n",
        "    ct_data= oppScrData[[\"L1_HU_BMD\", \"TAT Area (cm2)\", 'Total Body                Area EA (cm2)',\n",
        "       'VAT Area (cm2)', 'SAT Area (cm2)', 'VAT/SAT     Ratio', 'Muscle HU',\n",
        "       ' Muscle Area (cm2)', 'L3 SMI (cm2/m2)', 'AoCa        Agatston',\n",
        "       'Liver HU    (Median)', 'Age at CT']]\n",
        "    n = ct_data.shape[0]\n",
        "    preprocessed_ct_data = []\n",
        "    for i in range(n):\n",
        "        row = ct_data.loc[i]\n",
        "        ignore = False\n",
        "        for j in row:\n",
        "          if pd.isna(j) or j == ' ': # There is an empty string somewhere in Liver column\n",
        "            ignore = True\n",
        "            break\n",
        "        if not ignore:\n",
        "          preprocessed_ct_data.append(row)\n",
        "    return np.array(preprocessed_ct_data, dtype=np.float32)\n"
      ],
      "metadata": {
        "id": "HEznW1BHD8Zj"
      },
      "execution_count": null,
      "outputs": []
    },
    {
      "cell_type": "code",
      "source": [
        "def preprocess_clinical_data(oppScrData, mean=True):\n",
        "    clinical_data = oppScrData.filter(['BMI','BMI >30', 'Sex', 'Tobacco', 'Met Sx', 'FRAX 10y Fx Prob (Orange-w/ DXA)',\n",
        "                                'FRAX 10y Hip Fx Prob (Orange-w/ DXA)','FRS 10-year risk (%)' ], axis=1)\n",
        "\n",
        "    clinical_data['BMI >30'] = (clinical_data['BMI >30'] == 'Y').astype(int)\n",
        "    clinical_data['Sex'] = (clinical_data['Sex'] == 'Male').astype(int)\n",
        "    clinical_data['Tobacco'] = (clinical_data['Tobacco'] == 'Yes').astype(int) #Do we want a 3rd type for unknown?\n",
        "    clinical_data['Met Sx'] = (clinical_data['Met Sx'] == 'Yes').astype(int) #Do we want a 3rd type for unknown?\n",
        "    clinical_data['FRAX 10y Fx Prob (Orange-w/ DXA)'] = clinical_data['FRAX 10y Fx Prob (Orange-w/ DXA)'].replace(\"_\", 0, regex=True)\n",
        "    clinical_data['FRAX 10y Hip Fx Prob (Orange-w/ DXA)'] = clinical_data['FRAX 10y Hip Fx Prob (Orange-w/ DXA)'].replace(\"_\", 0, regex=True)\n",
        "    clinical_data['FRS 10-year risk (%)'] = clinical_data['FRS 10-year risk (%)'].replace(\"X\", 0, regex=True)\n",
        "    clinical_data['FRS 10-year risk (%)'] = clinical_data['FRS 10-year risk (%)'].replace(\"<1\", 0, regex=True)\n",
        "    clinical_data['FRS 10-year risk (%)'] = clinical_data['FRS 10-year risk (%)'].replace(\">30\", 30, regex=True)\n",
        "    \n",
        "    for c in clinical_data.columns:\n",
        "      print(c)\n",
        "      if mean:  \n",
        "        clinical_data[c].fillna(value=clinical_data[c].mean(), inplace=True)\n",
        "      else :\n",
        "        clinical_data[c].fillna(value=clinical_data[c].median(), inplace=True)\n",
        "        \n",
        "    return np.array(clinical_data, dtype=np.float32)\n",
        "\n",
        "    "
      ],
      "metadata": {
        "id": "z-dsvc_gIU_c"
      },
      "execution_count": null,
      "outputs": []
    },
    {
      "cell_type": "code",
      "source": [
        "def normalize_ct_data(ct_data):\n",
        "    n = ct_data.shape[1]    \n",
        "    for i in range(n-1):\n",
        "      print(i)\n",
        "      ct_data[:,i] = (ct_data[:,i] - np.min(ct_data[:,i]))/(np.max(ct_data[:,i])- np.min(ct_data[:,i]))\n",
        "    return ct_data"
      ],
      "metadata": {
        "id": "tLPIjSdgEAeY"
      },
      "execution_count": null,
      "outputs": []
    },
    {
      "cell_type": "code",
      "source": [
        "oppScrData = pd.read_excel (r'sample_data/OppScrData.xlsx')  \n",
        "ct_data = clean_ct_data(oppScrData)\n",
        "ct_data= normalize_ct_data(ct_data)"
      ],
      "metadata": {
        "id": "LxJFEQzGEQ9A"
      },
      "execution_count": null,
      "outputs": []
    },
    {
      "cell_type": "code",
      "source": [
        "clinical_data = preprocess_clinical_data(oppScrData)\n",
        "print(clinical_data)"
      ],
      "metadata": {
        "colab": {
          "base_uri": "https://localhost:8080/"
        },
        "id": "_UPoG8jgJEy7",
        "outputId": "e6ac60ac-e9c0-4e45-da89-f632130e6541"
      },
      "execution_count": null,
      "outputs": [
        {
          "output_type": "stream",
          "name": "stdout",
          "text": [
            "BMI\n",
            "BMI >30\n",
            "Sex\n",
            "Tobacco\n",
            "Met Sx\n",
            "FRAX 10y Fx Prob (Orange-w/ DXA)\n",
            "FRAX 10y Hip Fx Prob (Orange-w/ DXA)\n",
            "FRS 10-year risk (%)\n",
            "[[3.77e+01 1.00e+00 1.00e+00 ... 4.60e+00 1.04e+00 0.00e+00]\n",
            " [3.01e+01 1.00e+00 0.00e+00 ... 5.01e+00 2.70e-01 0.00e+00]\n",
            " [2.81e+01 0.00e+00 0.00e+00 ... 4.13e+00 2.10e-01 0.00e+00]\n",
            " ...\n",
            " [4.36e+01 1.00e+00 0.00e+00 ... 8.26e+00 3.40e-01 2.00e-02]\n",
            " [2.69e+01 0.00e+00 0.00e+00 ... 5.45e+00 3.20e-01 0.00e+00]\n",
            " [1.98e+01 0.00e+00 1.00e+00 ... 5.20e+00 8.20e-01 0.00e+00]]\n"
          ]
        }
      ]
    }
  ]
}