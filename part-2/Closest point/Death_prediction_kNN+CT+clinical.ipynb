{
  "nbformat": 4,
  "nbformat_minor": 0,
  "metadata": {
    "colab": {
      "name": "Death-prediction-kNN+CT+clinical.ipynb",
      "provenance": [],
      "collapsed_sections": []
    },
    "kernelspec": {
      "name": "python3",
      "display_name": "Python 3"
    },
    "language_info": {
      "name": "python"
    }
  },
  "cells": [
    {
      "cell_type": "code",
      "execution_count": 3,
      "metadata": {
        "id": "uT3lLjy4gBhn"
      },
      "outputs": [],
      "source": [
        "import pandas as pd\n",
        "import numpy as np\n",
        "from sklearn.metrics import mean_absolute_error\n",
        "from sklearn.model_selection import GridSearchCV\n",
        "from sklearn.model_selection import train_test_split\n",
        "from sklearn.neighbors import KNeighborsRegressor\n",
        "from sklearn.preprocessing import MinMaxScaler,StandardScaler\n",
        "from sklearn.metrics import mean_squared_error\n",
        "from sklearn.metrics import mean_absolute_percentage_error"
      ]
    },
    {
      "cell_type": "code",
      "source": [
        "oppScrData = pd.read_excel (r'sample_data/OppScrData.xlsx')  "
      ],
      "metadata": {
        "id": "fTX9Kp1T7cMM"
      },
      "execution_count": 5,
      "outputs": []
    },
    {
      "cell_type": "code",
      "source": [
        "def preprocess_data(oppScrData, mean=True):\n",
        "    \n",
        "    l = ['BMI','BMI >30', 'Sex', 'Tobacco', 'Met Sx', 'Age at CT', 'CVD DX', 'Heart failure DX',\n",
        "                                       'MI DX','Type 2 Diabetes DX', 'Primary Cancer Site', 'Humerus fracture DX',\n",
        "                                       'Femoral neck fracture DX', 'Unspec femoral fracture DX', 'Forearm fracture DX'\n",
        "                                       ,'Primary Cancer Site 2','Pathologic fracture DX','DEATH [d from CT]']\n",
        "\n",
        "    clinical_data = oppScrData.filter(l, axis=1)\n",
        "    # Replace all _,X,blanks with nan\n",
        "    clinical_data = clinical_data.replace(r'_', np.nan, regex=True)\n",
        "    clinical_data = clinical_data.replace(r'X', np.nan, regex=True)\n",
        "    clinical_data = clinical_data.replace(r'^\\s*$', np.nan, regex=True)\n",
        "\n",
        "    # Fill na in bmi column with mean\n",
        "    clinical_data['BMI'].fillna(value=clinical_data['BMI'].mean(skipna=True), inplace=True)\n",
        "    \n",
        "    # Fill na in bmi>30 column based on bmi col\n",
        "    clinical_data.loc[clinical_data.BMI>30, 'BMI >30'] = 1\n",
        "    clinical_data.loc[clinical_data.BMI<=30, 'BMI >30'] = -1\n",
        "    \n",
        "    clinical_data['Sex'] = np.where(clinical_data['Sex']=='Male',1,-1)\n",
        "    clinical_data['Met Sx'] = np.where(clinical_data['Met Sx']=='Y',1,-1) \n",
        "\n",
        "    # Treat no data in tobacco as no tobacco usage\n",
        "    clinical_data['Tobacco'] = np.where(clinical_data['Tobacco']=='Yes',1,-1) \n",
        "\n",
        "    for col in l[l.index('CVD DX'):l.index('DEATH [d from CT]')]:      \n",
        "      clinical_data.loc[clinical_data[col].notna(), col] = 1\n",
        "      clinical_data[col].fillna(value=0, inplace=True)\n",
        "  \n",
        "    return clinical_data"
      ],
      "metadata": {
        "id": "aSuG42KAgUJb"
      },
      "execution_count": 9,
      "outputs": []
    },
    {
      "cell_type": "code",
      "source": [
        "clinical_data = preprocess_data(oppScrData)"
      ],
      "metadata": {
        "id": "3ybmLGdvjLT5"
      },
      "execution_count": 10,
      "outputs": []
    },
    {
      "cell_type": "code",
      "source": [
        "sc = StandardScaler()\n",
        "\n",
        "non_null_death_rows = clinical_data[~clinical_data['DEATH [d from CT]'].isnull()]\n",
        "\n",
        "# Convert to years\n",
        "non_null_death_rows['DEATH [d from CT]'] /= 365\n",
        "\n",
        "m = non_null_death_rows.columns.get_loc('DEATH [d from CT]')\n",
        "\n",
        "X = non_null_death_rows.iloc[:, 0:m]\n",
        "y = non_null_death_rows.iloc[:, m]\n",
        "X = pd.DataFrame(sc.fit_transform(X), columns = X.columns)\n"
      ],
      "metadata": {
        "colab": {
          "base_uri": "https://localhost:8080/"
        },
        "id": "67vKGUFFglN_",
        "outputId": "be195465-c824-4909-92c7-12d425dcf245"
      },
      "execution_count": 11,
      "outputs": [
        {
          "output_type": "stream",
          "name": "stderr",
          "text": [
            "/usr/local/lib/python3.7/dist-packages/ipykernel_launcher.py:6: SettingWithCopyWarning: \n",
            "A value is trying to be set on a copy of a slice from a DataFrame.\n",
            "Try using .loc[row_indexer,col_indexer] = value instead\n",
            "\n",
            "See the caveats in the documentation: https://pandas.pydata.org/pandas-docs/stable/user_guide/indexing.html#returning-a-view-versus-a-copy\n",
            "  \n"
          ]
        }
      ]
    },
    {
      "cell_type": "markdown",
      "source": [
        "**Train**"
      ],
      "metadata": {
        "id": "mQG1HxFkoAIO"
      }
    },
    {
      "cell_type": "code",
      "source": [
        "X_train, X_test, y_train, y_test  = train_test_split(X, y, test_size=0.2)\n",
        "\n",
        "knn = KNeighborsRegressor()\n",
        "param_grid2 = dict(weights = [\"uniform\", \"distance\"], n_neighbors=list(range(2, 14)))\n",
        "    \n",
        "grid = GridSearchCV(knn, param_grid2)\n",
        "grid.fit(X_train, y_train)\n",
        "p3 = grid.predict(X_test)\n",
        "print(\"MAE: %.2f\" %(mean_absolute_error(y_test, p3)))\n",
        "print(grid.best_params_)\n"
      ],
      "metadata": {
        "colab": {
          "base_uri": "https://localhost:8080/"
        },
        "id": "kqxMqvAwlLXq",
        "outputId": "89f9847f-6bda-44db-f553-f8f5ddf2efa9"
      },
      "execution_count": 12,
      "outputs": [
        {
          "output_type": "stream",
          "name": "stdout",
          "text": [
            "MAE: 3.13\n",
            "{'n_neighbors': 13, 'weights': 'uniform'}\n"
          ]
        }
      ]
    },
    {
      "cell_type": "markdown",
      "source": [
        "**Fill death column**"
      ],
      "metadata": {
        "id": "QJUTo2y6oB6K"
      }
    },
    {
      "cell_type": "code",
      "source": [
        "clinical_data = preprocess_data(oppScrData)\n",
        "\n",
        "for idx, row in clinical_data.iterrows():  \n",
        "  if np.isnan(clinical_data.at[idx,'DEATH [d from CT]']):\n",
        "    l = ['BMI','BMI >30', 'Sex', 'Tobacco', 'Met Sx', 'Age at CT', 'CVD DX', 'Heart failure DX',\n",
        "                                       'MI DX','Type 2 Diabetes DX', 'Primary Cancer Site', 'Humerus fracture DX',\n",
        "                                       'Femoral neck fracture DX', 'Unspec femoral fracture DX', 'Forearm fracture DX'\n",
        "                                       ,'Primary Cancer Site 2','Pathologic fracture DX']\n",
        "    row = clinical_data.iloc[idx]     \n",
        "    r = row.filter(l).to_numpy().reshape(1, -1) \n",
        "    clinical_data.at[idx,'DEATH [d from CT]'] = (grid.predict(r))\n",
        "  else:\n",
        "    clinical_data.at[idx,'DEATH [d from CT]'] /= 365"
      ],
      "metadata": {
        "id": "lOb5Njasy65u"
      },
      "execution_count": null,
      "outputs": []
    },
    {
      "cell_type": "code",
      "source": [
        "oppScrData['DEATH [d from CT]'] = clinical_data['DEATH [d from CT]']"
      ],
      "metadata": {
        "id": "qyOE5n2k31ld"
      },
      "execution_count": 14,
      "outputs": []
    },
    {
      "cell_type": "markdown",
      "source": [
        "**Create X and Y for prediction**"
      ],
      "metadata": {
        "id": "fhSQX21-fVXN"
      }
    },
    {
      "cell_type": "code",
      "source": [
        "def preprocess_clinical_data(oppScrData, mean=True):\n",
        "    clinical_data = oppScrData.filter(['Record ID','BMI','BMI >30', 'Clinical F/U interval  [d from CT]', 'Sex', 'Tobacco', 'Met Sx', 'FRAX 10y Fx Prob (Orange-w/ DXA)',\n",
        "                                'FRAX 10y Hip Fx Prob (Orange-w/ DXA)','FRS 10-year risk (%)','Age at CT' ], axis=1)\n",
        "    # Replace all _,X,blanks with nan\n",
        "    clinical_data = clinical_data.replace(r'_', np.nan, regex=True)\n",
        "    clinical_data = clinical_data.replace(r'X', np.nan, regex=True)\n",
        "    clinical_data = clinical_data.replace(r'^\\s*$', np.nan, regex=True)\n",
        "\n",
        "    # Fill na in bmi column with mean\n",
        "    clinical_data['BMI'].fillna(value=clinical_data['BMI'].mean(skipna=True), inplace=True)\n",
        "    \n",
        "    # Fill na in bmi>30 column based on bmi col\n",
        "    clinical_data.loc[clinical_data.BMI>30, 'BMI >30'] = 1\n",
        "    clinical_data.loc[clinical_data.BMI<=30, 'BMI >30'] = -1\n",
        "    \n",
        "    clinical_data['Sex'] = np.where(clinical_data['Sex']=='Male',1,-1)\n",
        "    clinical_data['Met Sx'] = np.where(clinical_data['Met Sx']=='Y',1,-1) \n",
        "\n",
        "    # Treat no data in tobacco as no tobacco usage \n",
        "    clinical_data['Tobacco'] = np.where(clinical_data['Tobacco']=='Yes',1,-1) \n",
        "  \n",
        "    clinical_data['FRS 10-year risk (%)'] = clinical_data['FRS 10-year risk (%)'].replace(\"<1\", 0.01, regex=True)\n",
        "    clinical_data['FRS 10-year risk (%)'] = clinical_data['FRS 10-year risk (%)'].replace(\">30\", 0.30, regex=True)\n",
        "    clinical_data['FRS 10-year risk (%)'] =  clinical_data['FRS 10-year risk (%)'] * 100\n",
        "   \n",
        "    cols_to_be_filled = ['FRAX 10y Fx Prob (Orange-w/ DXA)','FRAX 10y Hip Fx Prob (Orange-w/ DXA)','FRS 10-year risk (%)']\n",
        "    for c in cols_to_be_filled:\n",
        "      if mean:  \n",
        "        clinical_data[c].fillna(value=clinical_data[c].mean(skipna=True), inplace=True)\n",
        "      else :\n",
        "        clinical_data[c].fillna(value=clinical_data[c].median(skipna=True), inplace=True)\n",
        "    \n",
        "    return clinical_data"
      ],
      "metadata": {
        "id": "14XhEIsCfZWg"
      },
      "execution_count": 19,
      "outputs": []
    },
    {
      "cell_type": "code",
      "source": [
        "def clean_ct_data(oppScrData):\n",
        "    # Delete rows with empty values\n",
        "    cols = [\"Record ID\", \"L1_HU_BMD\", \"TAT Area (cm2)\", 'Total Body                Area EA (cm2)',\n",
        "       'VAT Area (cm2)', 'SAT Area (cm2)', 'VAT/SAT     Ratio', 'Muscle HU',\n",
        "       ' Muscle Area (cm2)', 'L3 SMI (cm2/m2)', 'AoCa        Agatston',\n",
        "       'Liver HU    (Median)','DEATH [d from CT]']\n",
        "    ct_data= oppScrData[cols]\n",
        "    n = ct_data.shape[0]\n",
        "    preprocessed_ct_data = pd.DataFrame( columns=cols)\n",
        "    for i in range(n):\n",
        "        row = ct_data.loc[i]\n",
        "        ignore = False\n",
        "        for k,j in enumerate(row):\n",
        "          if pd.isna(j) or j == ' ': \n",
        "            if k == 12:              \n",
        "              ignore = False\n",
        "            else:\n",
        "              ignore = True\n",
        "              break\n",
        "        if not ignore:\n",
        "          preprocessed_ct_data.loc[i]= row\n",
        "    return preprocessed_ct_data"
      ],
      "metadata": {
        "id": "hdxL90K4fdrY"
      },
      "execution_count": 18,
      "outputs": []
    },
    {
      "cell_type": "code",
      "source": [
        "clinical_data = preprocess_clinical_data(oppScrData)\n",
        "ct_data = clean_ct_data(oppScrData)\n",
        "combined_data = clinical_data.merge(ct_data, on='Record ID', how='inner' )\n",
        "combined_data.drop(columns=['Record ID'], inplace=True)\n",
        "combined_data.drop(columns=['Clinical F/U interval  [d from CT]'], inplace=True)"
      ],
      "metadata": {
        "id": "Oy-vtEMQeLbB"
      },
      "execution_count": 20,
      "outputs": []
    },
    {
      "cell_type": "markdown",
      "source": [
        "**Build regressor**"
      ],
      "metadata": {
        "id": "LqwgmsssF8KA"
      }
    },
    {
      "cell_type": "code",
      "source": [
        "y_idx = combined_data.columns.get_loc(\"DEATH [d from CT]\")\n",
        "y = combined_data.iloc[:,y_idx]\n",
        "X = combined_data.iloc[:, 0:y_idx]"
      ],
      "metadata": {
        "id": "v3ESr1R8gHe9"
      },
      "execution_count": 24,
      "outputs": []
    },
    {
      "cell_type": "code",
      "source": [
        "y"
      ],
      "metadata": {
        "colab": {
          "base_uri": "https://localhost:8080/"
        },
        "id": "RCGfX5OmgUzX",
        "outputId": "6adc5f9b-ee16-42f8-cb6f-9d65f0820d51"
      },
      "execution_count": 26,
      "outputs": [
        {
          "output_type": "execute_result",
          "data": {
            "text/plain": [
              "0       0.983562\n",
              "1       4.617914\n",
              "2       6.441096\n",
              "3       1.802740\n",
              "4       3.941201\n",
              "          ...   \n",
              "8873    4.442150\n",
              "8874    4.060485\n",
              "8875    4.220653\n",
              "8876    4.373446\n",
              "8877    3.771338\n",
              "Name: DEATH [d from CT], Length: 8878, dtype: float64"
            ]
          },
          "metadata": {},
          "execution_count": 26
        }
      ]
    },
    {
      "cell_type": "code",
      "source": [
        "X_train, X_test, y_train, y_test  = train_test_split(X, y, test_size=0.2)\n",
        "\n",
        "knn = KNeighborsRegressor(n_neighbors=9)\n",
        "param_grid2 = dict(weights = [\"uniform\", \"distance\"])\n",
        "    \n",
        "grid = GridSearchCV(knn, param_grid2)\n",
        "grid.fit(X_train, y_train)\n",
        "p3 = grid.predict(X_test) \n",
        "Mse = mean_squared_error(y_test, p3)\n",
        "\n",
        "mape=mean_absolute_percentage_error(y_test, p3)\n",
        "print(\"RMSE: %.2f\" % (Mse**(1/2.0)))\n",
        "print(\"MApe: %.2f\" %(mape))\n",
        "print(\"MAE: %.2f\" %(mean_absolute_error(y_test, p3)))\n"
      ],
      "metadata": {
        "colab": {
          "base_uri": "https://localhost:8080/"
        },
        "id": "3V1SCeoX-Hzr",
        "outputId": "d808de7c-71bc-4fdc-9024-66803fed308a"
      },
      "execution_count": 27,
      "outputs": [
        {
          "output_type": "stream",
          "name": "stdout",
          "text": [
            "RMSE: 1.14\n",
            "MApe: 0.37\n",
            "MAE: 0.53\n"
          ]
        }
      ]
    },
    {
      "cell_type": "code",
      "source": [
        ""
      ],
      "metadata": {
        "id": "qH7vzsbK-XVX"
      },
      "execution_count": null,
      "outputs": []
    }
  ]
}