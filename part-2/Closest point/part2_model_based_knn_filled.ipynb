{
  "nbformat": 4,
  "nbformat_minor": 0,
  "metadata": {
    "colab": {
      "name": "part2_model_based.ipynb",
      "provenance": [],
      "collapsed_sections": [],
      "authorship_tag": "ABX9TyOA7WSwiM7SSwT3c8J6ym15",
      "include_colab_link": true
    },
    "kernelspec": {
      "name": "python3",
      "display_name": "Python 3"
    },
    "language_info": {
      "name": "python"
    }
  },
  "cells": [
    {
      "cell_type": "markdown",
      "metadata": {
        "id": "view-in-github",
        "colab_type": "text"
      },
      "source": [
        "<a href=\"https://colab.research.google.com/github/harshith7823/CS760-Project/blob/main/part-2/Closest%20point/part2_model_based_knn_filled.ipynb\" target=\"_parent\"><img src=\"https://colab.research.google.com/assets/colab-badge.svg\" alt=\"Open In Colab\"/></a>"
      ]
    },
    {
      "cell_type": "code",
      "execution_count": 90,
      "metadata": {
        "id": "ArnBMoxN9Y5s"
      },
      "outputs": [],
      "source": [
        "import pandas as pd\n",
        "import numpy as np\n",
        "from sklearn.ensemble import RandomForestRegressor\n",
        "from sklearn.model_selection import RandomizedSearchCV\n",
        "from sklearn.ensemble import ExtraTreesRegressor\n",
        "from sklearn.metrics import mean_absolute_error\n",
        "from sklearn.model_selection import GridSearchCV\n",
        "from sklearn.model_selection import train_test_split\n",
        "from sklearn.metrics import mean_squared_error\n",
        "from sklearn.metrics import mean_absolute_percentage_error\n",
        "from sklearn.preprocessing import MinMaxScaler,StandardScaler\n",
        "from sklearn.neighbors import KNeighborsRegressor\n",
        "from numpy import mean\n",
        "from numpy import std\n",
        "from sklearn.model_selection import train_test_split\n",
        "from sklearn.linear_model import Lasso, ElasticNetCV,RidgeCV\n",
        "from sklearn.tree import DecisionTreeRegressor\n",
        "from sklearn.svm import SVR\n",
        "from sklearn.neural_network import MLPRegressor\n",
        "import matplotlib.pyplot as plt"
      ]
    },
    {
      "cell_type": "code",
      "source": [
        "oppScrData = pd.read_excel(r'sample_data/OppScrData.xlsx')"
      ],
      "metadata": {
        "id": "MX2KtPKDutUs"
      },
      "execution_count": 91,
      "outputs": []
    },
    {
      "cell_type": "code",
      "source": [
        "def preprocess_clinical_data(oppScrData, mean=True):\n",
        "    \n",
        "    l = ['Record ID', 'BMI','BMI >30', 'Sex', 'Tobacco', 'Met Sx', 'Age at CT', 'CVD DX', 'Heart failure DX',\n",
        "                                       'MI DX','Type 2 Diabetes DX', 'Primary Cancer Site', 'Humerus fracture DX',\n",
        "                                       'Femoral neck fracture DX', 'Unspec femoral fracture DX', 'Forearm fracture DX'\n",
        "                                       ,'Primary Cancer Site 2','Pathologic fracture DX','DEATH [d from CT]']\n",
        "\n",
        "    clinical_data = oppScrData.filter(l, axis=1)\n",
        "    # Replace all _,X,blanks with nan\n",
        "    clinical_data = clinical_data.replace(r'_', np.nan, regex=True)\n",
        "    clinical_data = clinical_data.replace(r'X', np.nan, regex=True)\n",
        "    clinical_data = clinical_data.replace(r'^\\s*$', np.nan, regex=True)\n",
        "\n",
        "    # Fill na in bmi column with mean\n",
        "    clinical_data['BMI'].fillna(value=clinical_data['BMI'].mean(skipna=True), inplace=True)\n",
        "    \n",
        "    # Fill na in bmi>30 column based on bmi col\n",
        "    clinical_data.loc[clinical_data.BMI>30, 'BMI >30'] = 1\n",
        "    clinical_data.loc[clinical_data.BMI<=30, 'BMI >30'] = -1\n",
        "    \n",
        "    clinical_data['Sex'] = np.where(clinical_data['Sex']=='Male',1,-1)\n",
        "    clinical_data['Met Sx'] = np.where(clinical_data['Met Sx']=='Y',1,-1) \n",
        "\n",
        "    # Treat no data in tobacco as no tobacco usage\n",
        "    clinical_data['Tobacco'] = np.where(clinical_data['Tobacco']=='Yes',1,-1) \n",
        "\n",
        "    for col in l[l.index('CVD DX'):l.index('DEATH [d from CT]')]:      \n",
        "      clinical_data.loc[clinical_data[col].notna(), col] = 1\n",
        "      clinical_data[col].fillna(value=0, inplace=True)\n",
        "  \n",
        "    return [clinical_data, np.array(clinical_data, dtype=np.float32)]"
      ],
      "metadata": {
        "id": "-aqdR-Gx5kc0"
      },
      "execution_count": 92,
      "outputs": []
    },
    {
      "cell_type": "code",
      "source": [
        "def clean_ct_data(oppScrData):\n",
        "    # Delete rows with empty values\n",
        "    ct_data= oppScrData[[\"Record ID\", \"L1_HU_BMD\", \"TAT Area (cm2)\", 'Total Body                Area EA (cm2)',\n",
        "       'VAT Area (cm2)', 'SAT Area (cm2)', 'VAT/SAT     Ratio', 'Muscle HU',\n",
        "       ' Muscle Area (cm2)', 'L3 SMI (cm2/m2)', 'AoCa        Agatston',\n",
        "       'Liver HU    (Median)']]\n",
        "    ct_data['Liver HU    (Median)'].replace(' ', np.nan, inplace=True)\n",
        "    ct_data.dropna(axis = 0, how ='any', thresh = None, subset = None, inplace=True)\n",
        "    return [ct_data, np.array(ct_data, dtype=np.float32)]"
      ],
      "metadata": {
        "id": "CUZDPvsZuxhZ"
      },
      "execution_count": 93,
      "outputs": []
    },
    {
      "cell_type": "code",
      "source": [
        "sc = StandardScaler()\n",
        "ct_data, ct_data_np = clean_ct_data(oppScrData=oppScrData)\n",
        "clinical_data, clinical_data_np = preprocess_clinical_data(oppScrData)"
      ],
      "metadata": {
        "id": "SAbl612Nu1bH"
      },
      "execution_count": null,
      "outputs": []
    },
    {
      "cell_type": "code",
      "source": [
        "combined_data = ct_data.merge(clinical_data, on='Record ID', how='inner' )\n",
        "combined_data.drop(columns = ['Record ID'], inplace=True)\n",
        "print(combined_data.columns)\n",
        "print(combined_data.shape)"
      ],
      "metadata": {
        "colab": {
          "base_uri": "https://localhost:8080/"
        },
        "id": "CaJI_8iv55RT",
        "outputId": "339bac15-b83c-4e20-8582-f1c57c292b48"
      },
      "execution_count": 95,
      "outputs": [
        {
          "output_type": "stream",
          "name": "stdout",
          "text": [
            "Index(['L1_HU_BMD', 'TAT Area (cm2)',\n",
            "       'Total Body                Area EA (cm2)', 'VAT Area (cm2)',\n",
            "       'SAT Area (cm2)', 'VAT/SAT     Ratio', 'Muscle HU',\n",
            "       ' Muscle Area (cm2)', 'L3 SMI (cm2/m2)', 'AoCa        Agatston',\n",
            "       'Liver HU    (Median)', 'BMI', 'BMI >30', 'Sex', 'Tobacco', 'Met Sx',\n",
            "       'Age at CT', 'CVD DX', 'Heart failure DX', 'MI DX',\n",
            "       'Type 2 Diabetes DX', 'Primary Cancer Site', 'Humerus fracture DX',\n",
            "       'Femoral neck fracture DX', 'Unspec femoral fracture DX',\n",
            "       'Forearm fracture DX', 'Primary Cancer Site 2',\n",
            "       'Pathologic fracture DX', 'DEATH [d from CT]'],\n",
            "      dtype='object')\n",
            "(8878, 29)\n"
          ]
        }
      ]
    },
    {
      "cell_type": "code",
      "source": [
        "non_null_death_rows = combined_data[~combined_data['DEATH [d from CT]'].isnull()]\n",
        "print(non_null_death_rows.shape)"
      ],
      "metadata": {
        "colab": {
          "base_uri": "https://localhost:8080/"
        },
        "id": "g8daynMru_xC",
        "outputId": "e446f7f8-95ea-48c4-9e06-d2e6fa2a7107"
      },
      "execution_count": 96,
      "outputs": [
        {
          "output_type": "stream",
          "name": "stdout",
          "text": [
            "(493, 29)\n"
          ]
        }
      ]
    },
    {
      "cell_type": "code",
      "source": [
        "# Convert to years\n",
        "non_null_death_rows['DEATH [d from CT]'] /= 365\n",
        "\n",
        "m = non_null_death_rows.columns.get_loc('DEATH [d from CT]')\n",
        "\n",
        "X = non_null_death_rows.iloc[:, 0:m]\n",
        "y = non_null_death_rows.iloc[:, m]\n",
        "X = pd.DataFrame(sc.fit_transform(X), columns = X.columns)\n"
      ],
      "metadata": {
        "colab": {
          "base_uri": "https://localhost:8080/"
        },
        "id": "TNru_LIyvEKV",
        "outputId": "1f268f09-0126-4ba2-a626-7b6a8319c0fb"
      },
      "execution_count": 97,
      "outputs": [
        {
          "output_type": "stream",
          "name": "stderr",
          "text": [
            "/usr/local/lib/python3.7/dist-packages/ipykernel_launcher.py:2: SettingWithCopyWarning: \n",
            "A value is trying to be set on a copy of a slice from a DataFrame.\n",
            "Try using .loc[row_indexer,col_indexer] = value instead\n",
            "\n",
            "See the caveats in the documentation: https://pandas.pydata.org/pandas-docs/stable/user_guide/indexing.html#returning-a-view-versus-a-copy\n",
            "  \n"
          ]
        }
      ]
    },
    {
      "cell_type": "code",
      "source": [
        "def testWithModel(model, X_train, X_test, y_train, y_test):\n",
        "  clf = model\n",
        "  clf.fit(X_train, y_train)\n",
        "  y_pred = clf.predict(X_test)\n",
        "\n",
        "  print(f'MAE = {mean_absolute_error(y_test, y_pred)}') \n",
        "  print(f'MAPE = {mean_absolute_percentage_error(y_test, y_pred)}')\n",
        "  print(f'RMSE = {mean_squared_error(y_test, y_pred)**0.5}')\n",
        "\n",
        "  plot_results(y_test, y_pred)\n",
        "\n",
        "  return y_pred"
      ],
      "metadata": {
        "id": "GLamCOYwIA6-"
      },
      "execution_count": 109,
      "outputs": []
    },
    {
      "cell_type": "code",
      "source": [
        "def plot_results(y_test, y_pred):\n",
        "  plt.figure()\n",
        "  y_test_sub, y_pred_sub = y_test, y_pred\n",
        "  if len(y_test)>200:\n",
        "    y_test_sub, y_pred_sub = y_test[::15], y_pred[::15]\n",
        "    \n",
        "  x = [i+1 for i in range(len(y_test_sub))]\n",
        "  plt.plot((x,x),([i for i in y_pred_sub], [j for j in y_test_sub]),c='green',markevery=5,)\n",
        "  plt.scatter(x, y_pred_sub, label=\"predicted_y\")\n",
        "  plt.scatter(x, y_test_sub, label=\"actual_y\")\n",
        "  plt.xlabel(\"X\")\n",
        "  plt.ylabel(\"Y\")\n",
        "  plt.legend()\n",
        "  plt.show()"
      ],
      "metadata": {
        "id": "u8b2kjKqFq53"
      },
      "execution_count": 78,
      "outputs": []
    },
    {
      "cell_type": "markdown",
      "source": [
        "Train"
      ],
      "metadata": {
        "id": "yVTijEPH-Bwy"
      }
    },
    {
      "cell_type": "code",
      "source": [
        "X_train, X_test, y_train, y_test  = train_test_split(X, y, test_size=0.2)\n",
        "\n",
        "knn = KNeighborsRegressor()\n",
        "param_grid2 = dict(weights = [\"uniform\", \"distance\"], n_neighbors=list(range(2, 17)))\n",
        "    \n",
        "grid = GridSearchCV(knn, param_grid2)\n",
        "grid.fit(X_train, y_train)\n",
        "p3 = grid.predict(X_test)\n",
        "print(\"MAE: %.2f\" %(mean_absolute_error(y_test, p3)))\n",
        "print(grid.best_params_)"
      ],
      "metadata": {
        "id": "wYPkauwV-CnO",
        "outputId": "c76fe2e4-e587-4254-88d8-dd00dd732e4d",
        "colab": {
          "base_uri": "https://localhost:8080/"
        }
      },
      "execution_count": 98,
      "outputs": [
        {
          "output_type": "stream",
          "name": "stdout",
          "text": [
            "MAE: 2.91\n",
            "{'n_neighbors': 16, 'weights': 'distance'}\n"
          ]
        }
      ]
    },
    {
      "cell_type": "code",
      "source": [
        "for idx, row in combined_data.iterrows():  \n",
        "  if np.isnan(combined_data.at[idx,'DEATH [d from CT]']):\n",
        "    l = combined_data.columns.drop('DEATH [d from CT]')\n",
        "    row = combined_data.iloc[idx].drop(columns = ['DEATH [d from CT]'], inplace=True)    \n",
        "    row = combined_data.iloc[idx]     \n",
        "    r = row.filter(l).to_numpy().reshape(1, -1) \n",
        "    combined_data.at[idx,'DEATH [d from CT]'] = (grid.predict(r))\n",
        "  else:\n",
        "    combined_data.at[idx,'DEATH [d from CT]'] /= 365"
      ],
      "metadata": {
        "id": "chxDyUFc-oI0"
      },
      "execution_count": null,
      "outputs": []
    },
    {
      "cell_type": "code",
      "source": [
        "print(combined_data['DEATH [d from CT]'].isnull().sum())"
      ],
      "metadata": {
        "id": "hMkf52QnEQ5L",
        "outputId": "fb03d4f1-c264-4596-d73d-a0dc0e28cc54",
        "colab": {
          "base_uri": "https://localhost:8080/"
        }
      },
      "execution_count": 100,
      "outputs": [
        {
          "output_type": "stream",
          "name": "stdout",
          "text": [
            "0\n"
          ]
        }
      ]
    },
    {
      "cell_type": "code",
      "source": [
        "y = combined_data.iloc[:,28]\n",
        "X = combined_data.iloc[:, 0:28]\n",
        "X_train, X_test, y_train, y_test  = train_test_split(X, y, test_size=0.2)"
      ],
      "metadata": {
        "id": "7JV3ZMs6EMOZ"
      },
      "execution_count": 101,
      "outputs": []
    },
    {
      "cell_type": "code",
      "source": [
        "print(X_train.shape)\n",
        "print(X_test.shape)"
      ],
      "metadata": {
        "colab": {
          "base_uri": "https://localhost:8080/"
        },
        "id": "SYrBq7rVHXgg",
        "outputId": "a5af83da-a8ff-4513-a259-d1c0ef0887fa"
      },
      "execution_count": 102,
      "outputs": [
        {
          "output_type": "stream",
          "name": "stdout",
          "text": [
            "(7102, 28)\n",
            "(1776, 28)\n"
          ]
        }
      ]
    },
    {
      "cell_type": "code",
      "source": [
        "knn = KNeighborsRegressor(n_neighbors=9)\n",
        "param_grid2 = dict(weights = [\"uniform\", \"distance\"])\n",
        "knn_pred = testWithModel(GridSearchCV(knn, param_grid2),X_train, X_test, y_train, y_test)"
      ],
      "metadata": {
        "colab": {
          "base_uri": "https://localhost:8080/",
          "height": 332
        },
        "id": "jVzbeecM_6aK",
        "outputId": "c0d0b924-8c6c-4187-b11a-4dabce175a9c"
      },
      "execution_count": 103,
      "outputs": [
        {
          "output_type": "stream",
          "name": "stdout",
          "text": [
            "MAE = 0.3619665264546181\n",
            "MAPE = 0.09446065327732688\n",
            "RMSE = 0.9191910569765198\n"
          ]
        },
        {
          "output_type": "display_data",
          "data": {
            "text/plain": [
              "<Figure size 432x288 with 1 Axes>"
            ],
            "image/png": "[encoded data removed]"
          },
          "metadata": {
            "needs_background": "light"
          }
        }
      ]
    },
    {
      "cell_type": "code",
      "source": [
        "svr_pred = testWithModel(SVR(C=300, epsilon=0.8),X_train, X_test, y_train, y_test)"
      ],
      "metadata": {
        "colab": {
          "base_uri": "https://localhost:8080/",
          "height": 332
        },
        "id": "2rqdvQFIABOv",
        "outputId": "27d5afe1-acc9-4a8b-9ea5-8bbe973a2a4f"
      },
      "execution_count": 104,
      "outputs": [
        {
          "output_type": "stream",
          "name": "stdout",
          "text": [
            "MAE = 0.46061581563468096\n",
            "MAPE = 0.10908258880779567\n",
            "RMSE = 0.9285811404531296\n"
          ]
        },
        {
          "output_type": "display_data",
          "data": {
            "text/plain": [
              "<Figure size 432x288 with 1 Axes>"
            ],
            "image/png": "[encoded data removed]"
          },
          "metadata": {
            "needs_background": "light"
          }
        }
      ]
    },
    {
      "cell_type": "code",
      "source": [
        "lasso_pred = testWithModel(Lasso(alpha=0.1), X_train, X_test, y_train, y_test)"
      ],
      "metadata": {
        "colab": {
          "base_uri": "https://localhost:8080/",
          "height": 332
        },
        "id": "kJ6zd-2rIdh0",
        "outputId": "62503782-3eeb-4082-8f6e-9e980c6c4be7"
      },
      "execution_count": 105,
      "outputs": [
        {
          "output_type": "stream",
          "name": "stdout",
          "text": [
            "MAE = 0.41981254081252634\n",
            "MAPE = 0.10298943024804591\n",
            "RMSE = 0.9139849923473511\n"
          ]
        },
        {
          "output_type": "display_data",
          "data": {
            "text/plain": [
              "<Figure size 432x288 with 1 Axes>"
            ],
            "image/png": "[encoded data removed]"
          },
          "metadata": {
            "needs_background": "light"
          }
        }
      ]
    },
    {
      "cell_type": "code",
      "source": [
        "elastic_net_pred = testWithModel(ElasticNetCV(random_state=0), X_train, X_test, y_train, y_test)"
      ],
      "metadata": {
        "colab": {
          "base_uri": "https://localhost:8080/",
          "height": 332
        },
        "id": "AYWh2CR3M3P5",
        "outputId": "e1a27f1f-776d-426e-d4ed-5d3153771522"
      },
      "execution_count": 106,
      "outputs": [
        {
          "output_type": "stream",
          "name": "stdout",
          "text": [
            "MAE = 0.4193497582377115\n",
            "MAPE = 0.10292599339276529\n",
            "RMSE = 0.9137681509867605\n"
          ]
        },
        {
          "output_type": "display_data",
          "data": {
            "text/plain": [
              "<Figure size 432x288 with 1 Axes>"
            ],
            "image/png": "[encoded data removed]"
          },
          "metadata": {
            "needs_background": "light"
          }
        }
      ]
    },
    {
      "cell_type": "code",
      "source": [
        "dtree_pred = testWithModel(DecisionTreeRegressor(criterion=\"absolute_error\"),X_train, X_test, y_train, y_test)"
      ],
      "metadata": {
        "colab": {
          "base_uri": "https://localhost:8080/",
          "height": 332
        },
        "id": "IrwU0jqFNAEB",
        "outputId": "79d26577-7991-4fe5-f73e-202d54248d69"
      },
      "execution_count": 107,
      "outputs": [
        {
          "output_type": "stream",
          "name": "stdout",
          "text": [
            "MAE = 0.49429277931987436\n",
            "MAPE = 0.11257425512689107\n",
            "RMSE = 1.3116968897066135\n"
          ]
        },
        {
          "output_type": "display_data",
          "data": {
            "text/plain": [
              "<Figure size 432x288 with 1 Axes>"
            ],
            "image/png": "[encoded data removed]"
          },
          "metadata": {
            "needs_background": "light"
          }
        }
      ]
    },
    {
      "cell_type": "code",
      "source": [
        "RFparams2={'n_estimators':[50,60,70],\n",
        "          'min_samples_split':[10,15,20],\n",
        "          'min_samples_leaf': [4],\n",
        "           'max_features': [15,18,20],\n",
        "           'max_depth': [15,20],\n",
        "           'bootstrap': [True]}\n",
        "\n",
        "#  {'bootstrap': True, 'max_depth': 20, 'max_features': 21, 'min_samples_leaf': 4, 'min_samples_split': 20, 'n_estimators': 80}\n",
        "\n",
        "rf = RandomForestRegressor(random_state = 21)\n",
        "clf_random_forest = GridSearchCV(rf, RFparams2, refit=True)\n",
        "\n",
        "rf_pred = testWithModel(clf_random_forest ,X_train, X_test, y_train, y_test )\n",
        "print(clf_random_forest.best_params_)"
      ],
      "metadata": {
        "id": "kjE2SQqCGFPJ"
      },
      "execution_count": null,
      "outputs": []
    }
  ]
}