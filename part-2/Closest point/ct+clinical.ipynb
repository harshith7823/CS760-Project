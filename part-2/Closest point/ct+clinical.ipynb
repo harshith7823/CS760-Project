{
  "cells": [
    {
      "cell_type": "code",
      "execution_count": 3,
      "id": "431d2be8",
      "metadata": {
        "id": "431d2be8"
      },
      "outputs": [],
      "source": [
        "import pandas as pd\n",
        "import numpy as np\n",
        "from sklearn.ensemble import RandomForestRegressor\n",
        "from sklearn.model_selection import RandomizedSearchCV\n",
        "from sklearn.ensemble import ExtraTreesRegressor\n",
        "from sklearn.metrics import mean_absolute_error\n",
        "from sklearn.model_selection import GridSearchCV\n",
        "from sklearn.model_selection import train_test_split\n",
        "from sklearn.metrics import mean_squared_error\n",
        "from sklearn.metrics import mean_absolute_percentage_error\n",
        "from sklearn.preprocessing import MinMaxScaler,StandardScaler\n",
        "from sklearn.neighbors import KNeighborsRegressor"
      ]
    },
    {
      "cell_type": "code",
      "source": [
        "oppScrData = pd.read_excel(r'sample_data/OppScrData.xlsx')"
      ],
      "metadata": {
        "id": "Be0Zbdgrsf0K"
      },
      "id": "Be0Zbdgrsf0K",
      "execution_count": 2,
      "outputs": []
    },
    {
      "cell_type": "code",
      "source": [
        "def preprocess_clinical_data(oppScrData, mean=True):\n",
        "    clinical_data = oppScrData.filter(['Record ID','BMI','BMI >30', 'Clinical F/U interval  [d from CT]', 'Sex', 'Tobacco', 'Met Sx', 'FRAX 10y Fx Prob (Orange-w/ DXA)',\n",
        "                                'FRAX 10y Hip Fx Prob (Orange-w/ DXA)','FRS 10-year risk (%)','Age at CT' ], axis=1)\n",
        "    # Replace all _,X,blanks with nan\n",
        "    clinical_data = clinical_data.replace(r'_', np.nan, regex=True)\n",
        "    clinical_data = clinical_data.replace(r'X', np.nan, regex=True)\n",
        "    clinical_data = clinical_data.replace(r'^\\s*$', np.nan, regex=True)\n",
        "\n",
        "    # Fill na in bmi column with mean\n",
        "    clinical_data['BMI'].fillna(value=clinical_data['BMI'].mean(skipna=True), inplace=True)\n",
        "    \n",
        "    # Fill na in bmi>30 column based on bmi col\n",
        "    clinical_data.loc[clinical_data.BMI>30, 'BMI >30'] = 1\n",
        "    clinical_data.loc[clinical_data.BMI<=30, 'BMI >30'] = -1\n",
        "    \n",
        "    clinical_data['Sex'] = np.where(clinical_data['Sex']=='Male',1,-1)\n",
        "    clinical_data['Met Sx'] = np.where(clinical_data['Met Sx']=='Y',1,-1) \n",
        "\n",
        "    # Treat no data in tobacco as no tobacco usage \n",
        "    clinical_data['Tobacco'] = np.where(clinical_data['Tobacco']=='Yes',1,-1) \n",
        "  \n",
        "    clinical_data['FRS 10-year risk (%)'] = clinical_data['FRS 10-year risk (%)'].replace(\"<1\", 0.01, regex=True)\n",
        "    clinical_data['FRS 10-year risk (%)'] = clinical_data['FRS 10-year risk (%)'].replace(\">30\", 0.30, regex=True)\n",
        "    clinical_data['FRS 10-year risk (%)'] =  clinical_data['FRS 10-year risk (%)'] * 100\n",
        "   \n",
        "    cols_to_be_filled = ['FRAX 10y Fx Prob (Orange-w/ DXA)','FRAX 10y Hip Fx Prob (Orange-w/ DXA)','FRS 10-year risk (%)']\n",
        "    for c in cols_to_be_filled:\n",
        "      if mean:  \n",
        "        clinical_data[c].fillna(value=clinical_data[c].mean(skipna=True), inplace=True)\n",
        "      else :\n",
        "        clinical_data[c].fillna(value=clinical_data[c].median(skipna=True), inplace=True)\n",
        "    \n",
        "    return clinical_data"
      ],
      "metadata": {
        "id": "KeY3BPe5uJES"
      },
      "id": "KeY3BPe5uJES",
      "execution_count": 30,
      "outputs": []
    },
    {
      "cell_type": "code",
      "source": [
        "def clean_ct_data(oppScrData):\n",
        "    # Delete rows with empty values\n",
        "    cols = [\"Record ID\", \"L1_HU_BMD\", \"TAT Area (cm2)\", 'Total Body                Area EA (cm2)',\n",
        "       'VAT Area (cm2)', 'SAT Area (cm2)', 'VAT/SAT     Ratio', 'Muscle HU',\n",
        "       ' Muscle Area (cm2)', 'L3 SMI (cm2/m2)', 'AoCa        Agatston',\n",
        "       'Liver HU    (Median)','DEATH [d from CT]']\n",
        "    ct_data= oppScrData[cols]\n",
        "    n = ct_data.shape[0]\n",
        "    preprocessed_ct_data = pd.DataFrame( columns=cols)\n",
        "    for i in range(n):\n",
        "        row = ct_data.loc[i]\n",
        "        ignore = False\n",
        "        for k,j in enumerate(row):\n",
        "          if pd.isna(j) or j == ' ': \n",
        "            if k == 12:              \n",
        "              ignore = False\n",
        "            else:\n",
        "              ignore = True\n",
        "              break\n",
        "        if not ignore:\n",
        "          preprocessed_ct_data.loc[i]= row\n",
        "    return preprocessed_ct_data"
      ],
      "metadata": {
        "id": "3IMWecrXSNlN"
      },
      "id": "3IMWecrXSNlN",
      "execution_count": 43,
      "outputs": []
    },
    {
      "cell_type": "code",
      "source": [
        "clinical_data = preprocess_clinical_data(oppScrData)\n",
        "ct_data = clean_ct_data(oppScrData)"
      ],
      "metadata": {
        "id": "q6Qx5vCnwAyH"
      },
      "id": "q6Qx5vCnwAyH",
      "execution_count": 37,
      "outputs": []
    },
    {
      "cell_type": "code",
      "source": [
        "combined_data = clinical_data.merge(ct_data, on='Record ID', how='inner' )\n",
        "combined_data.drop(columns=['Record ID'], inplace=True)\n",
        "combined_data.drop(columns=['Clinical F/U interval  [d from CT]'], inplace=True)"
      ],
      "metadata": {
        "id": "iydNUE0HwYij"
      },
      "id": "iydNUE0HwYij",
      "execution_count": null,
      "outputs": []
    },
    {
      "cell_type": "code",
      "source": [
        "print(combined_data.columns)"
      ],
      "metadata": {
        "colab": {
          "base_uri": "https://localhost:8080/"
        },
        "id": "j6gQRhO2zjyc",
        "outputId": "5fb67dbc-de89-407d-a191-1ee7aed52ea7"
      },
      "id": "j6gQRhO2zjyc",
      "execution_count": 48,
      "outputs": [
        {
          "output_type": "stream",
          "name": "stdout",
          "text": [
            "Index(['BMI', 'BMI >30', 'Sex', 'Tobacco', 'Met Sx',\n",
            "       'FRAX 10y Fx Prob (Orange-w/ DXA)',\n",
            "       'FRAX 10y Hip Fx Prob (Orange-w/ DXA)', 'FRS 10-year risk (%)',\n",
            "       'Age at CT', 'L1_HU_BMD', 'TAT Area (cm2)',\n",
            "       'Total Body                Area EA (cm2)', 'VAT Area (cm2)',\n",
            "       'SAT Area (cm2)', 'VAT/SAT     Ratio', 'Muscle HU',\n",
            "       ' Muscle Area (cm2)', 'L3 SMI (cm2/m2)', 'AoCa        Agatston',\n",
            "       'Liver HU    (Median)', 'DEATH [d from CT]'],\n",
            "      dtype='object')\n"
          ]
        }
      ]
    },
    {
      "cell_type": "code",
      "source": [
        "clinical_data = combined_data"
      ],
      "metadata": {
        "id": "rMr9gS3cz8h2"
      },
      "id": "rMr9gS3cz8h2",
      "execution_count": 49,
      "outputs": []
    },
    {
      "cell_type": "markdown",
      "source": [
        "**Model training**"
      ],
      "metadata": {
        "id": "wC8n1AiGjuZx"
      },
      "id": "wC8n1AiGjuZx"
    },
    {
      "cell_type": "code",
      "execution_count": null,
      "id": "8f9c523b",
      "metadata": {
        "id": "8f9c523b"
      },
      "outputs": [],
      "source": [
        "sc = StandardScaler()\n",
        "\n",
        "non_null_death_rows = clinical_data[~clinical_data['DEATH [d from CT]'].isnull()]\n",
        "\n",
        "# Convert to years\n",
        "non_null_death_rows['DEATH [d from CT]'] /= 365\n",
        "\n",
        "y_idx = clinical_data.columns.get_loc(\"DEATH [d from CT]\")\n",
        "\n",
        "X = non_null_death_rows.iloc[:, 0:y_idx]\n",
        "y = non_null_death_rows.iloc[:, y_idx]\n",
        "X = pd.DataFrame(sc.fit_transform(X), columns = X.columns)\n",
        "\n",
        "null_death_rows=clinical_data[clinical_data['DEATH [d from CT]'].isnull()]\n",
        "X2 = null_death_rows.iloc[:, 0:y_idx]\n",
        "X2 = pd.DataFrame(sc.fit_transform(X2), columns = X2.columns)"
      ]
    },
    {
      "cell_type": "code",
      "execution_count": 71,
      "id": "fd6baa60",
      "metadata": {
        "id": "fd6baa60"
      },
      "outputs": [],
      "source": [
        "X_train, X_test, y_train, y_test  = train_test_split(X, y, test_size=0.2)"
      ]
    },
    {
      "cell_type": "code",
      "execution_count": 72,
      "id": "5fb5a621",
      "metadata": {
        "colab": {
          "base_uri": "https://localhost:8080/"
        },
        "id": "5fb5a621",
        "outputId": "699cd385-46d2-4a54-c209-4bc35bc7115b"
      },
      "outputs": [
        {
          "output_type": "execute_result",
          "data": {
            "text/plain": [
              "0.4709595919338694"
            ]
          },
          "metadata": {},
          "execution_count": 72
        }
      ],
      "source": [
        "RFparams2={'n_estimators':[50],\n",
        "          'min_samples_split':[16],\n",
        "          'min_samples_leaf': [4],\n",
        "           'max_features': [6],\n",
        "           'max_depth': [20],\n",
        "           'bootstrap': [True]}\n",
        "\n",
        "rf = RandomForestRegressor(random_state = 21)\n",
        "clf = GridSearchCV(rf, RFparams2, refit=True)\n",
        "clf.fit(X_train, y_train)\n",
        "clf.best_estimator_.score(X_test, y_test)"
      ]
    },
    {
      "cell_type": "code",
      "execution_count": 73,
      "id": "814d721b",
      "metadata": {
        "colab": {
          "base_uri": "https://localhost:8080/"
        },
        "id": "814d721b",
        "outputId": "5c21dde5-a2fe-41a7-adbc-6cec1a8cd1d8"
      },
      "outputs": [
        {
          "output_type": "stream",
          "name": "stdout",
          "text": [
            "RMSE : 0.92\n",
            "MApe : 0.23\n",
            "MAE : 0.45203036757170134\n"
          ]
        }
      ],
      "source": [
        "p = clf.predict(X_test)\n",
        "Mse = mean_squared_error(y_test, p)\n",
        "error = mean_absolute_error(y_test, p)\n",
        "mape = mean_absolute_percentage_error(y_test, p)\n",
        "print(\"RMSE : %.2f\" % (Mse**(1/2.0)))\n",
        "print(\"MApe : %.2f\" %(mape))\n",
        "print(\"MAE :\", error)"
      ]
    },
    {
      "cell_type": "markdown",
      "source": [
        "**Fill death column**"
      ],
      "metadata": {
        "id": "_oQFxiWcmiHu"
      },
      "id": "_oQFxiWcmiHu"
    },
    {
      "cell_type": "code",
      "execution_count": 74,
      "id": "3b555280",
      "metadata": {
        "colab": {
          "base_uri": "https://localhost:8080/"
        },
        "id": "3b555280",
        "outputId": "4a087344-0c05-4282-9c55-33e0e8fe1605"
      },
      "outputs": [
        {
          "output_type": "stream",
          "name": "stderr",
          "text": [
            "/usr/local/lib/python3.7/dist-packages/ipykernel_launcher.py:1: SettingWithCopyWarning: \n",
            "A value is trying to be set on a copy of a slice from a DataFrame.\n",
            "Try using .loc[row_indexer,col_indexer] = value instead\n",
            "\n",
            "See the caveats in the documentation: https://pandas.pydata.org/pandas-docs/stable/user_guide/indexing.html#returning-a-view-versus-a-copy\n",
            "  \"\"\"Entry point for launching an IPython kernel.\n"
          ]
        }
      ],
      "source": [
        "null_death_rows['DEATH [d from CT]'] = clf.predict(X2)\n",
        "df = pd.concat([non_null_death_rows,null_death_rows])\n",
        "y_idx = clinical_data.columns.get_loc(\"DEATH [d from CT]\")\n",
        "y = df.iloc[:,y_idx]\n",
        "X = df.iloc[:, 0:y_idx]"
      ]
    },
    {
      "cell_type": "code",
      "source": [
        "y"
      ],
      "metadata": {
        "colab": {
          "base_uri": "https://localhost:8080/"
        },
        "id": "8FTz8kv91Ki2",
        "outputId": "f48da42b-fe7c-4380-b666-9e6ae6010345"
      },
      "id": "8FTz8kv91Ki2",
      "execution_count": 69,
      "outputs": [
        {
          "output_type": "execute_result",
          "data": {
            "text/plain": [
              "0       0.983562\n",
              "2       6.441096\n",
              "3       1.802740\n",
              "5       5.397260\n",
              "13      0.304110\n",
              "          ...   \n",
              "8873    5.725122\n",
              "8874    5.244797\n",
              "8875    6.298674\n",
              "8876    5.962178\n",
              "8877    4.238722\n",
              "Name: DEATH [d from CT], Length: 8878, dtype: float64"
            ]
          },
          "metadata": {},
          "execution_count": 69
        }
      ]
    },
    {
      "cell_type": "markdown",
      "source": [
        "**Train model**"
      ],
      "metadata": {
        "id": "1BXiMauhtzdY"
      },
      "id": "1BXiMauhtzdY"
    },
    {
      "cell_type": "code",
      "execution_count": 79,
      "id": "2229fd70",
      "metadata": {
        "colab": {
          "base_uri": "https://localhost:8080/"
        },
        "id": "2229fd70",
        "outputId": "b83faaf6-03b0-4189-e7fa-6c0f85e4347b"
      },
      "outputs": [
        {
          "output_type": "stream",
          "name": "stdout",
          "text": [
            "RMSE: 1.01\n",
            "MApe: 0.11\n",
            "MAE: 0.34\n"
          ]
        }
      ],
      "source": [
        "X_train, X_test, y_train, y_test  = train_test_split(X, y, test_size=0.2)\n",
        "\n",
        "knn = KNeighborsRegressor(n_neighbors=9)\n",
        "param_grid2 = dict(weights = [\"uniform\", \"distance\"])\n",
        "    \n",
        "grid = GridSearchCV(knn, param_grid2)\n",
        "grid.fit(X_train, y_train)\n",
        "p3 = grid.predict(X_test) \n",
        "Mse = mean_squared_error(y_test, p3)\n",
        "\n",
        "mape=mean_absolute_percentage_error(y_test, p3)\n",
        "print(\"RMSE: %.2f\" % (Mse**(1/2.0)))\n",
        "print(\"MApe: %.2f\" %(mape))\n",
        "print(\"MAE: %.2f\" %(mean_absolute_error(y_test, p3)))\n"
      ]
    },
    {
      "cell_type": "code",
      "source": [
        ""
      ],
      "metadata": {
        "id": "4h-9W1pgmvlE"
      },
      "id": "4h-9W1pgmvlE",
      "execution_count": null,
      "outputs": []
    }
  ],
  "metadata": {
    "kernelspec": {
      "display_name": "Python 3",
      "language": "python",
      "name": "python3"
    },
    "language_info": {
      "codemirror_mode": {
        "name": "ipython",
        "version": 3
      },
      "file_extension": ".py",
      "mimetype": "text/x-python",
      "name": "python",
      "nbconvert_exporter": "python",
      "pygments_lexer": "ipython3",
      "version": "3.8.8"
    },
    "colab": {
      "name": "ct+clinical-sanyam.ipynb",
      "provenance": []
    }
  },
  "nbformat": 4,
  "nbformat_minor": 5
}