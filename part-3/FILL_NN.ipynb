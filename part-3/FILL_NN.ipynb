{
 "cells": [
  {
   "cell_type": "code",
   "execution_count": 1,
   "id": "dd03f232",
   "metadata": {},
   "outputs": [],
   "source": [
    "import pandas as pd\n",
    "import math\n",
    "import numpy as np\n",
    "from sklearn.model_selection import train_test_split\n",
    "from sklearn.model_selection import cross_val_score\n",
    "import matplotlib.pyplot as plt\n",
    "from sklearn.preprocessing import PolynomialFeatures\n",
    "from sklearn.linear_model import LinearRegression\n",
    "from sklearn.metrics import r2_score\n",
    "from sklearn.preprocessing import StandardScaler\n",
    "from sklearn import linear_model\n",
    "\n",
    "from sklearn.model_selection import RandomizedSearchCV\n",
    "from sklearn.model_selection import GridSearchCV\n",
    "from sklearn.ensemble import ExtraTreesRegressor\n",
    "from sklearn.ensemble import RandomForestRegressor\n",
    "from sklearn.model_selection import RandomizedSearchCV\n",
    "from sklearn.ensemble import ExtraTreesRegressor\n",
    "import torch\n",
    "from sklearn.metrics import mean_squared_error\n",
    "from sklearn.metrics import mean_absolute_percentage_error"
   ]
  },
  {
   "cell_type": "code",
   "execution_count": 2,
   "id": "da469d49",
   "metadata": {},
   "outputs": [],
   "source": [
    "oppScrData = pd.read_excel ('/Users/sanyamkakkar/Desktop/Spring/Ml760/CS760-Project/OppScrData.xlsx')"
   ]
  },
  {
   "cell_type": "code",
   "execution_count": 50,
   "id": "25ec7bf1",
   "metadata": {},
   "outputs": [],
   "source": [
    "def normalize_ss(data):\n",
    "  return StandardScaler().fit_transform(data)\n",
    "\n",
    "def normalize_min_max(data):\n",
    "    n = data.shape[1]    \n",
    "    for i in range(n-1):\n",
    "      data[:,i] = (data[:,i] - np.min(data[:,i]))/(np.max(data[:,i])- np.min(data[:,i]))\n",
    "    return data\n",
    "\n",
    "def plot(y_test, y_pred):\n",
    "  plt.figure()\n",
    "  y_test_sub, y_pred_sub = y_test, y_pred\n",
    "  if len(y_test)>200:\n",
    "    y_test_sub, y_pred_sub = y_test[::1], y_pred[::1]\n",
    "    \n",
    "  x = [i+1 for i in range(len(y_test_sub))]\n",
    "  plt.plot((x,x),([i for i in y_pred_sub], [j for j in y_test_sub]),c='green',markevery=5,)\n",
    "  plt.scatter(x, y_pred_sub, label=\"predicted_y\")\n",
    "  plt.scatter(x, y_test_sub, label=\"actual_y\")\n",
    "  plt.xlabel(\"X\")\n",
    "  plt.ylabel(\"Y\")\n",
    "  plt.legend()\n",
    "  plt.show()\n",
    "\n",
    "def mean_absolute_error(actual, predictions):\n",
    "  n = len(actual)\n",
    "  return sum(abs(actual - predictions))/n"
   ]
  },
  {
   "cell_type": "code",
   "execution_count": 42,
   "id": "d5210c50",
   "metadata": {},
   "outputs": [],
   "source": [
    "def get_dead_people_ct_data(oppScrData):\n",
    "    # Delete rows with empty values\n",
    "    ct_data= oppScrData[['Age at CT', 'DEATH [d from CT]','Sex', \"L1_HU_BMD\", \"TAT Area (cm2)\", 'Total Body                Area EA (cm2)',\n",
    "       'VAT Area (cm2)', 'SAT Area (cm2)', 'VAT/SAT     Ratio', 'Muscle HU',\n",
    "       ' Muscle Area (cm2)', 'L3 SMI (cm2/m2)', 'AoCa        Agatston',\n",
    "       'Liver HU    (Median)']]\n",
    "    n = ct_data.shape[0]\n",
    "    dead_people_ct_data = []\n",
    "\n",
    "    for i in range(n):\n",
    "        row = ct_data.loc[i]\n",
    "        ignore = False\n",
    "        for j in row:\n",
    "          if pd.isna(j) or j == ' ': # There is an empty string somewhere in Liver column\n",
    "            ignore = True\n",
    "            break          \n",
    "\n",
    "        if (not ignore) and (not pd.isna(row['DEATH [d from CT]'])):\n",
    "          row[0] = (row['Age at CT']*365 + row['DEATH [d from CT]']) - ((76.1*365) if row['Sex'] == \"Male\" else (81.1*365)          )\n",
    "          dead_people_ct_data.append(row)\n",
    "\n",
    "    dead_people_ct_data = np.array(dead_people_ct_data)\n",
    "    dead_people_ct_data = np.delete(dead_people_ct_data, 1, 1)\n",
    "    dead_people_ct_data = np.delete(dead_people_ct_data, 1, 1)\n",
    "    return np.array(dead_people_ct_data, dtype=np.float32)\n",
    "\n",
    "# dead_people_ct_data[0] -> number of days lost\n",
    "# dead_people_ct_data[1:] -> ct_data\n",
    "\n"
   ]
  },
  {
   "cell_type": "code",
   "execution_count": 37,
   "id": "9d9fa78d",
   "metadata": {},
   "outputs": [
    {
     "name": "stderr",
     "output_type": "stream",
     "text": [
      "<ipython-input-36-12190a7316c1>:19: SettingWithCopyWarning: \n",
      "A value is trying to be set on a copy of a slice from a DataFrame\n",
      "\n",
      "See the caveats in the documentation: https://pandas.pydata.org/pandas-docs/stable/user_guide/indexing.html#returning-a-view-versus-a-copy\n",
      "  row[0] = (row['Age at CT']*365 + row['DEATH [d from CT]']) - ((76.1*365) if row['Sex'] == \"Male\" else (81.1*365)          )\n"
     ]
    }
   ],
   "source": [
    "dead_people_ct_data = get_dead_people_ct_data(oppScrData)"
   ]
  },
  {
   "cell_type": "code",
   "execution_count": 6,
   "id": "30a4b016",
   "metadata": {},
   "outputs": [],
   "source": [
    "y = dead_people_ct_data[:,0]\n",
    "# X = normalize_ss(dead_people_ct_data[:,1:])\n",
    "# X = normalize_min_max(dead_people_ct_data[:,1:])\n",
    "X = dead_people_ct_data[:,1:]\n",
    "x_train, x_test, y_train, y_test = train_test_split(X, y, test_size=0.1, random_state=2)"
   ]
  },
  {
   "cell_type": "code",
   "execution_count": 7,
   "id": "34fa2eb2",
   "metadata": {},
   "outputs": [
    {
     "name": "stdout",
     "output_type": "stream",
     "text": [
      "0.081233395863205\n"
     ]
    },
    {
     "data": {
      "image/png": "[encoded data removed]",
      "text/plain": [
       "<Figure size 432x288 with 1 Axes>"
      ]
     },
     "metadata": {
      "needs_background": "light"
     },
     "output_type": "display_data"
    }
   ],
   "source": [
    "lr = LinearRegression()\n",
    "lr.fit(x_train, y_train)\n",
    "y_pred = lr.predict(x_test)\n",
    "print(r2_score(y_test, y_pred))\n",
    "plot(y_test=y_test, y_pred=y_pred)"
   ]
  },
  {
   "cell_type": "code",
   "execution_count": 8,
   "id": "b5563c72",
   "metadata": {},
   "outputs": [
    {
     "name": "stdout",
     "output_type": "stream",
     "text": [
      "3697.9448046875\n"
     ]
    },
    {
     "data": {
      "image/png": "[encoded data removed]",
      "text/plain": [
       "<Figure size 432x288 with 1 Axes>"
      ]
     },
     "metadata": {
      "needs_background": "light"
     },
     "output_type": "display_data"
    }
   ],
   "source": [
    "poly = PolynomialFeatures(degree=3, include_bias=True)\n",
    "x_train_trans = poly.fit_transform(x_train)\n",
    "x_test_trans = poly.transform(x_test)\n",
    "\n",
    "#include bias parameter\n",
    "lr = LinearRegression()\n",
    "lr.fit(x_train_trans, y_train)\n",
    "y_pred = lr.predict(x_test_trans)\n",
    "print(mean_absolute_error(y_test, y_pred))\n",
    "plot(y_test=y_test, y_pred=y_pred)"
   ]
  },
  {
   "cell_type": "code",
   "execution_count": 9,
   "id": "9878dce9",
   "metadata": {},
   "outputs": [],
   "source": [
    "def get_all_people_ct_data(oppScrData):\n",
    "    # Delete rows with empty values\n",
    "    ct_data= oppScrData[['Age at CT', \"L1_HU_BMD\", \"TAT Area (cm2)\", 'Total Body                Area EA (cm2)',\n",
    "       'VAT Area (cm2)', 'SAT Area (cm2)', 'VAT/SAT     Ratio', 'Muscle HU',\n",
    "       ' Muscle Area (cm2)', 'L3 SMI (cm2/m2)', 'AoCa        Agatston',\n",
    "       'Liver HU    (Median)']]\n",
    "    n = ct_data.shape[0]\n",
    "    all_people_ct_data = []\n",
    "\n",
    "    for i in range(n):\n",
    "        row = ct_data.loc[i]\n",
    "        ignore = False\n",
    "        for j in row:\n",
    "          if pd.isna(j) or j == ' ': # There is an empty string somewhere in Liver column\n",
    "            ignore = True\n",
    "            break          \n",
    "\n",
    "        if not ignore:\n",
    "          all_people_ct_data.append(row)\n",
    "\n",
    "    return np.array(all_people_ct_data, dtype=np.float32)\n",
    "\n",
    "# dead_people_ct_data[0] -> biological age\n",
    "# dead_people_ct_data[1:] -> ct_data"
   ]
  },
  {
   "cell_type": "code",
   "execution_count": 10,
   "id": "d749fbc4",
   "metadata": {},
   "outputs": [],
   "source": [
    "a = get_all_people_ct_data(oppScrData)"
   ]
  },
  {
   "cell_type": "code",
   "execution_count": 11,
   "id": "df136c2f",
   "metadata": {},
   "outputs": [],
   "source": [
    "days_lost = -lr.predict(poly.fit_transform(a[:,1:]))"
   ]
  },
  {
   "cell_type": "code",
   "execution_count": 12,
   "id": "6cfed9cd",
   "metadata": {},
   "outputs": [],
   "source": [
    "a[:,0] = a[:,0]*365 + days_lost"
   ]
  },
  {
   "cell_type": "code",
   "execution_count": 13,
   "id": "77a35c8f",
   "metadata": {},
   "outputs": [],
   "source": [
    "X = a[:, 1:]\n",
    "X2=a[:, 1:]\n",
    "y = a[:,0]\n",
    "y2=a[:,0]/365"
   ]
  },
  {
   "cell_type": "code",
   "execution_count": 14,
   "id": "87e4a7d4",
   "metadata": {},
   "outputs": [],
   "source": [
    "\n",
    "from sklearn.preprocessing import MinMaxScaler,StandardScaler\n",
    "sc = StandardScaler()\n",
    "\n",
    "X_norm=normalize_ss(X)"
   ]
  },
  {
   "cell_type": "code",
   "execution_count": 15,
   "id": "450af5b0",
   "metadata": {},
   "outputs": [],
   "source": [
    "X_train, X_test, Y_train, Y_test = train_test_split(X, y, test_size=0.1, random_state=2)\n",
    "X_train2, X_test2, Y_train2, Y_test2 = train_test_split(X2, y2, test_size=0.1, random_state=2)\n",
    "\n",
    "\n",
    "\n",
    "\n",
    "X_norm_train, X_norm_test, Y_norm_train, Y_norm_test = train_test_split(X_norm, y2, test_size=0.1, random_state=2)"
   ]
  },
  {
   "cell_type": "code",
   "execution_count": 16,
   "id": "29170c98",
   "metadata": {},
   "outputs": [],
   "source": [
    "#Neural with normalization"
   ]
  },
  {
   "cell_type": "code",
   "execution_count": 17,
   "id": "a264e39d",
   "metadata": {},
   "outputs": [],
   "source": [
    "import pandas as pd\n",
    "import torch\n",
    "import numpy as np\n",
    "import torch.nn as nn\n",
    "import torch.nn.functional as F\n",
    "import torch.optim as optim\n",
    "from torchvision import transforms\n",
    "from torch.utils.data import Dataset, DataLoader,IterableDataset\n",
    "from sklearn.model_selection import train_test_split"
   ]
  },
  {
   "cell_type": "code",
   "execution_count": 18,
   "id": "03a639b2",
   "metadata": {},
   "outputs": [],
   "source": [
    "class CT_Dataset(Dataset):\n",
    "\n",
    "    def __init__(self, X, y):\n",
    "        self.ct_data = X\n",
    "        self.age = y \n",
    "\n",
    "    def __len__(self):\n",
    "        return len(self.ct_data)\n",
    "\n",
    "    def __getitem__(self, idx):\n",
    "        ct_data = self.ct_data[idx]     \n",
    "        age = np.array(self.age[idx], dtype=np.float32)\n",
    "        return torch.from_numpy(ct_data), torch.from_numpy(age)"
   ]
  },
  {
   "cell_type": "code",
   "execution_count": 19,
   "id": "de4cbf2e",
   "metadata": {},
   "outputs": [],
   "source": [
    "a = CT_Dataset(X=X_norm_train, y = Y_norm_train)\n",
    "train_set = DataLoader(a, batch_size=64, shuffle=True)"
   ]
  },
  {
   "cell_type": "code",
   "execution_count": 20,
   "id": "c716b10e",
   "metadata": {},
   "outputs": [],
   "source": [
    "def build_model():\n",
    "  return nn.Sequential(\n",
    "    nn.Linear(11, 128),\n",
    "\n",
    "    nn.Linear(128,64),\n",
    "\n",
    "    nn.Linear(64, 32), \n",
    "\n",
    "    nn.ReLU(),\n",
    "    nn.Linear(32, 1)\n",
    "    )\n",
    "\n",
    "model = build_model()"
   ]
  },
  {
   "cell_type": "code",
   "execution_count": 21,
   "id": "2aeb4d75",
   "metadata": {},
   "outputs": [
    {
     "name": "stderr",
     "output_type": "stream",
     "text": [
      "/Users/sanyamkakkar/opt/anaconda3/lib/python3.8/site-packages/torch/nn/modules/loss.py:529: UserWarning: Using a target size (torch.Size([64])) that is different to the input size (torch.Size([64, 1])). This will likely lead to incorrect results due to broadcasting. Please ensure they have the same size.\n",
      "  return F.mse_loss(input, target, reduction=self.reduction)\n",
      "/Users/sanyamkakkar/opt/anaconda3/lib/python3.8/site-packages/torch/nn/modules/loss.py:529: UserWarning: Using a target size (torch.Size([54])) that is different to the input size (torch.Size([54, 1])). This will likely lead to incorrect results due to broadcasting. Please ensure they have the same size.\n",
      "  return F.mse_loss(input, target, reduction=self.reduction)\n"
     ]
    },
    {
     "name": "stdout",
     "output_type": "stream",
     "text": [
      "​Train Epoch: 0 Loss = 20924253.334960938\n",
      "​Train Epoch: 1 Loss = 911616.9543457031\n",
      "​Train Epoch: 2 Loss = 771138.599609375\n",
      "​Train Epoch: 3 Loss = 761607.6467285156\n",
      "​Train Epoch: 4 Loss = 758133.6904296875\n",
      "​Train Epoch: 5 Loss = 760143.4738769531\n",
      "​Train Epoch: 6 Loss = 756746.4370117188\n",
      "​Train Epoch: 7 Loss = 759073.4284667969\n",
      "​Train Epoch: 8 Loss = 756728.3552246094\n",
      "​Train Epoch: 9 Loss = 760725.197265625\n",
      "​Train Epoch: 10 Loss = 759053.8916015625\n",
      "​Train Epoch: 11 Loss = 759651.7211914062\n",
      "​Train Epoch: 12 Loss = 759268.9970703125\n",
      "​Train Epoch: 13 Loss = 761140.9030761719\n",
      "​Train Epoch: 14 Loss = 760634.4855957031\n",
      "​Train Epoch: 15 Loss = 759112.8835449219\n",
      "​Train Epoch: 16 Loss = 761756.6540527344\n",
      "​Train Epoch: 17 Loss = 760481.5584716797\n",
      "​Train Epoch: 18 Loss = 761664.2667236328\n",
      "​Train Epoch: 19 Loss = 759204.869140625\n",
      "​Train Epoch: 20 Loss = 762607.2446289062\n",
      "​Train Epoch: 21 Loss = 760675.5478515625\n",
      "​Train Epoch: 22 Loss = 767243.9072265625\n",
      "​Train Epoch: 23 Loss = 761098.6506347656\n",
      "​Train Epoch: 24 Loss = 759243.6735839844\n",
      "​Train Epoch: 25 Loss = 764613.2175292969\n",
      "​Train Epoch: 26 Loss = 764123.6099853516\n",
      "​Train Epoch: 27 Loss = 757936.2351074219\n",
      "​Train Epoch: 28 Loss = 764508.07421875\n",
      "​Train Epoch: 29 Loss = 757810.5517578125\n",
      "​Train Epoch: 30 Loss = 762404.2658691406\n",
      "​Train Epoch: 31 Loss = 760092.1634521484\n",
      "​Train Epoch: 32 Loss = 760651.1147460938\n",
      "​Train Epoch: 33 Loss = 759264.4024658203\n",
      "​Train Epoch: 34 Loss = 761961.7790527344\n",
      "​Train Epoch: 35 Loss = 762901.8905029297\n",
      "​Train Epoch: 36 Loss = 761756.8699951172\n",
      "​Train Epoch: 37 Loss = 760729.5510253906\n",
      "​Train Epoch: 38 Loss = 769384.6088867188\n",
      "​Train Epoch: 39 Loss = 762507.1472167969\n",
      "​Train Epoch: 40 Loss = 762845.2379150391\n",
      "​Train Epoch: 41 Loss = 765677.7867431641\n",
      "​Train Epoch: 42 Loss = 758406.2869873047\n",
      "​Train Epoch: 43 Loss = 759983.6136474609\n",
      "​Train Epoch: 44 Loss = 761284.6281738281\n",
      "​Train Epoch: 45 Loss = 765573.376953125\n",
      "​Train Epoch: 46 Loss = 758822.7276611328\n",
      "​Train Epoch: 47 Loss = 761943.2902832031\n",
      "​Train Epoch: 48 Loss = 760431.4490966797\n",
      "​Train Epoch: 49 Loss = 763661.123046875\n",
      "​Train Epoch: 50 Loss = 763499.978515625\n",
      "​Train Epoch: 51 Loss = 764282.9001464844\n",
      "​Train Epoch: 52 Loss = 759809.0065917969\n",
      "​Train Epoch: 53 Loss = 767363.0031738281\n",
      "​Train Epoch: 54 Loss = 762795.3317871094\n",
      "​Train Epoch: 55 Loss = 768793.4926757812\n",
      "​Train Epoch: 56 Loss = 758943.0841064453\n",
      "​Train Epoch: 57 Loss = 764577.7739257812\n",
      "​Train Epoch: 58 Loss = 761980.697265625\n",
      "​Train Epoch: 59 Loss = 758706.5493164062\n",
      "​Train Epoch: 60 Loss = 763827.2687988281\n",
      "​Train Epoch: 61 Loss = 764305.9533691406\n",
      "​Train Epoch: 62 Loss = 763334.6066894531\n",
      "​Train Epoch: 63 Loss = 762080.8227539062\n",
      "​Train Epoch: 64 Loss = 757898.3231201172\n",
      "​Train Epoch: 65 Loss = 761905.8107910156\n",
      "​Train Epoch: 66 Loss = 760751.7863769531\n",
      "​Train Epoch: 67 Loss = 758104.2672119141\n",
      "​Train Epoch: 68 Loss = 759709.4779052734\n",
      "​Train Epoch: 69 Loss = 759015.9022216797\n",
      "​Train Epoch: 70 Loss = 762775.5284423828\n",
      "​Train Epoch: 71 Loss = 761933.7041015625\n",
      "​Train Epoch: 72 Loss = 759959.1146240234\n",
      "​Train Epoch: 73 Loss = 766177.5871582031\n",
      "​Train Epoch: 74 Loss = 762084.3210449219\n",
      "​Train Epoch: 75 Loss = 762747.0799560547\n",
      "​Train Epoch: 76 Loss = 758976.0583496094\n",
      "​Train Epoch: 77 Loss = 759912.728515625\n",
      "​Train Epoch: 78 Loss = 765116.4582519531\n",
      "​Train Epoch: 79 Loss = 760695.7254638672\n",
      "​Train Epoch: 80 Loss = 764353.0197753906\n",
      "​Train Epoch: 81 Loss = 768870.4317626953\n",
      "​Train Epoch: 82 Loss = 757472.6748046875\n",
      "​Train Epoch: 83 Loss = 763028.580078125\n",
      "​Train Epoch: 84 Loss = 759720.6798095703\n",
      "​Train Epoch: 85 Loss = 762680.7224121094\n",
      "​Train Epoch: 86 Loss = 760559.4357910156\n",
      "​Train Epoch: 87 Loss = 761324.0454101562\n",
      "​Train Epoch: 88 Loss = 758208.0100097656\n",
      "​Train Epoch: 89 Loss = 761269.7159423828\n",
      "​Train Epoch: 90 Loss = 763669.2200927734\n",
      "​Train Epoch: 91 Loss = 761167.5906982422\n",
      "​Train Epoch: 92 Loss = 760239.1047363281\n",
      "​Train Epoch: 93 Loss = 763151.82421875\n",
      "​Train Epoch: 94 Loss = 761020.8968505859\n",
      "​Train Epoch: 95 Loss = 760005.7082519531\n",
      "​Train Epoch: 96 Loss = 759672.0050048828\n",
      "​Train Epoch: 97 Loss = 758697.7243652344\n",
      "​Train Epoch: 98 Loss = 765478.6773681641\n",
      "​Train Epoch: 99 Loss = 766132.5263671875\n"
     ]
    }
   ],
   "source": [
    "criterion = nn.MSELoss()\n",
    "\n",
    "def train_model(model, train_loader, criterion, T):\n",
    "  model.train()\n",
    "  opt = optim.Adam(model.parameters(), lr=0.001, weight_decay=0.25)\n",
    "  #opt = optim.SGD(model.parameters(), lr=0.001, momentum=0.9)\n",
    "  for epoch in range(T): \n",
    "      running_loss = 0\n",
    "      for data in enumerate(train_loader):\n",
    "          ct_data, actual_age = data[1][0], data[1][1]\n",
    "        \n",
    "          opt.zero_grad()\n",
    "          predicted_age = model(ct_data)      \n",
    "          loss = criterion(predicted_age, actual_age)\n",
    "          running_loss += loss.item()*train_loader.batch_size\n",
    "          loss.backward() \n",
    "          opt.step()\n",
    "\n",
    "  \n",
    "      print(\"​Train Epoch: \"+str(epoch) + \" Loss =\", str(running_loss))\n",
    "\n",
    "  model.train(mode=False)\n",
    "\n",
    "model = build_model()\n",
    "train_model(model, train_set, criterion, T = 100)"
   ]
  },
  {
   "cell_type": "code",
   "execution_count": 22,
   "id": "6185cc12",
   "metadata": {},
   "outputs": [
    {
     "data": {
      "text/plain": [
       "<torch.utils.data.dataloader.DataLoader at 0x7ff460485280>"
      ]
     },
     "execution_count": 22,
     "metadata": {},
     "output_type": "execute_result"
    }
   ],
   "source": [
    "b = CT_Dataset(X=X_norm_test, y = Y_norm_test)\n",
    "test_set = DataLoader(b, batch_size=32)\n",
    "test_set"
   ]
  },
  {
   "cell_type": "code",
   "execution_count": 23,
   "id": "e830d794",
   "metadata": {},
   "outputs": [
    {
     "name": "stderr",
     "output_type": "stream",
     "text": [
      "/Users/sanyamkakkar/opt/anaconda3/lib/python3.8/site-packages/torch/nn/modules/loss.py:529: UserWarning: Using a target size (torch.Size([32])) that is different to the input size (torch.Size([32, 1])). This will likely lead to incorrect results due to broadcasting. Please ensure they have the same size.\n",
      "  return F.mse_loss(input, target, reduction=self.reduction)\n",
      "/Users/sanyamkakkar/opt/anaconda3/lib/python3.8/site-packages/torch/nn/modules/loss.py:529: UserWarning: Using a target size (torch.Size([24])) that is different to the input size (torch.Size([24, 1])). This will likely lead to incorrect results due to broadcasting. Please ensure they have the same size.\n",
      "  return F.mse_loss(input, target, reduction=self.reduction)\n"
     ]
    },
    {
     "data": {
      "text/plain": [
       "2256.905921936035"
      ]
     },
     "execution_count": 23,
     "metadata": {},
     "output_type": "execute_result"
    }
   ],
   "source": [
    "def evaluate_model(model, test_loader, criterion):\n",
    "  model.eval()\n",
    "  running_loss = 0\n",
    "  with torch.no_grad():\n",
    "    for data in enumerate(test_loader):\n",
    "          ct_data, actual_age = data[1][0], data[1][1]\n",
    "          predicted_age = model(ct_data)\n",
    "          loss = criterion(predicted_age, actual_age)\n",
    "          running_loss += loss.item()\n",
    "    \n",
    "  return running_loss\n",
    "\n",
    "evaluate_model(model, test_set, criterion)"
   ]
  },
  {
   "cell_type": "code",
   "execution_count": 24,
   "id": "091ceb55",
   "metadata": {},
   "outputs": [],
   "source": [
    "predict=model(torch.tensor(X_norm_test))"
   ]
  },
  {
   "cell_type": "code",
   "execution_count": 25,
   "id": "ae237db3",
   "metadata": {},
   "outputs": [],
   "source": [
    "preict_np=predict.detach().numpy()"
   ]
  },
  {
   "cell_type": "code",
   "execution_count": 26,
   "id": "551d99d4",
   "metadata": {},
   "outputs": [
    {
     "name": "stdout",
     "output_type": "stream",
     "text": [
      "RMSE: 8.88\n",
      "MApe: 0.10\n",
      "error 6.2630916\n"
     ]
    }
   ],
   "source": [
    "Mse = mean_squared_error(Y_norm_test , preict_np\n",
    "                         )\n",
    "error=mean_absolute_error(Y_norm_test , preict_np)\n",
    "mape=mean_absolute_percentage_error(Y_norm_test , preict_np)\n",
    "print(\"RMSE: %.2f\" % (Mse**(1/2.0)))\n",
    "print(\"MApe: %.2f\" %(mape))\n",
    "print(\"error\",np.mean(error))"
   ]
  },
  {
   "cell_type": "code",
   "execution_count": 51,
   "id": "590b56dc",
   "metadata": {},
   "outputs": [
    {
     "data": {
      "image/png": "[encoded data removed]",
      "text/plain": [
       "<Figure size 432x288 with 1 Axes>"
      ]
     },
     "metadata": {
      "needs_background": "light"
     },
     "output_type": "display_data"
    }
   ],
   "source": [
    "plot(y_test=Y_norm_test, y_pred=preict_np)"
   ]
  },
  {
   "cell_type": "code",
   "execution_count": null,
   "id": "6185c0a7",
   "metadata": {},
   "outputs": [],
   "source": []
  }
 ],
 "metadata": {
  "kernelspec": {
   "display_name": "Python 3",
   "language": "python",
   "name": "python3"
  },
  "language_info": {
   "codemirror_mode": {
    "name": "ipython",
    "version": 3
   },
   "file_extension": ".py",
   "mimetype": "text/x-python",
   "name": "python",
   "nbconvert_exporter": "python",
   "pygments_lexer": "ipython3",
   "version": "3.8.8"
  }
 },
 "nbformat": 4,
 "nbformat_minor": 5
}
