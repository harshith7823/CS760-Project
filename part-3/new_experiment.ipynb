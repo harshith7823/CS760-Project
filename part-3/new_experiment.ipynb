{
 "cells": [
  {
   "cell_type": "code",
   "execution_count": 154,
   "metadata": {
    "id": "YTWqc5Qkqqom"
   },
   "outputs": [],
   "source": [
    "import pandas as pd\n",
    "import math\n",
    "import numpy as np\n",
    "from sklearn.model_selection import train_test_split\n",
    "from sklearn.model_selection import cross_val_score\n",
    "import matplotlib.pyplot as plt\n",
    "from sklearn.preprocessing import PolynomialFeatures\n",
    "from sklearn.linear_model import LinearRegression\n",
    "from sklearn.metrics import r2_score\n",
    "from sklearn.preprocessing import StandardScaler\n",
    "from sklearn import linear_model\n",
    "\n",
    "from sklearn.model_selection import RandomizedSearchCV\n",
    "from sklearn.model_selection import GridSearchCV\n",
    "from sklearn.ensemble import ExtraTreesRegressor\n",
    "from sklearn.ensemble import RandomForestRegressor\n",
    "from sklearn.model_selection import RandomizedSearchCV\n",
    "from sklearn.ensemble import ExtraTreesRegressor\n",
    "import torch\n",
    "from sklearn.metrics import mean_squared_error\n",
    "from sklearn.metrics import mean_absolute_percentage_error"
   ]
  },
  {
   "cell_type": "code",
   "execution_count": 102,
   "metadata": {
    "id": "a2VaIIHcqvtg"
   },
   "outputs": [],
   "source": [
    "oppScrData = pd.read_excel ('/Users/sanyamkakkar/Desktop/Spring/Ml760/CS760-Project/OppScrData.xlsx')"
   ]
  },
  {
   "cell_type": "markdown",
   "metadata": {
    "id": "8y3afs9j7yJj"
   },
   "source": [
    "Utils"
   ]
  },
  {
   "cell_type": "code",
   "execution_count": 103,
   "metadata": {
    "id": "cDaUN5w82BlA"
   },
   "outputs": [],
   "source": [
    "def normalize_ss(data):\n",
    "  return StandardScaler().fit_transform(data)\n",
    "\n",
    "def normalize_min_max(data):\n",
    "    n = data.shape[1]    \n",
    "    for i in range(n-1):\n",
    "      data[:,i] = (data[:,i] - np.min(data[:,i]))/(np.max(data[:,i])- np.min(data[:,i]))\n",
    "    return data\n",
    "\n",
    "def plot(y_pred, y_test):\n",
    "  plt.figure()\n",
    "  x = [i+1 for i in range(len(y_test))]\n",
    "  plt.plot((x,x),([i for i in y_pred], [j for j in y_test]),c='green')\n",
    "  plt.scatter(x, y_pred, label=\"predicted_y\")\n",
    "  plt.scatter(x, y_test, label=\"actual_y\")\n",
    "  plt.legend()\n",
    "  plt.show()\n",
    "\n",
    "def mean_absolute_error(actual, predictions):\n",
    "  n = len(actual)\n",
    "  return sum(abs(actual - predictions))/n\n"
   ]
  },
  {
   "cell_type": "markdown",
   "metadata": {
    "id": "zRdYpOzNq6Ix"
   },
   "source": [
    "Get all dead people"
   ]
  },
  {
   "cell_type": "code",
   "execution_count": 104,
   "metadata": {
    "id": "GSK2C3yAq5S_"
   },
   "outputs": [],
   "source": [
    "def get_dead_people_ct_data(oppScrData):\n",
    "    # Delete rows with empty values\n",
    "    ct_data= oppScrData[['Age at CT', 'DEATH [d from CT]','Sex', \"L1_HU_BMD\", \"TAT Area (cm2)\", 'Total Body                Area EA (cm2)',\n",
    "       'VAT Area (cm2)', 'SAT Area (cm2)', 'VAT/SAT     Ratio', 'Muscle HU',\n",
    "       ' Muscle Area (cm2)', 'L3 SMI (cm2/m2)', 'AoCa        Agatston',\n",
    "       'Liver HU    (Median)']]\n",
    "    n = ct_data.shape[0]\n",
    "    dead_people_ct_data = []\n",
    "\n",
    "    for i in range(n):\n",
    "        row = ct_data.loc[i]\n",
    "        ignore = False\n",
    "        for j in row:\n",
    "          if pd.isna(j) or j == ' ': # There is an empty string somewhere in Liver column\n",
    "            ignore = True\n",
    "            break          \n",
    "\n",
    "        if (not ignore) and (not pd.isna(row['DEATH [d from CT]'])):\n",
    "          row[0] = (row['Age at CT']*365 + row['DEATH [d from CT]']) - ((76.1*365) if row['Sex'] == \"Male\" else (81.1*365)          )\n",
    "          dead_people_ct_data.append(row)\n",
    "\n",
    "    dead_people_ct_data = np.array(dead_people_ct_data)\n",
    "    dead_people_ct_data = np.delete(dead_people_ct_data, 1, 1)\n",
    "    dead_people_ct_data = np.delete(dead_people_ct_data, 1, 1)\n",
    "    return np.array(dead_people_ct_data, dtype=np.float32)\n",
    "\n",
    "# dead_people_ct_data[0] -> number of days lost\n",
    "# dead_people_ct_data[1:] -> ct_data\n"
   ]
  },
  {
   "cell_type": "code",
   "execution_count": 105,
   "metadata": {
    "colab": {
     "base_uri": "https://localhost:8080/"
    },
    "id": "D0m_OPzX7ANQ",
    "outputId": "44638792-994b-4b78-9865-49072723d5e2"
   },
   "outputs": [
    {
     "name": "stderr",
     "output_type": "stream",
     "text": [
      "<ipython-input-104-81c8ef95b4dd>:19: SettingWithCopyWarning: \n",
      "A value is trying to be set on a copy of a slice from a DataFrame\n",
      "\n",
      "See the caveats in the documentation: https://pandas.pydata.org/pandas-docs/stable/user_guide/indexing.html#returning-a-view-versus-a-copy\n",
      "  row[0] = (row['Age at CT']*365 + row['DEATH [d from CT]']) - ((76.1*365) if row['Sex'] == \"Male\" else (81.1*365)          )\n"
     ]
    }
   ],
   "source": [
    "dead_people_ct_data = get_dead_people_ct_data(oppScrData)"
   ]
  },
  {
   "cell_type": "code",
   "execution_count": 106,
   "metadata": {
    "id": "xVZ9S72Isik0"
   },
   "outputs": [
    {
     "data": {
      "text/plain": [
       "array([[ 112.      ,  396.8     ,  716.008   , ...,   44.135765,\n",
       "        4742.468   ,   49.      ],\n",
       "       [ 185.      ,  600.24866 ,  956.5189  , ...,   88.98985 ,\n",
       "         750.297   ,   45.      ],\n",
       "       [ 119.      ,  637.1162  ,  843.8054  , ...,   48.639385,\n",
       "          13.587   ,   30.      ],\n",
       "       ...,\n",
       "       [ 231.      ,  315.98462 ,  875.9513  , ...,   64.26262 ,\n",
       "          40.395   ,   40.      ],\n",
       "       [ 104.      ,  101.74572 ,  393.135   , ...,   47.89861 ,\n",
       "        7684.902   ,   55.      ],\n",
       "       [ 186.      ,  536.3838  ,  823.67566 , ...,   57.230667,\n",
       "         403.442   ,   63.      ]], dtype=float32)"
      ]
     },
     "execution_count": 106,
     "metadata": {},
     "output_type": "execute_result"
    }
   ],
   "source": [
    "y = dead_people_ct_data[:,0]\n",
    "# X = normalize_ss(dead_people_ct_data[:,1:])\n",
    "# X = normalize_min_max(dead_people_ct_data[:,1:])\n",
    "X = dead_people_ct_data[:,1:]\n",
    "x_train, x_test, y_train, y_test = train_test_split(X, y, test_size=0.1, random_state=2)\n",
    "\n",
    "x_train"
   ]
  },
  {
   "cell_type": "markdown",
   "metadata": {
    "id": "L6KLBwzK5wzW"
   },
   "source": [
    "Linear"
   ]
  },
  {
   "cell_type": "code",
   "execution_count": 107,
   "metadata": {
    "colab": {
     "base_uri": "https://localhost:8080/",
     "height": 283
    },
    "id": "UAzE-Tev1w0J",
    "outputId": "cfeb2c01-ccb1-45cd-b60a-10c7eafa924e"
   },
   "outputs": [
    {
     "name": "stdout",
     "output_type": "stream",
     "text": [
      "0.081233395863205\n"
     ]
    },
    {
     "data": {
      "image/png": "[encoded data removed]",
      "text/plain": [
       "<Figure size 432x288 with 1 Axes>"
      ]
     },
     "metadata": {
      "needs_background": "light"
     },
     "output_type": "display_data"
    }
   ],
   "source": [
    "lr = LinearRegression()\n",
    "lr.fit(x_train, y_train)\n",
    "y_pred = lr.predict(x_test)\n",
    "print(r2_score(y_test, y_pred))\n",
    "plot(y_test=y_test, y_pred=y_pred)"
   ]
  },
  {
   "cell_type": "markdown",
   "metadata": {
    "id": "oy1Gte1K5yJ2"
   },
   "source": [
    "Polynomial"
   ]
  },
  {
   "cell_type": "code",
   "execution_count": 108,
   "metadata": {
    "colab": {
     "base_uri": "https://localhost:8080/",
     "height": 283
    },
    "id": "jQ1n43rW3l8p",
    "outputId": "ed7d0af2-3d46-4bab-e0d6-fc26be69d774"
   },
   "outputs": [
    {
     "name": "stdout",
     "output_type": "stream",
     "text": [
      "3697.9448046875\n"
     ]
    },
    {
     "data": {
      "image/png": "[encoded data removed]",
      "text/plain": [
       "<Figure size 432x288 with 1 Axes>"
      ]
     },
     "metadata": {
      "needs_background": "light"
     },
     "output_type": "display_data"
    }
   ],
   "source": [
    "poly = PolynomialFeatures(degree=3, include_bias=True)\n",
    "x_train_trans = poly.fit_transform(x_train)\n",
    "x_test_trans = poly.transform(x_test)\n",
    "\n",
    "#include bias parameter\n",
    "lr = LinearRegression()\n",
    "lr.fit(x_train_trans, y_train)\n",
    "y_pred = lr.predict(x_test_trans)\n",
    "print(mean_absolute_error(y_test, y_pred))\n",
    "plot(y_test=y_test, y_pred=y_pred)"
   ]
  },
  {
   "cell_type": "code",
   "execution_count": 13,
   "metadata": {
    "id": "tASMZ5XGutyR"
   },
   "outputs": [
    {
     "ename": "SyntaxError",
     "evalue": "invalid syntax (<ipython-input-13-d218032810dd>, line 1)",
     "output_type": "error",
     "traceback": [
      "\u001b[0;36m  File \u001b[0;32m\"<ipython-input-13-d218032810dd>\"\u001b[0;36m, line \u001b[0;32m1\u001b[0m\n\u001b[0;31m    Fill biological column\u001b[0m\n\u001b[0m         ^\u001b[0m\n\u001b[0;31mSyntaxError\u001b[0m\u001b[0;31m:\u001b[0m invalid syntax\n"
     ]
    }
   ],
   "source": [
    "Fill biological column"
   ]
  },
  {
   "cell_type": "code",
   "execution_count": 109,
   "metadata": {
    "id": "IqL6eCJnph4y"
   },
   "outputs": [],
   "source": [
    "def get_all_people_ct_data(oppScrData):\n",
    "    # Delete rows with empty values\n",
    "    ct_data= oppScrData[['Age at CT', \"L1_HU_BMD\", \"TAT Area (cm2)\", 'Total Body                Area EA (cm2)',\n",
    "       'VAT Area (cm2)', 'SAT Area (cm2)', 'VAT/SAT     Ratio', 'Muscle HU',\n",
    "       ' Muscle Area (cm2)', 'L3 SMI (cm2/m2)', 'AoCa        Agatston',\n",
    "       'Liver HU    (Median)']]\n",
    "    n = ct_data.shape[0]\n",
    "    all_people_ct_data = []\n",
    "\n",
    "    for i in range(n):\n",
    "        row = ct_data.loc[i]\n",
    "        ignore = False\n",
    "        for j in row:\n",
    "          if pd.isna(j) or j == ' ': # There is an empty string somewhere in Liver column\n",
    "            ignore = True\n",
    "            break          \n",
    "\n",
    "        if not ignore:\n",
    "          all_people_ct_data.append(row)\n",
    "\n",
    "    return np.array(all_people_ct_data, dtype=np.float32)\n",
    "\n",
    "# dead_people_ct_data[0] -> biological age\n",
    "# dead_people_ct_data[1:] -> ct_data\n"
   ]
  },
  {
   "cell_type": "code",
   "execution_count": 110,
   "metadata": {
    "id": "BpTz1fSVqXwp"
   },
   "outputs": [
    {
     "data": {
      "text/plain": [
       "array([[  55.      ,  192.      ,  485.50287 , ...,   48.41319 ,\n",
       "        2709.064   ,   52.      ],\n",
       "       [  52.      ,  256.      ,  490.05453 , ...,   50.101334,\n",
       "           0.      ,   54.      ],\n",
       "       [  60.      ,  149.      ,  289.1081  , ...,   69.11585 ,\n",
       "        2586.575   ,   57.      ],\n",
       "       ...,\n",
       "       [  63.      ,  135.      ,  822.2872  , ...,   57.78635 ,\n",
       "        1115.997   ,   45.      ],\n",
       "       [  55.      ,  219.      ,  418.2     , ...,   50.929787,\n",
       "        3515.371   ,   44.      ],\n",
       "       [  61.      ,  151.      ,   61.54359 , ...,   29.688124,\n",
       "        3015.129   ,   54.      ]], dtype=float32)"
      ]
     },
     "execution_count": 110,
     "metadata": {},
     "output_type": "execute_result"
    }
   ],
   "source": [
    "a = get_all_people_ct_data(oppScrData)\n",
    "a"
   ]
  },
  {
   "cell_type": "code",
   "execution_count": 111,
   "metadata": {
    "colab": {
     "base_uri": "https://localhost:8080/"
    },
    "id": "zlKFPIuwrd9H",
    "outputId": "14e0a44d-1a32-422d-a06b-65103362207a"
   },
   "outputs": [
    {
     "data": {
      "text/plain": [
       "array([5.5000000e+01, 1.9200000e+02, 4.8550287e+02, 6.9431427e+02,\n",
       "       1.8349715e+02, 3.0200858e+02, 6.0758919e-01, 1.6150124e+01,\n",
       "       1.2396874e+02, 4.8413189e+01, 2.7090640e+03, 5.2000000e+01],\n",
       "      dtype=float32)"
      ]
     },
     "execution_count": 111,
     "metadata": {},
     "output_type": "execute_result"
    }
   ],
   "source": [
    "a[0]"
   ]
  },
  {
   "cell_type": "code",
   "execution_count": 112,
   "metadata": {
    "colab": {
     "base_uri": "https://localhost:8080/"
    },
    "id": "LkhbzGukspNJ",
    "outputId": "efee6c4b-fb73-4bea-bef9-9ac1e0fb6612"
   },
   "outputs": [
    {
     "data": {
      "text/plain": [
       "8878"
      ]
     },
     "execution_count": 112,
     "metadata": {},
     "output_type": "execute_result"
    }
   ],
   "source": [
    "len(a)"
   ]
  },
  {
   "cell_type": "code",
   "execution_count": 113,
   "metadata": {
    "id": "1TT0VhWVr1Gl"
   },
   "outputs": [],
   "source": [
    "days_lost = -lr.predict(poly.fit_transform(a[:,1:]))"
   ]
  },
  {
   "cell_type": "code",
   "execution_count": 114,
   "metadata": {
    "colab": {
     "base_uri": "https://localhost:8080/"
    },
    "id": "57atMtiXsBSN",
    "outputId": "1168897e-afcf-4aa7-b51d-01dfff19fafc"
   },
   "outputs": [
    {
     "data": {
      "text/plain": [
       "array([2689.4756, 5214.9404, 2226.6826, ..., 6868.3115, 4699.1787,\n",
       "       1836.4126], dtype=float32)"
      ]
     },
     "execution_count": 114,
     "metadata": {},
     "output_type": "execute_result"
    }
   ],
   "source": [
    "days_lost"
   ]
  },
  {
   "cell_type": "code",
   "execution_count": 115,
   "metadata": {
    "id": "fLJx9jCqsMA1"
   },
   "outputs": [],
   "source": [
    "a[:,0] = a[:,0]*365 + days_lost\n"
   ]
  },
  {
   "cell_type": "code",
   "execution_count": 116,
   "metadata": {
    "colab": {
     "base_uri": "https://localhost:8080/"
    },
    "id": "2_4Zj_HjsfME",
    "outputId": "b8f6cbb1-bdb1-46f7-f7ab-35c37cd6eff0"
   },
   "outputs": [
    {
     "data": {
      "text/plain": [
       "array([2.2764477e+04, 1.9200000e+02, 4.8550287e+02, 6.9431427e+02,\n",
       "       1.8349715e+02, 3.0200858e+02, 6.0758919e-01, 1.6150124e+01,\n",
       "       1.2396874e+02, 4.8413189e+01, 2.7090640e+03, 5.2000000e+01],\n",
       "      dtype=float32)"
      ]
     },
     "execution_count": 116,
     "metadata": {},
     "output_type": "execute_result"
    }
   ],
   "source": [
    "a[0]"
   ]
  },
  {
   "cell_type": "code",
   "execution_count": 117,
   "metadata": {
    "colab": {
     "base_uri": "https://localhost:8080/"
    },
    "id": "78GbS8TVs-50",
    "outputId": "ded57c7f-c465-4359-8b53-e9192c9f85e1"
   },
   "outputs": [
    {
     "data": {
      "text/plain": [
       "array([62.368427, 66.28751 , 66.1005  , ..., 81.81729 , 67.874466,\n",
       "       66.031265], dtype=float32)"
      ]
     },
     "execution_count": 117,
     "metadata": {},
     "output_type": "execute_result"
    }
   ],
   "source": [
    "a[:,0]/365"
   ]
  },
  {
   "cell_type": "code",
   "execution_count": 118,
   "metadata": {
    "id": "bK9Gy7GrtDJ4"
   },
   "outputs": [],
   "source": [
    "X = a[:, 1:]\n",
    "X2=a[:, 1:]\n",
    "y = a[:,0]\n",
    "y2=a[:,0]/365"
   ]
  },
  {
   "cell_type": "code",
   "execution_count": 120,
   "metadata": {
    "colab": {
     "base_uri": "https://localhost:8080/"
    },
    "id": "glvghKriuLvP",
    "outputId": "525bb404-87ae-4292-b33e-77535dc784a8"
   },
   "outputs": [],
   "source": [
    "X\n",
    "\n",
    "from sklearn.preprocessing import MinMaxScaler,StandardScaler\n",
    "sc = StandardScaler()\n",
    "\n",
    "X_norm=normalize_ss(X)"
   ]
  },
  {
   "cell_type": "code",
   "execution_count": 230,
   "metadata": {
    "colab": {
     "base_uri": "https://localhost:8080/"
    },
    "id": "nX7y7n_MuMOM",
    "outputId": "40310d05-6a5f-4900-d1fb-d10a6e83bbae"
   },
   "outputs": [],
   "source": [
    "X_train, X_test, Y_train, Y_test = train_test_split(X, y, test_size=0.1, random_state=2)\n",
    "X_train2, X_test2, Y_train2, Y_test2 = train_test_split(X2, y2, test_size=0.1, random_state=2)\n",
    "\n",
    "\n",
    "\n",
    "\n",
    "X_norm_train, X_norm_test, Y_norm_train, Y_norm_test = train_test_split(X_norm, y2, test_size=0.1, random_state=2)\n"
   ]
  },
  {
   "cell_type": "code",
   "execution_count": 269,
   "metadata": {},
   "outputs": [
    {
     "data": {
      "text/plain": [
       "array([71.5491  , 62.07394 , 68.605286, ..., 62.82948 , 62.67728 ,\n",
       "       62.310852], dtype=float32)"
      ]
     },
     "execution_count": 269,
     "metadata": {},
     "output_type": "execute_result"
    }
   ],
   "source": [
    "Y_norm_train"
   ]
  },
  {
   "cell_type": "code",
   "execution_count": 88,
   "metadata": {
    "id": "tHLghF_nuNIG"
   },
   "outputs": [
    {
     "data": {
      "text/plain": [
       "{'n_estimators': 1000,\n",
       " 'min_samples_split': 12,\n",
       " 'min_samples_leaf': 7,\n",
       " 'max_features': 6,\n",
       " 'max_depth': 20,\n",
       " 'bootstrap': True}"
      ]
     },
     "execution_count": 88,
     "metadata": {},
     "output_type": "execute_result"
    }
   ],
   "source": [
    "\n",
    "\n",
    "\n",
    "RFmod2 = RandomForestRegressor(random_state=21)\n",
    "\n",
    "#Choose some hyperparameter values \n",
    "param_grid2 = {\n",
    "    'bootstrap': [True],\n",
    "    'max_depth': [10,20,30],\n",
    "    'max_features': [2, 3,4,5,6],\n",
    "    'min_samples_leaf': [3, 4, 5,6,7,8,9,10],\n",
    "    'min_samples_split': [8, 10, 12,14,16,18,20],\n",
    "    'n_estimators': [50,30,40,20,10,100, 200, 300, 1000]\n",
    "}\n",
    "clfRF2 = RandomizedSearchCV(RFmod2,param_grid2,#model and parameters\n",
    "                             #number of cross validation folds\n",
    "                             )\n",
    "\n",
    "\n",
    "clfRF2.fit(X_train,Y_train)\n",
    "params3=clfRF2.best_params_\n",
    "params3\n"
   ]
  },
  {
   "cell_type": "code",
   "execution_count": 89,
   "metadata": {},
   "outputs": [
    {
     "name": "stderr",
     "output_type": "stream",
     "text": [
      "/Users/sanyamkakkar/opt/anaconda3/lib/python3.8/site-packages/sklearn/model_selection/_search.py:292: UserWarning: The total space of parameters 1 is smaller than n_iter=10. Running 1 iterations. For exhaustive searches, use GridSearchCV.\n",
      "  warnings.warn(\n"
     ]
    },
    {
     "data": {
      "text/plain": [
       "0.2960801515298803"
      ]
     },
     "execution_count": 89,
     "metadata": {},
     "output_type": "execute_result"
    }
   ],
   "source": [
    "RFparams2={'n_estimators':[30],\n",
    "          'min_samples_split':[16],\n",
    "          'min_samples_leaf': [9],\n",
    "           'max_features': [6],\n",
    "           'max_depth': [30],\n",
    "           'bootstrap': [True]}\n",
    "\n",
    "rf = RandomForestRegressor(random_state = 21)\n",
    "\n",
    "\n",
    "clf= RandomizedSearchCV(rf,RFparams2,refit=True)\n",
    "clf.fit(X_train,Y_train)\n",
    "        \n",
    "clf.best_estimator_.score(X_test, Y_test)"
   ]
  },
  {
   "cell_type": "code",
   "execution_count": 90,
   "metadata": {},
   "outputs": [],
   "source": [
    "y_pred=clf.predict(X_test)"
   ]
  },
  {
   "cell_type": "code",
   "execution_count": 91,
   "metadata": {},
   "outputs": [
    {
     "data": {
      "text/plain": [
       "1909.4241374759786"
      ]
     },
     "execution_count": 91,
     "metadata": {},
     "output_type": "execute_result"
    }
   ],
   "source": [
    "mean_absolute_error(Y_test,y_pred)"
   ]
  },
  {
   "cell_type": "markdown",
   "metadata": {},
   "source": [
    "with years\n"
   ]
  },
  {
   "cell_type": "code",
   "execution_count": 31,
   "metadata": {},
   "outputs": [
    {
     "data": {
      "text/plain": [
       "{'n_estimators': 200,\n",
       " 'min_samples_split': 14,\n",
       " 'min_samples_leaf': 10,\n",
       " 'max_features': 5,\n",
       " 'max_depth': 30,\n",
       " 'bootstrap': True}"
      ]
     },
     "execution_count": 31,
     "metadata": {},
     "output_type": "execute_result"
    }
   ],
   "source": [
    "\n",
    "RFmod2 = RandomForestRegressor(random_state=21)\n",
    "\n",
    "#Choose some hyperparameter values \n",
    "param_grid2 = {\n",
    "    'bootstrap': [True],\n",
    "    'max_depth': [10,20,30],\n",
    "    'max_features': [2, 3,4,5,6],\n",
    "    'min_samples_leaf': [3, 4, 5,6,7,8,9,10],\n",
    "    'min_samples_split': [8, 10, 12,14,16,18,20],\n",
    "    'n_estimators': [50,30,40,20,10,100, 200, 300, 1000]\n",
    "}\n",
    "clfRF2 = RandomizedSearchCV(RFmod2,param_grid2,#model and parameters\n",
    "                             #number of cross validation folds\n",
    "                             )\n",
    "\n",
    "\n",
    "clfRF2.fit(X_train,Y_train)\n",
    "params3=clfRF2.best_params_\n",
    "params3\n",
    "\n"
   ]
  },
  {
   "cell_type": "code",
   "execution_count": 32,
   "metadata": {},
   "outputs": [
    {
     "name": "stderr",
     "output_type": "stream",
     "text": [
      "/Users/sanyamkakkar/opt/anaconda3/lib/python3.8/site-packages/sklearn/model_selection/_search.py:292: UserWarning: The total space of parameters 1 is smaller than n_iter=10. Running 1 iterations. For exhaustive searches, use GridSearchCV.\n",
      "  warnings.warn(\n"
     ]
    },
    {
     "data": {
      "text/plain": [
       "0.2886298616795522"
      ]
     },
     "execution_count": 32,
     "metadata": {},
     "output_type": "execute_result"
    }
   ],
   "source": [
    "RFparams2={'n_estimators':[200],\n",
    "          'min_samples_split':[14],\n",
    "          'min_samples_leaf': [10],\n",
    "           'max_features': [5],\n",
    "           'max_depth': [30],\n",
    "           'bootstrap': [True]}\n",
    "\n",
    "rf = RandomForestRegressor(random_state = 21)\n",
    "\n",
    "\n",
    "clf= RandomizedSearchCV(rf,RFparams2,refit=True)\n",
    "clf.fit(X_train2,Y_train2)\n",
    "        \n",
    "clf.best_estimator_.score(X_test2, Y_test2)"
   ]
  },
  {
   "cell_type": "code",
   "execution_count": 33,
   "metadata": {},
   "outputs": [
    {
     "data": {
      "text/plain": [
       "5.225219109203804"
      ]
     },
     "execution_count": 33,
     "metadata": {},
     "output_type": "execute_result"
    }
   ],
   "source": [
    "y_pred2=clf.predict(X_test2)\n",
    "mean_absolute_error(Y_test2,y_pred2)"
   ]
  },
  {
   "cell_type": "code",
   "execution_count": 240,
   "metadata": {},
   "outputs": [],
   "source": [
    "import pandas as pd\n",
    "import torch\n",
    "import numpy as np\n",
    "import torch.nn as nn\n",
    "import torch.nn.functional as F\n",
    "import torch.optim as optim\n",
    "from torchvision import transforms\n",
    "from torch.utils.data import Dataset, DataLoader,IterableDataset\n",
    "from sklearn.model_selection import train_test_split"
   ]
  },
  {
   "cell_type": "code",
   "execution_count": 323,
   "metadata": {},
   "outputs": [],
   "source": [
    "class CT_Dataset(Dataset):\n",
    "\n",
    "    def __init__(self, X, y):\n",
    "        self.ct_data = X\n",
    "        self.age = y \n",
    "\n",
    "    def __len__(self):\n",
    "        return len(self.ct_data)\n",
    "\n",
    "    def __getitem__(self, idx):\n",
    "        ct_data = self.ct_data[idx]     \n",
    "        age = np.array(self.age[idx], dtype=np.float32)\n",
    "        return torch.from_numpy(ct_data), torch.from_numpy(age)"
   ]
  },
  {
   "cell_type": "code",
   "execution_count": 349,
   "metadata": {},
   "outputs": [],
   "source": [
    "a = CT_Dataset(X=X_norm_train, y = Y_norm_train)\n",
    "train_set = DataLoader(a, batch_size=64, shuffle=True)"
   ]
  },
  {
   "cell_type": "code",
   "execution_count": 395,
   "metadata": {},
   "outputs": [],
   "source": [
    "def build_model():\n",
    "  return nn.Sequential(\n",
    "    nn.Linear(11, 128),\n",
    "    #nn.BatchNorm1d(128),\n",
    "    nn.Linear(128,64),\n",
    "    #nn.ReLU(),\n",
    "    #nn.Dropout(0.25),\n",
    "    #nn.Linear(128, 64),\n",
    "    #nn.ReLU(),\n",
    "    nn.Linear(64, 32), \n",
    "    #nn.BatchNorm1d(32),\n",
    "    #nn.Softmax(dim=1),\n",
    "    #nn.Linear(64, 32),\n",
    "    #nn.BatchNorm1d(10),\n",
    "    nn.ReLU(),\n",
    "    nn.Linear(32, 1)\n",
    "    )\n",
    "\n",
    "model = build_model()"
   ]
  },
  {
   "cell_type": "code",
   "execution_count": 397,
   "metadata": {},
   "outputs": [
    {
     "name": "stdout",
     "output_type": "stream",
     "text": [
      "​Train Epoch: 0 Loss = 18508742.99267578\n",
      "​Train Epoch: 1 Loss = 841327.6538085938\n",
      "​Train Epoch: 2 Loss = 767058.5520019531\n",
      "​Train Epoch: 3 Loss = 759801.9555664062\n",
      "​Train Epoch: 4 Loss = 761892.4774169922\n",
      "​Train Epoch: 5 Loss = 765559.5131835938\n",
      "​Train Epoch: 6 Loss = 758603.1457519531\n",
      "​Train Epoch: 7 Loss = 758400.2028808594\n",
      "​Train Epoch: 8 Loss = 760257.8205566406\n",
      "​Train Epoch: 9 Loss = 760765.8243408203\n",
      "​Train Epoch: 10 Loss = 762556.1435546875\n",
      "​Train Epoch: 11 Loss = 761217.2980957031\n",
      "​Train Epoch: 12 Loss = 757925.2966308594\n",
      "​Train Epoch: 13 Loss = 760323.8024902344\n",
      "​Train Epoch: 14 Loss = 764479.078125\n",
      "​Train Epoch: 15 Loss = 758594.1791992188\n",
      "​Train Epoch: 16 Loss = 765356.9694824219\n",
      "​Train Epoch: 17 Loss = 759618.6179199219\n",
      "​Train Epoch: 18 Loss = 759647.9578857422\n",
      "​Train Epoch: 19 Loss = 770281.5266113281\n",
      "​Train Epoch: 20 Loss = 763000.6916503906\n",
      "​Train Epoch: 21 Loss = 764792.1870117188\n",
      "​Train Epoch: 22 Loss = 762591.8095703125\n",
      "​Train Epoch: 23 Loss = 761027.962890625\n",
      "​Train Epoch: 24 Loss = 760535.7038574219\n",
      "​Train Epoch: 25 Loss = 757329.9049072266\n",
      "​Train Epoch: 26 Loss = 758002.5576171875\n",
      "​Train Epoch: 27 Loss = 757754.1376953125\n",
      "​Train Epoch: 28 Loss = 763959.8063964844\n",
      "​Train Epoch: 29 Loss = 765762.1451416016\n",
      "​Train Epoch: 30 Loss = 762155.5562744141\n",
      "​Train Epoch: 31 Loss = 761327.9191894531\n",
      "​Train Epoch: 32 Loss = 760862.7171630859\n",
      "​Train Epoch: 33 Loss = 763666.9405517578\n",
      "​Train Epoch: 34 Loss = 766264.5192871094\n",
      "​Train Epoch: 35 Loss = 761164.3621826172\n",
      "​Train Epoch: 36 Loss = 763420.3927001953\n",
      "​Train Epoch: 37 Loss = 771164.6284179688\n",
      "​Train Epoch: 38 Loss = 765327.3393554688\n",
      "​Train Epoch: 39 Loss = 768445.2150878906\n",
      "​Train Epoch: 40 Loss = 763363.2222900391\n",
      "​Train Epoch: 41 Loss = 761118.0375976562\n",
      "​Train Epoch: 42 Loss = 766438.6369628906\n",
      "​Train Epoch: 43 Loss = 761926.7807617188\n",
      "​Train Epoch: 44 Loss = 759250.185546875\n",
      "​Train Epoch: 45 Loss = 759338.7890625\n",
      "​Train Epoch: 46 Loss = 768837.0352783203\n",
      "​Train Epoch: 47 Loss = 761295.3765869141\n",
      "​Train Epoch: 48 Loss = 766140.6088867188\n",
      "​Train Epoch: 49 Loss = 762384.3731689453\n",
      "​Train Epoch: 50 Loss = 767402.7373046875\n",
      "​Train Epoch: 51 Loss = 765537.4791259766\n",
      "​Train Epoch: 52 Loss = 777856.2827148438\n",
      "​Train Epoch: 53 Loss = 763063.5950927734\n",
      "​Train Epoch: 54 Loss = 765288.9860839844\n",
      "​Train Epoch: 55 Loss = 764811.2821044922\n",
      "​Train Epoch: 56 Loss = 763271.8773193359\n",
      "​Train Epoch: 57 Loss = 769724.1900634766\n",
      "​Train Epoch: 58 Loss = 762579.0852050781\n",
      "​Train Epoch: 59 Loss = 763959.4613037109\n",
      "​Train Epoch: 60 Loss = 762837.9851074219\n",
      "​Train Epoch: 61 Loss = 761974.6049804688\n",
      "​Train Epoch: 62 Loss = 759130.9156494141\n",
      "​Train Epoch: 63 Loss = 765064.8793945312\n",
      "​Train Epoch: 64 Loss = 764155.2065429688\n",
      "​Train Epoch: 65 Loss = 766858.8077392578\n",
      "​Train Epoch: 66 Loss = 758531.4888916016\n",
      "​Train Epoch: 67 Loss = 763447.1547851562\n",
      "​Train Epoch: 68 Loss = 761429.1340332031\n",
      "​Train Epoch: 69 Loss = 771907.7446289062\n",
      "​Train Epoch: 70 Loss = 765105.4924316406\n",
      "​Train Epoch: 71 Loss = 766506.6671142578\n",
      "​Train Epoch: 72 Loss = 765192.7385253906\n",
      "​Train Epoch: 73 Loss = 763343.7712402344\n",
      "​Train Epoch: 74 Loss = 765024.6351318359\n",
      "​Train Epoch: 75 Loss = 763732.8599853516\n",
      "​Train Epoch: 76 Loss = 762820.0802001953\n",
      "​Train Epoch: 77 Loss = 766158.8012695312\n",
      "​Train Epoch: 78 Loss = 758639.150390625\n",
      "​Train Epoch: 79 Loss = 760025.7819824219\n",
      "​Train Epoch: 80 Loss = 761090.6497802734\n",
      "​Train Epoch: 81 Loss = 756390.4565429688\n",
      "​Train Epoch: 82 Loss = 762075.6804199219\n",
      "​Train Epoch: 83 Loss = 766143.8464355469\n",
      "​Train Epoch: 84 Loss = 760025.3514404297\n",
      "​Train Epoch: 85 Loss = 762311.3010253906\n",
      "​Train Epoch: 86 Loss = 759469.8035888672\n",
      "​Train Epoch: 87 Loss = 760721.3693847656\n",
      "​Train Epoch: 88 Loss = 767904.1140136719\n",
      "​Train Epoch: 89 Loss = 759257.5687255859\n",
      "​Train Epoch: 90 Loss = 764833.2229003906\n",
      "​Train Epoch: 91 Loss = 766034.2196044922\n",
      "​Train Epoch: 92 Loss = 765629.5913085938\n",
      "​Train Epoch: 93 Loss = 761911.2741699219\n",
      "​Train Epoch: 94 Loss = 762277.7795410156\n",
      "​Train Epoch: 95 Loss = 759685.1214599609\n",
      "​Train Epoch: 96 Loss = 762819.9658203125\n",
      "​Train Epoch: 97 Loss = 757349.12890625\n",
      "​Train Epoch: 98 Loss = 762714.3719482422\n",
      "​Train Epoch: 99 Loss = 762982.6156005859\n"
     ]
    }
   ],
   "source": [
    "criterion = nn.MSELoss()\n",
    "\n",
    "def train_model(model, train_loader, criterion, T):\n",
    "  model.train()\n",
    "  opt = optim.Adam(model.parameters(), lr=0.001, weight_decay=0.25)\n",
    "  #opt = optim.SGD(model.parameters(), lr=0.001, momentum=0.9)\n",
    "  for epoch in range(T): \n",
    "      running_loss = 0\n",
    "      for data in enumerate(train_loader):\n",
    "          ct_data, actual_age = data[1][0], data[1][1]\n",
    "        \n",
    "          opt.zero_grad()\n",
    "          predicted_age = model(ct_data)      \n",
    "          loss = criterion(predicted_age, actual_age)\n",
    "          running_loss += loss.item()*train_loader.batch_size\n",
    "          loss.backward() \n",
    "          opt.step()\n",
    "\n",
    "  \n",
    "      print(\"​Train Epoch: \"+str(epoch) + \" Loss =\", str(running_loss))\n",
    "\n",
    "  model.train(mode=False)\n",
    "\n",
    "model = build_model()\n",
    "train_model(model, train_set, criterion, T = 100)"
   ]
  },
  {
   "cell_type": "code",
   "execution_count": 321,
   "metadata": {},
   "outputs": [
    {
     "ename": "NameError",
     "evalue": "name 'data' is not defined",
     "output_type": "error",
     "traceback": [
      "\u001b[0;31m---------------------------------------------------------------------------\u001b[0m",
      "\u001b[0;31mNameError\u001b[0m                                 Traceback (most recent call last)",
      "\u001b[0;32m<ipython-input-321-c5d84736ba45>\u001b[0m in \u001b[0;36m<module>\u001b[0;34m\u001b[0m\n\u001b[0;32m----> 1\u001b[0;31m \u001b[0mdata\u001b[0m\u001b[0;34m\u001b[0m\u001b[0;34m\u001b[0m\u001b[0m\n\u001b[0m",
      "\u001b[0;31mNameError\u001b[0m: name 'data' is not defined"
     ]
    }
   ],
   "source": [
    "data"
   ]
  },
  {
   "cell_type": "code",
   "execution_count": 390,
   "metadata": {},
   "outputs": [
    {
     "data": {
      "text/plain": [
       "<torch.utils.data.dataloader.DataLoader at 0x7f9b501a1760>"
      ]
     },
     "execution_count": 390,
     "metadata": {},
     "output_type": "execute_result"
    }
   ],
   "source": [
    "b = CT_Dataset(X=X_norm_test, y = Y_norm_test)\n",
    "test_set = DataLoader(b, batch_size=32)\n",
    "test_set"
   ]
  },
  {
   "cell_type": "code",
   "execution_count": 398,
   "metadata": {},
   "outputs": [
    {
     "name": "stderr",
     "output_type": "stream",
     "text": [
      "/Users/sanyamkakkar/opt/anaconda3/lib/python3.8/site-packages/torch/nn/modules/loss.py:529: UserWarning: Using a target size (torch.Size([32])) that is different to the input size (torch.Size([32, 1])). This will likely lead to incorrect results due to broadcasting. Please ensure they have the same size.\n",
      "  return F.mse_loss(input, target, reduction=self.reduction)\n",
      "/Users/sanyamkakkar/opt/anaconda3/lib/python3.8/site-packages/torch/nn/modules/loss.py:529: UserWarning: Using a target size (torch.Size([24])) that is different to the input size (torch.Size([24, 1])). This will likely lead to incorrect results due to broadcasting. Please ensure they have the same size.\n",
      "  return F.mse_loss(input, target, reduction=self.reduction)\n"
     ]
    },
    {
     "data": {
      "text/plain": [
       "2257.584140777588"
      ]
     },
     "execution_count": 398,
     "metadata": {},
     "output_type": "execute_result"
    }
   ],
   "source": [
    "def evaluate_model(model, test_loader, criterion):\n",
    "  model.eval()\n",
    "  running_loss = 0\n",
    "  with torch.no_grad():\n",
    "    for data in enumerate(test_loader):\n",
    "          ct_data, actual_age = data[1][0], data[1][1]\n",
    "          predicted_age = model(ct_data)\n",
    "          loss = criterion(predicted_age, actual_age)\n",
    "          running_loss += loss.item()\n",
    "    \n",
    "  return running_loss\n",
    "\n",
    "evaluate_model(model, test_set, criterion)"
   ]
  },
  {
   "cell_type": "code",
   "execution_count": 399,
   "metadata": {},
   "outputs": [],
   "source": [
    "predict=model(torch.tensor(X_norm_test))"
   ]
  },
  {
   "cell_type": "code",
   "execution_count": 400,
   "metadata": {},
   "outputs": [
    {
     "data": {
      "text/plain": [
       "array([[69.53437 ],\n",
       "       [69.24782 ],\n",
       "       [68.853836],\n",
       "       [69.40755 ],\n",
       "       [69.12729 ],\n",
       "       [67.99596 ],\n",
       "       [69.30467 ],\n",
       "       [69.26258 ],\n",
       "       [69.07677 ],\n",
       "       [68.7534  ],\n",
       "       [68.66658 ],\n",
       "       [68.948296],\n",
       "       [69.12639 ],\n",
       "       [69.01148 ],\n",
       "       [68.999855],\n",
       "       [68.91648 ],\n",
       "       [68.77036 ],\n",
       "       [68.74186 ],\n",
       "       [68.93097 ],\n",
       "       [68.42512 ],\n",
       "       [68.82565 ],\n",
       "       [68.788795],\n",
       "       [69.367485],\n",
       "       [68.9158  ],\n",
       "       [68.557434],\n",
       "       [69.64706 ],\n",
       "       [69.107025],\n",
       "       [69.15003 ],\n",
       "       [68.789116],\n",
       "       [69.31589 ],\n",
       "       [69.051   ],\n",
       "       [69.047356],\n",
       "       [69.36537 ],\n",
       "       [68.846664],\n",
       "       [69.431046],\n",
       "       [69.79262 ],\n",
       "       [68.99533 ],\n",
       "       [69.45499 ],\n",
       "       [69.0338  ],\n",
       "       [69.13367 ],\n",
       "       [68.68152 ],\n",
       "       [69.187294],\n",
       "       [68.630554],\n",
       "       [69.101585],\n",
       "       [69.354324],\n",
       "       [69.06659 ],\n",
       "       [68.45354 ],\n",
       "       [69.00162 ],\n",
       "       [68.5094  ],\n",
       "       [69.495056],\n",
       "       [69.07988 ],\n",
       "       [68.738106],\n",
       "       [69.10451 ],\n",
       "       [67.943726],\n",
       "       [68.4753  ],\n",
       "       [69.03626 ],\n",
       "       [68.79033 ],\n",
       "       [68.886185],\n",
       "       [68.8369  ],\n",
       "       [69.0435  ],\n",
       "       [69.06961 ],\n",
       "       [68.944595],\n",
       "       [68.73287 ],\n",
       "       [69.39398 ],\n",
       "       [68.985115],\n",
       "       [69.85341 ],\n",
       "       [68.679924],\n",
       "       [69.062035],\n",
       "       [69.33092 ],\n",
       "       [69.083984],\n",
       "       [68.72484 ],\n",
       "       [69.33129 ],\n",
       "       [69.128716],\n",
       "       [68.599365],\n",
       "       [68.871284],\n",
       "       [69.20035 ],\n",
       "       [68.95239 ],\n",
       "       [68.68647 ],\n",
       "       [68.563065],\n",
       "       [69.07502 ],\n",
       "       [69.35347 ],\n",
       "       [70.299484],\n",
       "       [69.06175 ],\n",
       "       [69.01855 ],\n",
       "       [69.3976  ],\n",
       "       [68.93335 ],\n",
       "       [68.36746 ],\n",
       "       [69.08286 ],\n",
       "       [69.19951 ],\n",
       "       [68.81763 ],\n",
       "       [69.076195],\n",
       "       [69.1376  ],\n",
       "       [69.27163 ],\n",
       "       [69.311714],\n",
       "       [69.7697  ],\n",
       "       [68.7188  ],\n",
       "       [68.92781 ],\n",
       "       [68.917046],\n",
       "       [68.79359 ],\n",
       "       [69.1998  ],\n",
       "       [68.80595 ],\n",
       "       [69.09267 ],\n",
       "       [68.758484],\n",
       "       [69.50283 ],\n",
       "       [69.05392 ],\n",
       "       [69.00609 ],\n",
       "       [68.71651 ],\n",
       "       [68.78285 ],\n",
       "       [69.07507 ],\n",
       "       [69.719955],\n",
       "       [69.12204 ],\n",
       "       [69.62125 ],\n",
       "       [69.21907 ],\n",
       "       [69.38017 ],\n",
       "       [69.28425 ],\n",
       "       [70.86911 ],\n",
       "       [68.82254 ],\n",
       "       [69.04911 ],\n",
       "       [69.100845],\n",
       "       [68.75138 ],\n",
       "       [69.05663 ],\n",
       "       [69.16182 ],\n",
       "       [69.00572 ],\n",
       "       [69.14314 ],\n",
       "       [68.88011 ],\n",
       "       [69.04681 ],\n",
       "       [68.887985],\n",
       "       [68.99637 ],\n",
       "       [69.03252 ],\n",
       "       [69.16162 ],\n",
       "       [68.731735],\n",
       "       [69.11153 ],\n",
       "       [69.18171 ],\n",
       "       [68.736496],\n",
       "       [68.95783 ],\n",
       "       [68.522316],\n",
       "       [69.0679  ],\n",
       "       [69.148735],\n",
       "       [69.645195],\n",
       "       [69.89503 ],\n",
       "       [69.06439 ],\n",
       "       [68.573204],\n",
       "       [69.3014  ],\n",
       "       [68.72716 ],\n",
       "       [68.96983 ],\n",
       "       [69.198586],\n",
       "       [68.9105  ],\n",
       "       [69.317345],\n",
       "       [68.382576],\n",
       "       [68.29511 ],\n",
       "       [69.558205],\n",
       "       [68.73071 ],\n",
       "       [68.622734],\n",
       "       [69.07178 ],\n",
       "       [68.303696],\n",
       "       [69.13315 ],\n",
       "       [68.97    ],\n",
       "       [68.80593 ],\n",
       "       [68.638596],\n",
       "       [69.02268 ],\n",
       "       [69.20526 ],\n",
       "       [68.90431 ],\n",
       "       [69.31096 ],\n",
       "       [68.52291 ],\n",
       "       [68.51194 ],\n",
       "       [68.983185],\n",
       "       [69.02144 ],\n",
       "       [68.694855],\n",
       "       [69.23582 ],\n",
       "       [68.942314],\n",
       "       [68.52746 ],\n",
       "       [68.82854 ],\n",
       "       [68.79428 ],\n",
       "       [68.955185],\n",
       "       [68.68685 ],\n",
       "       [68.3562  ],\n",
       "       [68.99997 ],\n",
       "       [69.33868 ],\n",
       "       [68.98282 ],\n",
       "       [68.8586  ],\n",
       "       [69.26367 ],\n",
       "       [68.889786],\n",
       "       [69.09358 ],\n",
       "       [68.668465],\n",
       "       [69.33101 ],\n",
       "       [68.874084],\n",
       "       [68.69882 ],\n",
       "       [69.21368 ],\n",
       "       [68.981255],\n",
       "       [68.740555],\n",
       "       [69.414246],\n",
       "       [69.519424],\n",
       "       [68.73222 ],\n",
       "       [68.018105],\n",
       "       [69.04578 ],\n",
       "       [69.02603 ],\n",
       "       [68.94085 ],\n",
       "       [68.6747  ],\n",
       "       [69.05473 ],\n",
       "       [69.28351 ],\n",
       "       [68.352066],\n",
       "       [68.79581 ],\n",
       "       [69.00549 ],\n",
       "       [69.233215],\n",
       "       [68.66224 ],\n",
       "       [68.89775 ],\n",
       "       [69.272995],\n",
       "       [68.99841 ],\n",
       "       [69.05528 ],\n",
       "       [68.659645],\n",
       "       [69.58093 ],\n",
       "       [69.012985],\n",
       "       [68.731804],\n",
       "       [68.70277 ],\n",
       "       [68.49901 ],\n",
       "       [68.67856 ],\n",
       "       [69.26854 ],\n",
       "       [68.76173 ],\n",
       "       [68.72123 ],\n",
       "       [68.618454],\n",
       "       [69.000595],\n",
       "       [69.13226 ],\n",
       "       [67.94102 ],\n",
       "       [69.34517 ],\n",
       "       [68.916046],\n",
       "       [69.100586],\n",
       "       [68.527954],\n",
       "       [69.238266],\n",
       "       [68.45351 ],\n",
       "       [69.27408 ],\n",
       "       [68.74616 ],\n",
       "       [68.86757 ],\n",
       "       [69.27653 ],\n",
       "       [68.86661 ],\n",
       "       [68.8812  ],\n",
       "       [69.136505],\n",
       "       [68.76009 ],\n",
       "       [68.946   ],\n",
       "       [68.56303 ],\n",
       "       [69.64439 ],\n",
       "       [68.54124 ],\n",
       "       [68.94882 ],\n",
       "       [68.667816],\n",
       "       [69.36004 ],\n",
       "       [68.22473 ],\n",
       "       [68.96463 ],\n",
       "       [69.13841 ],\n",
       "       [69.217224],\n",
       "       [69.11472 ],\n",
       "       [68.685844],\n",
       "       [68.632034],\n",
       "       [69.071106],\n",
       "       [68.87011 ],\n",
       "       [68.72955 ],\n",
       "       [69.37864 ],\n",
       "       [69.1712  ],\n",
       "       [69.51625 ],\n",
       "       [68.8137  ],\n",
       "       [68.87034 ],\n",
       "       [68.85657 ],\n",
       "       [69.00519 ],\n",
       "       [69.50392 ],\n",
       "       [69.41405 ],\n",
       "       [68.96763 ],\n",
       "       [68.709694],\n",
       "       [69.25138 ],\n",
       "       [68.793655],\n",
       "       [69.084496],\n",
       "       [68.64143 ],\n",
       "       [68.87178 ],\n",
       "       [69.22474 ],\n",
       "       [69.40794 ],\n",
       "       [68.88948 ],\n",
       "       [68.526855],\n",
       "       [68.81635 ],\n",
       "       [68.803185],\n",
       "       [68.6775  ],\n",
       "       [69.73489 ],\n",
       "       [69.00011 ],\n",
       "       [68.836174],\n",
       "       [69.92212 ],\n",
       "       [68.7672  ],\n",
       "       [69.10112 ],\n",
       "       [69.34859 ],\n",
       "       [69.54337 ],\n",
       "       [68.9951  ],\n",
       "       [68.736565],\n",
       "       [68.91272 ],\n",
       "       [70.340515],\n",
       "       [68.66468 ],\n",
       "       [69.054016],\n",
       "       [69.41099 ],\n",
       "       [68.58287 ],\n",
       "       [70.30751 ],\n",
       "       [68.690186],\n",
       "       [69.15869 ],\n",
       "       [69.561676],\n",
       "       [69.3764  ],\n",
       "       [69.07118 ],\n",
       "       [69.28009 ],\n",
       "       [69.106255],\n",
       "       [69.12763 ],\n",
       "       [68.467575],\n",
       "       [68.61701 ],\n",
       "       [69.65266 ],\n",
       "       [72.4975  ],\n",
       "       [69.07541 ],\n",
       "       [69.13461 ],\n",
       "       [68.57141 ],\n",
       "       [69.05403 ],\n",
       "       [69.102486],\n",
       "       [69.24056 ],\n",
       "       [69.72044 ],\n",
       "       [69.0909  ],\n",
       "       [69.10828 ],\n",
       "       [69.23463 ],\n",
       "       [69.24769 ],\n",
       "       [69.217804],\n",
       "       [68.93549 ],\n",
       "       [68.93259 ],\n",
       "       [68.722595],\n",
       "       [68.737625],\n",
       "       [68.73338 ],\n",
       "       [68.77781 ],\n",
       "       [69.04448 ],\n",
       "       [69.16824 ],\n",
       "       [68.835144],\n",
       "       [68.69686 ],\n",
       "       [69.802284],\n",
       "       [69.1132  ],\n",
       "       [69.29758 ],\n",
       "       [69.02832 ],\n",
       "       [69.1031  ],\n",
       "       [69.329765],\n",
       "       [69.04056 ],\n",
       "       [69.62152 ],\n",
       "       [68.718185],\n",
       "       [68.61545 ],\n",
       "       [68.47734 ],\n",
       "       [69.00448 ],\n",
       "       [68.685455],\n",
       "       [68.8416  ],\n",
       "       [69.27406 ],\n",
       "       [68.65516 ],\n",
       "       [69.18248 ],\n",
       "       [69.12964 ],\n",
       "       [69.58279 ],\n",
       "       [69.27434 ],\n",
       "       [69.35333 ],\n",
       "       [68.48099 ],\n",
       "       [69.44348 ],\n",
       "       [69.0368  ],\n",
       "       [69.10718 ],\n",
       "       [69.89215 ],\n",
       "       [68.862656],\n",
       "       [69.09486 ],\n",
       "       [68.858475],\n",
       "       [72.527664],\n",
       "       [69.74769 ],\n",
       "       [68.98647 ],\n",
       "       [69.055824],\n",
       "       [69.76663 ],\n",
       "       [68.64849 ],\n",
       "       [69.07202 ],\n",
       "       [68.99218 ],\n",
       "       [68.930214],\n",
       "       [68.93163 ],\n",
       "       [68.7774  ],\n",
       "       [69.20477 ],\n",
       "       [68.92956 ],\n",
       "       [69.14346 ],\n",
       "       [69.143555],\n",
       "       [69.05546 ],\n",
       "       [68.657135],\n",
       "       [69.13771 ],\n",
       "       [69.26898 ],\n",
       "       [68.99383 ],\n",
       "       [68.73138 ],\n",
       "       [68.78894 ],\n",
       "       [69.40636 ],\n",
       "       [69.211174],\n",
       "       [69.111786],\n",
       "       [68.79126 ],\n",
       "       [69.21241 ],\n",
       "       [69.45923 ],\n",
       "       [68.50822 ],\n",
       "       [68.84234 ],\n",
       "       [68.43419 ],\n",
       "       [69.62663 ],\n",
       "       [69.135605],\n",
       "       [69.046745],\n",
       "       [69.61342 ],\n",
       "       [68.3226  ],\n",
       "       [68.60928 ],\n",
       "       [68.89406 ],\n",
       "       [68.791176],\n",
       "       [68.887566],\n",
       "       [68.84999 ],\n",
       "       [69.3928  ],\n",
       "       [69.3873  ],\n",
       "       [69.005264],\n",
       "       [69.24034 ],\n",
       "       [68.283615],\n",
       "       [68.94647 ],\n",
       "       [69.05969 ],\n",
       "       [69.13669 ],\n",
       "       [69.01337 ],\n",
       "       [69.344734],\n",
       "       [69.36335 ],\n",
       "       [70.36178 ],\n",
       "       [68.62851 ],\n",
       "       [68.54182 ],\n",
       "       [68.979675],\n",
       "       [68.65736 ],\n",
       "       [69.15522 ],\n",
       "       [69.86768 ],\n",
       "       [68.74344 ],\n",
       "       [68.41402 ],\n",
       "       [68.41174 ],\n",
       "       [68.90756 ],\n",
       "       [69.3949  ],\n",
       "       [69.25624 ],\n",
       "       [69.16096 ],\n",
       "       [68.94217 ],\n",
       "       [69.50937 ],\n",
       "       [69.42566 ],\n",
       "       [68.75404 ],\n",
       "       [69.13449 ],\n",
       "       [68.106636],\n",
       "       [69.1698  ],\n",
       "       [68.92584 ],\n",
       "       [68.56342 ],\n",
       "       [68.94422 ],\n",
       "       [69.34787 ],\n",
       "       [68.97011 ],\n",
       "       [69.13006 ],\n",
       "       [68.47627 ],\n",
       "       [68.900764],\n",
       "       [69.14293 ],\n",
       "       [69.37184 ],\n",
       "       [69.12654 ],\n",
       "       [68.63891 ],\n",
       "       [68.74594 ],\n",
       "       [69.071945],\n",
       "       [68.90347 ],\n",
       "       [68.65897 ],\n",
       "       [69.49124 ],\n",
       "       [68.68948 ],\n",
       "       [68.958664],\n",
       "       [68.62215 ],\n",
       "       [69.24162 ],\n",
       "       [68.84191 ],\n",
       "       [69.04521 ],\n",
       "       [69.925964],\n",
       "       [68.80598 ],\n",
       "       [69.06978 ],\n",
       "       [69.21185 ],\n",
       "       [68.9447  ],\n",
       "       [68.879845],\n",
       "       [68.88611 ],\n",
       "       [69.70212 ],\n",
       "       [68.78862 ],\n",
       "       [68.78912 ],\n",
       "       [68.15797 ],\n",
       "       [69.11365 ],\n",
       "       [67.989975],\n",
       "       [68.52691 ],\n",
       "       [69.27217 ],\n",
       "       [68.71382 ],\n",
       "       [69.149185],\n",
       "       [69.04538 ],\n",
       "       [68.47018 ],\n",
       "       [68.710236],\n",
       "       [69.1175  ],\n",
       "       [68.53766 ],\n",
       "       [69.12301 ],\n",
       "       [69.23662 ],\n",
       "       [68.61851 ],\n",
       "       [69.59703 ],\n",
       "       [68.95906 ],\n",
       "       [69.01626 ],\n",
       "       [70.16011 ],\n",
       "       [69.56025 ],\n",
       "       [69.096375],\n",
       "       [68.45181 ],\n",
       "       [68.72289 ],\n",
       "       [68.84745 ],\n",
       "       [69.281815],\n",
       "       [69.265045],\n",
       "       [68.72941 ],\n",
       "       [68.621765],\n",
       "       [68.701195],\n",
       "       [69.215355],\n",
       "       [69.37377 ],\n",
       "       [69.010506],\n",
       "       [69.021385],\n",
       "       [70.72959 ],\n",
       "       [69.0081  ],\n",
       "       [68.62663 ],\n",
       "       [68.930176],\n",
       "       [68.91689 ],\n",
       "       [68.980865],\n",
       "       [69.26492 ],\n",
       "       [68.8075  ],\n",
       "       [68.88822 ],\n",
       "       [68.50101 ],\n",
       "       [69.00099 ],\n",
       "       [68.21614 ],\n",
       "       [69.211   ],\n",
       "       [69.303505],\n",
       "       [69.0405  ],\n",
       "       [69.13501 ],\n",
       "       [69.14613 ],\n",
       "       [69.079056],\n",
       "       [69.44087 ],\n",
       "       [68.742874],\n",
       "       [68.99636 ],\n",
       "       [69.35961 ],\n",
       "       [69.74343 ],\n",
       "       [68.94494 ],\n",
       "       [68.70298 ],\n",
       "       [69.58039 ],\n",
       "       [69.030235],\n",
       "       [69.41107 ],\n",
       "       [69.12741 ],\n",
       "       [68.74603 ],\n",
       "       [68.69445 ],\n",
       "       [69.22857 ],\n",
       "       [68.83852 ],\n",
       "       [69.18289 ],\n",
       "       [69.254715],\n",
       "       [69.00032 ],\n",
       "       [68.512695],\n",
       "       [69.022385],\n",
       "       [68.957344],\n",
       "       [68.365074],\n",
       "       [69.125336],\n",
       "       [68.98259 ],\n",
       "       [69.215385],\n",
       "       [69.048195],\n",
       "       [69.24052 ],\n",
       "       [68.61101 ],\n",
       "       [69.04414 ],\n",
       "       [68.93652 ],\n",
       "       [69.298195],\n",
       "       [68.556305],\n",
       "       [69.039474],\n",
       "       [68.9756  ],\n",
       "       [69.92433 ],\n",
       "       [69.04479 ],\n",
       "       [69.15979 ],\n",
       "       [69.78131 ],\n",
       "       [68.25381 ],\n",
       "       [69.36482 ],\n",
       "       [68.97554 ],\n",
       "       [69.77077 ],\n",
       "       [69.17324 ],\n",
       "       [68.91362 ],\n",
       "       [69.68989 ],\n",
       "       [69.51889 ],\n",
       "       [68.88796 ],\n",
       "       [69.80281 ],\n",
       "       [69.25293 ],\n",
       "       [68.69595 ],\n",
       "       [68.894226],\n",
       "       [69.00391 ],\n",
       "       [68.6362  ],\n",
       "       [68.519066],\n",
       "       [68.883026],\n",
       "       [69.080734],\n",
       "       [69.274124],\n",
       "       [69.44577 ],\n",
       "       [69.246445],\n",
       "       [69.41187 ],\n",
       "       [69.084076],\n",
       "       [68.563736],\n",
       "       [69.271675],\n",
       "       [68.594986],\n",
       "       [69.310814],\n",
       "       [68.77266 ],\n",
       "       [68.57758 ],\n",
       "       [69.117134],\n",
       "       [69.2901  ],\n",
       "       [69.139244],\n",
       "       [68.68844 ],\n",
       "       [69.088066],\n",
       "       [69.00847 ],\n",
       "       [69.39393 ],\n",
       "       [69.16209 ],\n",
       "       [68.77712 ],\n",
       "       [69.25328 ],\n",
       "       [69.18843 ],\n",
       "       [68.82532 ],\n",
       "       [70.50736 ],\n",
       "       [68.88137 ],\n",
       "       [68.35529 ],\n",
       "       [68.95906 ],\n",
       "       [69.08478 ],\n",
       "       [68.60097 ],\n",
       "       [69.42035 ],\n",
       "       [72.3902  ],\n",
       "       [68.763565],\n",
       "       [69.18408 ],\n",
       "       [69.30994 ],\n",
       "       [68.25958 ],\n",
       "       [69.08655 ],\n",
       "       [69.00665 ],\n",
       "       [68.891426],\n",
       "       [68.52974 ],\n",
       "       [69.29761 ],\n",
       "       [68.54166 ],\n",
       "       [68.810936],\n",
       "       [69.22783 ],\n",
       "       [69.127914],\n",
       "       [68.93115 ],\n",
       "       [69.52611 ],\n",
       "       [68.70215 ],\n",
       "       [69.82826 ],\n",
       "       [68.86387 ],\n",
       "       [68.62755 ],\n",
       "       [69.36029 ],\n",
       "       [69.080795],\n",
       "       [68.989265],\n",
       "       [69.04832 ],\n",
       "       [69.05253 ],\n",
       "       [68.82458 ],\n",
       "       [69.20654 ],\n",
       "       [69.250946],\n",
       "       [69.589836],\n",
       "       [69.58425 ],\n",
       "       [68.612335],\n",
       "       [69.63326 ],\n",
       "       [69.18937 ],\n",
       "       [68.80028 ],\n",
       "       [69.46373 ],\n",
       "       [69.31566 ],\n",
       "       [68.78262 ],\n",
       "       [69.19658 ],\n",
       "       [69.31263 ],\n",
       "       [69.24866 ],\n",
       "       [69.02075 ],\n",
       "       [68.75803 ],\n",
       "       [69.483665],\n",
       "       [68.964516],\n",
       "       [68.63744 ],\n",
       "       [69.00836 ],\n",
       "       [68.5796  ],\n",
       "       [68.88671 ],\n",
       "       [69.5491  ],\n",
       "       [69.311966],\n",
       "       [68.91702 ],\n",
       "       [68.47563 ],\n",
       "       [68.828224],\n",
       "       [69.32566 ],\n",
       "       [69.523056],\n",
       "       [68.46975 ],\n",
       "       [68.69736 ],\n",
       "       [69.248436],\n",
       "       [69.20214 ],\n",
       "       [69.718376],\n",
       "       [69.19193 ],\n",
       "       [68.981575],\n",
       "       [69.01921 ],\n",
       "       [68.67204 ],\n",
       "       [68.73995 ],\n",
       "       [69.106346],\n",
       "       [69.401924],\n",
       "       [68.61586 ],\n",
       "       [69.08724 ],\n",
       "       [68.54139 ],\n",
       "       [68.903305],\n",
       "       [69.00068 ],\n",
       "       [68.9944  ],\n",
       "       [68.65153 ],\n",
       "       [68.82777 ],\n",
       "       [69.150116],\n",
       "       [68.97176 ],\n",
       "       [68.90007 ],\n",
       "       [69.000534],\n",
       "       [69.02946 ],\n",
       "       [69.04982 ],\n",
       "       [68.15616 ],\n",
       "       [69.636696],\n",
       "       [69.18156 ],\n",
       "       [69.39488 ],\n",
       "       [69.04908 ],\n",
       "       [69.06065 ],\n",
       "       [68.596985],\n",
       "       [69.078064],\n",
       "       [68.91556 ],\n",
       "       [69.072556],\n",
       "       [69.08718 ],\n",
       "       [70.004814],\n",
       "       [69.156456],\n",
       "       [69.24987 ],\n",
       "       [69.281204],\n",
       "       [68.926544],\n",
       "       [69.51427 ],\n",
       "       [69.00229 ],\n",
       "       [68.53148 ],\n",
       "       [68.753006],\n",
       "       [69.71454 ],\n",
       "       [69.3326  ],\n",
       "       [68.70107 ],\n",
       "       [69.079834],\n",
       "       [68.73486 ],\n",
       "       [68.77606 ],\n",
       "       [69.22696 ],\n",
       "       [69.733154],\n",
       "       [69.12875 ],\n",
       "       [69.103355],\n",
       "       [69.27931 ],\n",
       "       [69.503845],\n",
       "       [68.77051 ],\n",
       "       [69.09254 ],\n",
       "       [69.390976],\n",
       "       [69.18552 ],\n",
       "       [69.95302 ],\n",
       "       [68.76144 ],\n",
       "       [69.58049 ],\n",
       "       [69.11918 ],\n",
       "       [69.11473 ],\n",
       "       [69.121185],\n",
       "       [68.92251 ],\n",
       "       [69.35241 ],\n",
       "       [69.33252 ],\n",
       "       [68.527504],\n",
       "       [69.08105 ],\n",
       "       [68.88359 ],\n",
       "       [69.29408 ],\n",
       "       [69.020874],\n",
       "       [68.59881 ],\n",
       "       [69.14768 ],\n",
       "       [68.93715 ],\n",
       "       [69.13783 ],\n",
       "       [69.26688 ],\n",
       "       [69.00273 ],\n",
       "       [69.01088 ],\n",
       "       [69.01393 ],\n",
       "       [68.84887 ],\n",
       "       [68.60994 ],\n",
       "       [69.11147 ],\n",
       "       [68.56077 ],\n",
       "       [69.081985],\n",
       "       [69.08397 ],\n",
       "       [70.04367 ],\n",
       "       [68.97192 ],\n",
       "       [69.0126  ],\n",
       "       [69.602005],\n",
       "       [69.08205 ],\n",
       "       [69.339775],\n",
       "       [69.875565],\n",
       "       [68.80279 ],\n",
       "       [69.32338 ],\n",
       "       [68.401054],\n",
       "       [69.27004 ],\n",
       "       [68.85274 ],\n",
       "       [68.89548 ],\n",
       "       [69.35651 ],\n",
       "       [69.235794],\n",
       "       [69.04754 ],\n",
       "       [68.93031 ],\n",
       "       [69.04313 ],\n",
       "       [69.061005],\n",
       "       [69.1136  ],\n",
       "       [70.29571 ],\n",
       "       [69.01485 ],\n",
       "       [68.94101 ],\n",
       "       [69.14066 ],\n",
       "       [69.456894],\n",
       "       [68.79063 ],\n",
       "       [69.06481 ],\n",
       "       [69.59755 ],\n",
       "       [69.09854 ],\n",
       "       [69.24765 ],\n",
       "       [68.85582 ],\n",
       "       [69.62537 ],\n",
       "       [69.05875 ],\n",
       "       [69.22355 ],\n",
       "       [69.272995],\n",
       "       [69.32972 ],\n",
       "       [69.13817 ],\n",
       "       [69.04065 ],\n",
       "       [69.04832 ],\n",
       "       [69.235435],\n",
       "       [68.88562 ],\n",
       "       [69.14497 ],\n",
       "       [69.16467 ],\n",
       "       [69.002945],\n",
       "       [68.88479 ],\n",
       "       [69.01248 ],\n",
       "       [69.05435 ],\n",
       "       [68.72145 ],\n",
       "       [69.22083 ],\n",
       "       [69.345566],\n",
       "       [68.865555],\n",
       "       [70.19984 ],\n",
       "       [69.23969 ],\n",
       "       [68.09599 ],\n",
       "       [68.858925],\n",
       "       [69.86586 ],\n",
       "       [72.05012 ],\n",
       "       [68.88098 ],\n",
       "       [69.094574],\n",
       "       [68.73153 ],\n",
       "       [68.99365 ],\n",
       "       [70.00401 ],\n",
       "       [69.65856 ],\n",
       "       [69.01648 ],\n",
       "       [69.12135 ],\n",
       "       [69.10162 ],\n",
       "       [68.96001 ],\n",
       "       [68.98001 ],\n",
       "       [69.03925 ],\n",
       "       [68.40205 ],\n",
       "       [69.04726 ],\n",
       "       [68.89824 ],\n",
       "       [69.01572 ],\n",
       "       [68.68844 ],\n",
       "       [69.09223 ],\n",
       "       [69.0208  ],\n",
       "       [68.78077 ],\n",
       "       [68.83332 ],\n",
       "       [68.807   ],\n",
       "       [69.28479 ],\n",
       "       [69.35172 ],\n",
       "       [69.37259 ],\n",
       "       [68.91027 ],\n",
       "       [68.9452  ],\n",
       "       [69.37671 ],\n",
       "       [68.54823 ],\n",
       "       [69.45402 ],\n",
       "       [69.12533 ],\n",
       "       [69.345825],\n",
       "       [68.83797 ],\n",
       "       [69.29422 ],\n",
       "       [69.34892 ],\n",
       "       [69.67031 ],\n",
       "       [68.69635 ],\n",
       "       [68.96219 ],\n",
       "       [69.11883 ],\n",
       "       [70.98335 ],\n",
       "       [69.449974],\n",
       "       [69.007675],\n",
       "       [68.460785],\n",
       "       [69.04825 ],\n",
       "       [68.84918 ],\n",
       "       [68.974625],\n",
       "       [70.08445 ],\n",
       "       [68.98329 ],\n",
       "       [69.08265 ],\n",
       "       [68.81801 ],\n",
       "       [69.36452 ],\n",
       "       [69.20993 ],\n",
       "       [69.06208 ],\n",
       "       [68.699875],\n",
       "       [69.368935],\n",
       "       [69.09067 ],\n",
       "       [68.936066],\n",
       "       [69.4919  ],\n",
       "       [69.181625],\n",
       "       [69.33211 ],\n",
       "       [70.75907 ],\n",
       "       [69.32275 ],\n",
       "       [68.70699 ],\n",
       "       [69.1163  ],\n",
       "       [69.17656 ],\n",
       "       [68.94858 ],\n",
       "       [69.72978 ],\n",
       "       [69.27303 ],\n",
       "       [69.10027 ],\n",
       "       [68.47424 ],\n",
       "       [69.94398 ],\n",
       "       [68.765396],\n",
       "       [68.63707 ],\n",
       "       [68.89353 ],\n",
       "       [68.81611 ],\n",
       "       [69.397064],\n",
       "       [69.94674 ],\n",
       "       [69.86786 ],\n",
       "       [68.91672 ],\n",
       "       [69.43621 ],\n",
       "       [70.11197 ],\n",
       "       [68.96925 ],\n",
       "       [68.73529 ],\n",
       "       [68.91209 ],\n",
       "       [68.80081 ],\n",
       "       [69.09222 ]], dtype=float32)"
      ]
     },
     "execution_count": 400,
     "metadata": {},
     "output_type": "execute_result"
    }
   ],
   "source": [
    "preict_np=predict.detach().numpy()\n",
    "preict_np"
   ]
  },
  {
   "cell_type": "code",
   "execution_count": 401,
   "metadata": {},
   "outputs": [
    {
     "name": "stdout",
     "output_type": "stream",
     "text": [
      "RMSE: 9.01\n",
      "MApe: 0.10\n",
      "error 6.2527933\n"
     ]
    }
   ],
   "source": [
    "Mse = mean_squared_error(Y_norm_test , preict_np\n",
    "                         )\n",
    "error=mean_absolute_error(Y_norm_test , preict_np)\n",
    "mape=mean_absolute_percentage_error(Y_norm_test , preict_np)\n",
    "print(\"RMSE: %.2f\" % (Mse**(1/2.0)))\n",
    "print(\"MApe: %.2f\" %(mape))\n",
    "print(\"error\",np.mean(error))\n",
    "\n",
    "\n"
   ]
  },
  {
   "cell_type": "code",
   "execution_count": 341,
   "metadata": {},
   "outputs": [],
   "source": [
    "#experiemnt2 normalization"
   ]
  },
  {
   "cell_type": "code",
   "execution_count": 55,
   "metadata": {},
   "outputs": [],
   "source": [
    "from sklearn.preprocessing import MinMaxScaler,StandardScaler\n",
    "sc = StandardScaler()"
   ]
  },
  {
   "cell_type": "code",
   "execution_count": 49,
   "metadata": {},
   "outputs": [],
   "source": [
    "X3=normalize_min_max(X)"
   ]
  },
  {
   "cell_type": "code",
   "execution_count": 51,
   "metadata": {},
   "outputs": [
    {
     "data": {
      "text/plain": [
       "array([[5.3266335e-01, 3.9347196e-01, 2.7450114e-01, ..., 2.5568113e-01,\n",
       "        7.3331073e-02, 5.2000000e+01],\n",
       "       [6.9346732e-01, 3.9730248e-01, 2.8180805e-01, ..., 2.6470131e-01,\n",
       "        0.0000000e+00, 5.4000000e+01],\n",
       "       [4.2462310e-01, 2.2819412e-01, 2.0613065e-01, ..., 3.6630097e-01,\n",
       "        7.0015438e-02, 5.7000000e+01],\n",
       "       ...,\n",
       "       [3.8944724e-01, 6.7689592e-01, 5.6105059e-01, ..., 3.0576441e-01,\n",
       "        3.0208681e-02, 4.5000000e+01],\n",
       "       [6.0050249e-01, 3.3683261e-01, 2.5335464e-01, ..., 2.6912796e-01,\n",
       "        9.5156826e-02, 4.4000000e+01],\n",
       "       [4.2964825e-01, 3.6685102e-02, 6.8176135e-02, ..., 1.5562810e-01,\n",
       "        8.1615873e-02, 5.4000000e+01]], dtype=float32)"
      ]
     },
     "execution_count": 51,
     "metadata": {},
     "output_type": "execute_result"
    }
   ],
   "source": [
    "X3"
   ]
  },
  {
   "cell_type": "code",
   "execution_count": 52,
   "metadata": {},
   "outputs": [],
   "source": [
    "x_train3, x_test3, y_train3, y_test3 = train_test_split(X3, y, test_size=0.1, random_state=2)"
   ]
  },
  {
   "cell_type": "code",
   "execution_count": 54,
   "metadata": {},
   "outputs": [
    {
     "data": {
      "text/plain": [
       "{'n_estimators': 200,\n",
       " 'min_samples_split': 14,\n",
       " 'min_samples_leaf': 10,\n",
       " 'max_features': 5,\n",
       " 'max_depth': 30,\n",
       " 'bootstrap': True}"
      ]
     },
     "execution_count": 54,
     "metadata": {},
     "output_type": "execute_result"
    }
   ],
   "source": [
    "\n",
    "RFmod= RandomForestRegressor(random_state=21)\n",
    "\n",
    "#Choose some hyperparameter values \n",
    "param_grid = {\n",
    "    'bootstrap': [True],\n",
    "    'max_depth': [10,20,30],\n",
    "    'max_features': [2, 3,4,5,6],\n",
    "    'min_samples_leaf': [3, 4, 5,6,7,8,9,10],\n",
    "    'min_samples_split': [8, 10, 12,14,16,18,20],\n",
    "    'n_estimators': [50,30,40,20,10,100, 200, 300, 1000]\n",
    "}\n",
    "clfRF = RandomizedSearchCV(RFmod,param_grid,#model and parameters\n",
    "                             #number of cross validation folds\n",
    "                             )\n",
    "\n",
    "\n",
    "clfRF.fit(x_train3,y_train3)\n",
    "paramsexp=clfRF2.best_params_\n",
    "paramsexp"
   ]
  },
  {
   "cell_type": "code",
   "execution_count": 55,
   "metadata": {},
   "outputs": [
    {
     "name": "stderr",
     "output_type": "stream",
     "text": [
      "/Users/sanyamkakkar/opt/anaconda3/lib/python3.8/site-packages/sklearn/model_selection/_search.py:292: UserWarning: The total space of parameters 1 is smaller than n_iter=10. Running 1 iterations. For exhaustive searches, use GridSearchCV.\n",
      "  warnings.warn(\n"
     ]
    },
    {
     "data": {
      "text/plain": [
       "0.28416550446524846"
      ]
     },
     "execution_count": 55,
     "metadata": {},
     "output_type": "execute_result"
    }
   ],
   "source": [
    "RFparamsexp={'n_estimators':[1000],\n",
    "          'min_samples_split':[12],\n",
    "          'min_samples_leaf': [3],\n",
    "           'max_features': [3],\n",
    "           'max_depth': [20],\n",
    "           'bootstrap': [True]}\n",
    "\n",
    "rf2 = RandomForestRegressor(random_state = 21)\n",
    "\n",
    "\n",
    "clf2= RandomizedSearchCV(rf2,RFparamsexp,refit=True)\n",
    "clf2.fit(x_train3,y_train3)\n",
    "        \n",
    "clf2.best_estimator_.score(x_test3, y_test3)"
   ]
  },
  {
   "cell_type": "code",
   "execution_count": 56,
   "metadata": {},
   "outputs": [
    {
     "data": {
      "text/plain": [
       "1911.6461109913475"
      ]
     },
     "execution_count": 56,
     "metadata": {},
     "output_type": "execute_result"
    }
   ],
   "source": [
    "y_pred3=clf2.predict(x_test3)\n",
    "mean_absolute_error(y_test3,y_pred3)"
   ]
  },
  {
   "cell_type": "markdown",
   "metadata": {},
   "source": [
    "knn on years"
   ]
  },
  {
   "cell_type": "code",
   "execution_count": 60,
   "metadata": {},
   "outputs": [],
   "source": [
    "from sklearn.neighbors import KNeighborsRegressor\n",
    "knn2 = KNeighborsRegressor(n_neighbors=9)\n",
    "weight_options = [\"uniform\", \"distance\"]\n",
    "param_grid2 = dict(weights = weight_options)\n",
    "    \n",
    "grid = GridSearchCV(knn2, param_grid2)\n",
    "grid.fit(x_train3,Y_train2)\n",
    "p3=grid.predict(x_test3)"
   ]
  },
  {
   "cell_type": "code",
   "execution_count": 61,
   "metadata": {},
   "outputs": [
    {
     "data": {
      "text/plain": [
       "5.87441780945661"
      ]
     },
     "execution_count": 61,
     "metadata": {},
     "output_type": "execute_result"
    }
   ],
   "source": [
    "mean_absolute_error(Y_test2,p3)"
   ]
  },
  {
   "cell_type": "code",
   "execution_count": null,
   "metadata": {},
   "outputs": [],
   "source": []
  }
 ],
 "metadata": {
  "colab": {
   "collapsed_sections": [],
   "name": "Fill-biological-age-column.ipynb",
   "provenance": []
  },
  "kernelspec": {
   "display_name": "Python 3",
   "language": "python",
   "name": "python3"
  },
  "language_info": {
   "codemirror_mode": {
    "name": "ipython",
    "version": 3
   },
   "file_extension": ".py",
   "mimetype": "text/x-python",
   "name": "python",
   "nbconvert_exporter": "python",
   "pygments_lexer": "ipython3",
   "version": "3.8.8"
  }
 },
 "nbformat": 4,
 "nbformat_minor": 1
}
