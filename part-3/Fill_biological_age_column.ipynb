{
 "cells": [
  {
   "cell_type": "code",
   "execution_count": 69,
   "metadata": {
    "id": "YTWqc5Qkqqom"
   },
   "outputs": [],
   "source": [
    "import pandas as pd\n",
    "import math\n",
    "import numpy as np\n",
    "from sklearn.model_selection import train_test_split\n",
    "from sklearn.model_selection import cross_val_score\n",
    "import matplotlib.pyplot as plt\n",
    "from sklearn.preprocessing import PolynomialFeatures\n",
    "from sklearn.linear_model import LinearRegression\n",
    "from sklearn.metrics import r2_score\n",
    "from sklearn.preprocessing import StandardScaler\n",
    "from sklearn import linear_model\n",
    "\n",
    "from sklearn.model_selection import RandomizedSearchCV\n",
    "from sklearn.model_selection import GridSearchCV\n",
    "from sklearn.ensemble import ExtraTreesRegressor\n",
    "from sklearn.ensemble import RandomForestRegressor\n",
    "from sklearn.model_selection import RandomizedSearchCV\n",
    "from sklearn.ensemble import ExtraTreesRegressor"
   ]
  },
  {
   "cell_type": "code",
   "execution_count": 70,
   "metadata": {
    "id": "a2VaIIHcqvtg"
   },
   "outputs": [],
   "source": [
    "oppScrData = pd.read_excel ('OppScrData.xlsx')"
   ]
  },
  {
   "cell_type": "markdown",
   "metadata": {
    "id": "8y3afs9j7yJj"
   },
   "source": [
    "Utils"
   ]
  },
  {
   "cell_type": "code",
   "execution_count": 71,
   "metadata": {
    "id": "cDaUN5w82BlA"
   },
   "outputs": [],
   "source": [
    "def normalize_ss(data):\n",
    "  return StandardScaler().fit_transform(data)\n",
    "\n",
    "def normalize_min_max(data):\n",
    "    n = data.shape[1]    \n",
    "    for i in range(n-1):\n",
    "      data[:,i] = (data[:,i] - np.min(data[:,i]))/(np.max(data[:,i])- np.min(data[:,i]))\n",
    "    return data\n",
    "\n",
    "def plot(y_pred, y_test):\n",
    "  plt.figure()\n",
    "  x = [i+1 for i in range(len(y_test))]\n",
    "  plt.plot((x,x),([i for i in y_pred], [j for j in y_test]),c='green')\n",
    "  plt.scatter(x, y_pred, label=\"predicted_y\")\n",
    "  plt.scatter(x, y_test, label=\"actual_y\")\n",
    "  plt.legend()\n",
    "  plt.show()\n",
    "\n",
    "def mean_absolute_error(actual, predictions):\n",
    "  n = len(actual)\n",
    "  return sum(abs(actual - predictions))/n\n"
   ]
  },
  {
   "cell_type": "markdown",
   "metadata": {
    "id": "zRdYpOzNq6Ix"
   },
   "source": [
    "Get all dead people"
   ]
  },
  {
   "cell_type": "code",
   "execution_count": 8,
   "metadata": {
    "id": "GSK2C3yAq5S_"
   },
   "outputs": [],
   "source": [
    "def get_dead_people_ct_data(oppScrData):\n",
    "    # Delete rows with empty values\n",
    "    ct_data= oppScrData[['Age at CT', 'DEATH [d from CT]','Sex', \"L1_HU_BMD\", \"TAT Area (cm2)\", 'Total Body                Area EA (cm2)',\n",
    "       'VAT Area (cm2)', 'SAT Area (cm2)', 'VAT/SAT     Ratio', 'Muscle HU',\n",
    "       ' Muscle Area (cm2)', 'L3 SMI (cm2/m2)', 'AoCa        Agatston',\n",
    "       'Liver HU    (Median)']]\n",
    "    n = ct_data.shape[0]\n",
    "    dead_people_ct_data = []\n",
    "\n",
    "    for i in range(n):\n",
    "        row = ct_data.loc[i]\n",
    "        ignore = False\n",
    "        for j in row:\n",
    "          if pd.isna(j) or j == ' ': # There is an empty string somewhere in Liver column\n",
    "            ignore = True\n",
    "            break          \n",
    "\n",
    "        if (not ignore) and (not pd.isna(row['DEATH [d from CT]'])):\n",
    "          row[0] = (row['Age at CT']*365 + row['DEATH [d from CT]']) - ((76.1*365) if row['Sex'] == \"Male\" else (81.1*365)          )\n",
    "          dead_people_ct_data.append(row)\n",
    "\n",
    "    dead_people_ct_data = np.array(dead_people_ct_data)\n",
    "    dead_people_ct_data = np.delete(dead_people_ct_data, 1, 1)\n",
    "    dead_people_ct_data = np.delete(dead_people_ct_data, 1, 1)\n",
    "    return np.array(dead_people_ct_data, dtype=np.float32)\n",
    "\n",
    "# dead_people_ct_data[0] -> number of days lost\n",
    "# dead_people_ct_data[1:] -> ct_data\n"
   ]
  },
  {
   "cell_type": "code",
   "execution_count": 72,
   "metadata": {
    "colab": {
     "base_uri": "https://localhost:8080/"
    },
    "id": "D0m_OPzX7ANQ",
    "outputId": "44638792-994b-4b78-9865-49072723d5e2"
   },
   "outputs": [
    {
     "name": "stderr",
     "output_type": "stream",
     "text": [
      "<ipython-input-8-81c8ef95b4dd>:19: SettingWithCopyWarning: \n",
      "A value is trying to be set on a copy of a slice from a DataFrame\n",
      "\n",
      "See the caveats in the documentation: https://pandas.pydata.org/pandas-docs/stable/user_guide/indexing.html#returning-a-view-versus-a-copy\n",
      "  row[0] = (row['Age at CT']*365 + row['DEATH [d from CT]']) - ((76.1*365) if row['Sex'] == \"Male\" else (81.1*365)          )\n"
     ]
    }
   ],
   "source": [
    "dead_people_ct_data = get_dead_people_ct_data(oppScrData)"
   ]
  },
  {
   "cell_type": "code",
   "execution_count": 73,
   "metadata": {
    "id": "xVZ9S72Isik0"
   },
   "outputs": [
    {
     "data": {
      "text/plain": [
       "array([[ 112.      ,  396.8     ,  716.008   , ...,   44.135765,\n",
       "        4742.468   ,   49.      ],\n",
       "       [ 185.      ,  600.24866 ,  956.5189  , ...,   88.98985 ,\n",
       "         750.297   ,   45.      ],\n",
       "       [ 119.      ,  637.1162  ,  843.8054  , ...,   48.639385,\n",
       "          13.587   ,   30.      ],\n",
       "       ...,\n",
       "       [ 231.      ,  315.98462 ,  875.9513  , ...,   64.26262 ,\n",
       "          40.395   ,   40.      ],\n",
       "       [ 104.      ,  101.74572 ,  393.135   , ...,   47.89861 ,\n",
       "        7684.902   ,   55.      ],\n",
       "       [ 186.      ,  536.3838  ,  823.67566 , ...,   57.230667,\n",
       "         403.442   ,   63.      ]], dtype=float32)"
      ]
     },
     "execution_count": 73,
     "metadata": {},
     "output_type": "execute_result"
    }
   ],
   "source": [
    "y = dead_people_ct_data[:,0]\n",
    "# X = normalize_ss(dead_people_ct_data[:,1:])\n",
    "# X = normalize_min_max(dead_people_ct_data[:,1:])\n",
    "X = dead_people_ct_data[:,1:]\n",
    "x_train, x_test, y_train, y_test = train_test_split(X, y, test_size=0.1, random_state=2)\n",
    "\n",
    "x_train"
   ]
  },
  {
   "cell_type": "markdown",
   "metadata": {
    "id": "L6KLBwzK5wzW"
   },
   "source": [
    "Linear"
   ]
  },
  {
   "cell_type": "code",
   "execution_count": 74,
   "metadata": {
    "colab": {
     "base_uri": "https://localhost:8080/",
     "height": 283
    },
    "id": "UAzE-Tev1w0J",
    "outputId": "cfeb2c01-ccb1-45cd-b60a-10c7eafa924e"
   },
   "outputs": [
    {
     "name": "stdout",
     "output_type": "stream",
     "text": [
      "0.081233395863205\n"
     ]
    },
    {
     "data": {
      "image/png": "[encoded data removed]",
      "text/plain": [
       "<Figure size 432x288 with 1 Axes>"
      ]
     },
     "metadata": {
      "needs_background": "light"
     },
     "output_type": "display_data"
    }
   ],
   "source": [
    "lr = LinearRegression()\n",
    "lr.fit(x_train, y_train)\n",
    "y_pred = lr.predict(x_test)\n",
    "print(r2_score(y_test, y_pred))\n",
    "plot(y_test=y_test, y_pred=y_pred)"
   ]
  },
  {
   "cell_type": "markdown",
   "metadata": {
    "id": "oy1Gte1K5yJ2"
   },
   "source": [
    "Polynomial"
   ]
  },
  {
   "cell_type": "code",
   "execution_count": 75,
   "metadata": {
    "colab": {
     "base_uri": "https://localhost:8080/",
     "height": 283
    },
    "id": "jQ1n43rW3l8p",
    "outputId": "ed7d0af2-3d46-4bab-e0d6-fc26be69d774"
   },
   "outputs": [
    {
     "name": "stdout",
     "output_type": "stream",
     "text": [
      "3697.9448046875\n"
     ]
    },
    {
     "data": {
      "image/png": "[encoded data removed]",
      "text/plain": [
       "<Figure size 432x288 with 1 Axes>"
      ]
     },
     "metadata": {
      "needs_background": "light"
     },
     "output_type": "display_data"
    }
   ],
   "source": [
    "poly = PolynomialFeatures(degree=3, include_bias=True)\n",
    "x_train_trans = poly.fit_transform(x_train)\n",
    "x_test_trans = poly.transform(x_test)\n",
    "\n",
    "#include bias parameter\n",
    "lr = LinearRegression()\n",
    "lr.fit(x_train_trans, y_train)\n",
    "y_pred = lr.predict(x_test_trans)\n",
    "print(mean_absolute_error(y_test, y_pred))\n",
    "plot(y_test=y_test, y_pred=y_pred)"
   ]
  },
  {
   "cell_type": "code",
   "execution_count": 13,
   "metadata": {
    "id": "tASMZ5XGutyR"
   },
   "outputs": [
    {
     "ename": "SyntaxError",
     "evalue": "invalid syntax (<ipython-input-13-d218032810dd>, line 1)",
     "output_type": "error",
     "traceback": [
      "\u001b[0;36m  File \u001b[0;32m\"<ipython-input-13-d218032810dd>\"\u001b[0;36m, line \u001b[0;32m1\u001b[0m\n\u001b[0;31m    Fill biological column\u001b[0m\n\u001b[0m         ^\u001b[0m\n\u001b[0;31mSyntaxError\u001b[0m\u001b[0;31m:\u001b[0m invalid syntax\n"
     ]
    }
   ],
   "source": [
    "Fill biological column"
   ]
  },
  {
   "cell_type": "code",
   "execution_count": 76,
   "metadata": {
    "id": "IqL6eCJnph4y"
   },
   "outputs": [],
   "source": [
    "def get_all_people_ct_data(oppScrData):\n",
    "    # Delete rows with empty values\n",
    "    ct_data= oppScrData[['Age at CT', \"L1_HU_BMD\", \"TAT Area (cm2)\", 'Total Body                Area EA (cm2)',\n",
    "       'VAT Area (cm2)', 'SAT Area (cm2)', 'VAT/SAT     Ratio', 'Muscle HU',\n",
    "       ' Muscle Area (cm2)', 'L3 SMI (cm2/m2)', 'AoCa        Agatston',\n",
    "       'Liver HU    (Median)']]\n",
    "    n = ct_data.shape[0]\n",
    "    all_people_ct_data = []\n",
    "\n",
    "    for i in range(n):\n",
    "        row = ct_data.loc[i]\n",
    "        ignore = False\n",
    "        for j in row:\n",
    "          if pd.isna(j) or j == ' ': # There is an empty string somewhere in Liver column\n",
    "            ignore = True\n",
    "            break          \n",
    "\n",
    "        if not ignore:\n",
    "          all_people_ct_data.append(row)\n",
    "\n",
    "    return np.array(all_people_ct_data, dtype=np.float32)\n",
    "\n",
    "# dead_people_ct_data[0] -> biological age\n",
    "# dead_people_ct_data[1:] -> ct_data\n"
   ]
  },
  {
   "cell_type": "code",
   "execution_count": 77,
   "metadata": {
    "id": "BpTz1fSVqXwp"
   },
   "outputs": [
    {
     "data": {
      "text/plain": [
       "array([[  55.      ,  192.      ,  485.50287 , ...,   48.41319 ,\n",
       "        2709.064   ,   52.      ],\n",
       "       [  52.      ,  256.      ,  490.05453 , ...,   50.101334,\n",
       "           0.      ,   54.      ],\n",
       "       [  60.      ,  149.      ,  289.1081  , ...,   69.11585 ,\n",
       "        2586.575   ,   57.      ],\n",
       "       ...,\n",
       "       [  63.      ,  135.      ,  822.2872  , ...,   57.78635 ,\n",
       "        1115.997   ,   45.      ],\n",
       "       [  55.      ,  219.      ,  418.2     , ...,   50.929787,\n",
       "        3515.371   ,   44.      ],\n",
       "       [  61.      ,  151.      ,   61.54359 , ...,   29.688124,\n",
       "        3015.129   ,   54.      ]], dtype=float32)"
      ]
     },
     "execution_count": 77,
     "metadata": {},
     "output_type": "execute_result"
    }
   ],
   "source": [
    "a = get_all_people_ct_data(oppScrData)\n",
    "a"
   ]
  },
  {
   "cell_type": "code",
   "execution_count": 78,
   "metadata": {
    "colab": {
     "base_uri": "https://localhost:8080/"
    },
    "id": "zlKFPIuwrd9H",
    "outputId": "14e0a44d-1a32-422d-a06b-65103362207a"
   },
   "outputs": [
    {
     "data": {
      "text/plain": [
       "array([5.5000000e+01, 1.9200000e+02, 4.8550287e+02, 6.9431427e+02,\n",
       "       1.8349715e+02, 3.0200858e+02, 6.0758919e-01, 1.6150124e+01,\n",
       "       1.2396874e+02, 4.8413189e+01, 2.7090640e+03, 5.2000000e+01],\n",
       "      dtype=float32)"
      ]
     },
     "execution_count": 78,
     "metadata": {},
     "output_type": "execute_result"
    }
   ],
   "source": [
    "a[0]"
   ]
  },
  {
   "cell_type": "code",
   "execution_count": 79,
   "metadata": {
    "colab": {
     "base_uri": "https://localhost:8080/"
    },
    "id": "LkhbzGukspNJ",
    "outputId": "efee6c4b-fb73-4bea-bef9-9ac1e0fb6612"
   },
   "outputs": [
    {
     "data": {
      "text/plain": [
       "8878"
      ]
     },
     "execution_count": 79,
     "metadata": {},
     "output_type": "execute_result"
    }
   ],
   "source": [
    "len(a)"
   ]
  },
  {
   "cell_type": "code",
   "execution_count": 80,
   "metadata": {
    "id": "1TT0VhWVr1Gl"
   },
   "outputs": [],
   "source": [
    "days_lost = -lr.predict(poly.fit_transform(a[:,1:]))"
   ]
  },
  {
   "cell_type": "code",
   "execution_count": 81,
   "metadata": {
    "colab": {
     "base_uri": "https://localhost:8080/"
    },
    "id": "57atMtiXsBSN",
    "outputId": "1168897e-afcf-4aa7-b51d-01dfff19fafc"
   },
   "outputs": [
    {
     "data": {
      "text/plain": [
       "array([2689.4756, 5214.9404, 2226.6826, ..., 6868.3115, 4699.1787,\n",
       "       1836.4126], dtype=float32)"
      ]
     },
     "execution_count": 81,
     "metadata": {},
     "output_type": "execute_result"
    }
   ],
   "source": [
    "days_lost"
   ]
  },
  {
   "cell_type": "code",
   "execution_count": 82,
   "metadata": {
    "id": "fLJx9jCqsMA1"
   },
   "outputs": [],
   "source": [
    "a[:,0] = a[:,0]*365 + days_lost\n"
   ]
  },
  {
   "cell_type": "code",
   "execution_count": 83,
   "metadata": {
    "colab": {
     "base_uri": "https://localhost:8080/"
    },
    "id": "2_4Zj_HjsfME",
    "outputId": "b8f6cbb1-bdb1-46f7-f7ab-35c37cd6eff0"
   },
   "outputs": [
    {
     "data": {
      "text/plain": [
       "array([2.2764477e+04, 1.9200000e+02, 4.8550287e+02, 6.9431427e+02,\n",
       "       1.8349715e+02, 3.0200858e+02, 6.0758919e-01, 1.6150124e+01,\n",
       "       1.2396874e+02, 4.8413189e+01, 2.7090640e+03, 5.2000000e+01],\n",
       "      dtype=float32)"
      ]
     },
     "execution_count": 83,
     "metadata": {},
     "output_type": "execute_result"
    }
   ],
   "source": [
    "a[0]"
   ]
  },
  {
   "cell_type": "code",
   "execution_count": 84,
   "metadata": {
    "colab": {
     "base_uri": "https://localhost:8080/"
    },
    "id": "78GbS8TVs-50",
    "outputId": "ded57c7f-c465-4359-8b53-e9192c9f85e1"
   },
   "outputs": [
    {
     "data": {
      "text/plain": [
       "array([62.368427, 66.28751 , 66.1005  , ..., 81.81729 , 67.874466,\n",
       "       66.031265], dtype=float32)"
      ]
     },
     "execution_count": 84,
     "metadata": {},
     "output_type": "execute_result"
    }
   ],
   "source": [
    "a[:,0]/365"
   ]
  },
  {
   "cell_type": "code",
   "execution_count": 85,
   "metadata": {
    "id": "bK9Gy7GrtDJ4"
   },
   "outputs": [],
   "source": [
    "X = a[:, 1:]\n",
    "X2=a[:, 1:]\n",
    "y = a[:,0]\n",
    "y2=a[:,0]/365"
   ]
  },
  {
   "cell_type": "code",
   "execution_count": 86,
   "metadata": {
    "colab": {
     "base_uri": "https://localhost:8080/"
    },
    "id": "glvghKriuLvP",
    "outputId": "525bb404-87ae-4292-b33e-77535dc784a8"
   },
   "outputs": [
    {
     "data": {
      "text/plain": [
       "array([[ 192.      ,  485.50287 ,  694.3143  , ...,   48.41319 ,\n",
       "        2709.064   ,   52.      ],\n",
       "       [ 256.      ,  490.05453 ,  706.0515  , ...,   50.101334,\n",
       "           0.      ,   54.      ],\n",
       "       [ 149.      ,  289.1081  ,  584.4892  , ...,   69.11585 ,\n",
       "        2586.575   ,   57.      ],\n",
       "       ...,\n",
       "       [ 135.      ,  822.2872  , 1154.6051  , ...,   57.78635 ,\n",
       "        1115.997   ,   45.      ],\n",
       "       [ 219.      ,  418.2     ,  660.3461  , ...,   50.929787,\n",
       "        3515.371   ,   44.      ],\n",
       "       [ 151.      ,   61.54359 ,  362.88974 , ...,   29.688124,\n",
       "        3015.129   ,   54.      ]], dtype=float32)"
      ]
     },
     "execution_count": 86,
     "metadata": {},
     "output_type": "execute_result"
    }
   ],
   "source": [
    "X"
   ]
  },
  {
   "cell_type": "code",
   "execution_count": 87,
   "metadata": {
    "colab": {
     "base_uri": "https://localhost:8080/"
    },
    "id": "nX7y7n_MuMOM",
    "outputId": "40310d05-6a5f-4900-d1fb-d10a6e83bbae"
   },
   "outputs": [],
   "source": [
    "X_train, X_test, Y_train, Y_test = train_test_split(X, y, test_size=0.1, random_state=2)\n",
    "X_train2, X_test2, Y_train2, Y_test2 = train_test_split(X2, y2, test_size=0.1, random_state=2)"
   ]
  },
  {
   "cell_type": "code",
   "execution_count": 88,
   "metadata": {
    "id": "tHLghF_nuNIG"
   },
   "outputs": [
    {
     "data": {
      "text/plain": [
       "{'n_estimators': 1000,\n",
       " 'min_samples_split': 12,\n",
       " 'min_samples_leaf': 7,\n",
       " 'max_features': 6,\n",
       " 'max_depth': 20,\n",
       " 'bootstrap': True}"
      ]
     },
     "execution_count": 88,
     "metadata": {},
     "output_type": "execute_result"
    }
   ],
   "source": [
    "\n",
    "\n",
    "\n",
    "RFmod2 = RandomForestRegressor(random_state=21)\n",
    "\n",
    "#Choose some hyperparameter values \n",
    "param_grid2 = {\n",
    "    'bootstrap': [True],\n",
    "    'max_depth': [10,20,30],\n",
    "    'max_features': [2, 3,4,5,6],\n",
    "    'min_samples_leaf': [3, 4, 5,6,7,8,9,10],\n",
    "    'min_samples_split': [8, 10, 12,14,16,18,20],\n",
    "    'n_estimators': [50,30,40,20,10,100, 200, 300, 1000]\n",
    "}\n",
    "clfRF2 = RandomizedSearchCV(RFmod2,param_grid2,#model and parameters\n",
    "                             #number of cross validation folds\n",
    "                             )\n",
    "\n",
    "\n",
    "clfRF2.fit(X_train,Y_train)\n",
    "params3=clfRF2.best_params_\n",
    "params3\n"
   ]
  },
  {
   "cell_type": "code",
   "execution_count": 89,
   "metadata": {},
   "outputs": [
    {
     "name": "stderr",
     "output_type": "stream",
     "text": [
      "/Users/sanyamkakkar/opt/anaconda3/lib/python3.8/site-packages/sklearn/model_selection/_search.py:292: UserWarning: The total space of parameters 1 is smaller than n_iter=10. Running 1 iterations. For exhaustive searches, use GridSearchCV.\n",
      "  warnings.warn(\n"
     ]
    },
    {
     "data": {
      "text/plain": [
       "0.2960801515298803"
      ]
     },
     "execution_count": 89,
     "metadata": {},
     "output_type": "execute_result"
    }
   ],
   "source": [
    "RFparams2={'n_estimators':[30],\n",
    "          'min_samples_split':[16],\n",
    "          'min_samples_leaf': [9],\n",
    "           'max_features': [6],\n",
    "           'max_depth': [30],\n",
    "           'bootstrap': [True]}\n",
    "\n",
    "rf = RandomForestRegressor(random_state = 21)\n",
    "\n",
    "\n",
    "clf= RandomizedSearchCV(rf,RFparams2,refit=True)\n",
    "clf.fit(X_train,Y_train)\n",
    "        \n",
    "clf.best_estimator_.score(X_test, Y_test)"
   ]
  },
  {
   "cell_type": "code",
   "execution_count": 90,
   "metadata": {},
   "outputs": [],
   "source": [
    "y_pred=clf.predict(X_test)"
   ]
  },
  {
   "cell_type": "code",
   "execution_count": 91,
   "metadata": {},
   "outputs": [
    {
     "data": {
      "text/plain": [
       "1909.4241374759786"
      ]
     },
     "execution_count": 91,
     "metadata": {},
     "output_type": "execute_result"
    }
   ],
   "source": [
    "mean_absolute_error(Y_test,y_pred)"
   ]
  },
  {
   "cell_type": "markdown",
   "metadata": {},
   "source": [
    "with years\n"
   ]
  },
  {
   "cell_type": "code",
   "execution_count": 31,
   "metadata": {},
   "outputs": [
    {
     "data": {
      "text/plain": [
       "{'n_estimators': 200,\n",
       " 'min_samples_split': 14,\n",
       " 'min_samples_leaf': 10,\n",
       " 'max_features': 5,\n",
       " 'max_depth': 30,\n",
       " 'bootstrap': True}"
      ]
     },
     "execution_count": 31,
     "metadata": {},
     "output_type": "execute_result"
    }
   ],
   "source": [
    "\n",
    "RFmod2 = RandomForestRegressor(random_state=21)\n",
    "\n",
    "#Choose some hyperparameter values \n",
    "param_grid2 = {\n",
    "    'bootstrap': [True],\n",
    "    'max_depth': [10,20,30],\n",
    "    'max_features': [2, 3,4,5,6],\n",
    "    'min_samples_leaf': [3, 4, 5,6,7,8,9,10],\n",
    "    'min_samples_split': [8, 10, 12,14,16,18,20],\n",
    "    'n_estimators': [50,30,40,20,10,100, 200, 300, 1000]\n",
    "}\n",
    "clfRF2 = RandomizedSearchCV(RFmod2,param_grid2,#model and parameters\n",
    "                             #number of cross validation folds\n",
    "                             )\n",
    "\n",
    "\n",
    "clfRF2.fit(X_train,Y_train)\n",
    "params3=clfRF2.best_params_\n",
    "params3\n",
    "\n"
   ]
  },
  {
   "cell_type": "code",
   "execution_count": 32,
   "metadata": {},
   "outputs": [
    {
     "name": "stderr",
     "output_type": "stream",
     "text": [
      "/Users/sanyamkakkar/opt/anaconda3/lib/python3.8/site-packages/sklearn/model_selection/_search.py:292: UserWarning: The total space of parameters 1 is smaller than n_iter=10. Running 1 iterations. For exhaustive searches, use GridSearchCV.\n",
      "  warnings.warn(\n"
     ]
    },
    {
     "data": {
      "text/plain": [
       "0.2886298616795522"
      ]
     },
     "execution_count": 32,
     "metadata": {},
     "output_type": "execute_result"
    }
   ],
   "source": [
    "RFparams2={'n_estimators':[200],\n",
    "          'min_samples_split':[14],\n",
    "          'min_samples_leaf': [10],\n",
    "           'max_features': [5],\n",
    "           'max_depth': [30],\n",
    "           'bootstrap': [True]}\n",
    "\n",
    "rf = RandomForestRegressor(random_state = 21)\n",
    "\n",
    "\n",
    "clf= RandomizedSearchCV(rf,RFparams2,refit=True)\n",
    "clf.fit(X_train2,Y_train2)\n",
    "        \n",
    "clf.best_estimator_.score(X_test2, Y_test2)"
   ]
  },
  {
   "cell_type": "code",
   "execution_count": 33,
   "metadata": {},
   "outputs": [
    {
     "data": {
      "text/plain": [
       "5.225219109203804"
      ]
     },
     "execution_count": 33,
     "metadata": {},
     "output_type": "execute_result"
    }
   ],
   "source": [
    "y_pred2=clf.predict(X_test2)\n",
    "mean_absolute_error(Y_test2,y_pred2)"
   ]
  },
  {
   "cell_type": "code",
   "execution_count": 38,
   "metadata": {},
   "outputs": [],
   "source": [
    "import pandas as pd\n",
    "import torch\n",
    "import numpy as np\n",
    "import torch.nn as nn\n",
    "import torch.nn.functional as F\n",
    "import torch.optim as optim\n",
    "from torchvision import transforms\n",
    "from torch.utils.data import Dataset, DataLoader,IterableDataset\n",
    "from sklearn.model_selection import train_test_split"
   ]
  },
  {
   "cell_type": "code",
   "execution_count": 62,
   "metadata": {},
   "outputs": [],
   "source": [
    "class CT_Dataset(Dataset):\n",
    "\n",
    "    def __init__(self, X, y):\n",
    "        self.ct_data = X\n",
    "        self.age = y \n",
    "\n",
    "    def __len__(self):\n",
    "        return len(self.ct_data)\n",
    "\n",
    "    def __getitem__(self, idx):\n",
    "        ct_data = self.ct_data[idx]     \n",
    "        age = np.array(self.age[idx], dtype=np.float32)\n",
    "        return torch.from_numpy(ct_data), torch.from_numpy(age)"
   ]
  },
  {
   "cell_type": "code",
   "execution_count": 63,
   "metadata": {},
   "outputs": [],
   "source": [
    "a = CT_Dataset(X=X_train, y = Y_train)\n",
    "train_set = DataLoader(a, batch_size=64, shuffle=True)"
   ]
  },
  {
   "cell_type": "code",
   "execution_count": 64,
   "metadata": {},
   "outputs": [],
   "source": [
    "def build_model():\n",
    "  return nn.Sequential(\n",
    "    nn.Linear(11, 64),\n",
    "    nn.BatchNorm1d(64),\n",
    "    nn.ReLU(),\n",
    "    nn.Linear(64, 32),\n",
    "    #nn.BatchNorm1d(32),\n",
    "    #nn.ReLU(),\n",
    "    nn.Linear(32, 10),\n",
    "    #nn.BatchNorm1d(10),\n",
    "    nn.ReLU(),\n",
    "    nn.Linear(10, 1)\n",
    "    )\n",
    "\n",
    "model = build_model()"
   ]
  },
  {
   "cell_type": "code",
   "execution_count": 65,
   "metadata": {},
   "outputs": [
    {
     "name": "stderr",
     "output_type": "stream",
     "text": [
      "/Users/sanyamkakkar/opt/anaconda3/lib/python3.8/site-packages/torch/nn/modules/loss.py:529: UserWarning: Using a target size (torch.Size([64])) that is different to the input size (torch.Size([64, 1])). This will likely lead to incorrect results due to broadcasting. Please ensure they have the same size.\n",
      "  return F.mse_loss(input, target, reduction=self.reduction)\n",
      "/Users/sanyamkakkar/opt/anaconda3/lib/python3.8/site-packages/torch/nn/modules/loss.py:529: UserWarning: Using a target size (torch.Size([54])) that is different to the input size (torch.Size([54, 1])). This will likely lead to incorrect results due to broadcasting. Please ensure they have the same size.\n",
      "  return F.mse_loss(input, target, reduction=self.reduction)\n"
     ]
    },
    {
     "name": "stdout",
     "output_type": "stream",
     "text": [
      "​Train Epoch: 0 Loss = 5125808627712.0\n",
      "​Train Epoch: 1 Loss = 4993308131328.0\n",
      "​Train Epoch: 2 Loss = 4231840696320.0\n",
      "​Train Epoch: 3 Loss = 2449422201856.0\n",
      "​Train Epoch: 4 Loss = 719685566208.0\n",
      "​Train Epoch: 5 Loss = 230200445824.0\n",
      "​Train Epoch: 6 Loss = 187358773632.0\n",
      "​Train Epoch: 7 Loss = 174043008960.0\n",
      "​Train Epoch: 8 Loss = 165941067776.0\n",
      "​Train Epoch: 9 Loss = 160717556608.0\n",
      "​Train Epoch: 10 Loss = 154617599552.0\n",
      "​Train Epoch: 11 Loss = 151136858816.0\n",
      "​Train Epoch: 12 Loss = 146898290112.0\n",
      "​Train Epoch: 13 Loss = 143097603616.0\n",
      "​Train Epoch: 14 Loss = 139657802368.0\n",
      "​Train Epoch: 15 Loss = 136576438944.0\n",
      "​Train Epoch: 16 Loss = 133339891552.0\n",
      "​Train Epoch: 17 Loss = 130578648256.0\n",
      "​Train Epoch: 18 Loss = 127418870112.0\n",
      "​Train Epoch: 19 Loss = 125834204800.0\n",
      "​Train Epoch: 20 Loss = 123212621600.0\n",
      "​Train Epoch: 21 Loss = 121101945984.0\n",
      "​Train Epoch: 22 Loss = 119994490208.0\n",
      "​Train Epoch: 23 Loss = 117648313312.0\n",
      "​Train Epoch: 24 Loss = 116140368736.0\n",
      "​Train Epoch: 25 Loss = 114195010336.0\n",
      "​Train Epoch: 26 Loss = 112382443456.0\n",
      "​Train Epoch: 27 Loss = 112127488672.0\n",
      "​Train Epoch: 28 Loss = 110000289568.0\n",
      "​Train Epoch: 29 Loss = 108913040736.0\n",
      "​Train Epoch: 30 Loss = 108664553760.0\n",
      "​Train Epoch: 31 Loss = 107014340224.0\n",
      "​Train Epoch: 32 Loss = 106662384192.0\n",
      "​Train Epoch: 33 Loss = 105690255328.0\n",
      "​Train Epoch: 34 Loss = 105043029792.0\n",
      "​Train Epoch: 35 Loss = 104448998752.0\n",
      "​Train Epoch: 36 Loss = 103944972192.0\n",
      "​Train Epoch: 37 Loss = 103946282368.0\n",
      "​Train Epoch: 38 Loss = 103187138608.0\n",
      "​Train Epoch: 39 Loss = 103287861232.0\n",
      "​Train Epoch: 40 Loss = 102553818976.0\n",
      "​Train Epoch: 41 Loss = 102412110064.0\n",
      "​Train Epoch: 42 Loss = 102309374336.0\n",
      "​Train Epoch: 43 Loss = 101928300544.0\n",
      "​Train Epoch: 44 Loss = 101820523600.0\n",
      "​Train Epoch: 45 Loss = 101765614080.0\n",
      "​Train Epoch: 46 Loss = 101611172144.0\n",
      "​Train Epoch: 47 Loss = 102914055120.0\n",
      "​Train Epoch: 48 Loss = 101458758960.0\n",
      "​Train Epoch: 49 Loss = 101292943648.0\n",
      "​Train Epoch: 50 Loss = 101750290784.0\n",
      "​Train Epoch: 51 Loss = 101105694368.0\n",
      "​Train Epoch: 52 Loss = 101108641984.0\n",
      "​Train Epoch: 53 Loss = 101048401088.0\n",
      "​Train Epoch: 54 Loss = 100993339808.0\n",
      "​Train Epoch: 55 Loss = 100930651920.0\n",
      "​Train Epoch: 56 Loss = 100919700016.0\n",
      "​Train Epoch: 57 Loss = 100825125072.0\n",
      "​Train Epoch: 58 Loss = 100889980736.0\n",
      "​Train Epoch: 59 Loss = 101144515008.0\n",
      "​Train Epoch: 60 Loss = 100916385040.0\n",
      "​Train Epoch: 61 Loss = 100673046304.0\n",
      "​Train Epoch: 62 Loss = 100785534640.0\n",
      "​Train Epoch: 63 Loss = 100675090880.0\n",
      "​Train Epoch: 64 Loss = 100669408368.0\n",
      "​Train Epoch: 65 Loss = 100801522432.0\n",
      "​Train Epoch: 66 Loss = 100735674000.0\n",
      "​Train Epoch: 67 Loss = 100714752608.0\n",
      "​Train Epoch: 68 Loss = 100799290336.0\n",
      "​Train Epoch: 69 Loss = 100658964512.0\n",
      "​Train Epoch: 70 Loss = 100972997680.0\n",
      "​Train Epoch: 71 Loss = 100680532080.0\n",
      "​Train Epoch: 72 Loss = 100636682240.0\n",
      "​Train Epoch: 73 Loss = 100632472096.0\n",
      "​Train Epoch: 74 Loss = 100562825536.0\n",
      "​Train Epoch: 75 Loss = 100866138752.0\n",
      "​Train Epoch: 76 Loss = 100808195392.0\n",
      "​Train Epoch: 77 Loss = 100543760512.0\n",
      "​Train Epoch: 78 Loss = 100520517968.0\n",
      "​Train Epoch: 79 Loss = 100625990688.0\n",
      "​Train Epoch: 80 Loss = 100480470160.0\n",
      "​Train Epoch: 81 Loss = 100739733264.0\n",
      "​Train Epoch: 82 Loss = 101405925248.0\n",
      "​Train Epoch: 83 Loss = 100618908656.0\n",
      "​Train Epoch: 84 Loss = 100584227312.0\n",
      "​Train Epoch: 85 Loss = 100485881536.0\n",
      "​Train Epoch: 86 Loss = 100660575712.0\n",
      "​Train Epoch: 87 Loss = 100574089584.0\n",
      "​Train Epoch: 88 Loss = 100524370816.0\n",
      "​Train Epoch: 89 Loss = 100462362208.0\n",
      "​Train Epoch: 90 Loss = 100603679232.0\n",
      "​Train Epoch: 91 Loss = 100840770352.0\n",
      "​Train Epoch: 92 Loss = 100550060672.0\n",
      "​Train Epoch: 93 Loss = 100441982048.0\n",
      "​Train Epoch: 94 Loss = 100624013216.0\n",
      "​Train Epoch: 95 Loss = 100571679744.0\n",
      "​Train Epoch: 96 Loss = 100570308928.0\n",
      "​Train Epoch: 97 Loss = 100562423696.0\n",
      "​Train Epoch: 98 Loss = 100659562928.0\n",
      "​Train Epoch: 99 Loss = 100547563760.0\n"
     ]
    }
   ],
   "source": [
    "criterion = nn.MSELoss()\n",
    "\n",
    "def train_model(model, train_loader, criterion, T):\n",
    "  model.train()\n",
    "  opt = optim.Adam(model.parameters(), lr=0.001, weight_decay=0.1)\n",
    "  # opt = optim.SGD(model.parameters(), lr=0.001, momentum=0.9)\n",
    "  for epoch in range(T): \n",
    "      running_loss = 0\n",
    "      for data in enumerate(train_loader):\n",
    "          ct_data, actual_age = data[1][0], data[1][1]\n",
    "          opt.zero_grad()\n",
    "          predicted_age = model(ct_data)      \n",
    "          loss = criterion(predicted_age, actual_age)\n",
    "          running_loss += loss.item()*train_loader.batch_size\n",
    "          loss.backward() \n",
    "          opt.step()\n",
    "          \n",
    "      print(\"​Train Epoch: \"+str(epoch) + \" Loss =\", str(running_loss))\n",
    "\n",
    "  model.train(mode=False)\n",
    "\n",
    "model = build_model()\n",
    "train_model(model, train_set, criterion, T = 100)"
   ]
  },
  {
   "cell_type": "code",
   "execution_count": 66,
   "metadata": {},
   "outputs": [
    {
     "data": {
      "text/plain": [
       "<torch.utils.data.dataloader.DataLoader at 0x7f9b580b77f0>"
      ]
     },
     "execution_count": 66,
     "metadata": {},
     "output_type": "execute_result"
    }
   ],
   "source": [
    "b = CT_Dataset(X=X_test, y = Y_test)\n",
    "test_set = DataLoader(b, batch_size=64)\n",
    "test_set"
   ]
  },
  {
   "cell_type": "code",
   "execution_count": 67,
   "metadata": {},
   "outputs": [
    {
     "name": "stderr",
     "output_type": "stream",
     "text": [
      "/Users/sanyamkakkar/opt/anaconda3/lib/python3.8/site-packages/torch/nn/modules/loss.py:529: UserWarning: Using a target size (torch.Size([56])) that is different to the input size (torch.Size([56, 1])). This will likely lead to incorrect results due to broadcasting. Please ensure they have the same size.\n",
      "  return F.mse_loss(input, target, reduction=self.reduction)\n"
     ]
    },
    {
     "data": {
      "text/plain": [
       "150598968.0"
      ]
     },
     "execution_count": 67,
     "metadata": {},
     "output_type": "execute_result"
    }
   ],
   "source": [
    "def evaluate_model(model, test_loader, criterion):\n",
    "  model.eval()\n",
    "  running_loss = 0\n",
    "  with torch.no_grad():\n",
    "    for data in enumerate(test_loader):\n",
    "          ct_data, actual_age = data[1][0], data[1][1]\n",
    "          predicted_age = model(ct_data)\n",
    "          loss = criterion(predicted_age, actual_age)\n",
    "          running_loss += loss.item()\n",
    "  return running_loss\n",
    "\n",
    "evaluate_model(model, test_set, criterion)"
   ]
  },
  {
   "cell_type": "code",
   "execution_count": 54,
   "metadata": {},
   "outputs": [],
   "source": [
    "#experiemnt2 normalization"
   ]
  },
  {
   "cell_type": "code",
   "execution_count": 55,
   "metadata": {},
   "outputs": [],
   "source": [
    "from sklearn.preprocessing import MinMaxScaler,StandardScaler\n",
    "sc = StandardScaler()"
   ]
  },
  {
   "cell_type": "code",
   "execution_count": 49,
   "metadata": {},
   "outputs": [],
   "source": [
    "X3=normalize_min_max(X)"
   ]
  },
  {
   "cell_type": "code",
   "execution_count": 51,
   "metadata": {},
   "outputs": [
    {
     "data": {
      "text/plain": [
       "array([[5.3266335e-01, 3.9347196e-01, 2.7450114e-01, ..., 2.5568113e-01,\n",
       "        7.3331073e-02, 5.2000000e+01],\n",
       "       [6.9346732e-01, 3.9730248e-01, 2.8180805e-01, ..., 2.6470131e-01,\n",
       "        0.0000000e+00, 5.4000000e+01],\n",
       "       [4.2462310e-01, 2.2819412e-01, 2.0613065e-01, ..., 3.6630097e-01,\n",
       "        7.0015438e-02, 5.7000000e+01],\n",
       "       ...,\n",
       "       [3.8944724e-01, 6.7689592e-01, 5.6105059e-01, ..., 3.0576441e-01,\n",
       "        3.0208681e-02, 4.5000000e+01],\n",
       "       [6.0050249e-01, 3.3683261e-01, 2.5335464e-01, ..., 2.6912796e-01,\n",
       "        9.5156826e-02, 4.4000000e+01],\n",
       "       [4.2964825e-01, 3.6685102e-02, 6.8176135e-02, ..., 1.5562810e-01,\n",
       "        8.1615873e-02, 5.4000000e+01]], dtype=float32)"
      ]
     },
     "execution_count": 51,
     "metadata": {},
     "output_type": "execute_result"
    }
   ],
   "source": [
    "X3"
   ]
  },
  {
   "cell_type": "code",
   "execution_count": 52,
   "metadata": {},
   "outputs": [],
   "source": [
    "x_train3, x_test3, y_train3, y_test3 = train_test_split(X3, y, test_size=0.1, random_state=2)"
   ]
  },
  {
   "cell_type": "code",
   "execution_count": 54,
   "metadata": {},
   "outputs": [
    {
     "data": {
      "text/plain": [
       "{'n_estimators': 200,\n",
       " 'min_samples_split': 14,\n",
       " 'min_samples_leaf': 10,\n",
       " 'max_features': 5,\n",
       " 'max_depth': 30,\n",
       " 'bootstrap': True}"
      ]
     },
     "execution_count": 54,
     "metadata": {},
     "output_type": "execute_result"
    }
   ],
   "source": [
    "\n",
    "RFmod= RandomForestRegressor(random_state=21)\n",
    "\n",
    "#Choose some hyperparameter values \n",
    "param_grid = {\n",
    "    'bootstrap': [True],\n",
    "    'max_depth': [10,20,30],\n",
    "    'max_features': [2, 3,4,5,6],\n",
    "    'min_samples_leaf': [3, 4, 5,6,7,8,9,10],\n",
    "    'min_samples_split': [8, 10, 12,14,16,18,20],\n",
    "    'n_estimators': [50,30,40,20,10,100, 200, 300, 1000]\n",
    "}\n",
    "clfRF = RandomizedSearchCV(RFmod,param_grid,#model and parameters\n",
    "                             #number of cross validation folds\n",
    "                             )\n",
    "\n",
    "\n",
    "clfRF.fit(x_train3,y_train3)\n",
    "paramsexp=clfRF2.best_params_\n",
    "paramsexp"
   ]
  },
  {
   "cell_type": "code",
   "execution_count": 55,
   "metadata": {},
   "outputs": [
    {
     "name": "stderr",
     "output_type": "stream",
     "text": [
      "/Users/sanyamkakkar/opt/anaconda3/lib/python3.8/site-packages/sklearn/model_selection/_search.py:292: UserWarning: The total space of parameters 1 is smaller than n_iter=10. Running 1 iterations. For exhaustive searches, use GridSearchCV.\n",
      "  warnings.warn(\n"
     ]
    },
    {
     "data": {
      "text/plain": [
       "0.28416550446524846"
      ]
     },
     "execution_count": 55,
     "metadata": {},
     "output_type": "execute_result"
    }
   ],
   "source": [
    "RFparamsexp={'n_estimators':[1000],\n",
    "          'min_samples_split':[12],\n",
    "          'min_samples_leaf': [3],\n",
    "           'max_features': [3],\n",
    "           'max_depth': [20],\n",
    "           'bootstrap': [True]}\n",
    "\n",
    "rf2 = RandomForestRegressor(random_state = 21)\n",
    "\n",
    "\n",
    "clf2= RandomizedSearchCV(rf2,RFparamsexp,refit=True)\n",
    "clf2.fit(x_train3,y_train3)\n",
    "        \n",
    "clf2.best_estimator_.score(x_test3, y_test3)"
   ]
  },
  {
   "cell_type": "code",
   "execution_count": 56,
   "metadata": {},
   "outputs": [
    {
     "data": {
      "text/plain": [
       "1911.6461109913475"
      ]
     },
     "execution_count": 56,
     "metadata": {},
     "output_type": "execute_result"
    }
   ],
   "source": [
    "y_pred3=clf2.predict(x_test3)\n",
    "mean_absolute_error(y_test3,y_pred3)"
   ]
  },
  {
   "cell_type": "markdown",
   "metadata": {},
   "source": [
    "knn on years"
   ]
  },
  {
   "cell_type": "code",
   "execution_count": 60,
   "metadata": {},
   "outputs": [],
   "source": [
    "from sklearn.neighbors import KNeighborsRegressor\n",
    "knn2 = KNeighborsRegressor(n_neighbors=9)\n",
    "weight_options = [\"uniform\", \"distance\"]\n",
    "param_grid2 = dict(weights = weight_options)\n",
    "    \n",
    "grid = GridSearchCV(knn2, param_grid2)\n",
    "grid.fit(x_train3,Y_train2)\n",
    "p3=grid.predict(x_test3)"
   ]
  },
  {
   "cell_type": "code",
   "execution_count": 61,
   "metadata": {},
   "outputs": [
    {
     "data": {
      "text/plain": [
       "5.87441780945661"
      ]
     },
     "execution_count": 61,
     "metadata": {},
     "output_type": "execute_result"
    }
   ],
   "source": [
    "mean_absolute_error(Y_test2,p3)"
   ]
  },
  {
   "cell_type": "code",
   "execution_count": null,
   "metadata": {},
   "outputs": [],
   "source": []
  }
 ],
 "metadata": {
  "colab": {
   "collapsed_sections": [],
   "name": "Fill-biological-age-column.ipynb",
   "provenance": []
  },
  "kernelspec": {
   "display_name": "Python 3",
   "language": "python",
   "name": "python3"
  },
  "language_info": {
   "codemirror_mode": {
    "name": "ipython",
    "version": 3
   },
   "file_extension": ".py",
   "mimetype": "text/x-python",
   "name": "python",
   "nbconvert_exporter": "python",
   "pygments_lexer": "ipython3",
   "version": "3.8.8"
  }
 },
 "nbformat": 4,
 "nbformat_minor": 1
}
