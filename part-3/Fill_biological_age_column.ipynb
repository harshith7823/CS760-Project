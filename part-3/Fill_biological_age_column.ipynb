{
  "cells": [
    {
      "cell_type": "code",
      "execution_count": 1,
      "metadata": {
        "colab": {
          "base_uri": "https://localhost:8080/"
        },
        "id": "YTWqc5Qkqqom",
        "outputId": "cf2388e3-1e65-477a-b449-435f9e22a0b8"
      },
      "outputs": [
        {
          "name": "stderr",
          "output_type": "stream",
          "text": [
            "/usr/local/lib/python3.7/dist-packages/statsmodels/tools/_testing.py:19: FutureWarning: pandas.util.testing is deprecated. Use the functions in the public API at pandas.testing instead.\n",
            "  import pandas.util.testing as tm\n"
          ]
        }
      ],
      "source": [
        "import pandas as pd\n",
        "import math\n",
        "import numpy as np\n",
        "from sklearn.model_selection import train_test_split\n",
        "from sklearn.model_selection import cross_val_score\n",
        "import matplotlib.pyplot as plt"
      ]
    },
    {
      "cell_type": "code",
      "execution_count": 3,
      "metadata": {
        "id": "a2VaIIHcqvtg"
      },
      "outputs": [],
      "source": [
        "oppScrData = pd.read_excel (r'sample_data/OppScrData.xlsx')  "
      ]
    },
    {
      "cell_type": "markdown",
      "metadata": {
        "id": "zRdYpOzNq6Ix"
      },
      "source": [
        "Get all dead people"
      ]
    },
    {
      "cell_type": "code",
      "execution_count": null,
      "metadata": {
        "id": "GSK2C3yAq5S_"
      },
      "outputs": [],
      "source": [
        "def get_dead_people_ct_data(oppScrData):\n",
        "    # Delete rows with empty values\n",
        "    ct_data= oppScrData[['Age at CT', 'DEATH [d from CT]','Sex', \"L1_HU_BMD\", \"TAT Area (cm2)\", 'Total Body                Area EA (cm2)',\n",
        "       'VAT Area (cm2)', 'SAT Area (cm2)', 'VAT/SAT     Ratio', 'Muscle HU',\n",
        "       ' Muscle Area (cm2)', 'L3 SMI (cm2/m2)', 'AoCa        Agatston',\n",
        "       'Liver HU    (Median)']]\n",
        "    n = ct_data.shape[0]\n",
        "    dead_people_ct_data = []\n",
        "\n",
        "    for i in range(n):\n",
        "        row = ct_data.loc[i]\n",
        "        ignore = False\n",
        "        for j in row:\n",
        "          if pd.isna(j) or j == ' ': # There is an empty string somewhere in Liver column\n",
        "            ignore = True\n",
        "            break          \n",
        "\n",
        "        if (not ignore) and (not pd.isna(row['DEATH [d from CT]'])):\n",
        "          row[0] = (row['Age at CT']*365 + row['DEATH [d from CT]']) - ((76.1*365) if row['Sex'] == \"Male\" else (81.1*365)          )\n",
        "          dead_people_ct_data.append(row)\n",
        "\n",
        "    dead_people_ct_data = np.array(dead_people_ct_data)\n",
        "    dead_people_ct_data = np.delete(dead_people_ct_data, 1, 1)\n",
        "    dead_people_ct_data = np.delete(dead_people_ct_data, 1, 1)\n",
        "    return np.array(dead_people_ct_data, dtype=np.float32)\n",
        "\n",
        "dead_people_ct_data = get_dead_people_ct_data(oppScrData)\n",
        "# dead_people_ct_data[0] -> number of days lost\n",
        "# dead_people_ct_data[1:] -> ct_data\n"
      ]
    },
    {
      "cell_type": "code",
      "execution_count": 47,
      "metadata": {
        "colab": {
          "base_uri": "https://localhost:8080/"
        },
        "id": "xVZ9S72Isik0",
        "outputId": "52f01a54-9ed8-4d85-b83b-f332ac41a8fa"
      },
      "outputs": [
        {
          "data": {
            "text/plain": [
              "(493, 12)"
            ]
          },
          "execution_count": 47,
          "metadata": {},
          "output_type": "execute_result"
        }
      ],
      "source": [
        "dead_people_ct_data.shape"
      ]
    },
    {
      "cell_type": "code",
      "execution_count": null,
      "metadata": {
        "id": "Uee78H6PwCeU"
      },
      "outputs": [],
      "source": []
    }
  ],
  "metadata": {
    "colab": {
      "collapsed_sections": [],
      "name": "Fill-biological-age-column.ipynb",
      "provenance": []
    },
    "kernelspec": {
      "display_name": "Python 3",
      "name": "python3"
    },
    "language_info": {
      "name": "python"
    }
  },
  "nbformat": 4,
  "nbformat_minor": 0
}
