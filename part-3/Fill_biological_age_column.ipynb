{
  "nbformat": 4,
  "nbformat_minor": 0,
  "metadata": {
    "colab": {
      "name": "Fill-biological-age-column.ipynb",
      "provenance": [],
      "collapsed_sections": []
    },
    "kernelspec": {
      "name": "python3",
      "display_name": "Python 3"
    },
    "language_info": {
      "name": "python"
    }
  },
  "cells": [
    {
      "cell_type": "code",
      "execution_count": 56,
      "metadata": {
        "id": "YTWqc5Qkqqom"
      },
      "outputs": [],
      "source": [
        "import pandas as pd\n",
        "import math\n",
        "import numpy as np\n",
        "from sklearn.model_selection import train_test_split\n",
        "from sklearn.model_selection import cross_val_score\n",
        "import matplotlib.pyplot as plt\n",
        "from sklearn.preprocessing import PolynomialFeatures\n",
        "from sklearn.linear_model import LinearRegression\n",
        "from sklearn.metrics import r2_score\n",
        "from sklearn.preprocessing import StandardScaler\n",
        "from sklearn import linear_model"
      ]
    },
    {
      "cell_type": "code",
      "source": [
        "oppScrData = pd.read_excel (r'sample_data/OppScrData.xlsx')"
      ],
      "metadata": {
        "id": "a2VaIIHcqvtg"
      },
      "execution_count": 2,
      "outputs": []
    },
    {
      "cell_type": "markdown",
      "source": [
        "Utils"
      ],
      "metadata": {
        "id": "8y3afs9j7yJj"
      }
    },
    {
      "cell_type": "code",
      "source": [
        "def normalize_ss(data):\n",
        "  return StandardScaler().fit_transform(data)\n",
        "\n",
        "def normalize_min_max(data):\n",
        "    n = data.shape[1]    \n",
        "    for i in range(n-1):\n",
        "      data[:,i] = (data[:,i] - np.min(data[:,i]))/(np.max(data[:,i])- np.min(data[:,i]))\n",
        "    return data\n",
        "\n",
        "def plot(y_pred, y_test):\n",
        "  plt.figure()\n",
        "  x = [i+1 for i in range(len(y_test))]\n",
        "  plt.plot((x,x),([i for i in y_pred], [j for j in y_test]),c='green')\n",
        "  plt.scatter(x, y_pred, label=\"predicted_y\")\n",
        "  plt.scatter(x, y_test, label=\"actual_y\")\n",
        "  plt.legend()\n",
        "  plt.show()\n",
        "\n",
        "def mean_absolute_error(actual, predictions):\n",
        "  n = len(actual)\n",
        "  return sum(abs(actual - predictions))/n\n"
      ],
      "metadata": {
        "id": "cDaUN5w82BlA"
      },
      "execution_count": 72,
      "outputs": []
    },
    {
      "cell_type": "markdown",
      "source": [
        "Get all dead people"
      ],
      "metadata": {
        "id": "zRdYpOzNq6Ix"
      }
    },
    {
      "cell_type": "code",
      "source": [
        "def get_dead_people_ct_data(oppScrData):\n",
        "    # Delete rows with empty values\n",
        "    ct_data= oppScrData[['Age at CT', 'DEATH [d from CT]','Sex', \"L1_HU_BMD\", \"TAT Area (cm2)\", 'Total Body                Area EA (cm2)',\n",
        "       'VAT Area (cm2)', 'SAT Area (cm2)', 'VAT/SAT     Ratio', 'Muscle HU',\n",
        "       ' Muscle Area (cm2)', 'L3 SMI (cm2/m2)', 'AoCa        Agatston',\n",
        "       'Liver HU    (Median)']]\n",
        "    n = ct_data.shape[0]\n",
        "    dead_people_ct_data = []\n",
        "\n",
        "    for i in range(n):\n",
        "        row = ct_data.loc[i]\n",
        "        ignore = False\n",
        "        for j in row:\n",
        "          if pd.isna(j) or j == ' ': # There is an empty string somewhere in Liver column\n",
        "            ignore = True\n",
        "            break          \n",
        "\n",
        "        if (not ignore) and (not pd.isna(row['DEATH [d from CT]'])):\n",
        "          row[0] = (row['Age at CT']*365 + row['DEATH [d from CT]']) - ((76.1*365) if row['Sex'] == \"Male\" else (81.1*365)          )\n",
        "          dead_people_ct_data.append(row)\n",
        "\n",
        "    dead_people_ct_data = np.array(dead_people_ct_data)\n",
        "    dead_people_ct_data = np.delete(dead_people_ct_data, 1, 1)\n",
        "    dead_people_ct_data = np.delete(dead_people_ct_data, 1, 1)\n",
        "    return np.array(dead_people_ct_data, dtype=np.float32)\n",
        "\n",
        "# dead_people_ct_data[0] -> number of days lost\n",
        "# dead_people_ct_data[1:] -> ct_data\n"
      ],
      "metadata": {
        "id": "GSK2C3yAq5S_",
        "colab": {
          "base_uri": "https://localhost:8080/"
        },
        "outputId": "98305b3a-abb0-4c53-9bc3-5d725cf936de"
      },
      "execution_count": 3,
      "outputs": [
        {
          "output_type": "stream",
          "name": "stderr",
          "text": [
            "/usr/local/lib/python3.7/dist-packages/pandas/core/series.py:1056: SettingWithCopyWarning: \n",
            "A value is trying to be set on a copy of a slice from a DataFrame\n",
            "\n",
            "See the caveats in the documentation: https://pandas.pydata.org/pandas-docs/stable/user_guide/indexing.html#returning-a-view-versus-a-copy\n",
            "  cacher_needs_updating = self._check_is_chained_assignment_possible()\n"
          ]
        }
      ]
    },
    {
      "cell_type": "code",
      "source": [
        "dead_people_ct_data = get_dead_people_ct_data(oppScrData)"
      ],
      "metadata": {
        "id": "D0m_OPzX7ANQ"
      },
      "execution_count": null,
      "outputs": []
    },
    {
      "cell_type": "code",
      "source": [
        "y = dead_people_ct_data[:,0]\n",
        "# X = normalize_ss(dead_people_ct_data[:,1:])\n",
        "# X = normalize_min_max(dead_people_ct_data[:,1:])\n",
        "X = dead_people_ct_data[:,1:]\n",
        "x_train, x_test, y_train, y_test = train_test_split(X, y, test_size=0.1, random_state=2)"
      ],
      "metadata": {
        "id": "xVZ9S72Isik0"
      },
      "execution_count": 58,
      "outputs": []
    },
    {
      "cell_type": "markdown",
      "source": [
        "Linear"
      ],
      "metadata": {
        "id": "L6KLBwzK5wzW"
      }
    },
    {
      "cell_type": "code",
      "source": [
        "lr = LinearRegression()\n",
        "lr.fit(x_train, y_train)\n",
        "y_pred = lr.predict(x_test)\n",
        "print(r2_score(y_test, y_pred))\n",
        "plot(y_test=y_test, y_pred=y_pred)"
      ],
      "metadata": {
        "colab": {
          "base_uri": "https://localhost:8080/",
          "height": 283
        },
        "id": "UAzE-Tev1w0J",
        "outputId": "cfeb2c01-ccb1-45cd-b60a-10c7eafa924e"
      },
      "execution_count": 61,
      "outputs": [
        {
          "output_type": "stream",
          "name": "stdout",
          "text": [
            "0.08123459530521104\n"
          ]
        },
        {
          "output_type": "display_data",
          "data": {
            "text/plain": [
              "<Figure size 432x288 with 1 Axes>"
            ],
            "image/png": "[encoded data removed]"
          },
          "metadata": {
            "needs_background": "light"
          }
        }
      ]
    },
    {
      "cell_type": "markdown",
      "source": [
        "Polynomial"
      ],
      "metadata": {
        "id": "oy1Gte1K5yJ2"
      }
    },
    {
      "cell_type": "code",
      "source": [
        "poly = PolynomialFeatures(degree=3, include_bias=True)\n",
        "x_train_trans = poly.fit_transform(x_train)\n",
        "x_test_trans = poly.transform(x_test)\n",
        "\n",
        "#include bias parameter\n",
        "lr = LinearRegression()\n",
        "lr.fit(x_train_trans, y_train)\n",
        "y_pred = lr.predict(x_test_trans)\n",
        "print(mean_absolute_error(y_test, y_pred))\n",
        "plot(y_test=y_test, y_pred=y_pred)"
      ],
      "metadata": {
        "colab": {
          "base_uri": "https://localhost:8080/",
          "height": 283
        },
        "id": "jQ1n43rW3l8p",
        "outputId": "58a4e006-b45c-4c98-8ffe-e4ba2d800400"
      },
      "execution_count": 79,
      "outputs": [
        {
          "output_type": "stream",
          "name": "stdout",
          "text": [
            "3378.28181640625\n"
          ]
        },
        {
          "output_type": "display_data",
          "data": {
            "text/plain": [
              "<Figure size 432x288 with 1 Axes>"
            ],
            "image/png": "[encoded data removed]"
          },
          "metadata": {
            "needs_background": "light"
          }
        }
      ]
    },
    {
      "cell_type": "markdown",
      "source": [
        "Lasso"
      ],
      "metadata": {
        "id": "Nk07QuBJ50hm"
      }
    },
    {
      "cell_type": "code",
      "source": [
        "lr = linear_model.Lasso(alpha=0.1)\n",
        "lr.fit(x_train_trans, y_train)\n",
        "y_pred = lr.predict(x_test_trans)\n",
        "print(r2_score(y_test, y_pred))"
      ],
      "metadata": {
        "colab": {
          "base_uri": "https://localhost:8080/"
        },
        "id": "BCLy-FiQ51oe",
        "outputId": "cda41614-d8d1-455d-e8c3-eaf4ffde8b39"
      },
      "execution_count": 57,
      "outputs": [
        {
          "output_type": "stream",
          "name": "stdout",
          "text": [
            "-57.823182759894046\n"
          ]
        },
        {
          "output_type": "stream",
          "name": "stderr",
          "text": [
            "/usr/local/lib/python3.7/dist-packages/sklearn/linear_model/_coordinate_descent.py:648: ConvergenceWarning: Objective did not converge. You might want to increase the number of iterations, check the scale of the features or consider increasing regularisation. Duality gap: 3.336e+08, tolerance: 8.119e+05\n",
            "  coef_, l1_reg, l2_reg, X, y, max_iter, tol, rng, random, positive\n"
          ]
        }
      ]
    }
  ]
}