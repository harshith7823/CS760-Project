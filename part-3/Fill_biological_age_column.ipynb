{
  "nbformat": 4,
  "nbformat_minor": 0,
  "metadata": {
    "colab": {
      "name": "Fill-biological-age-column.ipynb",
      "provenance": [],
      "collapsed_sections": []
    },
    "kernelspec": {
      "name": "python3",
      "display_name": "Python 3"
    },
    "language_info": {
      "name": "python"
    }
  },
  "cells": [
    {
      "cell_type": "code",
      "execution_count": 1,
      "metadata": {
        "id": "YTWqc5Qkqqom"
      },
      "outputs": [],
      "source": [
        "import pandas as pd\n",
        "import math\n",
        "import numpy as np\n",
        "from sklearn.model_selection import train_test_split\n",
        "from sklearn.model_selection import cross_val_score\n",
        "import matplotlib.pyplot as plt\n",
        "from sklearn.preprocessing import PolynomialFeatures\n",
        "from sklearn.linear_model import LinearRegression\n",
        "from sklearn.metrics import r2_score\n",
        "from sklearn.preprocessing import StandardScaler\n",
        "from sklearn import linear_model"
      ]
    },
    {
      "cell_type": "code",
      "source": [
        "oppScrData = pd.read_excel (r'sample_data/OppScrData.xlsx')"
      ],
      "metadata": {
        "id": "a2VaIIHcqvtg"
      },
      "execution_count": 2,
      "outputs": []
    },
    {
      "cell_type": "markdown",
      "source": [
        "Utils"
      ],
      "metadata": {
        "id": "8y3afs9j7yJj"
      }
    },
    {
      "cell_type": "code",
      "source": [
        "def normalize_ss(data):\n",
        "  return StandardScaler().fit_transform(data)\n",
        "\n",
        "def normalize_min_max(data):\n",
        "    n = data.shape[1]    \n",
        "    for i in range(n-1):\n",
        "      data[:,i] = (data[:,i] - np.min(data[:,i]))/(np.max(data[:,i])- np.min(data[:,i]))\n",
        "    return data\n",
        "\n",
        "def plot(y_pred, y_test):\n",
        "  plt.figure()\n",
        "  x = [i+1 for i in range(len(y_test))]\n",
        "  plt.plot((x,x),([i for i in y_pred], [j for j in y_test]),c='green')\n",
        "  plt.scatter(x, y_pred, label=\"predicted_y\")\n",
        "  plt.scatter(x, y_test, label=\"actual_y\")\n",
        "  plt.legend()\n",
        "  plt.show()\n",
        "\n",
        "def mean_absolute_error(actual, predictions):\n",
        "  n = len(actual)\n",
        "  return sum(abs(actual - predictions))/n\n"
      ],
      "metadata": {
        "id": "cDaUN5w82BlA"
      },
      "execution_count": 3,
      "outputs": []
    },
    {
      "cell_type": "markdown",
      "source": [
        "Get all dead people"
      ],
      "metadata": {
        "id": "zRdYpOzNq6Ix"
      }
    },
    {
      "cell_type": "code",
      "source": [
        "def get_dead_people_ct_data(oppScrData):\n",
        "    # Delete rows with empty values\n",
        "    ct_data= oppScrData[['Age at CT', 'DEATH [d from CT]','Sex', \"L1_HU_BMD\", \"TAT Area (cm2)\", 'Total Body                Area EA (cm2)',\n",
        "       'VAT Area (cm2)', 'SAT Area (cm2)', 'VAT/SAT     Ratio', 'Muscle HU',\n",
        "       ' Muscle Area (cm2)', 'L3 SMI (cm2/m2)', 'AoCa        Agatston',\n",
        "       'Liver HU    (Median)']]\n",
        "    n = ct_data.shape[0]\n",
        "    dead_people_ct_data = []\n",
        "\n",
        "    for i in range(n):\n",
        "        row = ct_data.loc[i]\n",
        "        ignore = False\n",
        "        for j in row:\n",
        "          if pd.isna(j) or j == ' ': # There is an empty string somewhere in Liver column\n",
        "            ignore = True\n",
        "            break          \n",
        "\n",
        "        if (not ignore) and (not pd.isna(row['DEATH [d from CT]'])):\n",
        "          row[0] = (row['Age at CT']*365 + row['DEATH [d from CT]']) - ((76.1*365) if row['Sex'] == \"Male\" else (81.1*365)          )\n",
        "          dead_people_ct_data.append(row)\n",
        "\n",
        "    dead_people_ct_data = np.array(dead_people_ct_data)\n",
        "    dead_people_ct_data = np.delete(dead_people_ct_data, 1, 1)\n",
        "    dead_people_ct_data = np.delete(dead_people_ct_data, 1, 1)\n",
        "    return np.array(dead_people_ct_data, dtype=np.float32)\n",
        "\n",
        "# dead_people_ct_data[0] -> number of days lost\n",
        "# dead_people_ct_data[1:] -> ct_data\n"
      ],
      "metadata": {
        "id": "GSK2C3yAq5S_"
      },
      "execution_count": 4,
      "outputs": []
    },
    {
      "cell_type": "code",
      "source": [
        "dead_people_ct_data = get_dead_people_ct_data(oppScrData)"
      ],
      "metadata": {
        "id": "D0m_OPzX7ANQ",
        "colab": {
          "base_uri": "https://localhost:8080/"
        },
        "outputId": "44638792-994b-4b78-9865-49072723d5e2"
      },
      "execution_count": 5,
      "outputs": [
        {
          "output_type": "stream",
          "name": "stderr",
          "text": [
            "/usr/local/lib/python3.7/dist-packages/pandas/core/series.py:1056: SettingWithCopyWarning: \n",
            "A value is trying to be set on a copy of a slice from a DataFrame\n",
            "\n",
            "See the caveats in the documentation: https://pandas.pydata.org/pandas-docs/stable/user_guide/indexing.html#returning-a-view-versus-a-copy\n",
            "  cacher_needs_updating = self._check_is_chained_assignment_possible()\n"
          ]
        }
      ]
    },
    {
      "cell_type": "code",
      "source": [
        "y = dead_people_ct_data[:,0]\n",
        "# X = normalize_ss(dead_people_ct_data[:,1:])\n",
        "# X = normalize_min_max(dead_people_ct_data[:,1:])\n",
        "X = dead_people_ct_data[:,1:]\n",
        "x_train, x_test, y_train, y_test = train_test_split(X, y, test_size=0.1, random_state=2)"
      ],
      "metadata": {
        "id": "xVZ9S72Isik0"
      },
      "execution_count": 6,
      "outputs": []
    },
    {
      "cell_type": "markdown",
      "source": [
        "Linear"
      ],
      "metadata": {
        "id": "L6KLBwzK5wzW"
      }
    },
    {
      "cell_type": "code",
      "source": [
        "lr = LinearRegression()\n",
        "lr.fit(x_train, y_train)\n",
        "y_pred = lr.predict(x_test)\n",
        "print(r2_score(y_test, y_pred))\n",
        "plot(y_test=y_test, y_pred=y_pred)"
      ],
      "metadata": {
        "colab": {
          "base_uri": "https://localhost:8080/",
          "height": 283
        },
        "id": "UAzE-Tev1w0J",
        "outputId": "cfeb2c01-ccb1-45cd-b60a-10c7eafa924e"
      },
      "execution_count": null,
      "outputs": [
        {
          "output_type": "stream",
          "name": "stdout",
          "text": [
            "0.08123459530521104\n"
          ]
        },
        {
          "output_type": "display_data",
          "data": {
            "text/plain": [
              "<Figure size 432x288 with 1 Axes>"
            ],
            "image/png": "[encoded data removed]"
          },
          "metadata": {
            "needs_background": "light"
          }
        }
      ]
    },
    {
      "cell_type": "markdown",
      "source": [
        "Polynomial"
      ],
      "metadata": {
        "id": "oy1Gte1K5yJ2"
      }
    },
    {
      "cell_type": "code",
      "source": [
        "poly = PolynomialFeatures(degree=3, include_bias=True)\n",
        "x_train_trans = poly.fit_transform(x_train)\n",
        "x_test_trans = poly.transform(x_test)\n",
        "\n",
        "#include bias parameter\n",
        "lr = LinearRegression()\n",
        "lr.fit(x_train_trans, y_train)\n",
        "y_pred = lr.predict(x_test_trans)\n",
        "print(mean_absolute_error(y_test, y_pred))\n",
        "plot(y_test=y_test, y_pred=y_pred)"
      ],
      "metadata": {
        "colab": {
          "base_uri": "https://localhost:8080/",
          "height": 283
        },
        "id": "jQ1n43rW3l8p",
        "outputId": "ed7d0af2-3d46-4bab-e0d6-fc26be69d774"
      },
      "execution_count": 7,
      "outputs": [
        {
          "output_type": "stream",
          "name": "stdout",
          "text": [
            "3802.4619140625\n"
          ]
        },
        {
          "output_type": "display_data",
          "data": {
            "text/plain": [
              "<Figure size 432x288 with 1 Axes>"
            ],
            "image/png": "[encoded data removed]"
          },
          "metadata": {
            "needs_background": "light"
          }
        }
      ]
    },
    {
      "cell_type": "code",
      "source": [
        "Fill biological column"
      ],
      "metadata": {
        "id": "tASMZ5XGutyR"
      },
      "execution_count": null,
      "outputs": []
    },
    {
      "cell_type": "code",
      "source": [
        "def get_all_people_ct_data(oppScrData):\n",
        "    # Delete rows with empty values\n",
        "    ct_data= oppScrData[['Age at CT', \"L1_HU_BMD\", \"TAT Area (cm2)\", 'Total Body                Area EA (cm2)',\n",
        "       'VAT Area (cm2)', 'SAT Area (cm2)', 'VAT/SAT     Ratio', 'Muscle HU',\n",
        "       ' Muscle Area (cm2)', 'L3 SMI (cm2/m2)', 'AoCa        Agatston',\n",
        "       'Liver HU    (Median)']]\n",
        "    n = ct_data.shape[0]\n",
        "    all_people_ct_data = []\n",
        "\n",
        "    for i in range(n):\n",
        "        row = ct_data.loc[i]\n",
        "        ignore = False\n",
        "        for j in row:\n",
        "          if pd.isna(j) or j == ' ': # There is an empty string somewhere in Liver column\n",
        "            ignore = True\n",
        "            break          \n",
        "\n",
        "        if not ignore:\n",
        "          all_people_ct_data.append(row)\n",
        "\n",
        "    return np.array(all_people_ct_data, dtype=np.float32)\n",
        "\n",
        "# dead_people_ct_data[0] -> biological age\n",
        "# dead_people_ct_data[1:] -> ct_data\n"
      ],
      "metadata": {
        "id": "IqL6eCJnph4y"
      },
      "execution_count": 38,
      "outputs": []
    },
    {
      "cell_type": "code",
      "source": [
        "a = get_all_people_ct_data(oppScrData)"
      ],
      "metadata": {
        "id": "BpTz1fSVqXwp"
      },
      "execution_count": 39,
      "outputs": []
    },
    {
      "cell_type": "code",
      "source": [
        "a[0]"
      ],
      "metadata": {
        "colab": {
          "base_uri": "https://localhost:8080/"
        },
        "id": "zlKFPIuwrd9H",
        "outputId": "14e0a44d-1a32-422d-a06b-65103362207a"
      },
      "execution_count": 40,
      "outputs": [
        {
          "output_type": "execute_result",
          "data": {
            "text/plain": [
              "array([5.5000000e+01, 1.9200000e+02, 4.8550287e+02, 6.9431427e+02,\n",
              "       1.8349715e+02, 3.0200858e+02, 6.0758919e-01, 1.6150124e+01,\n",
              "       1.2396874e+02, 4.8413189e+01, 2.7090640e+03, 5.2000000e+01],\n",
              "      dtype=float32)"
            ]
          },
          "metadata": {},
          "execution_count": 40
        }
      ]
    },
    {
      "cell_type": "code",
      "source": [
        "len(a)"
      ],
      "metadata": {
        "colab": {
          "base_uri": "https://localhost:8080/"
        },
        "id": "LkhbzGukspNJ",
        "outputId": "efee6c4b-fb73-4bea-bef9-9ac1e0fb6612"
      },
      "execution_count": 41,
      "outputs": [
        {
          "output_type": "execute_result",
          "data": {
            "text/plain": [
              "8878"
            ]
          },
          "metadata": {},
          "execution_count": 41
        }
      ]
    },
    {
      "cell_type": "code",
      "source": [
        "days_lost = -lr.predict(poly.fit_transform(a[:,1:]))"
      ],
      "metadata": {
        "id": "1TT0VhWVr1Gl"
      },
      "execution_count": 27,
      "outputs": []
    },
    {
      "cell_type": "code",
      "source": [
        "days_lost"
      ],
      "metadata": {
        "colab": {
          "base_uri": "https://localhost:8080/"
        },
        "id": "57atMtiXsBSN",
        "outputId": "1168897e-afcf-4aa7-b51d-01dfff19fafc"
      },
      "execution_count": 28,
      "outputs": [
        {
          "output_type": "execute_result",
          "data": {
            "text/plain": [
              "array([3018.6987, 5572.9663, 1675.0815, ..., 6468.3003, 4548.519 ,\n",
              "       1791.5034], dtype=float32)"
            ]
          },
          "metadata": {},
          "execution_count": 28
        }
      ]
    },
    {
      "cell_type": "code",
      "source": [
        "a[:,0] = a[:,0]*365 + days_lost"
      ],
      "metadata": {
        "id": "fLJx9jCqsMA1"
      },
      "execution_count": 29,
      "outputs": []
    },
    {
      "cell_type": "code",
      "source": [
        "a[0]"
      ],
      "metadata": {
        "colab": {
          "base_uri": "https://localhost:8080/"
        },
        "id": "2_4Zj_HjsfME",
        "outputId": "b8f6cbb1-bdb1-46f7-f7ab-35c37cd6eff0"
      },
      "execution_count": 30,
      "outputs": [
        {
          "output_type": "execute_result",
          "data": {
            "text/plain": [
              "array([2.3093699e+04, 1.9200000e+02, 4.8550287e+02, 6.9431427e+02,\n",
              "       1.8349715e+02, 3.0200858e+02, 6.0758919e-01, 1.6150124e+01,\n",
              "       1.2396874e+02, 4.8413189e+01, 2.7090640e+03, 5.2000000e+01],\n",
              "      dtype=float32)"
            ]
          },
          "metadata": {},
          "execution_count": 30
        }
      ]
    },
    {
      "cell_type": "code",
      "source": [
        "a[:,0]/365"
      ],
      "metadata": {
        "colab": {
          "base_uri": "https://localhost:8080/"
        },
        "id": "78GbS8TVs-50",
        "outputId": "ded57c7f-c465-4359-8b53-e9192c9f85e1"
      },
      "execution_count": 32,
      "outputs": [
        {
          "output_type": "execute_result",
          "data": {
            "text/plain": [
              "array([63.27041 , 67.2684  , 64.589264, ..., 80.721375, 67.4617  ,\n",
              "       65.90823 ], dtype=float32)"
            ]
          },
          "metadata": {},
          "execution_count": 32
        }
      ]
    },
    {
      "cell_type": "code",
      "source": [
        "X = a[:, 1:]\n",
        "y = a[:,0]"
      ],
      "metadata": {
        "id": "bK9Gy7GrtDJ4"
      },
      "execution_count": 33,
      "outputs": []
    },
    {
      "cell_type": "code",
      "source": [
        "X"
      ],
      "metadata": {
        "colab": {
          "base_uri": "https://localhost:8080/"
        },
        "id": "glvghKriuLvP",
        "outputId": "525bb404-87ae-4292-b33e-77535dc784a8"
      },
      "execution_count": 34,
      "outputs": [
        {
          "output_type": "execute_result",
          "data": {
            "text/plain": [
              "array([[ 192.      ,  485.50287 ,  694.3143  , ...,   48.41319 ,\n",
              "        2709.064   ,   52.      ],\n",
              "       [ 256.      ,  490.05453 ,  706.0515  , ...,   50.101334,\n",
              "           0.      ,   54.      ],\n",
              "       [ 149.      ,  289.1081  ,  584.4892  , ...,   69.11585 ,\n",
              "        2586.575   ,   57.      ],\n",
              "       ...,\n",
              "       [ 135.      ,  822.2872  , 1154.6051  , ...,   57.78635 ,\n",
              "        1115.997   ,   45.      ],\n",
              "       [ 219.      ,  418.2     ,  660.3461  , ...,   50.929787,\n",
              "        3515.371   ,   44.      ],\n",
              "       [ 151.      ,   61.54359 ,  362.88974 , ...,   29.688124,\n",
              "        3015.129   ,   54.      ]], dtype=float32)"
            ]
          },
          "metadata": {},
          "execution_count": 34
        }
      ]
    },
    {
      "cell_type": "code",
      "source": [
        "y"
      ],
      "metadata": {
        "colab": {
          "base_uri": "https://localhost:8080/"
        },
        "id": "nX7y7n_MuMOM",
        "outputId": "40310d05-6a5f-4900-d1fb-d10a6e83bbae"
      },
      "execution_count": 35,
      "outputs": [
        {
          "output_type": "execute_result",
          "data": {
            "text/plain": [
              "array([23093.7  , 24552.967, 23575.082, ..., 29463.3  , 24623.52 ,\n",
              "       24056.504], dtype=float32)"
            ]
          },
          "metadata": {},
          "execution_count": 35
        }
      ]
    },
    {
      "cell_type": "code",
      "source": [
        ""
      ],
      "metadata": {
        "id": "tHLghF_nuNIG"
      },
      "execution_count": null,
      "outputs": []
    }
  ]
}