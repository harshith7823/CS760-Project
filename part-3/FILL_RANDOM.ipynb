{
 "cells": [
  {
   "cell_type": "code",
   "execution_count": 1,
   "id": "1d39b855",
   "metadata": {},
   "outputs": [],
   "source": [
    "import pandas as pd\n",
    "import math\n",
    "import numpy as np\n",
    "from sklearn.model_selection import train_test_split\n",
    "from sklearn.model_selection import cross_val_score\n",
    "import matplotlib.pyplot as plt\n",
    "from sklearn.preprocessing import PolynomialFeatures\n",
    "from sklearn.linear_model import LinearRegression\n",
    "from sklearn.metrics import r2_score\n",
    "from sklearn.preprocessing import StandardScaler\n",
    "from sklearn import linear_model\n",
    "\n",
    "from sklearn.model_selection import RandomizedSearchCV\n",
    "from sklearn.model_selection import GridSearchCV\n",
    "from sklearn.ensemble import ExtraTreesRegressor\n",
    "from sklearn.ensemble import RandomForestRegressor\n",
    "from sklearn.model_selection import RandomizedSearchCV\n",
    "from sklearn.ensemble import ExtraTreesRegressor\n",
    "import torch\n",
    "from sklearn.metrics import mean_squared_error\n",
    "from sklearn.metrics import mean_absolute_percentage_error"
   ]
  },
  {
   "cell_type": "code",
   "execution_count": 2,
   "id": "5f7ee540",
   "metadata": {},
   "outputs": [],
   "source": [
    "oppScrData = pd.read_excel ('/Users/sanyamkakkar/Desktop/Spring/Ml760/CS760-Project/OppScrData.xlsx')"
   ]
  },
  {
   "cell_type": "code",
   "execution_count": 3,
   "id": "7ac2acf4",
   "metadata": {},
   "outputs": [],
   "source": [
    "def normalize_ss(data):\n",
    "  return StandardScaler().fit_transform(data)\n",
    "\n",
    "def normalize_min_max(data):\n",
    "    n = data.shape[1]    \n",
    "    for i in range(n-1):\n",
    "      data[:,i] = (data[:,i] - np.min(data[:,i]))/(np.max(data[:,i])- np.min(data[:,i]))\n",
    "    return data\n",
    "\n",
    "def plot(y_pred, y_test):\n",
    "  plt.figure()\n",
    "  x = [i+1 for i in range(len(y_test))]\n",
    "  plt.plot((x,x),([i for i in y_pred], [j for j in y_test]),c='green')\n",
    "  plt.scatter(x, y_pred, label=\"predicted_y\")\n",
    "  plt.scatter(x, y_test, label=\"actual_y\")\n",
    "  plt.legend()\n",
    "  plt.show()\n",
    "\n",
    "def mean_absolute_error(actual, predictions):\n",
    "  n = len(actual)\n",
    "  return sum(abs(actual - predictions))/n"
   ]
  },
  {
   "cell_type": "code",
   "execution_count": 4,
   "id": "889526b9",
   "metadata": {},
   "outputs": [],
   "source": [
    "def get_dead_people_ct_data(oppScrData):\n",
    "    # Delete rows with empty values\n",
    "    ct_data= oppScrData[['Age at CT', 'DEATH [d from CT]','Sex', \"L1_HU_BMD\", \"TAT Area (cm2)\", 'Total Body                Area EA (cm2)',\n",
    "       'VAT Area (cm2)', 'SAT Area (cm2)', 'VAT/SAT     Ratio', 'Muscle HU',\n",
    "       ' Muscle Area (cm2)', 'L3 SMI (cm2/m2)', 'AoCa        Agatston',\n",
    "       'Liver HU    (Median)']]\n",
    "    n = ct_data.shape[0]\n",
    "    dead_people_ct_data = []\n",
    "\n",
    "    for i in range(n):\n",
    "        row = ct_data.loc[i]\n",
    "        ignore = False\n",
    "        for j in row:\n",
    "          if pd.isna(j) or j == ' ': # There is an empty string somewhere in Liver column\n",
    "            ignore = True\n",
    "            break          \n",
    "\n",
    "        if (not ignore) and (not pd.isna(row['DEATH [d from CT]'])):\n",
    "          row[0] = (row['Age at CT']*365 + row['DEATH [d from CT]']) - ((76.1*365) if row['Sex'] == \"Male\" else (81.1*365)          )\n",
    "          dead_people_ct_data.append(row)\n",
    "\n",
    "    dead_people_ct_data = np.array(dead_people_ct_data)\n",
    "    dead_people_ct_data = np.delete(dead_people_ct_data, 1, 1)\n",
    "    dead_people_ct_data = np.delete(dead_people_ct_data, 1, 1)\n",
    "    return np.array(dead_people_ct_data, dtype=np.float32)\n",
    "\n",
    "# dead_people_ct_data[0] -> number of days lost\n",
    "# dead_people_ct_data[1:] -> ct_data\n",
    "\n"
   ]
  },
  {
   "cell_type": "code",
   "execution_count": 5,
   "id": "858c1a02",
   "metadata": {},
   "outputs": [
    {
     "name": "stderr",
     "output_type": "stream",
     "text": [
      "<ipython-input-4-12190a7316c1>:19: SettingWithCopyWarning: \n",
      "A value is trying to be set on a copy of a slice from a DataFrame\n",
      "\n",
      "See the caveats in the documentation: https://pandas.pydata.org/pandas-docs/stable/user_guide/indexing.html#returning-a-view-versus-a-copy\n",
      "  row[0] = (row['Age at CT']*365 + row['DEATH [d from CT]']) - ((76.1*365) if row['Sex'] == \"Male\" else (81.1*365)          )\n"
     ]
    }
   ],
   "source": [
    "dead_people_ct_data = get_dead_people_ct_data(oppScrData)"
   ]
  },
  {
   "cell_type": "code",
   "execution_count": 6,
   "id": "f011a46b",
   "metadata": {},
   "outputs": [],
   "source": [
    "y = dead_people_ct_data[:,0]\n",
    "# X = normalize_ss(dead_people_ct_data[:,1:])\n",
    "# X = normalize_min_max(dead_people_ct_data[:,1:])\n",
    "X = dead_people_ct_data[:,1:]\n",
    "x_train, x_test, y_train, y_test = train_test_split(X, y, test_size=0.1, random_state=2)"
   ]
  },
  {
   "cell_type": "code",
   "execution_count": 7,
   "id": "528fb6e5",
   "metadata": {},
   "outputs": [
    {
     "name": "stdout",
     "output_type": "stream",
     "text": [
      "0.081233395863205\n"
     ]
    },
    {
     "data": {
      "image/png": "[encoded data removed]",
      "text/plain": [
       "<Figure size 432x288 with 1 Axes>"
      ]
     },
     "metadata": {
      "needs_background": "light"
     },
     "output_type": "display_data"
    }
   ],
   "source": [
    "lr = LinearRegression()\n",
    "lr.fit(x_train, y_train)\n",
    "y_pred = lr.predict(x_test)\n",
    "print(r2_score(y_test, y_pred))\n",
    "plot(y_test=y_test, y_pred=y_pred)"
   ]
  },
  {
   "cell_type": "code",
   "execution_count": 8,
   "id": "f6369214",
   "metadata": {},
   "outputs": [
    {
     "name": "stdout",
     "output_type": "stream",
     "text": [
      "3697.9448046875\n"
     ]
    },
    {
     "data": {
      "image/png": "[encoded data removed]",
      "text/plain": [
       "<Figure size 432x288 with 1 Axes>"
      ]
     },
     "metadata": {
      "needs_background": "light"
     },
     "output_type": "display_data"
    }
   ],
   "source": [
    "poly = PolynomialFeatures(degree=3, include_bias=True)\n",
    "x_train_trans = poly.fit_transform(x_train)\n",
    "x_test_trans = poly.transform(x_test)\n",
    "\n",
    "#include bias parameter\n",
    "lr = LinearRegression()\n",
    "lr.fit(x_train_trans, y_train)\n",
    "y_pred = lr.predict(x_test_trans)\n",
    "print(mean_absolute_error(y_test, y_pred))\n",
    "plot(y_test=y_test, y_pred=y_pred)"
   ]
  },
  {
   "cell_type": "code",
   "execution_count": 9,
   "id": "cea14105",
   "metadata": {},
   "outputs": [],
   "source": [
    "def get_all_people_ct_data(oppScrData):\n",
    "    # Delete rows with empty values\n",
    "    ct_data= oppScrData[['Age at CT', \"L1_HU_BMD\", \"TAT Area (cm2)\", 'Total Body                Area EA (cm2)',\n",
    "       'VAT Area (cm2)', 'SAT Area (cm2)', 'VAT/SAT     Ratio', 'Muscle HU',\n",
    "       ' Muscle Area (cm2)', 'L3 SMI (cm2/m2)', 'AoCa        Agatston',\n",
    "       'Liver HU    (Median)']]\n",
    "    n = ct_data.shape[0]\n",
    "    all_people_ct_data = []\n",
    "\n",
    "    for i in range(n):\n",
    "        row = ct_data.loc[i]\n",
    "        ignore = False\n",
    "        for j in row:\n",
    "          if pd.isna(j) or j == ' ': # There is an empty string somewhere in Liver column\n",
    "            ignore = True\n",
    "            break          \n",
    "\n",
    "        if not ignore:\n",
    "          all_people_ct_data.append(row)\n",
    "\n",
    "    return np.array(all_people_ct_data, dtype=np.float32)\n",
    "\n",
    "# dead_people_ct_data[0] -> biological age\n",
    "# dead_people_ct_data[1:] -> ct_data"
   ]
  },
  {
   "cell_type": "code",
   "execution_count": 10,
   "id": "b86c7212",
   "metadata": {},
   "outputs": [],
   "source": [
    "a = get_all_people_ct_data(oppScrData)"
   ]
  },
  {
   "cell_type": "code",
   "execution_count": 11,
   "id": "ef3951f2",
   "metadata": {},
   "outputs": [],
   "source": [
    "days_lost = -lr.predict(poly.fit_transform(a[:,1:]))"
   ]
  },
  {
   "cell_type": "code",
   "execution_count": 12,
   "id": "641fa392",
   "metadata": {},
   "outputs": [],
   "source": [
    "a[:,0] = a[:,0]*365 + days_lost"
   ]
  },
  {
   "cell_type": "code",
   "execution_count": 13,
   "id": "fc0c98f7",
   "metadata": {},
   "outputs": [],
   "source": [
    "X = a[:, 1:]\n",
    "X2=a[:, 1:]\n",
    "y = a[:,0]\n",
    "y2=a[:,0]/365"
   ]
  },
  {
   "cell_type": "code",
   "execution_count": 14,
   "id": "86ad02bf",
   "metadata": {},
   "outputs": [],
   "source": [
    "\n",
    "\n",
    "from sklearn.preprocessing import MinMaxScaler,StandardScaler\n",
    "sc = StandardScaler()\n",
    "\n",
    "X_norm=normalize_ss(X)"
   ]
  },
  {
   "cell_type": "code",
   "execution_count": 16,
   "id": "de918b82",
   "metadata": {},
   "outputs": [],
   "source": [
    "X_train, X_test, Y_train, Y_test = train_test_split(X, y, test_size=0.1, random_state=2)\n",
    "X_train2, X_test2, Y_train2, Y_test2 = train_test_split(X2, y2, test_size=0.1, random_state=2)\n",
    "\n",
    "\n",
    "\n",
    "\n",
    "X_norm_train, X_norm_test, Y_norm_train, Y_norm_test = train_test_split(X_norm, y2, test_size=0.1, random_state=2)"
   ]
  },
  {
   "cell_type": "markdown",
   "id": "7f898c7a",
   "metadata": {},
   "source": [
    "#With Days"
   ]
  },
  {
   "cell_type": "code",
   "execution_count": 17,
   "id": "62f5ea79",
   "metadata": {},
   "outputs": [
    {
     "data": {
      "text/plain": [
       "{'n_estimators': 300,\n",
       " 'min_samples_split': 12,\n",
       " 'min_samples_leaf': 6,\n",
       " 'max_features': 6,\n",
       " 'max_depth': 20,\n",
       " 'bootstrap': True}"
      ]
     },
     "execution_count": 17,
     "metadata": {},
     "output_type": "execute_result"
    }
   ],
   "source": [
    "RFmod2 = RandomForestRegressor(random_state=21)\n",
    "\n",
    "#Choose some hyperparameter values \n",
    "param_grid2 = {\n",
    "    'bootstrap': [True],\n",
    "    'max_depth': [10,20,30],\n",
    "    'max_features': [2, 3,4,5,6],\n",
    "    'min_samples_leaf': [3, 4, 5,6,7,8,9,10],\n",
    "    'min_samples_split': [8, 10, 12,14,16,18,20],\n",
    "    'n_estimators': [50,30,40,20,10,100, 200, 300, 1000]\n",
    "}\n",
    "clfRF2 = RandomizedSearchCV(RFmod2,param_grid2,#model and parameters\n",
    "                             #number of cross validation folds\n",
    "                             )\n",
    "\n",
    "\n",
    "clfRF2.fit(X_train,Y_train)\n",
    "params3=clfRF2.best_params_\n",
    "params3\n",
    "\n",
    "\n"
   ]
  },
  {
   "cell_type": "code",
   "execution_count": 18,
   "id": "8f8762d2",
   "metadata": {},
   "outputs": [
    {
     "name": "stderr",
     "output_type": "stream",
     "text": [
      "/Users/sanyamkakkar/opt/anaconda3/lib/python3.8/site-packages/sklearn/model_selection/_search.py:292: UserWarning: The total space of parameters 1 is smaller than n_iter=10. Running 1 iterations. For exhaustive searches, use GridSearchCV.\n",
      "  warnings.warn(\n"
     ]
    },
    {
     "data": {
      "text/plain": [
       "0.3040382838448551"
      ]
     },
     "execution_count": 18,
     "metadata": {},
     "output_type": "execute_result"
    }
   ],
   "source": [
    "RFparams2={'n_estimators':[300],\n",
    "          'min_samples_split':[12],\n",
    "          'min_samples_leaf': [6],\n",
    "           'max_features': [6],\n",
    "           'max_depth': [20],\n",
    "           'bootstrap': [True]}\n",
    "\n",
    "rf = RandomForestRegressor(random_state = 21)\n",
    "\n",
    "\n",
    "clf= RandomizedSearchCV(rf,RFparams2,refit=True)\n",
    "clf.fit(X_train,Y_train)\n",
    "        \n",
    "clf.best_estimator_.score(X_test, Y_test)"
   ]
  },
  {
   "cell_type": "code",
   "execution_count": 19,
   "id": "c02523a0",
   "metadata": {},
   "outputs": [],
   "source": [
    "y_pred=clf.predict(X_test)"
   ]
  },
  {
   "cell_type": "code",
   "execution_count": 20,
   "id": "68e6f842",
   "metadata": {},
   "outputs": [
    {
     "name": "stdout",
     "output_type": "stream",
     "text": [
      "RMSE: 2728.57\n",
      "MApe: 0.08\n",
      "error 1894.9378876579947\n"
     ]
    }
   ],
   "source": [
    "Mse = mean_squared_error(Y_test,y_pred\n",
    "                         )\n",
    "error=mean_absolute_error(Y_test,y_pred)\n",
    "mape=mean_absolute_percentage_error(Y_test,y_pred)\n",
    "print(\"RMSE: %.2f\" % (Mse**(1/2.0)))\n",
    "print(\"MApe: %.2f\" %(mape))\n",
    "print(\"error\",np.mean(error))"
   ]
  },
  {
   "cell_type": "code",
   "execution_count": 21,
   "id": "980f3aba",
   "metadata": {},
   "outputs": [
    {
     "data": {
      "image/png": "[encoded data removed]",
      "text/plain": [
       "<Figure size 432x288 with 1 Axes>"
      ]
     },
     "metadata": {
      "needs_background": "light"
     },
     "output_type": "display_data"
    }
   ],
   "source": [
    "plot(y_test=Y_test, y_pred=y_pred)"
   ]
  },
  {
   "cell_type": "code",
   "execution_count": 22,
   "id": "5911d5ae",
   "metadata": {},
   "outputs": [],
   "source": [
    "#Years"
   ]
  },
  {
   "cell_type": "code",
   "execution_count": 23,
   "id": "2a252428",
   "metadata": {},
   "outputs": [
    {
     "data": {
      "text/plain": [
       "{'n_estimators': 300,\n",
       " 'min_samples_split': 10,\n",
       " 'min_samples_leaf': 5,\n",
       " 'max_features': 4,\n",
       " 'max_depth': 20,\n",
       " 'bootstrap': True}"
      ]
     },
     "execution_count": 23,
     "metadata": {},
     "output_type": "execute_result"
    }
   ],
   "source": [
    "RFmod = RandomForestRegressor(random_state=21)\n",
    "\n",
    "#Choose some hyperparameter values \n",
    "param_grid = {\n",
    "    'bootstrap': [True],\n",
    "    'max_depth': [10,20,30],\n",
    "    'max_features': [2, 3,4,5,6],\n",
    "    'min_samples_leaf': [3, 4, 5,6,7,8,9,10],\n",
    "    'min_samples_split': [8, 10, 12,14,16,18,20],\n",
    "    'n_estimators': [50,30,40,20,10,100, 200, 300, 1000]\n",
    "}\n",
    "clfRF = RandomizedSearchCV(RFmod,param_grid,#model and parameters\n",
    "                             #number of cross validation folds\n",
    "                             )\n",
    "\n",
    "\n",
    "clfRF.fit(X_train2,Y_train2)\n",
    "params=clfRF.best_params_\n",
    "params\n",
    "\n"
   ]
  },
  {
   "cell_type": "code",
   "execution_count": 24,
   "id": "a0068bbf",
   "metadata": {},
   "outputs": [
    {
     "name": "stderr",
     "output_type": "stream",
     "text": [
      "/Users/sanyamkakkar/opt/anaconda3/lib/python3.8/site-packages/sklearn/model_selection/_search.py:292: UserWarning: The total space of parameters 1 is smaller than n_iter=10. Running 1 iterations. For exhaustive searches, use GridSearchCV.\n",
      "  warnings.warn(\n"
     ]
    },
    {
     "data": {
      "text/plain": [
       "0.2962274800988466"
      ]
     },
     "execution_count": 24,
     "metadata": {},
     "output_type": "execute_result"
    }
   ],
   "source": [
    "RFparams4={'n_estimators':[300],\n",
    "          'min_samples_split':[10],\n",
    "          'min_samples_leaf': [5],\n",
    "           'max_features': [4],\n",
    "           'max_depth': [20],\n",
    "           'bootstrap': [True]}\n",
    "\n",
    "rf = RandomForestRegressor(random_state = 21)\n",
    "\n",
    "\n",
    "clf= RandomizedSearchCV(rf,RFparams4,refit=True)\n",
    "clf.fit(X_train2,Y_train2)\n",
    "        \n",
    "clf.best_estimator_.score(X_test2, Y_test2)"
   ]
  },
  {
   "cell_type": "code",
   "execution_count": 25,
   "id": "4d21bf48",
   "metadata": {},
   "outputs": [],
   "source": [
    "y_pred2=clf.predict(X_test2)\n"
   ]
  },
  {
   "cell_type": "code",
   "execution_count": 26,
   "id": "0538d8a1",
   "metadata": {},
   "outputs": [
    {
     "name": "stdout",
     "output_type": "stream",
     "text": [
      "RMSE: 7.52\n",
      "MApe: 0.08\n",
      "error 5.208459546158014\n"
     ]
    }
   ],
   "source": [
    "Mse = mean_squared_error(Y_test2,y_pred2\n",
    "                         )\n",
    "error=mean_absolute_error(Y_test2,y_pred2)\n",
    "mape=mean_absolute_percentage_error(Y_test2,y_pred2)\n",
    "print(\"RMSE: %.2f\" % (Mse**(1/2.0)))\n",
    "print(\"MApe: %.2f\" %(mape))\n",
    "print(\"error\",np.mean(error))"
   ]
  },
  {
   "cell_type": "code",
   "execution_count": 27,
   "id": "77b64cad",
   "metadata": {},
   "outputs": [
    {
     "data": {
      "image/png": "[encoded data removed]",
      "text/plain": [
       "<Figure size 432x288 with 1 Axes>"
      ]
     },
     "metadata": {
      "needs_background": "light"
     },
     "output_type": "display_data"
    }
   ],
   "source": [
    "plot(y_test=Y_test2, y_pred=y_pred2)"
   ]
  },
  {
   "cell_type": "code",
   "execution_count": null,
   "id": "36a7889d",
   "metadata": {},
   "outputs": [],
   "source": []
  }
 ],
 "metadata": {
  "kernelspec": {
   "display_name": "Python 3",
   "language": "python",
   "name": "python3"
  },
  "language_info": {
   "codemirror_mode": {
    "name": "ipython",
    "version": 3
   },
   "file_extension": ".py",
   "mimetype": "text/x-python",
   "name": "python",
   "nbconvert_exporter": "python",
   "pygments_lexer": "ipython3",
   "version": "3.8.8"
  }
 },
 "nbformat": 4,
 "nbformat_minor": 5
}
