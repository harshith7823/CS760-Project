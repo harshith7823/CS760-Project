{
  "nbformat": 4,
  "nbformat_minor": 0,
  "metadata": {
    "colab": {
      "name": "pca_clinical_data.ipynb",
      "provenance": [],
      "authorship_tag": "ABX9TyN/bqyDffwyAa2LOZJ/kDR4",
      "include_colab_link": true
    },
    "kernelspec": {
      "name": "python3",
      "display_name": "Python 3"
    },
    "language_info": {
      "name": "python"
    }
  },
  "cells": [
    {
      "cell_type": "markdown",
      "metadata": {
        "id": "view-in-github",
        "colab_type": "text"
      },
      "source": [
        "<a href=\"https://colab.research.google.com/github/harshith7823/CS760-Project/blob/reetu/pca_clinical_data.ipynb\" target=\"_parent\"><img src=\"https://colab.research.google.com/assets/colab-badge.svg\" alt=\"Open In Colab\"/></a>"
      ]
    },
    {
      "cell_type": "code",
      "source": [
        "import pandas as pd\n",
        "import numpy as np\n",
        "from sklearn.preprocessing import StandardScaler"
      ],
      "metadata": {
        "id": "TbKCsx5NLNZX"
      },
      "execution_count": 3,
      "outputs": []
    },
    {
      "cell_type": "code",
      "source": [
        "def fill_death_col(clinical_data):\n",
        "  \n",
        "  male_obese = (clinical_data['Sex'] == 1) & (clinical_data['BMI'] > 30)\n",
        "  female_obese = (clinical_data['Sex'] == -1) & (clinical_data['BMI'] > 30)\n",
        "  male_underweight = (clinical_data['Sex'] == 1) & (clinical_data['BMI'] < 18.5)\n",
        "  female_underweight = (clinical_data['Sex'] == -1) & (clinical_data['BMI'] < 18.5)\n",
        "  clinical_data['BMI_reduction_factor'] = 0\n",
        "  clinical_data.loc[male_obese, 'BMI_reduction_factor'] = 4.2\n",
        "  clinical_data.loc[female_obese, 'BMI_reduction_factor'] = 3.5\n",
        "  clinical_data.loc[male_underweight, 'BMI_reduction_factor'] = 4.3\n",
        "  clinical_data.loc[female_underweight, 'BMI_reduction_factor'] = 4.5\n",
        "\n",
        "  clinical_data['Tobacco_reduction_factor'] = np.where(clinical_data['Tobacco']==1,10,0)\n",
        "\n",
        "  \n",
        "  #Leave na on rows with no death data, fill the rest with age*365+death days \n",
        "  clinical_data['Age_at_death'] = np.where(clinical_data['DEATH [d from CT]'].isna(), np.nan, clinical_data['Age at CT']*365 + clinical_data['DEATH [d from CT]'])\n",
        "  \n",
        "  # fill death with avg lifespan - alpha(reduction for tobacco) - beta(reduction for bmi)\n",
        "  corr_bmi_death = clinical_data['BMI'].corr(clinical_data['Age_at_death'])\n",
        "  corr_tobacco_death = clinical_data['Tobacco'].corr(clinical_data['Age_at_death'])\n",
        "\n",
        "  # print(corr_bmi_death)\n",
        "  # print(corr_tobacco_death)\n",
        "\n",
        "  #normalize\n",
        "  alpha = corr_bmi_death/(corr_bmi_death+corr_tobacco_death)\n",
        "  beta = corr_tobacco_death/(corr_bmi_death+corr_tobacco_death)\n",
        "\n",
        "  # print(alpha)\n",
        "  # print(beta)\n",
        "  \n",
        "  avg_lifespan_male=76.3  \n",
        "  avg_lifespan_female=81.2\n",
        "\n",
        "  clinical_data['avg_life'] = np.where(clinical_data['Sex']==1, avg_lifespan_male, avg_lifespan_female)\n",
        "  clinical_data['avg_life'] = clinical_data['avg_life'] - alpha*(clinical_data['BMI_reduction_factor'])-beta*(clinical_data['Tobacco_reduction_factor'])\n",
        "  clinical_data['DEATH [d from CT]'].fillna((clinical_data['avg_life']-clinical_data['Age at CT'])*365, inplace=True)\n",
        "  \n",
        "  clinical_data.drop(columns=['Age_at_death'], inplace=True) #only used for correlation, we dont need this any further\n",
        "  return clinical_data\n"
      ],
      "metadata": {
        "id": "guFpAjpQM-tW"
      },
      "execution_count": 4,
      "outputs": []
    },
    {
      "cell_type": "code",
      "execution_count": 5,
      "metadata": {
        "id": "J-MUZX4QNBU2"
      },
      "outputs": [],
      "source": [
        "def preprocess_clinical_data(oppScrData, mean=True):\n",
        "    clinical_data = oppScrData.filter(['BMI','BMI >30', 'Sex', 'Tobacco', 'Met Sx', 'FRAX 10y Fx Prob (Orange-w/ DXA)',\n",
        "                                'FRAX 10y Hip Fx Prob (Orange-w/ DXA)','FRS 10-year risk (%)', 'DEATH [d from CT]' , 'Age at CT'], axis=1)\n",
        "    # Replace all _,X,blanks with nan\n",
        "    clinical_data = clinical_data.replace(r'_', np.nan, regex=True)\n",
        "    clinical_data = clinical_data.replace(r'X', np.nan, regex=True)\n",
        "    clinical_data = clinical_data.replace(r'^\\s*$', np.nan, regex=True)\n",
        "\n",
        "    # Fill na in bmi column with mean\n",
        "    clinical_data['BMI'].fillna(value=clinical_data['BMI'].mean(skipna=True), inplace=True)\n",
        "    \n",
        "    # Fill na in bmi>30 column based on bmi col\n",
        "    clinical_data.loc[clinical_data.BMI>30, 'BMI >30'] = 1\n",
        "    clinical_data.loc[clinical_data.BMI<=30, 'BMI >30'] = -1\n",
        "    \n",
        "    clinical_data['Sex'] = np.where(clinical_data['Sex']=='Male',1,-1)\n",
        "    clinical_data['Met Sx'] = np.where(clinical_data['Met Sx']=='Y',1,-1) \n",
        "\n",
        "    # Treat no data in tobacco as no tobacco usage \n",
        "    clinical_data['Tobacco'] = np.where(clinical_data['Tobacco']=='Yes',1,-1) \n",
        "  \n",
        "    clinical_data['FRS 10-year risk (%)'] = clinical_data['FRS 10-year risk (%)'].replace(\"<1\", 0.01, regex=True)\n",
        "    clinical_data['FRS 10-year risk (%)'] = clinical_data['FRS 10-year risk (%)'].replace(\">30\", 0.30, regex=True)\n",
        "    clinical_data['FRS 10-year risk (%)'] =  clinical_data['FRS 10-year risk (%)'] * 100\n",
        " \n",
        "    cols_to_be_filled = ['FRAX 10y Fx Prob (Orange-w/ DXA)','FRAX 10y Hip Fx Prob (Orange-w/ DXA)','FRS 10-year risk (%)']\n",
        "    for c in cols_to_be_filled:\n",
        "      if mean:  \n",
        "        clinical_data[c].fillna(value=clinical_data[c].mean(skipna=True), inplace=True)\n",
        "      else :\n",
        "        clinical_data[c].fillna(value=clinical_data[c].median(skipna=True), inplace=True)\n",
        "\n",
        "    clinical_data = fill_death_col(clinical_data)\n",
        "\n",
        "    return [clinical_data, np.array(clinical_data, dtype=np.float32)]"
      ]
    },
    {
      "cell_type": "code",
      "source": [
        "def normalize_ss(data):\n",
        "  return StandardScaler().fit_transform(data)"
      ],
      "metadata": {
        "id": "sleMWNIEONOw"
      },
      "execution_count": 6,
      "outputs": []
    },
    {
      "cell_type": "code",
      "source": [
        "oppScrData = pd.read_excel (r'sample_data/OppScrData.xlsx') \n",
        "clinical_data, clinical_data_np = preprocess_clinical_data(oppScrData)"
      ],
      "metadata": {
        "id": "56NCZi_VOO-c"
      },
      "execution_count": 7,
      "outputs": []
    },
    {
      "cell_type": "code",
      "source": [
        "from sklearn.decomposition import PCA\n",
        "import matplotlib.pyplot as plt\n",
        "\n",
        "X = clinical_data.drop(columns=['DEATH [d from CT]'])\n",
        "X_scaled = normalize_ss(X)\n",
        "\n",
        "pca = PCA(n_components = 0.90)\n",
        "pca.fit(X_scaled)\n",
        "print(\"Cumulative Variances (Percentage):\")\n",
        "print(np.cumsum(pca.explained_variance_ratio_ * 100))\n",
        "components = len(pca.explained_variance_ratio_)\n",
        "print(f'Number of components: {components}')\n",
        "\n",
        "plt.plot(range(1, components + 1), np.cumsum(pca.explained_variance_ratio_ * 100))\n",
        "plt.xlabel(\"Number of components\")\n",
        "plt.ylabel(\"Explained variance (%)\")"
      ],
      "metadata": {
        "colab": {
          "base_uri": "https://localhost:8080/",
          "height": 350
        },
        "id": "lquudbEsD5xr",
        "outputId": "a03f6dac-4d15-44a6-e0b1-cb87ce6fd28b"
      },
      "execution_count": 8,
      "outputs": [
        {
          "output_type": "stream",
          "name": "stdout",
          "text": [
            "Cumulative Variances (Percentage):\n",
            "[31.43941673 54.11477215 70.71397677 84.09276659 90.5008666 ]\n",
            "Number of components: 5\n"
          ]
        },
        {
          "output_type": "execute_result",
          "data": {
            "text/plain": [
              "Text(0, 0.5, 'Explained variance (%)')"
            ]
          },
          "metadata": {},
          "execution_count": 8
        },
        {
          "output_type": "display_data",
          "data": {
            "text/plain": [
              "<Figure size 432x288 with 1 Axes>"
            ],
            "image/png": "[encoded data removed]"
          },
          "metadata": {
            "needs_background": "light"
          }
        }
      ]
    },
    {
      "cell_type": "code",
      "source": [
        "pca_components = abs(pca.components_)\n",
        "print('Top 4 most important features in each component')\n",
        "print('===============================================')\n",
        "for row in range(pca_components.shape[0]):\n",
        "    # get the indices of the top 4 values in each row\n",
        "    temp = np.argpartition(-(pca_components[row]), 4)\n",
        "    \n",
        "    # sort the indices in descending order\n",
        "    indices = temp[np.argsort((-pca_components[row])[temp])][:4]\n",
        "    \n",
        "    # print the top 4 feature names\n",
        "    print(f'Component {row}: {clinical_data.columns[indices].to_list()}')"
      ],
      "metadata": {
        "colab": {
          "base_uri": "https://localhost:8080/"
        },
        "id": "IixsQzj_HX3w",
        "outputId": "d3421636-0671-4977-dcea-f76f8eef10d7"
      },
      "execution_count": 9,
      "outputs": [
        {
          "output_type": "stream",
          "name": "stdout",
          "text": [
            "Top 4 most important features in each component\n",
            "===============================================\n",
            "Component 0: ['Tobacco_reduction_factor', 'Age at CT', 'BMI >30', 'BMI']\n",
            "Component 1: ['DEATH [d from CT]', 'FRAX 10y Hip Fx Prob (Orange-w/ DXA)', 'FRAX 10y Fx Prob (Orange-w/ DXA)', 'FRS 10-year risk (%)']\n",
            "Component 2: ['FRAX 10y Fx Prob (Orange-w/ DXA)', 'Sex', 'BMI >30', 'FRAX 10y Hip Fx Prob (Orange-w/ DXA)']\n",
            "Component 3: ['Tobacco', 'BMI_reduction_factor', 'Sex', 'FRS 10-year risk (%)']\n",
            "Component 4: ['Met Sx', 'Age at CT', 'BMI >30', 'FRS 10-year risk (%)']\n"
          ]
        }
      ]
    },
    {
      "cell_type": "code",
      "source": [
        "X_pca = pca.transform(X_scaled)\n",
        "print(X_pca.shape)\n",
        "print(X_pca)"
      ],
      "metadata": {
        "colab": {
          "base_uri": "https://localhost:8080/"
        },
        "id": "yH4GQlUKKOZ0",
        "outputId": "097546a8-82d5-408f-9d8a-947e8a88bdf0"
      },
      "execution_count": 10,
      "outputs": [
        {
          "output_type": "stream",
          "name": "stdout",
          "text": [
            "(9223, 5)\n",
            "[[-2.40793019  0.19380515  1.58202477  1.83815172 -1.27579571]\n",
            " [-0.59747802 -1.29725168  1.41160914  0.12166676 -0.72832731]\n",
            " [ 1.58181341 -1.28706956 -0.05758322  0.16026961  0.24949712]\n",
            " ...\n",
            " [-1.9243948  -1.02299052  3.51723561 -0.27585987  2.28419231]\n",
            " [ 1.92496364 -1.19437136  0.28618717  0.04124767  0.14021224]\n",
            " [ 0.97583751  0.11991154 -0.86325598  1.84475937  0.15914366]]\n"
          ]
        }
      ]
    },
    {
      "cell_type": "code",
      "source": [
        ""
      ],
      "metadata": {
        "id": "WgwCwbB5O3Tx"
      },
      "execution_count": null,
      "outputs": []
    }
  ]
}