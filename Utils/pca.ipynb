{
  "nbformat": 4,
  "nbformat_minor": 0,
  "metadata": {
    "colab": {
      "name": "pca_clinical_data.ipynb",
      "provenance": [],
      "authorship_tag": "ABX9TyPdzgD8WHjxufeu9otpiDfE",
      "include_colab_link": true
    },
    "kernelspec": {
      "name": "python3",
      "display_name": "Python 3"
    },
    "language_info": {
      "name": "python"
    }
  },
  "cells": [
    {
      "cell_type": "markdown",
      "metadata": {
        "id": "view-in-github",
        "colab_type": "text"
      },
      "source": [
        "<a href=\"https://colab.research.google.com/github/harshith7823/CS760-Project/blob/main/part1/pca.ipynb\" target=\"_parent\"><img src=\"https://colab.research.google.com/assets/colab-badge.svg\" alt=\"Open In Colab\"/></a>"
      ]
    },
    {
      "cell_type": "code",
      "source": [
        "import pandas as pd\n",
        "import numpy as np\n",
        "from sklearn.preprocessing import StandardScaler\n",
        "from sklearn.decomposition import PCA\n",
        "import matplotlib.pyplot as plt\n"
      ],
      "metadata": {
        "id": "TbKCsx5NLNZX"
      },
      "execution_count": 1,
      "outputs": []
    },
    {
      "cell_type": "code",
      "source": [
        "def fill_death_col(clinical_data):\n",
        "  \n",
        "  male_obese = (clinical_data['Sex'] == 1) & (clinical_data['BMI'] > 30)\n",
        "  female_obese = (clinical_data['Sex'] == -1) & (clinical_data['BMI'] > 30)\n",
        "  male_underweight = (clinical_data['Sex'] == 1) & (clinical_data['BMI'] < 18.5)\n",
        "  female_underweight = (clinical_data['Sex'] == -1) & (clinical_data['BMI'] < 18.5)\n",
        "  clinical_data['BMI_reduction_factor'] = 0\n",
        "  clinical_data.loc[male_obese, 'BMI_reduction_factor'] = 4.2\n",
        "  clinical_data.loc[female_obese, 'BMI_reduction_factor'] = 3.5\n",
        "  clinical_data.loc[male_underweight, 'BMI_reduction_factor'] = 4.3\n",
        "  clinical_data.loc[female_underweight, 'BMI_reduction_factor'] = 4.5\n",
        "\n",
        "  clinical_data['Tobacco_reduction_factor'] = np.where(clinical_data['Tobacco']==1,10,0)\n",
        "\n",
        "  \n",
        "  #Leave na on rows with no death data, fill the rest with age*365+death days \n",
        "  clinical_data['Age_at_death'] = np.where(clinical_data['DEATH [d from CT]'].isna(), np.nan, clinical_data['Age at CT']*365 + clinical_data['DEATH [d from CT]'])\n",
        "  \n",
        "  # fill death with avg lifespan - alpha(reduction for tobacco) - beta(reduction for bmi)\n",
        "  corr_bmi_death = clinical_data['BMI'].corr(clinical_data['Age_at_death'])\n",
        "  corr_tobacco_death = clinical_data['Tobacco'].corr(clinical_data['Age_at_death'])\n",
        "\n",
        "  # print(corr_bmi_death)\n",
        "  # print(corr_tobacco_death)\n",
        "\n",
        "  #normalize\n",
        "  alpha = corr_bmi_death/(corr_bmi_death+corr_tobacco_death)\n",
        "  beta = corr_tobacco_death/(corr_bmi_death+corr_tobacco_death)\n",
        "\n",
        "  # print(alpha)\n",
        "  # print(beta)\n",
        "  \n",
        "  avg_lifespan_male=76.3  \n",
        "  avg_lifespan_female=81.2\n",
        "\n",
        "  clinical_data['avg_life'] = np.where(clinical_data['Sex']==1, avg_lifespan_male, avg_lifespan_female)\n",
        "  clinical_data['avg_life'] = clinical_data['avg_life'] - alpha*(clinical_data['BMI_reduction_factor'])-beta*(clinical_data['Tobacco_reduction_factor'])\n",
        "  clinical_data['DEATH [d from CT]'].fillna((clinical_data['avg_life']-clinical_data['Age at CT'])*365, inplace=True)\n",
        "  \n",
        "  clinical_data.drop(columns=['Age_at_death'], inplace=True) #only used for correlation, we dont need this any further\n",
        "  return clinical_data\n"
      ],
      "metadata": {
        "id": "guFpAjpQM-tW"
      },
      "execution_count": 2,
      "outputs": []
    },
    {
      "cell_type": "code",
      "execution_count": 55,
      "metadata": {
        "id": "J-MUZX4QNBU2"
      },
      "outputs": [],
      "source": [
        "def preprocess_clinical_data(oppScrData, mean=True):\n",
        "    clinical_data = oppScrData.filter(['BMI','BMI >30', 'Sex', 'Tobacco', 'Met Sx', 'FRAX 10y Fx Prob (Orange-w/ DXA)',\n",
        "                                'FRAX 10y Hip Fx Prob (Orange-w/ DXA)','FRS 10-year risk (%)', 'Age at CT', 'DEATH [d from CT]'], axis=1)\n",
        "    # Replace all _,X,blanks with nan\n",
        "    clinical_data = clinical_data.replace(r'_', np.nan, regex=True)\n",
        "    clinical_data = clinical_data.replace(r'X', np.nan, regex=True)\n",
        "    clinical_data = clinical_data.replace(r'^\\s*$', np.nan, regex=True)\n",
        "\n",
        "    # Fill na in bmi column with mean\n",
        "    clinical_data['BMI'].fillna(value=clinical_data['BMI'].mean(skipna=True), inplace=True)\n",
        "    \n",
        "    # Fill na in bmi>30 column based on bmi col\n",
        "    clinical_data.loc[clinical_data.BMI>30, 'BMI >30'] = 1\n",
        "    clinical_data.loc[clinical_data.BMI<=30, 'BMI >30'] = -1\n",
        "    \n",
        "    clinical_data['Sex'] = np.where(clinical_data['Sex']=='Male',1,-1)\n",
        "    clinical_data['Met Sx'] = np.where(clinical_data['Met Sx']=='Y',1,-1) \n",
        "\n",
        "    # Treat no data in tobacco as no tobacco usage \n",
        "    clinical_data['Tobacco'] = np.where(clinical_data['Tobacco']=='Yes',1,-1) \n",
        "  \n",
        "    clinical_data['FRS 10-year risk (%)'] = clinical_data['FRS 10-year risk (%)'].replace(\"<1\", 0.01, regex=True)\n",
        "    clinical_data['FRS 10-year risk (%)'] = clinical_data['FRS 10-year risk (%)'].replace(\">30\", 0.30, regex=True)\n",
        "    clinical_data['FRS 10-year risk (%)'] =  clinical_data['FRS 10-year risk (%)'] * 100\n",
        " \n",
        "    cols_to_be_filled = ['FRAX 10y Fx Prob (Orange-w/ DXA)','FRAX 10y Hip Fx Prob (Orange-w/ DXA)','FRS 10-year risk (%)']\n",
        "    for c in cols_to_be_filled:\n",
        "      if mean:  \n",
        "        clinical_data[c].fillna(value=clinical_data[c].mean(skipna=True), inplace=True)\n",
        "      else :\n",
        "        clinical_data[c].fillna(value=clinical_data[c].median(skipna=True), inplace=True)\n",
        "\n",
        "    clinical_data = fill_death_col(clinical_data)\n",
        "\n",
        "    return [clinical_data, np.array(clinical_data, dtype=np.float32)]"
      ]
    },
    {
      "cell_type": "code",
      "source": [
        "def clean_ct_data(oppScrData):\n",
        "    # Delete rows with empty values\n",
        "    ct_data= oppScrData[[\"L1_HU_BMD\", \"TAT Area (cm2)\", 'Total Body                Area EA (cm2)',\n",
        "       'VAT Area (cm2)', 'SAT Area (cm2)', 'VAT/SAT     Ratio', 'Muscle HU',\n",
        "       ' Muscle Area (cm2)', 'L3 SMI (cm2/m2)', 'AoCa        Agatston',\n",
        "       'Liver HU    (Median)', 'Age at CT']]\n",
        "    n = ct_data.shape[0]\n",
        "    preprocessed_ct_data = []\n",
        "    for i in range(n):\n",
        "        row = ct_data.loc[i]\n",
        "        ignore = False\n",
        "        for j in row:\n",
        "          if pd.isna(j) or j == ' ': # There is an empty string somewhere in Liver column\n",
        "            ignore = True\n",
        "            break\n",
        "        if not ignore:\n",
        "          preprocessed_ct_data.append(row)\n",
        "    return [preprocessed_ct_data, np.array(preprocessed_ct_data, dtype=np.float32)]"
      ],
      "metadata": {
        "id": "vYw-EobDFZvQ"
      },
      "execution_count": 9,
      "outputs": []
    },
    {
      "cell_type": "code",
      "source": [
        "def normalize_ss(data):\n",
        "  return StandardScaler().fit_transform(data)"
      ],
      "metadata": {
        "id": "sleMWNIEONOw"
      },
      "execution_count": 5,
      "outputs": []
    },
    {
      "cell_type": "code",
      "source": [
        "oppScrData = pd.read_excel (r'sample_data/OppScrData.xlsx') "
      ],
      "metadata": {
        "id": "56NCZi_VOO-c"
      },
      "execution_count": 6,
      "outputs": []
    },
    {
      "cell_type": "code",
      "source": [
        "clinical_data, clinical_data_np = preprocess_clinical_data(oppScrData)\n",
        "ct_data, ct_data_np = clean_ct_data(oppScrData)"
      ],
      "metadata": {
        "id": "V2E_FmyiHDI2"
      },
      "execution_count": 71,
      "outputs": []
    },
    {
      "cell_type": "code",
      "source": [
        "scaled_clinical_data = normalize_ss(clinical_data_np)\n",
        "scaled_ct_data = normalize_ss(ct_data_np)"
      ],
      "metadata": {
        "id": "pm8CcPvSHwHb"
      },
      "execution_count": 72,
      "outputs": []
    },
    {
      "cell_type": "code",
      "source": [
        ""
      ],
      "metadata": {
        "id": "hjCEL9VZOvec"
      },
      "execution_count": null,
      "outputs": []
    },
    {
      "cell_type": "code",
      "source": [
        "def get_pca_components(X_scaled):\n",
        "\n",
        "  pca = PCA(n_components = 0.90)\n",
        "  pca.fit(X_scaled)\n",
        "  print(\"Cumulative Variances (Percentage):\")\n",
        "  print(np.cumsum(pca.explained_variance_ratio_ * 100))\n",
        "  components = len(pca.explained_variance_ratio_)\n",
        "  print(f'Number of components: {components}')\n",
        "\n",
        "  plt.plot(range(1, components + 1), np.cumsum(pca.explained_variance_ratio_ * 100))\n",
        "  plt.xlabel(\"Number of components\")\n",
        "  plt.ylabel(\"Explained variance (%)\")\n",
        "\n",
        "  pca_components = abs(pca.components_)\n",
        "  print('Top 4 most important features in each component')\n",
        "  print('===============================================')\n",
        "  print(pca_components.shape[0])\n",
        "  for row in range(pca_components.shape[0]):\n",
        "      # get the indices of the top 4 values in each row\n",
        "      temp = np.argpartition(-(pca_components[row]), 4)\n",
        "      \n",
        "      # sort the indices in descending order\n",
        "      indices = temp[np.argsort((-pca_components[row])[temp])][:4]\n",
        "      \n",
        "      # print the top 4 feature names\n",
        "      print(f'Component {row}: {clinical_data.columns[indices].to_list()}')\n",
        "\n",
        "  X_pca = pca.transform(X_scaled)\n",
        "  print(X_pca.shape)\n",
        "  print(X_pca)"
      ],
      "metadata": {
        "id": "lquudbEsD5xr"
      },
      "execution_count": 50,
      "outputs": []
    },
    {
      "cell_type": "code",
      "source": [
        "get_pca_components(scaled_ct_data)"
      ],
      "metadata": {
        "colab": {
          "base_uri": "https://localhost:8080/",
          "height": 636
        },
        "id": "lyK0G4-lGIbH",
        "outputId": "70c31804-d366-4f3f-f063-0ffb08bce207"
      },
      "execution_count": 73,
      "outputs": [
        {
          "output_type": "stream",
          "name": "stdout",
          "text": [
            "Cumulative Variances (Percentage):\n",
            "[38.82823  56.21955  69.662186 77.45952  84.0457   90.220245]\n",
            "Number of components: 6\n",
            "Top 4 most important features in each component\n",
            "===============================================\n",
            "6\n",
            "Component 0: ['Sex', 'BMI >30', 'Tobacco', 'Age at CT']\n",
            "Component 1: ['Tobacco_reduction_factor', 'FRAX 10y Hip Fx Prob (Orange-w/ DXA)', 'BMI', 'FRS 10-year risk (%)']\n",
            "Component 2: ['FRAX 10y Fx Prob (Orange-w/ DXA)', 'Met Sx', 'DEATH [d from CT]', 'Tobacco_reduction_factor']\n",
            "Component 3: ['FRAX 10y Fx Prob (Orange-w/ DXA)', 'Age at CT', 'FRS 10-year risk (%)', 'BMI_reduction_factor']\n",
            "Component 4: ['BMI', 'DEATH [d from CT]', 'Tobacco_reduction_factor', 'FRAX 10y Fx Prob (Orange-w/ DXA)']\n",
            "Component 5: ['BMI_reduction_factor', 'FRAX 10y Fx Prob (Orange-w/ DXA)', 'Tobacco', 'BMI >30']\n",
            "(8878, 6)\n",
            "[[ 0.5431541   1.14574    -1.0881952   0.12993622  1.1898476  -0.05414548]\n",
            " [ 0.23840317 -0.566128   -2.0962431   0.59360194  1.3476809   0.27830836]\n",
            " [ 0.2898434  -0.29023513  1.6320162  -1.613295    0.2610719  -0.3733894 ]\n",
            " ...\n",
            " [ 3.8124387   1.776235   -2.5739467  -0.6099053  -0.3678539  -0.04889582]\n",
            " [ 0.44019592  0.17495146  0.20263259  0.59396017  1.9127462  -0.7740984 ]\n",
            " [-3.0162232   2.0343928   1.3141944   0.73334444  0.6109348  -0.7608745 ]]\n"
          ]
        },
        {
          "output_type": "display_data",
          "data": {
            "text/plain": [
              "<Figure size 432x288 with 1 Axes>"
            ],
            "image/png": "[encoded data removed]"
          },
          "metadata": {
            "needs_background": "light"
          }
        }
      ]
    },
    {
      "cell_type": "code",
      "source": [
        "get_pca_components(scaled_clinical_data)"
      ],
      "metadata": {
        "colab": {
          "base_uri": "https://localhost:8080/",
          "height": 656
        },
        "id": "GZwYLejlIPeB",
        "outputId": "dfc35538-00d6-4535-95ea-1c63334c5f63"
      },
      "execution_count": 74,
      "outputs": [
        {
          "output_type": "stream",
          "name": "stdout",
          "text": [
            "Cumulative Variances (Percentage):\n",
            "[30.3108   55.179276 70.84769  83.684555 89.64145  94.23144 ]\n",
            "Number of components: 6\n",
            "Top 4 most important features in each component\n",
            "===============================================\n",
            "6\n",
            "Component 0: ['avg_life', 'BMI_reduction_factor', 'BMI >30', 'FRS 10-year risk (%)']\n",
            "Component 1: ['FRAX 10y Fx Prob (Orange-w/ DXA)', 'Age at CT', 'FRAX 10y Hip Fx Prob (Orange-w/ DXA)', 'DEATH [d from CT]']\n",
            "Component 2: ['Tobacco_reduction_factor', 'Tobacco', 'Sex', 'BMI >30']\n",
            "Component 3: ['Tobacco_reduction_factor', 'Tobacco', 'Sex', 'FRS 10-year risk (%)']\n",
            "Component 4: ['Met Sx', 'BMI >30', 'BMI_reduction_factor', 'FRS 10-year risk (%)']\n",
            "Component 5: ['FRAX 10y Hip Fx Prob (Orange-w/ DXA)', 'Age at CT', 'DEATH [d from CT]', 'FRAX 10y Fx Prob (Orange-w/ DXA)']\n",
            "(9223, 6)\n",
            "[[ 3.0375826   0.40284324  1.8753098  -1.726313   -1.3533915  -0.7402995 ]\n",
            " [ 0.91608626 -0.31158528  1.8971316  -0.4279476  -0.9475057  -0.8484209 ]\n",
            " [-2.0979176  -0.8804851   0.15682599 -0.27817133  0.23427534 -0.33987367]\n",
            " ...\n",
            " [ 1.8221583  -1.0117905   3.5648606   0.6759918   2.2157779  -0.87368304]\n",
            " [-2.2714524  -0.5114576   0.51553947 -0.16427453  0.09535349 -0.37294412]\n",
            " [-0.6602831   0.74656874 -0.5443928  -2.0170634   0.15739556  0.0838733 ]]\n"
          ]
        },
        {
          "output_type": "display_data",
          "data": {
            "text/plain": [
              "<Figure size 432x288 with 1 Axes>"
            ],
            "image/png": "[encoded data removed]"
          },
          "metadata": {
            "needs_background": "light"
          }
        }
      ]
    }
  ]
}