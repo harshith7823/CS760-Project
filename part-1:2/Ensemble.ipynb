{
 "cells": [
  {
   "cell_type": "code",
   "execution_count": 1,
   "id": "abcab7f7",
   "metadata": {},
   "outputs": [],
   "source": [
    "import pandas as pd\n",
    "import numpy as np\n",
    "from sklearn.ensemble import RandomForestRegressor\n",
    "from sklearn.model_selection import RandomizedSearchCV\n",
    "from sklearn.ensemble import ExtraTreesRegressor\n",
    "from sklearn.metrics import mean_absolute_error\n",
    "from sklearn.model_selection import GridSearchCV\n",
    "from sklearn.model_selection import train_test_split\n",
    "from sklearn.metrics import mean_squared_error\n",
    "from sklearn.metrics import mean_absolute_percentage_error\n",
    "from sklearn.preprocessing import MinMaxScaler,StandardScaler\n",
    "from sklearn.neighbors import KNeighborsRegressor\n",
    "from numpy import mean\n",
    "from numpy import std\n",
    "from sklearn.model_selection import train_test_split\n",
    "from sklearn.linear_model import Lasso, ElasticNetCV,RidgeCV\n",
    "from sklearn.tree import DecisionTreeRegressor\n",
    "from sklearn.svm import SVR\n",
    "from sklearn.neural_network import MLPRegressor\n",
    "from sklearn.model_selection import GridSearchCV"
   ]
  },
  {
   "cell_type": "code",
   "execution_count": 2,
   "id": "537f2698",
   "metadata": {},
   "outputs": [],
   "source": [
    "oppScrData = pd.read_excel(r'/Users/sanyamkakkar/Desktop/Spring/Ml760/CS760-Project/OppScrData.xlsx')"
   ]
  },
  {
   "cell_type": "code",
   "execution_count": 3,
   "id": "4965ec88",
   "metadata": {},
   "outputs": [],
   "source": [
    "def clean_ct_data(oppScrData):\n",
    "    # Delete rows with empty values\n",
    "    cols = [\"L1_HU_BMD\", \"TAT Area (cm2)\", 'Total Body                Area EA (cm2)',\n",
    "       'VAT Area (cm2)', 'SAT Area (cm2)', 'VAT/SAT     Ratio', 'Muscle HU',\n",
    "       ' Muscle Area (cm2)', 'L3 SMI (cm2/m2)', 'AoCa        Agatston',\n",
    "       'Liver HU    (Median)', 'DEATH [d from CT]']\n",
    "    ct_data= oppScrData[cols]\n",
    "    n = ct_data.shape[0]\n",
    "    preprocessed_ct_data = pd.DataFrame( columns=cols)\n",
    "    for i in range(n):\n",
    "        row = ct_data.loc[i]\n",
    "        ignore = False\n",
    "        for k,j in enumerate(row):\n",
    "          if pd.isna(j) or j == ' ': \n",
    "            if k == 11:              \n",
    "              ignore = False\n",
    "            else:\n",
    "              ignore = True\n",
    "              break\n",
    "        if not ignore:\n",
    "          preprocessed_ct_data.loc[i]= row\n",
    "    return preprocessed_ct_data"
   ]
  },
  {
   "cell_type": "code",
   "execution_count": 4,
   "id": "69376c8a",
   "metadata": {},
   "outputs": [],
   "source": [
    "sc = StandardScaler()\n",
    "ct_data = clean_ct_data(oppScrData=oppScrData)"
   ]
  },
  {
   "cell_type": "code",
   "execution_count": 5,
   "id": "b1dd5994",
   "metadata": {},
   "outputs": [
    {
     "name": "stdout",
     "output_type": "stream",
     "text": [
      "(493, 12)\n",
      "Index(['L1_HU_BMD', 'TAT Area (cm2)',\n",
      "       'Total Body                Area EA (cm2)', 'VAT Area (cm2)',\n",
      "       'SAT Area (cm2)', 'VAT/SAT     Ratio', 'Muscle HU',\n",
      "       ' Muscle Area (cm2)', 'L3 SMI (cm2/m2)', 'AoCa        Agatston',\n",
      "       'Liver HU    (Median)', 'DEATH [d from CT]'],\n",
      "      dtype='object')\n"
     ]
    }
   ],
   "source": [
    "non_null_death_rows = ct_data[~ct_data['DEATH [d from CT]'].isnull()]\n",
    "print(non_null_death_rows.shape)\n",
    "print(non_null_death_rows.columns)"
   ]
  },
  {
   "cell_type": "code",
   "execution_count": 6,
   "id": "f66545da",
   "metadata": {},
   "outputs": [
    {
     "name": "stderr",
     "output_type": "stream",
     "text": [
      "<ipython-input-6-04a09313e2a8>:2: SettingWithCopyWarning: \n",
      "A value is trying to be set on a copy of a slice from a DataFrame.\n",
      "Try using .loc[row_indexer,col_indexer] = value instead\n",
      "\n",
      "See the caveats in the documentation: https://pandas.pydata.org/pandas-docs/stable/user_guide/indexing.html#returning-a-view-versus-a-copy\n",
      "  non_null_death_rows['DEATH [d from CT]'] /= 365\n"
     ]
    }
   ],
   "source": [
    "# Convert to years\n",
    "non_null_death_rows['DEATH [d from CT]'] /= 365\n",
    "\n",
    "X = non_null_death_rows.iloc[:, 0:11]\n",
    "y = non_null_death_rows.iloc[:, 11]\n",
    "X = pd.DataFrame(sc.fit_transform(X), columns = X.columns)\n",
    "\n",
    "null_death_rows=ct_data[ct_data['DEATH [d from CT]'].isnull()]\n",
    "X2 = null_death_rows.iloc[:, 0:11]\n",
    "X2 = pd.DataFrame(sc.fit_transform(X2), columns = X2.columns)"
   ]
  },
  {
   "cell_type": "code",
   "execution_count": 7,
   "id": "4d842f0d",
   "metadata": {},
   "outputs": [],
   "source": [
    "X_train, X_test, y_train, y_test  = train_test_split(X, y, test_size=0.2, random_state=0)"
   ]
  },
  {
   "cell_type": "code",
   "execution_count": 8,
   "id": "f43e43db",
   "metadata": {},
   "outputs": [],
   "source": [
    "def testWithModel(model, X_train, X_test, y_train, y_test):\n",
    "  clf = model\n",
    "  clf.fit(X_train, y_train)\n",
    "  y_pred = clf.predict(X_test)\n",
    "\n",
    "  print(f'MAE = {mean_absolute_error(y_test, y_pred)}') \n",
    "  print(f'MAPE = {mean_absolute_percentage_error(y_test, y_pred)}')\n",
    "  print(f'RMSE = {mean_squared_error(y_test, y_pred)**0.5}')\n",
    "\n",
    "  # plot_results(y_test, y_pred)\n",
    "\n",
    "  return y_pred"
   ]
  },
  {
   "cell_type": "code",
   "execution_count": 9,
   "id": "ecf08eff",
   "metadata": {},
   "outputs": [
    {
     "name": "stdout",
     "output_type": "stream",
     "text": [
      "MAE = 2.7602421790301745\n",
      "MAPE = 4.059821074779301\n",
      "RMSE = 3.3082769109535644\n"
     ]
    },
    {
     "data": {
      "text/plain": [
       "array([7.12646891, 4.52820236, 7.43140678, 6.26865563, 6.6520216 ,\n",
       "       4.29461668, 7.26303157, 6.05189659, 8.5200816 , 5.16621571,\n",
       "       6.58877644, 6.71604273, 6.82889658, 5.76299639, 5.64790579,\n",
       "       5.7620733 , 6.5630654 , 7.11510729, 8.05580818, 6.87189164,\n",
       "       7.58776774, 5.03678048, 6.30506429, 7.53166628, 6.93814732,\n",
       "       7.85002022, 6.69365883, 7.19493297, 7.8117013 , 6.13612377,\n",
       "       7.28411387, 6.70982052, 7.34311763, 5.78209986, 6.431361  ,\n",
       "       6.84182256, 6.50171466, 7.82215326, 5.64445545, 7.6331574 ,\n",
       "       7.69445925, 7.46985147, 7.25116408, 7.32821106, 7.14887591,\n",
       "       7.85434355, 4.60922002, 6.39408042, 7.38741957, 5.41984801,\n",
       "       7.99944692, 6.0574601 , 5.74616106, 5.9350917 , 7.25463176,\n",
       "       6.04227286, 5.48574893, 5.20061761, 5.62240827, 5.42631831,\n",
       "       5.16864281, 5.98022717, 7.26111663, 5.60770385, 7.16404675,\n",
       "       6.21400837, 6.00117844, 5.44585726, 6.34259672, 7.89652856,\n",
       "       8.93778496, 6.4099171 , 8.18246326, 5.66963888, 5.07408767,\n",
       "       3.84792826, 7.84572161, 5.05139959, 6.05606158, 4.88007803,\n",
       "       6.68056466, 6.3161715 , 5.53092602, 5.74899362, 5.44948624,\n",
       "       7.24391958, 7.40582923, 5.53822876, 7.01887704, 6.32428562,\n",
       "       6.09261858, 5.4844114 , 4.2912709 , 6.45520269, 4.91930508,\n",
       "       5.65741925, 6.38221322, 7.36555939, 6.1670375 ])"
      ]
     },
     "execution_count": 9,
     "metadata": {},
     "output_type": "execute_result"
    }
   ],
   "source": [
    "RFparams2={'n_estimators':[50],\n",
    "          'min_samples_split':[16],\n",
    "          'min_samples_leaf': [4],\n",
    "           'max_features': [6],\n",
    "           'max_depth': [20],\n",
    "           'bootstrap': [True]}\n",
    "\n",
    "rf = RandomForestRegressor(random_state = 21)\n",
    "clf_random_forest = GridSearchCV(rf, RFparams2, refit=True)\n",
    "testWithModel(clf_random_forest ,X_train, X_test, y_train, y_test)"
   ]
  },
  {
   "cell_type": "code",
   "execution_count": 10,
   "id": "7503200a",
   "metadata": {},
   "outputs": [
    {
     "name": "stdout",
     "output_type": "stream",
     "text": [
      "MAE = 2.777563760826399\n",
      "MAPE = 3.784858071420441\n",
      "RMSE = 3.311534916910759\n"
     ]
    },
    {
     "data": {
      "text/plain": [
       "array([6.31681385, 6.31681385, 6.31681385, 6.31681385, 6.31681385,\n",
       "       6.31681385, 6.31681385, 6.31681385, 6.31681385, 6.31681385,\n",
       "       6.31681385, 6.31681385, 6.31681385, 6.31681385, 6.31681385,\n",
       "       6.31681385, 6.31681385, 6.31681385, 6.31681385, 6.31681385,\n",
       "       6.31681385, 6.31681385, 6.31681385, 6.31681385, 6.31681385,\n",
       "       6.31681385, 6.31681385, 6.31681385, 6.31681385, 6.31681385,\n",
       "       6.31681385, 6.31681385, 6.31681385, 6.31681385, 6.31681385,\n",
       "       6.31681385, 6.31681385, 6.31681385, 6.31681385, 6.31681385,\n",
       "       6.31681385, 6.31681385, 6.31681385, 6.31681385, 6.31681385,\n",
       "       6.31681385, 6.31681385, 6.31681385, 6.31681385, 6.31681385,\n",
       "       6.31681385, 6.31681385, 6.31681385, 6.31681385, 6.31681385,\n",
       "       6.31681385, 6.31681385, 6.31681385, 6.31681385, 6.31681385,\n",
       "       6.31681385, 6.31681385, 6.31681385, 6.31681385, 6.31681385,\n",
       "       6.31681385, 6.31681385, 6.31681385, 6.31681385, 6.31681385,\n",
       "       6.31681385, 6.31681385, 6.31681385, 6.31681385, 6.31681385,\n",
       "       6.31681385, 6.31681385, 6.31681385, 6.31681385, 6.31681385,\n",
       "       6.31681385, 6.31681385, 6.31681385, 6.31681385, 6.31681385,\n",
       "       6.31681385, 6.31681385, 6.31681385, 6.31681385, 6.31681385,\n",
       "       6.31681385, 6.31681385, 6.31681385, 6.31681385, 6.31681385,\n",
       "       6.31681385, 6.31681385, 6.31681385, 6.31681385])"
      ]
     },
     "execution_count": 10,
     "metadata": {},
     "output_type": "execute_result"
    }
   ],
   "source": [
    "testWithModel(Lasso(alpha=0.5), X_train, X_test, y_train, y_test)"
   ]
  },
  {
   "cell_type": "code",
   "execution_count": 11,
   "id": "6f0800f8",
   "metadata": {},
   "outputs": [
    {
     "name": "stdout",
     "output_type": "stream",
     "text": [
      "MAE = 2.7476411376271224\n",
      "MAPE = 4.0386224203656855\n",
      "RMSE = 3.2960287236612618\n"
     ]
    },
    {
     "data": {
      "text/plain": [
       "array([7.10713272, 4.67366429, 6.54988611, 6.65723777, 3.10200041,\n",
       "       5.27965676, 6.88324595, 6.61032737, 5.89276583, 5.10867565,\n",
       "       6.94022439, 6.52836871, 7.15579173, 7.05912637, 6.58991331,\n",
       "       7.36294417, 6.36240616, 7.25705289, 6.6361233 , 5.7611579 ,\n",
       "       8.05283963, 5.82483796, 6.73644857, 6.65118939, 7.07799335,\n",
       "       7.01411571, 7.22116582, 7.12450664, 6.11689469, 5.43038526,\n",
       "       5.99527289, 6.9864053 , 6.10998109, 7.22470093, 6.5990619 ,\n",
       "       6.89951506, 6.94161165, 6.37445423, 3.97299622, 5.34106392,\n",
       "       6.88452528, 6.89229669, 6.27785702, 6.10548695, 7.44006661,\n",
       "       5.29414539, 4.61104048, 6.89413221, 6.16553986, 6.7981388 ,\n",
       "       6.49210272, 6.8138075 , 6.93899161, 5.50534976, 6.03798157,\n",
       "       6.737974  , 6.11616064, 6.5880536 , 6.24834908, 4.85375897,\n",
       "       5.16227773, 6.17109809, 7.60538386, 6.50447718, 5.6915078 ,\n",
       "       6.3247921 , 6.30913187, 5.88658769, 7.05389792, 5.13462111,\n",
       "       6.09782396, 4.96536108, 6.25748324, 5.68506391, 6.32384265,\n",
       "       5.46586077, 6.70328836, 5.72479523, 5.94000571, 4.69352277,\n",
       "       6.22134011, 6.33786159, 5.6367566 , 6.45287493, 5.76756066,\n",
       "       6.90547184, 7.17851413, 5.926783  , 7.23023052, 5.52930647,\n",
       "       5.91336426, 6.99048988, 5.12508051, 7.40350068, 5.09028807,\n",
       "       6.671532  , 6.44324068, 6.44894294, 6.67858478])"
      ]
     },
     "execution_count": 11,
     "metadata": {},
     "output_type": "execute_result"
    }
   ],
   "source": [
    "testWithModel(RidgeCV(),X_train, X_test, y_train, y_test)"
   ]
  },
  {
   "cell_type": "code",
   "execution_count": 13,
   "id": "2b0dc40f",
   "metadata": {},
   "outputs": [
    {
     "name": "stdout",
     "output_type": "stream",
     "text": [
      "MAE = 2.719313684793137\n",
      "MAPE = 4.192761817399197\n",
      "RMSE = 3.3737524283780953\n"
     ]
    },
    {
     "data": {
      "text/plain": [
       "array([ 9.67452055,  4.37643836,  9.04273973,  5.87671233,  5.7490411 ,\n",
       "        6.2       ,  5.60767123,  4.38794521,  9.54027397,  5.70684932,\n",
       "        8.05260274,  6.22739726,  7.75123288,  7.08821918,  7.63013699,\n",
       "        3.42191781,  7.5309589 ,  6.83506849,  6.88986301,  8.87013699,\n",
       "        7.96164384,  8.05205479,  4.63561644,  9.38520548,  4.78684932,\n",
       "        7.67780822,  5.16273973,  6.94082192,  9.76493151,  5.30575342,\n",
       "        6.29753425,  7.5769863 ,  7.67945205,  5.32712329,  7.15013699,\n",
       "        6.4       ,  6.91178082,  6.8630137 ,  6.45808219,  8.25643836,\n",
       "        7.19561644,  7.54520548,  7.33205479,  9.08657534,  5.0169863 ,\n",
       "        4.51726027,  6.45753425,  8.46465753,  8.65589041,  8.8969863 ,\n",
       "        6.44712329,  4.63232877,  5.58027397,  7.26465753,  6.94684932,\n",
       "        6.95616438,  5.1939726 ,  6.05534247,  4.53534247,  4.92876712,\n",
       "        6.31287671,  6.96712329,  9.07123288,  5.23726027,  4.79123288,\n",
       "        7.20109589,  3.90191781,  7.11342466, 10.2969863 ,  7.09753425,\n",
       "        9.40931507,  7.96712329,  5.80547945,  5.22246575,  7.15342466,\n",
       "        2.24931507,  9.58191781,  7.2       ,  8.61424658,  4.5890411 ,\n",
       "        6.91616438,  9.74027397,  5.54465753,  7.4509589 ,  6.80438356,\n",
       "        7.63342466,  7.82136986,  4.79178082,  6.13972603,  4.68328767,\n",
       "        7.71013699,  7.17150685,  4.04986301,  8.81150685,  6.40054795,\n",
       "        7.02794521,  7.7430137 ,  7.07123288,  6.85150685])"
      ]
     },
     "execution_count": 13,
     "metadata": {},
     "output_type": "execute_result"
    }
   ],
   "source": [
    "testWithModel(KNeighborsRegressor(),X_train, X_test, y_train, y_test)"
   ]
  },
  {
   "cell_type": "code",
   "execution_count": 14,
   "id": "a2b3dc89",
   "metadata": {},
   "outputs": [
    {
     "name": "stdout",
     "output_type": "stream",
     "text": [
      "MAE = 4.020893870208939\n",
      "MAPE = 4.855472914675468\n",
      "RMSE = 4.8015805775448435\n"
     ]
    },
    {
     "data": {
      "text/plain": [
       "array([ 3.28767123,  2.89863014,  5.39726027,  5.98082192, 11.76712329,\n",
       "        5.38356164,  8.85753425,  0.8630137 ,  8.54246575,  4.19452055,\n",
       "        9.38082192,  0.71506849,  9.50410959,  9.04931507,  0.8630137 ,\n",
       "        0.59452055, 11.10136986,  1.09863014, 13.13424658,  7.5260274 ,\n",
       "        7.47671233, 11.95616438,  0.5369863 ,  9.82465753,  0.85753425,\n",
       "        8.83013699,  0.02465753, 10.2       , 11.40547945,  0.20273973,\n",
       "        1.42465753, 12.16712329,  5.84383562, 12.97534247, 12.09315068,\n",
       "        0.71506849,  7.47671233,  8.02739726,  4.55342466,  6.74246575,\n",
       "        8.68493151,  9.41369863,  7.42191781,  5.52054795,  9.38630137,\n",
       "        1.78356164,  9.20273973, 10.51232877,  9.41369863,  4.91506849,\n",
       "       12.63013699,  2.0739726 ,  4.19452055,  9.30136986,  6.70684932,\n",
       "        6.01369863,  0.99178082,  4.25753425,  9.86027397,  2.73424658,\n",
       "        2.51232877,  7.30410959, 13.19178082, 13.89041096,  9.50410959,\n",
       "        7.79452055, 13.35616438,  5.38356164,  7.16164384,  7.03835616,\n",
       "        7.23013699, 11.6630137 ,  5.39726027,  4.55342466,  2.06027397,\n",
       "        1.03835616,  7.2630137 ,  1.13150685,  5.03561644,  0.10958904,\n",
       "        7.79452055,  5.63835616,  6.78356164,  9.51780822,  0.24657534,\n",
       "        8.41917808,  9.05753425, 11.6630137 ,  6.01369863,  6.33972603,\n",
       "        6.4109589 ,  9.38630137,  2.76164384, 10.57534247,  2.89863014,\n",
       "        2.79452055,  9.46027397,  3.87671233,  7.79452055])"
      ]
     },
     "execution_count": 14,
     "metadata": {},
     "output_type": "execute_result"
    }
   ],
   "source": [
    "testWithModel(DecisionTreeRegressor(criterion=\"absolute_error\"),X_train, X_test, y_train, y_test)"
   ]
  },
  {
   "cell_type": "code",
   "execution_count": 15,
   "id": "4ff04e7a",
   "metadata": {},
   "outputs": [
    {
     "name": "stdout",
     "output_type": "stream",
     "text": [
      "MAE = 2.748094198258288\n",
      "MAPE = 4.0262614026053205\n",
      "RMSE = 3.295113916027013\n"
     ]
    },
    {
     "data": {
      "text/plain": [
       "array([7.07450256, 4.72022492, 6.53070663, 6.6556009 , 3.20459659,\n",
       "       5.30675804, 6.85076739, 6.63252683, 5.9008198 , 5.13464215,\n",
       "       6.92721964, 6.51893789, 7.09858763, 7.03256087, 6.56495874,\n",
       "       7.31002423, 6.35539431, 7.22527951, 6.63670077, 5.78001699,\n",
       "       7.97160746, 5.85653407, 6.71855205, 6.63444385, 7.05298444,\n",
       "       6.99078205, 7.19438953, 7.09189238, 6.11679198, 5.46803537,\n",
       "       6.00913978, 6.95933149, 6.1155397 , 7.20680787, 6.57199778,\n",
       "       6.87219627, 6.94311471, 6.36492849, 4.01487185, 5.37419474,\n",
       "       6.86763033, 6.87886797, 6.27412829, 6.12444763, 7.43435871,\n",
       "       5.31866377, 4.65677513, 6.87332767, 6.16200981, 6.79268654,\n",
       "       6.48671454, 6.7927389 , 6.89694862, 5.53547756, 6.05173816,\n",
       "       6.72252651, 6.18009862, 6.57562573, 6.24860817, 4.8898252 ,\n",
       "       5.15857035, 6.17585083, 7.54113394, 6.53502196, 5.72744133,\n",
       "       6.30324053, 6.3235687 , 5.89374056, 7.01929817, 5.16963955,\n",
       "       6.09007556, 5.01014813, 6.25860082, 5.70595012, 6.29798063,\n",
       "       5.51736893, 6.6822057 , 5.75360148, 5.95179849, 4.73601761,\n",
       "       6.21206786, 6.33446004, 5.65213105, 6.48728757, 5.77650595,\n",
       "       6.89302263, 7.13854004, 5.94792456, 7.2036577 , 5.54265609,\n",
       "       5.91610348, 6.96304834, 5.188515  , 7.35639454, 5.12045123,\n",
       "       6.65700895, 6.4343637 , 6.46667064, 6.65266149])"
      ]
     },
     "execution_count": 15,
     "metadata": {},
     "output_type": "execute_result"
    }
   ],
   "source": [
    "testWithModel(ElasticNetCV(random_state=0), X_train, X_test, y_train, y_test)"
   ]
  },
  {
   "cell_type": "code",
   "execution_count": 16,
   "id": "c6473d44",
   "metadata": {},
   "outputs": [
    {
     "name": "stdout",
     "output_type": "stream",
     "text": [
      "MAE = 3.6856102596448257\n",
      "MAPE = 4.43877691849709\n",
      "RMSE = 4.619371975351302\n"
     ]
    },
    {
     "data": {
      "text/plain": [
       "array([ 6.36626015,  1.02622363,  9.0837484 ,  1.24905069,  4.54120106,\n",
       "        3.29927264,  7.06854901,  1.5340205 ,  6.48494171,  5.12615895,\n",
       "       10.48046634,  4.29371794,  8.1229    ,  6.92281516,  3.33314288,\n",
       "        4.84237351,  1.38846946,  9.01510055,  4.35414608,  8.68010435,\n",
       "        4.46947759,  5.52557108,  4.47351019,  8.35877231,  4.61942405,\n",
       "        6.68930224, 10.45131078,  8.15085113,  6.80308361,  5.84649968,\n",
       "        0.49200731,  6.48516348,  7.96116055,  4.52661451,  3.87681909,\n",
       "        5.98400698, 13.08853089,  7.18300142,  4.81242731,  8.58769603,\n",
       "        9.43727377,  5.73332703,  8.76665783, 15.04016235,  7.2016792 ,\n",
       "        7.81561256,  4.00588244,  6.43665482,  3.08703067, 15.48227537,\n",
       "        7.0622163 ,  5.98948944, -0.09848996,  6.43054265,  8.7112775 ,\n",
       "        7.05026656, 13.28216064,  4.16948151,  6.26907261,  3.33016224,\n",
       "        3.61463292,  4.64886254, 10.51319407,  1.33670849, 10.01793234,\n",
       "        8.17821416,  3.80725249,  7.38055846, 10.89358774,  4.69535388,\n",
       "       10.39966622, -0.45790557,  8.99720627,  3.87858617, 13.58833662,\n",
       "        2.74078261,  5.23906029,  1.10342439,  6.12699916,  5.21798256,\n",
       "        5.86537316,  9.32664988,  8.80797856,  8.43018514,  5.28184195,\n",
       "        7.32643316,  7.93301683,  3.97451303,  6.56862729,  5.05050982,\n",
       "        7.48526485,  5.12451212,  2.76483452,  9.49035313,  2.41751765,\n",
       "        8.6698424 ,  4.60278931, 12.95524105,  5.674261  ])"
      ]
     },
     "execution_count": 16,
     "metadata": {},
     "output_type": "execute_result"
    }
   ],
   "source": [
    "testWithModel(SVR(C=300, epsilon=0.8),X_train, X_test, y_train, y_test)"
   ]
  },
  {
   "cell_type": "code",
   "execution_count": 17,
   "id": "a3025b2c",
   "metadata": {},
   "outputs": [
    {
     "name": "stderr",
     "output_type": "stream",
     "text": [
      "<ipython-input-17-b107bf54d458>:1: SettingWithCopyWarning: \n",
      "A value is trying to be set on a copy of a slice from a DataFrame.\n",
      "Try using .loc[row_indexer,col_indexer] = value instead\n",
      "\n",
      "See the caveats in the documentation: https://pandas.pydata.org/pandas-docs/stable/user_guide/indexing.html#returning-a-view-versus-a-copy\n",
      "  null_death_rows['DEATH [d from CT]'] = clf_random_forest.predict(X2)\n"
     ]
    }
   ],
   "source": [
    "null_death_rows['DEATH [d from CT]'] = clf_random_forest.predict(X2)\n",
    "df = pd.concat([non_null_death_rows,null_death_rows])\n",
    "y = df.iloc[:,11]\n",
    "X = df.iloc[:, 0:11]"
   ]
  },
  {
   "cell_type": "code",
   "execution_count": 18,
   "id": "335e6b1f",
   "metadata": {},
   "outputs": [
    {
     "name": "stdout",
     "output_type": "stream",
     "text": [
      "(8878, 11)\n"
     ]
    }
   ],
   "source": [
    "print(X.shape)"
   ]
  },
  {
   "cell_type": "code",
   "execution_count": 19,
   "id": "0ffa92c3",
   "metadata": {},
   "outputs": [],
   "source": [
    "X_train, X_test, y_train, y_test  = train_test_split(X, y, test_size=0.2)"
   ]
  },
  {
   "cell_type": "code",
   "execution_count": 20,
   "id": "a656c182",
   "metadata": {},
   "outputs": [
    {
     "name": "stdout",
     "output_type": "stream",
     "text": [
      "MAE = 0.6598922564075452\n",
      "MAPE = 0.1307413503893314\n",
      "RMSE = 1.0569580649579173\n"
     ]
    }
   ],
   "source": [
    "knn = KNeighborsRegressor(n_neighbors=9)\n",
    "param_grid2 = dict(weights = [\"uniform\", \"distance\"])\n",
    "knn_pred = testWithModel(GridSearchCV(knn, param_grid2),X_train, X_test, y_train, y_test)"
   ]
  },
  {
   "cell_type": "code",
   "execution_count": 21,
   "id": "652f91a6",
   "metadata": {},
   "outputs": [
    {
     "name": "stdout",
     "output_type": "stream",
     "text": [
      "MAE = 0.663446592517845\n",
      "MAPE = 0.12837231099786717\n",
      "RMSE = 1.0539182120521493\n"
     ]
    }
   ],
   "source": [
    "svr_pred = testWithModel(SVR(C=300, epsilon=0.8),X_train, X_test, y_train, y_test)"
   ]
  },
  {
   "cell_type": "code",
   "execution_count": 22,
   "id": "b650041a",
   "metadata": {},
   "outputs": [
    {
     "name": "stdout",
     "output_type": "stream",
     "text": [
      "MAE = 0.8392944341607153\n",
      "MAPE = 0.15378502700928734\n",
      "RMSE = 1.179094969387008\n"
     ]
    }
   ],
   "source": [
    "lasso_pred = testWithModel(Lasso(alpha=0.1), X_train, X_test, y_train, y_test)"
   ]
  },
  {
   "cell_type": "code",
   "execution_count": 23,
   "id": "053000de",
   "metadata": {},
   "outputs": [
    {
     "name": "stdout",
     "output_type": "stream",
     "text": [
      "MAE = 0.682850758434054\n",
      "MAPE = 0.1339451671387361\n",
      "RMSE = 1.0875734813493776\n"
     ]
    }
   ],
   "source": [
    "knn_pred = testWithModel(KNeighborsRegressor(),X_train, X_test, y_train, y_test)"
   ]
  },
  {
   "cell_type": "code",
   "execution_count": 24,
   "id": "f48abcd3",
   "metadata": {},
   "outputs": [
    {
     "name": "stdout",
     "output_type": "stream",
     "text": [
      "MAE = 0.8453674892573712\n",
      "MAPE = 0.1553148980159573\n",
      "RMSE = 1.1870191048664442\n"
     ]
    }
   ],
   "source": [
    "elastic_net_pred = testWithModel(ElasticNetCV(random_state=0), X_train, X_test, y_train, y_test)"
   ]
  },
  {
   "cell_type": "code",
   "execution_count": 25,
   "id": "fe51c205",
   "metadata": {},
   "outputs": [
    {
     "name": "stdout",
     "output_type": "stream",
     "text": [
      "MAE = 0.7442915789775519\n",
      "MAPE = 0.1378816736563948\n",
      "RMSE = 1.3849886619549137\n"
     ]
    }
   ],
   "source": [
    "dtree_pred = testWithModel(DecisionTreeRegressor(criterion=\"absolute_error\"),X_train, X_test, y_train, y_test)"
   ]
  },
  {
   "cell_type": "code",
   "execution_count": 26,
   "id": "7928eee0",
   "metadata": {},
   "outputs": [],
   "source": [
    "array_preds = np.array([ dtree_pred, elastic_net_pred, knn_pred, lasso_pred,dtree_pred])\n",
    "y_ens = np.mean((array_preds), axis=0 )"
   ]
  },
  {
   "cell_type": "code",
   "execution_count": 27,
   "id": "7629f53f",
   "metadata": {},
   "outputs": [
    {
     "name": "stdout",
     "output_type": "stream",
     "text": [
      "0.6447868309830067\n"
     ]
    }
   ],
   "source": [
    "print(mean_absolute_error(y_ens, y_test))"
   ]
  },
  {
   "cell_type": "code",
   "execution_count": 28,
   "id": "c65e9686",
   "metadata": {},
   "outputs": [
    {
     "name": "stdout",
     "output_type": "stream",
     "text": [
      "(5, 1776)\n"
     ]
    }
   ],
   "source": [
    "print(array_preds.shape)"
   ]
  },
  {
   "cell_type": "code",
   "execution_count": 29,
   "id": "dd84f244",
   "metadata": {},
   "outputs": [],
   "source": [
    "import random\n",
    "y_ens=[]\n",
    "\n",
    "for i,y in enumerate(y_test):\n",
    "\n",
    "  j = random.randint(0, 4)\n",
    "  y_ens.append( array_preds[j][i])"
   ]
  },
  {
   "cell_type": "code",
   "execution_count": 30,
   "id": "1e14e50b",
   "metadata": {},
   "outputs": [
    {
     "data": {
      "text/plain": [
       "1776"
      ]
     },
     "execution_count": 30,
     "metadata": {},
     "output_type": "execute_result"
    }
   ],
   "source": [
    "len(y_ens)"
   ]
  },
  {
   "cell_type": "code",
   "execution_count": 31,
   "id": "f082720d",
   "metadata": {},
   "outputs": [
    {
     "name": "stdout",
     "output_type": "stream",
     "text": [
      "0.7774032951412713\n"
     ]
    }
   ],
   "source": [
    "print(mean_absolute_error(y_ens, y_test))"
   ]
  },
  {
   "cell_type": "code",
   "execution_count": 34,
   "id": "f65a69c7",
   "metadata": {},
   "outputs": [
    {
     "data": {
      "text/plain": [
       "array([[7.82075502, 7.1578268 , 6.70649182, ..., 6.99684322, 5.11695048,\n",
       "        8.48470691],\n",
       "       [6.81910098, 7.50140208, 7.00772099, ..., 6.7066949 , 6.09621763,\n",
       "        6.72406719],\n",
       "       [7.90883059, 6.64446685, 7.04434974, ..., 6.7283526 , 4.85708702,\n",
       "        8.40040148],\n",
       "       [6.88671246, 7.5201356 , 6.97558499, ..., 6.69259602, 6.11212507,\n",
       "        6.76183802],\n",
       "       [7.82075502, 7.1578268 , 6.70649182, ..., 6.99684322, 5.11695048,\n",
       "        8.48470691]])"
      ]
     },
     "execution_count": 34,
     "metadata": {},
     "output_type": "execute_result"
    }
   ],
   "source": [
    "array_preds"
   ]
  },
  {
   "cell_type": "code",
   "execution_count": 35,
   "id": "b025b8ba",
   "metadata": {},
   "outputs": [],
   "source": [
    "b = array_preds.T"
   ]
  },
  {
   "cell_type": "code",
   "execution_count": 37,
   "id": "6b92b15d",
   "metadata": {},
   "outputs": [],
   "source": [
    "b\n",
    "\n",
    "X_trainens, X_testens, y_trainens, y_testens  = train_test_split(b, y_test, test_size=0.2, random_state=0)"
   ]
  },
  {
   "cell_type": "code",
   "execution_count": 38,
   "id": "1004bfaa",
   "metadata": {},
   "outputs": [
    {
     "data": {
      "text/plain": [
       "0.5509104237435773"
      ]
     },
     "execution_count": 38,
     "metadata": {},
     "output_type": "execute_result"
    }
   ],
   "source": [
    "from sklearn.linear_model import LinearRegression\n",
    "\n",
    "\n",
    "reg = LinearRegression().fit(X_trainens, y_trainens)\n",
    "\n",
    "reg.score(X_testens, y_testens)"
   ]
  },
  {
   "cell_type": "code",
   "execution_count": 41,
   "id": "a44bc492",
   "metadata": {},
   "outputs": [
    {
     "data": {
      "text/plain": [
       "array([ 0.10756112, -1.33566529,  0.56674049,  1.77740378,  0.10756112])"
      ]
     },
     "execution_count": 41,
     "metadata": {},
     "output_type": "execute_result"
    }
   ],
   "source": [
    "reg.coef_"
   ]
  },
  {
   "cell_type": "code",
   "execution_count": 43,
   "id": "564eacff",
   "metadata": {},
   "outputs": [
    {
     "data": {
      "text/plain": [
       "-1.473247958163018"
      ]
     },
     "execution_count": 43,
     "metadata": {},
     "output_type": "execute_result"
    }
   ],
   "source": [
    "reg.intercept_"
   ]
  },
  {
   "cell_type": "code",
   "execution_count": 44,
   "id": "d6a65132",
   "metadata": {},
   "outputs": [],
   "source": [
    "y_ens=reg.predict(b)"
   ]
  },
  {
   "cell_type": "code",
   "execution_count": 45,
   "id": "624907c9",
   "metadata": {},
   "outputs": [
    {
     "name": "stdout",
     "output_type": "stream",
     "text": [
      "0.6030037053409997\n"
     ]
    }
   ],
   "source": [
    "print(mean_absolute_error(y_ens, y_test))"
   ]
  },
  {
   "cell_type": "code",
   "execution_count": 49,
   "id": "ff0c4fee",
   "metadata": {},
   "outputs": [
    {
     "name": "stdout",
     "output_type": "stream",
     "text": [
      "MAPE = 0.11610194686413265\n"
     ]
    }
   ],
   "source": [
    "print(f'MAPE = {mean_absolute_percentage_error(y_test, y_ens)}')"
   ]
  },
  {
   "cell_type": "code",
   "execution_count": null,
   "id": "22d6c105",
   "metadata": {},
   "outputs": [],
   "source": []
  }
 ],
 "metadata": {
  "kernelspec": {
   "display_name": "Python 3",
   "language": "python",
   "name": "python3"
  },
  "language_info": {
   "codemirror_mode": {
    "name": "ipython",
    "version": 3
   },
   "file_extension": ".py",
   "mimetype": "text/x-python",
   "name": "python",
   "nbconvert_exporter": "python",
   "pygments_lexer": "ipython3",
   "version": "3.8.8"
  }
 },
 "nbformat": 4,
 "nbformat_minor": 5
}
