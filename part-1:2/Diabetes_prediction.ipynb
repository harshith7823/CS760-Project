{
  "nbformat": 4,
  "nbformat_minor": 0,
  "metadata": {
    "colab": {
      "name": "Diabetes-prediction.ipynb",
      "provenance": []
    },
    "kernelspec": {
      "name": "python3",
      "display_name": "Python 3"
    },
    "language_info": {
      "name": "python"
    }
  },
  "cells": [
    {
      "cell_type": "code",
      "execution_count": 53,
      "metadata": {
        "id": "vW0C_AULpqDP"
      },
      "outputs": [],
      "source": [
        "import pandas as pd\n",
        "import math\n",
        "import numpy as np\n",
        "from sklearn.model_selection import train_test_split\n",
        "from sklearn.model_selection import cross_val_score\n",
        "import matplotlib.pyplot as plt"
      ]
    },
    {
      "cell_type": "code",
      "source": [
        "def fetch_diabetes_ct_data(oppScrData):    \n",
        "    ct_data= oppScrData[[\"L1_HU_BMD\", \"TAT Area (cm2)\", 'Total Body                Area EA (cm2)',\n",
        "       'VAT Area (cm2)', 'SAT Area (cm2)', 'VAT/SAT     Ratio', 'Muscle HU',\n",
        "       ' Muscle Area (cm2)', 'L3 SMI (cm2/m2)', 'AoCa        Agatston',\n",
        "       'Liver HU    (Median)', 'Otherabnormalglucose', 'Impairedfastingglucose', \n",
        "       'TypeIIorunspecifiedtypediabetesmellituswithoutmentionofcomplication,uncontrolled', \n",
        "       'Type2diabetesmellituswithoutcomplications']];\n",
        "    n = ct_data.shape[0]\n",
        "    preprocessed_ct_data = []\n",
        "    for i in range(n):\n",
        "        row = ct_data.iloc[i]\n",
        "        ignore = False\n",
        "        for j in row[:]:\n",
        "          if pd.isna(j) or j == ' ': # There is an empty string somewhere in Liver column\n",
        "            ignore = True\n",
        "            break\n",
        "        if not ignore:\n",
        "          preprocessed_ct_data.append(row)\n",
        "    return np.array(preprocessed_ct_data, dtype=np.float32)\n"
      ],
      "metadata": {
        "id": "xAGF7NhApwOc"
      },
      "execution_count": 51,
      "outputs": []
    },
    {
      "cell_type": "code",
      "source": [
        "df = pd.read_excel(r'sample_data/OppScrData.xlsx')  "
      ],
      "metadata": {
        "id": "TyvjfjVUp-YL"
      },
      "execution_count": 42,
      "outputs": []
    },
    {
      "cell_type": "code",
      "source": [
        "# Fetch rows with the below specificed diabetes values and convert it to one-hot representation\n",
        "p = ['Otherabnormalglucose', 'Impairedfastingglucose', 'TypeIIorunspecifiedtypediabetesmellituswithoutmentionofcomplication,uncontrolled', 'Type2diabetesmellituswithoutcomplications'];\n",
        "df = df.loc[df[\"Type 2 Diabetes DX\"].isin(p)]\n",
        "diabetes_one_hot = pd.get_dummies(df['Type 2 Diabetes DX'])\n",
        "df = pd.concat([df, diabetes_one_hot], axis=1)\n",
        "df = df.drop('Type 2 Diabetes DX', axis=1)"
      ],
      "metadata": {
        "id": "kXpOxYX2hmYt"
      },
      "execution_count": 43,
      "outputs": []
    },
    {
      "cell_type": "code",
      "source": [
        "# Fetch corresponding ct data values\n",
        "diabetes_ct_data = fetch_diabetes_ct_data(df)"
      ],
      "metadata": {
        "id": "bOXgvUJ0mj-C"
      },
      "execution_count": 55,
      "outputs": []
    },
    {
      "cell_type": "code",
      "source": [
        "diabetes_ct_data[0]"
      ],
      "metadata": {
        "colab": {
          "base_uri": "https://localhost:8080/"
        },
        "id": "0fLUifN0peMm",
        "outputId": "4e5246f1-6c71-4f86-8389-fc8f85db3214"
      },
      "execution_count": 57,
      "outputs": [
        {
          "output_type": "execute_result",
          "data": {
            "text/plain": [
              "array([106.       , 315.53076  , 588.89233  , 202.31795  , 113.21282  ,\n",
              "         1.7870586,  -3.181874 , 168.92395  ,  47.814583 , 431.519    ,\n",
              "        53.       ,   1.       ,   0.       ,   0.       ,   0.       ],\n",
              "      dtype=float32)"
            ]
          },
          "metadata": {},
          "execution_count": 57
        }
      ]
    },
    {
      "cell_type": "code",
      "source": [
        "df"
      ],
      "metadata": {
        "id": "UrR16rjQnuqp"
      },
      "execution_count": null,
      "outputs": []
    },
    {
      "cell_type": "code",
      "source": [
        ""
      ],
      "metadata": {
        "id": "d5QfIdSOohhG"
      },
      "execution_count": null,
      "outputs": []
    }
  ]
}