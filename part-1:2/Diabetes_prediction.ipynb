{
  "nbformat": 4,
  "nbformat_minor": 0,
  "metadata": {
    "colab": {
      "name": "Diabetes-prediction.ipynb",
      "provenance": []
    },
    "kernelspec": {
      "name": "python3",
      "display_name": "Python 3"
    },
    "language_info": {
      "name": "python"
    }
  },
  "cells": [
    {
      "cell_type": "code",
      "execution_count": 7,
      "metadata": {
        "id": "vW0C_AULpqDP"
      },
      "outputs": [],
      "source": [
        "import pandas as pd\n",
        "import math\n",
        "import numpy as np\n",
        "from sklearn.model_selection import train_test_split\n",
        "from sklearn.model_selection import cross_val_score\n",
        "import matplotlib.pyplot as plt\n",
        "from sklearn.metrics import confusion_matrix\n",
        "from sklearn.naive_bayes import GaussianNB\n",
        "from sklearn.preprocessing import StandardScaler\n",
        "from sklearn.pipeline import Pipeline\n",
        "from sklearn.preprocessing import MinMaxScaler\n",
        "from sklearn.neighbors import KNeighborsClassifier\n",
        "from sklearn.model_selection import GridSearchCV\n",
        "from sklearn.svm import SVC\n",
        "from sklearn import tree"
      ]
    },
    {
      "cell_type": "code",
      "source": [
        "def fetch_diabetes_ct_data_one_hot(oppScrData):    \n",
        "    ct_data= oppScrData[[\"L1_HU_BMD\", \"TAT Area (cm2)\", 'Total Body                Area EA (cm2)',\n",
        "       'VAT Area (cm2)', 'SAT Area (cm2)', 'VAT/SAT     Ratio', 'Muscle HU',\n",
        "       ' Muscle Area (cm2)', 'L3 SMI (cm2/m2)', 'AoCa        Agatston',\n",
        "       'Liver HU    (Median)', 'Otherabnormalglucose', 'Impairedfastingglucose', \n",
        "       'TypeIIorunspecifiedtypediabetesmellituswithoutmentionofcomplication,uncontrolled', \n",
        "       'Type2diabetesmellituswithoutcomplications']];\n",
        "    n = ct_data.shape[0]\n",
        "    preprocessed_ct_data = []\n",
        "    for i in range(n):\n",
        "        row = ct_data.iloc[i]\n",
        "        ignore = False\n",
        "        for j in row[:]:\n",
        "          if pd.isna(j) or j == ' ': # There is an empty string somewhere in Liver column\n",
        "            ignore = True\n",
        "            break\n",
        "        if not ignore:\n",
        "          preprocessed_ct_data.append(row)\n",
        "    return np.array(preprocessed_ct_data, dtype=np.float32)\n"
      ],
      "metadata": {
        "id": "xAGF7NhApwOc"
      },
      "execution_count": 8,
      "outputs": []
    },
    {
      "cell_type": "code",
      "source": [
        "def fetch_diabetes_ct_data(oppScrData):    \n",
        "    ct_data= oppScrData[[\"L1_HU_BMD\", \"TAT Area (cm2)\", 'Total Body                Area EA (cm2)',\n",
        "       'VAT Area (cm2)', 'SAT Area (cm2)', 'VAT/SAT     Ratio', 'Muscle HU',\n",
        "       ' Muscle Area (cm2)', 'L3 SMI (cm2/m2)', 'AoCa        Agatston',\n",
        "       'Liver HU    (Median)', 'Type 2 Diabetes DX']];\n",
        "    n = ct_data.shape[0]\n",
        "    preprocessed_ct_data = []\n",
        "    for i in range(n):\n",
        "        row = ct_data.iloc[i]\n",
        "        ignore = False\n",
        "        for j in row[:]:\n",
        "          if pd.isna(j) or j == ' ': # There is an empty string somewhere in Liver column\n",
        "            ignore = True\n",
        "            break\n",
        "        if not ignore:\n",
        "          preprocessed_ct_data.append(row)\n",
        "    return np.array(preprocessed_ct_data, dtype=np.float32)\n"
      ],
      "metadata": {
        "id": "n-HUE1q3Q0Yk"
      },
      "execution_count": 9,
      "outputs": []
    },
    {
      "cell_type": "markdown",
      "source": [
        "**ONE HOT**"
      ],
      "metadata": {
        "id": "2ay5HVHBxdAn"
      }
    },
    {
      "cell_type": "code",
      "source": [
        "df = pd.read_excel(r'sample_data/OppScrData.xlsx')  "
      ],
      "metadata": {
        "id": "TyvjfjVUp-YL"
      },
      "execution_count": null,
      "outputs": []
    },
    {
      "cell_type": "code",
      "source": [
        "# Fetch rows with the below specified diabetes values and convert it to one-hot representation\n",
        "p = ['Otherabnormalglucose', 'Impairedfastingglucose', 'TypeIIorunspecifiedtypediabetesmellituswithoutmentionofcomplication,uncontrolled', 'Type2diabetesmellituswithoutcomplications'];\n",
        "df = df.loc[df[\"Type 2 Diabetes DX\"].isin(p)]\n",
        "diabetes_one_hot = pd.get_dummies(df['Type 2 Diabetes DX'])\n",
        "df = pd.concat([df, diabetes_one_hot], axis=1)\n",
        "df = df.drop('Type 2 Diabetes DX', axis=1)"
      ],
      "metadata": {
        "id": "kXpOxYX2hmYt"
      },
      "execution_count": null,
      "outputs": []
    },
    {
      "cell_type": "code",
      "source": [
        "# Fetch corresponding ct data values\n",
        "diabetes_ct_data = fetch_diabetes_ct_data(df)"
      ],
      "metadata": {
        "id": "bOXgvUJ0mj-C"
      },
      "execution_count": 10,
      "outputs": []
    },
    {
      "cell_type": "code",
      "source": [
        "diabetes_ct_data[0]"
      ],
      "metadata": {
        "colab": {
          "base_uri": "https://localhost:8080/"
        },
        "id": "0fLUifN0peMm",
        "outputId": "eda5903e-accd-4ec4-9451-c867359d86e5"
      },
      "execution_count": 11,
      "outputs": [
        {
          "output_type": "execute_result",
          "data": {
            "text/plain": [
              "array([106.       , 315.53076  , 588.89233  , 202.31795  , 113.21282  ,\n",
              "         1.7870586,  -3.181874 , 168.92395  ,  47.814583 , 431.519    ,\n",
              "        53.       ,   1.       ], dtype=float32)"
            ]
          },
          "metadata": {},
          "execution_count": 11
        }
      ]
    },
    {
      "cell_type": "code",
      "source": [
        "X = diabetes_ct_data[:, :-4]\n",
        "y = diabetes_ct_data[:, -4:]"
      ],
      "metadata": {
        "id": "UrR16rjQnuqp"
      },
      "execution_count": null,
      "outputs": []
    },
    {
      "cell_type": "code",
      "source": [
        "y"
      ],
      "metadata": {
        "id": "d5QfIdSOohhG",
        "colab": {
          "base_uri": "https://localhost:8080/"
        },
        "outputId": "c5d564e7-a0c7-4216-db81-d3c9e0c37496"
      },
      "execution_count": null,
      "outputs": [
        {
          "output_type": "execute_result",
          "data": {
            "text/plain": [
              "array([[1., 0., 0., 0.],\n",
              "       [0., 0., 0., 1.],\n",
              "       [1., 0., 0., 0.],\n",
              "       ...,\n",
              "       [0., 1., 0., 0.],\n",
              "       [1., 0., 0., 0.],\n",
              "       [0., 0., 1., 0.]], dtype=float32)"
            ]
          },
          "metadata": {},
          "execution_count": 13
        }
      ]
    },
    {
      "cell_type": "markdown",
      "source": [
        "**NORMAL REPRESENTATION**"
      ],
      "metadata": {
        "id": "ojSHE_ahxQCU"
      }
    },
    {
      "cell_type": "code",
      "source": [
        "df = pd.read_excel(r'sample_data/OppScrData.xlsx')  \n",
        "p = ['Otherabnormalglucose', 'Impairedfastingglucose', 'TypeIIorunspecifiedtypediabetesmellituswithoutmentionofcomplication,uncontrolled', 'Type2diabetesmellituswithoutcomplications'];\n",
        "df = df.loc[df[\"Type 2 Diabetes DX\"].isin(p)]\n",
        "r = {\"Otherabnormalglucose\":1, \"Impairedfastingglucose\":2, \"Type2diabetesmellituswithoutcomplications\":3, \"TypeIIorunspecifiedtypediabetesmellituswithoutmentionofcomplication,uncontrolled\":4}\n",
        "df[\"Type 2 Diabetes DX\"].replace(r, inplace=True)\n",
        "diabetes_ct_data = fetch_diabetes_ct_data(df)"
      ],
      "metadata": {
        "id": "j62FTsX8PMDV"
      },
      "execution_count": 10,
      "outputs": []
    },
    {
      "cell_type": "code",
      "source": [
        "X = diabetes_ct_data[:, :-1]\n",
        "y = diabetes_ct_data[:, -1]"
      ],
      "metadata": {
        "id": "7I0Lan-8Poh5"
      },
      "execution_count": 11,
      "outputs": []
    },
    {
      "cell_type": "code",
      "source": [
        "X[0]"
      ],
      "metadata": {
        "colab": {
          "base_uri": "https://localhost:8080/"
        },
        "id": "9osP28kCxr9D",
        "outputId": "b4a33410-2594-4795-8eaf-3278aef182f1"
      },
      "execution_count": 14,
      "outputs": [
        {
          "output_type": "execute_result",
          "data": {
            "text/plain": [
              "array([106.       , 315.53076  , 588.89233  , 202.31795  , 113.21282  ,\n",
              "         1.7870586,  -3.181874 , 168.92395  ,  47.814583 , 431.519    ,\n",
              "        53.       ], dtype=float32)"
            ]
          },
          "metadata": {},
          "execution_count": 14
        }
      ]
    },
    {
      "cell_type": "code",
      "source": [
        "X_train, X_test, y_train, y_test = train_test_split(X, y, random_state = 0)\n"
      ],
      "metadata": {
        "id": "xv_x7MVtRrEW"
      },
      "execution_count": 12,
      "outputs": []
    },
    {
      "cell_type": "markdown",
      "source": [
        "**NAIVE BAYES**"
      ],
      "metadata": {
        "id": "qrSHI4v4gIGv"
      }
    },
    {
      "cell_type": "code",
      "source": [
        "gnb = GaussianNB().fit(X_train, y_train)\n",
        "gnb_predictions = gnb.predict(X_test)\n",
        " \n",
        "# accuracy on X_test\n",
        "accuracy = gnb.score(X_test, y_test)\n",
        "print(accuracy)\n",
        " \n",
        "# creating a confusion matrix\n",
        "cm = confusion_matrix(y_test, gnb_predictions)\n",
        "print(cm)\n"
      ],
      "metadata": {
        "colab": {
          "base_uri": "https://localhost:8080/"
        },
        "id": "52-mymH4SoFz",
        "outputId": "dc45eeea-0b15-4e53-95cf-496b655b8464"
      },
      "execution_count": 16,
      "outputs": [
        {
          "output_type": "stream",
          "name": "stdout",
          "text": [
            "0.3745247148288973\n",
            "[[ 29 150  29  12]\n",
            " [ 25 144  13   7]\n",
            " [  8  23  10   8]\n",
            " [ 15  27  12  14]]\n"
          ]
        }
      ]
    },
    {
      "cell_type": "markdown",
      "source": [
        "**kNN**"
      ],
      "metadata": {
        "id": "nBjbMyLU2Tdk"
      }
    },
    {
      "cell_type": "code",
      "source": [
        "knn_pipe = Pipeline([('mms', StandardScaler()),\n",
        "                     ('knn', KNeighborsClassifier())])\n",
        "params = [{'knn__n_neighbors': range(2, 10),\n",
        "         'knn__weights': ['uniform', 'distance'],\n",
        "         'knn__leaf_size': [15, 20]}]\n",
        "gs_knn = GridSearchCV(knn_pipe,\n",
        "                      param_grid=params,\n",
        "                      scoring='accuracy',\n",
        "                      cv=3)\n",
        "gs_knn.fit(X, y)\n",
        "print(gs_knn.best_params_)\n",
        "print(gs_knn.score(X, y))"
      ],
      "metadata": {
        "colab": {
          "base_uri": "https://localhost:8080/"
        },
        "id": "7L0xaI862UoE",
        "outputId": "3a1bb441-5f9d-4b17-cb85-af606a96af15"
      },
      "execution_count": 58,
      "outputs": [
        {
          "output_type": "stream",
          "name": "stdout",
          "text": [
            "{'knn__leaf_size': 15, 'knn__n_neighbors': 9, 'knn__weights': 'uniform'}\n",
            "0.5259153590109368\n"
          ]
        }
      ]
    },
    {
      "cell_type": "markdown",
      "source": [
        "**SVM**"
      ],
      "metadata": {
        "id": "nhvGf-pdgP5z"
      }
    },
    {
      "cell_type": "code",
      "source": [
        "SVC_pipe = Pipeline([('mms', StandardScaler()),\n",
        "                     ('svc', SVC())])\n",
        "\n",
        "params = {'C':[0.1,1,100,1000],\n",
        "          'kernel':['rbf','poly','sigmoid','linear'],\n",
        "          'degree':[1,2,3,4,5,6],\n",
        "          'gamma': [1, 0.1, 0.01, 0.001, 0.0001]}\n",
        "\n",
        "gs_SVC = GridSearchCV(SVC(),\n",
        "                      param_grid=params,\n",
        "                      scoring='accuracy',\n",
        "                      cv=3)\n",
        "gs_SVC.fit(X, y)\n",
        "print(gs_SVC.best_params_)\n",
        "print(gs_SVC.score(X, y))"
      ],
      "metadata": {
        "id": "rpETrP0C2k3S"
      },
      "execution_count": null,
      "outputs": []
    },
    {
      "cell_type": "code",
      "source": [
        "from sklearn.metrics.pairwise import rbf_kernel\n",
        "s = SVC(kernel='poly')\n",
        "s.fit(X,y)\n",
        "print(s.score(X, y))"
      ],
      "metadata": {
        "colab": {
          "base_uri": "https://localhost:8080/"
        },
        "id": "WVAWEmn14Aoe",
        "outputId": "5cc99187-c928-4719-b1fd-643fe36a8dc3"
      },
      "execution_count": 19,
      "outputs": [
        {
          "output_type": "stream",
          "name": "stdout",
          "text": [
            "0.43319067998097954\n"
          ]
        }
      ]
    },
    {
      "cell_type": "markdown",
      "source": [
        "**DECISION TREE**"
      ],
      "metadata": {
        "id": "8Fmne1KJXwp8"
      }
    },
    {
      "cell_type": "code",
      "source": [
        "X_train, X_test, y_train, y_test = train_test_split(X, y, test_size = 0.2, random_state = 1)\n",
        "dtclf = tree.DecisionTreeClassifier(criterion='entropy', max_depth=5)\n",
        "dtclf.fit(X_train, y_train)\n",
        "pred = dtclf.predict(X_test)\n",
        "accuracy = dtclf.score(X_test, y_test)\n",
        "print(accuracy)"
      ],
      "metadata": {
        "id": "KZCACsaLFlJd",
        "colab": {
          "base_uri": "https://localhost:8080/"
        },
        "outputId": "4e0f331e-30c9-44f8-9511-4856eb04da4e"
      },
      "execution_count": 39,
      "outputs": [
        {
          "output_type": "stream",
          "name": "stdout",
          "text": [
            "0.3681710213776722\n"
          ]
        }
      ]
    },
    {
      "cell_type": "code",
      "source": [
        "params = {'criterion':['gini','entropy'],\n",
        "             'max_depth':range(1, 5),\n",
        "          }\n",
        "\n",
        "# dt_pipe = Pipeline([('mms', StandardScaler()),\n",
        "#                      ('tree', ))])\n",
        "\n",
        "gs_dt = GridSearchCV(tree.DecisionTreeClassifier(),\n",
        "                      param_grid=params,                      \n",
        "                      cv=3)\n",
        "\n",
        "X_train, X_test, y_train, y_test = train_test_split(X, y, test_size = 0.2, random_state = 1)\n",
        "gs_dt.fit(X_train, y_train)\n",
        "print(gs_dt.best_params_)\n",
        "print(gs_dt.score(X_test, y_test))"
      ],
      "metadata": {
        "colab": {
          "base_uri": "https://localhost:8080/"
        },
        "id": "uMtBITRlYk8_",
        "outputId": "1b45137e-9553-4e4b-c51d-96b51bc17e2b"
      },
      "execution_count": 50,
      "outputs": [
        {
          "output_type": "stream",
          "name": "stdout",
          "text": [
            "{'criterion': 'gini', 'max_depth': 1}\n",
            "0.44655581947743467\n"
          ]
        }
      ]
    },
    {
      "cell_type": "markdown",
      "source": [
        "**RANDOM FOREST**"
      ],
      "metadata": {
        "id": "jvuZ-iYbc_Pi"
      }
    },
    {
      "cell_type": "code",
      "source": [
        "from sklearn.ensemble import RandomForestClassifier"
      ],
      "metadata": {
        "id": "3_KfHb9Gfpe5"
      },
      "execution_count": 34,
      "outputs": []
    },
    {
      "cell_type": "code",
      "source": [
        "params = {'criterion':['gini','entropy'],\n",
        "             'max_depth':range(1, 5),\n",
        "          }\n",
        "\n",
        "# dt_pipe = Pipeline([('mms', StandardScaler()),\n",
        "#                      ('tree', ))])\n",
        "\n",
        "gs_dt = GridSearchCV(RandomForestClassifier(),\n",
        "                      param_grid=params,                      \n",
        "                      cv=10)\n",
        "\n",
        "# X_train, X_test, y_train, y_test = train_test_split(X, y, test_size = 0.2, random_state = 1)\n",
        "gs_dt.fit(X, y)\n",
        "print(gs_dt.best_params_)\n",
        "print(gs_dt.best_score_)"
      ],
      "metadata": {
        "colab": {
          "base_uri": "https://localhost:8080/"
        },
        "id": "BgdjXCS3ZydU",
        "outputId": "eb683521-5e95-46c6-d19b-c3c3eeeb3d99"
      },
      "execution_count": 36,
      "outputs": [
        {
          "output_type": "stream",
          "name": "stdout",
          "text": [
            "{'criterion': 'gini', 'max_depth': 4}\n",
            "0.43697810877905663\n"
          ]
        }
      ]
    },
    {
      "cell_type": "markdown",
      "source": [
        "# **MLP**"
      ],
      "metadata": {
        "id": "9Rms2Yn2fqvL"
      }
    },
    {
      "cell_type": "code",
      "source": [
        "from sklearn.neural_network import MLPClassifier"
      ],
      "metadata": {
        "id": "TeJw8Wo-fsfL"
      },
      "execution_count": 2,
      "outputs": []
    },
    {
      "cell_type": "code",
      "source": [
        "clf = MLPClassifier(hidden_layer_sizes=(150,100,50), max_iter=300,activation = 'relu',solver='adam',random_state=1)"
      ],
      "metadata": {
        "id": "ORyBsCgkfvp7"
      },
      "execution_count": 3,
      "outputs": []
    },
    {
      "cell_type": "code",
      "source": [
        "clf.fit(X_train, y_train)"
      ],
      "metadata": {
        "colab": {
          "base_uri": "https://localhost:8080/"
        },
        "id": "9S5OdC2QguM7",
        "outputId": "b523adc5-6c61-476f-f9c3-35fa2ba12914"
      },
      "execution_count": 13,
      "outputs": [
        {
          "output_type": "execute_result",
          "data": {
            "text/plain": [
              "MLPClassifier(hidden_layer_sizes=(150, 100, 50), max_iter=300, random_state=1)"
            ]
          },
          "metadata": {},
          "execution_count": 13
        }
      ]
    },
    {
      "cell_type": "code",
      "source": [
        "print(clf.score(X_test, y_test))"
      ],
      "metadata": {
        "colab": {
          "base_uri": "https://localhost:8080/"
        },
        "id": "QQwrpgilgx0h",
        "outputId": "392c4943-95cb-480b-9175-1481ea19f01a"
      },
      "execution_count": 14,
      "outputs": [
        {
          "output_type": "stream",
          "name": "stdout",
          "text": [
            "0.344106463878327\n"
          ]
        }
      ]
    },
    {
      "cell_type": "code",
      "source": [
        "params = {'hidden_layer_sizes':[(10,5), (6,4), (5,3)],\n",
        "          'max_iter':[500],\n",
        "          'activation':['relu'],\n",
        "          'solver':['adam', 'lbfgs', 'sgd']}\n",
        "\n",
        "gs_dt = GridSearchCV(MLPClassifier(),\n",
        "                     param_grid=params,                      \n",
        "                     cv=10)\n",
        "\n",
        "gs_dt.fit(X, y)\n",
        "print(gs_dt.best_params_)\n",
        "print(gs_dt.best_score_)"
      ],
      "metadata": {
        "colab": {
          "base_uri": "https://localhost:8080/"
        },
        "id": "8EIKu7tehDQ9",
        "outputId": "6fe44113-00c5-4c0c-f8e8-5b990cc4f009"
      },
      "execution_count": 30,
      "outputs": [
        {
          "output_type": "stream",
          "name": "stderr",
          "text": [
            "/usr/local/lib/python3.7/dist-packages/sklearn/neural_network/_multilayer_perceptron.py:549: ConvergenceWarning: lbfgs failed to converge (status=1):\n",
            "STOP: TOTAL NO. of ITERATIONS REACHED LIMIT.\n",
            "\n",
            "Increase the number of iterations (max_iter) or scale the data as shown in:\n",
            "    https://scikit-learn.org/stable/modules/preprocessing.html\n",
            "  self.n_iter_ = _check_optimize_result(\"lbfgs\", opt_res, self.max_iter)\n",
            "/usr/local/lib/python3.7/dist-packages/sklearn/neural_network/_multilayer_perceptron.py:549: ConvergenceWarning: lbfgs failed to converge (status=2):\n",
            "ABNORMAL_TERMINATION_IN_LNSRCH.\n",
            "\n",
            "Increase the number of iterations (max_iter) or scale the data as shown in:\n",
            "    https://scikit-learn.org/stable/modules/preprocessing.html\n",
            "  self.n_iter_ = _check_optimize_result(\"lbfgs\", opt_res, self.max_iter)\n",
            "/usr/local/lib/python3.7/dist-packages/sklearn/neural_network/_multilayer_perceptron.py:549: ConvergenceWarning: lbfgs failed to converge (status=2):\n",
            "ABNORMAL_TERMINATION_IN_LNSRCH.\n",
            "\n",
            "Increase the number of iterations (max_iter) or scale the data as shown in:\n",
            "    https://scikit-learn.org/stable/modules/preprocessing.html\n",
            "  self.n_iter_ = _check_optimize_result(\"lbfgs\", opt_res, self.max_iter)\n",
            "/usr/local/lib/python3.7/dist-packages/sklearn/neural_network/_multilayer_perceptron.py:549: ConvergenceWarning: lbfgs failed to converge (status=1):\n",
            "STOP: TOTAL NO. of ITERATIONS REACHED LIMIT.\n",
            "\n",
            "Increase the number of iterations (max_iter) or scale the data as shown in:\n",
            "    https://scikit-learn.org/stable/modules/preprocessing.html\n",
            "  self.n_iter_ = _check_optimize_result(\"lbfgs\", opt_res, self.max_iter)\n",
            "/usr/local/lib/python3.7/dist-packages/sklearn/neural_network/_multilayer_perceptron.py:549: ConvergenceWarning: lbfgs failed to converge (status=1):\n",
            "STOP: TOTAL NO. of ITERATIONS REACHED LIMIT.\n",
            "\n",
            "Increase the number of iterations (max_iter) or scale the data as shown in:\n",
            "    https://scikit-learn.org/stable/modules/preprocessing.html\n",
            "  self.n_iter_ = _check_optimize_result(\"lbfgs\", opt_res, self.max_iter)\n",
            "/usr/local/lib/python3.7/dist-packages/sklearn/neural_network/_multilayer_perceptron.py:549: ConvergenceWarning: lbfgs failed to converge (status=2):\n",
            "ABNORMAL_TERMINATION_IN_LNSRCH.\n",
            "\n",
            "Increase the number of iterations (max_iter) or scale the data as shown in:\n",
            "    https://scikit-learn.org/stable/modules/preprocessing.html\n",
            "  self.n_iter_ = _check_optimize_result(\"lbfgs\", opt_res, self.max_iter)\n"
          ]
        },
        {
          "output_type": "stream",
          "name": "stdout",
          "text": [
            "{'activation': 'relu', 'hidden_layer_sizes': (6, 4), 'max_iter': 500, 'solver': 'lbfgs'}\n",
            "0.43128863528292916\n"
          ]
        }
      ]
    },
    {
      "cell_type": "code",
      "source": [
        ""
      ],
      "metadata": {
        "colab": {
          "base_uri": "https://localhost:8080/"
        },
        "id": "6LkZVkzZh8Xr",
        "outputId": "8cc8dabf-62aa-454e-f2fd-54659017922c"
      },
      "execution_count": 32,
      "outputs": [
        {
          "output_type": "execute_result",
          "data": {
            "text/plain": [
              "0.43224102911306705"
            ]
          },
          "metadata": {},
          "execution_count": 32
        }
      ]
    },
    {
      "cell_type": "code",
      "source": [
        ""
      ],
      "metadata": {
        "id": "pv689Zl5kkTA"
      },
      "execution_count": null,
      "outputs": []
    }
  ]
}