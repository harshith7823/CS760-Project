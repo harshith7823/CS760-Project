{
  "nbformat": 4,
  "nbformat_minor": 0,
  "metadata": {
    "colab": {
      "name": "Diabetes-prediction.ipynb",
      "provenance": []
    },
    "kernelspec": {
      "name": "python3",
      "display_name": "Python 3"
    },
    "language_info": {
      "name": "python"
    }
  },
  "cells": [
    {
      "cell_type": "code",
      "execution_count": 5,
      "metadata": {
        "id": "vW0C_AULpqDP"
      },
      "outputs": [],
      "source": [
        "import pandas as pd\n",
        "import math\n",
        "import numpy as np\n",
        "from sklearn.model_selection import train_test_split\n",
        "from sklearn.model_selection import cross_val_score\n",
        "import matplotlib.pyplot as plt\n",
        "from sklearn.metrics import confusion_matrix\n",
        "from sklearn.naive_bayes import GaussianNB\n",
        "from sklearn.preprocessing import StandardScaler\n",
        "from sklearn.pipeline import Pipeline\n",
        "from sklearn.preprocessing import MinMaxScaler\n",
        "from sklearn.neighbors import KNeighborsClassifier\n",
        "from sklearn.model_selection import GridSearchCV\n",
        "from sklearn.svm import SVC"
      ]
    },
    {
      "cell_type": "code",
      "source": [
        "def fetch_diabetes_ct_data_one_hot(oppScrData):    \n",
        "    ct_data= oppScrData[[\"L1_HU_BMD\", \"TAT Area (cm2)\", 'Total Body                Area EA (cm2)',\n",
        "       'VAT Area (cm2)', 'SAT Area (cm2)', 'VAT/SAT     Ratio', 'Muscle HU',\n",
        "       ' Muscle Area (cm2)', 'L3 SMI (cm2/m2)', 'AoCa        Agatston',\n",
        "       'Liver HU    (Median)', 'Otherabnormalglucose', 'Impairedfastingglucose', \n",
        "       'TypeIIorunspecifiedtypediabetesmellituswithoutmentionofcomplication,uncontrolled', \n",
        "       'Type2diabetesmellituswithoutcomplications']];\n",
        "    n = ct_data.shape[0]\n",
        "    preprocessed_ct_data = []\n",
        "    for i in range(n):\n",
        "        row = ct_data.iloc[i]\n",
        "        ignore = False\n",
        "        for j in row[:]:\n",
        "          if pd.isna(j) or j == ' ': # There is an empty string somewhere in Liver column\n",
        "            ignore = True\n",
        "            break\n",
        "        if not ignore:\n",
        "          preprocessed_ct_data.append(row)\n",
        "    return np.array(preprocessed_ct_data, dtype=np.float32)\n"
      ],
      "metadata": {
        "id": "xAGF7NhApwOc"
      },
      "execution_count": 6,
      "outputs": []
    },
    {
      "cell_type": "code",
      "source": [
        "def fetch_diabetes_ct_data(oppScrData):    \n",
        "    ct_data= oppScrData[[\"L1_HU_BMD\", \"TAT Area (cm2)\", 'Total Body                Area EA (cm2)',\n",
        "       'VAT Area (cm2)', 'SAT Area (cm2)', 'VAT/SAT     Ratio', 'Muscle HU',\n",
        "       ' Muscle Area (cm2)', 'L3 SMI (cm2/m2)', 'AoCa        Agatston',\n",
        "       'Liver HU    (Median)', 'Type 2 Diabetes DX']];\n",
        "    n = ct_data.shape[0]\n",
        "    preprocessed_ct_data = []\n",
        "    for i in range(n):\n",
        "        row = ct_data.iloc[i]\n",
        "        ignore = False\n",
        "        for j in row[:]:\n",
        "          if pd.isna(j) or j == ' ': # There is an empty string somewhere in Liver column\n",
        "            ignore = True\n",
        "            break\n",
        "        if not ignore:\n",
        "          preprocessed_ct_data.append(row)\n",
        "    return np.array(preprocessed_ct_data, dtype=np.float32)\n"
      ],
      "metadata": {
        "id": "n-HUE1q3Q0Yk"
      },
      "execution_count": 7,
      "outputs": []
    },
    {
      "cell_type": "markdown",
      "source": [
        "**ONE HOT**"
      ],
      "metadata": {
        "id": "2ay5HVHBxdAn"
      }
    },
    {
      "cell_type": "code",
      "source": [
        "df = pd.read_excel(r'sample_data/OppScrData.xlsx')  "
      ],
      "metadata": {
        "id": "TyvjfjVUp-YL"
      },
      "execution_count": 7,
      "outputs": []
    },
    {
      "cell_type": "code",
      "source": [
        "# Fetch rows with the below specified diabetes values and convert it to one-hot representation\n",
        "p = ['Otherabnormalglucose', 'Impairedfastingglucose', 'TypeIIorunspecifiedtypediabetesmellituswithoutmentionofcomplication,uncontrolled', 'Type2diabetesmellituswithoutcomplications'];\n",
        "df = df.loc[df[\"Type 2 Diabetes DX\"].isin(p)]\n",
        "diabetes_one_hot = pd.get_dummies(df['Type 2 Diabetes DX'])\n",
        "df = pd.concat([df, diabetes_one_hot], axis=1)\n",
        "df = df.drop('Type 2 Diabetes DX', axis=1)"
      ],
      "metadata": {
        "id": "kXpOxYX2hmYt"
      },
      "execution_count": 5,
      "outputs": []
    },
    {
      "cell_type": "code",
      "source": [
        "# Fetch corresponding ct data values\n",
        "diabetes_ct_data = fetch_diabetes_ct_data(df)"
      ],
      "metadata": {
        "id": "bOXgvUJ0mj-C",
        "colab": {
          "base_uri": "https://localhost:8080/",
          "height": 335
        },
        "outputId": "fe024966-916b-480b-a309-a31a1bdb4d9b"
      },
      "execution_count": 6,
      "outputs": [
        {
          "output_type": "error",
          "ename": "KeyError",
          "evalue": "ignored",
          "traceback": [
            "\u001b[0;31m---------------------------------------------------------------------------\u001b[0m",
            "\u001b[0;31mKeyError\u001b[0m                                  Traceback (most recent call last)",
            "\u001b[0;32m<ipython-input-6-fae13a717351>\u001b[0m in \u001b[0;36m<module>\u001b[0;34m()\u001b[0m\n\u001b[1;32m      1\u001b[0m \u001b[0;31m# Fetch corresponding ct data values\u001b[0m\u001b[0;34m\u001b[0m\u001b[0;34m\u001b[0m\u001b[0;34m\u001b[0m\u001b[0m\n\u001b[0;32m----> 2\u001b[0;31m \u001b[0mdiabetes_ct_data\u001b[0m \u001b[0;34m=\u001b[0m \u001b[0mfetch_diabetes_ct_data\u001b[0m\u001b[0;34m(\u001b[0m\u001b[0mdf\u001b[0m\u001b[0;34m)\u001b[0m\u001b[0;34m\u001b[0m\u001b[0;34m\u001b[0m\u001b[0m\n\u001b[0m",
            "\u001b[0;32m<ipython-input-3-000a2b331bf8>\u001b[0m in \u001b[0;36mfetch_diabetes_ct_data\u001b[0;34m(oppScrData)\u001b[0m\n\u001b[1;32m      3\u001b[0m        \u001b[0;34m'VAT Area (cm2)'\u001b[0m\u001b[0;34m,\u001b[0m \u001b[0;34m'SAT Area (cm2)'\u001b[0m\u001b[0;34m,\u001b[0m \u001b[0;34m'VAT/SAT     Ratio'\u001b[0m\u001b[0;34m,\u001b[0m \u001b[0;34m'Muscle HU'\u001b[0m\u001b[0;34m,\u001b[0m\u001b[0;34m\u001b[0m\u001b[0;34m\u001b[0m\u001b[0m\n\u001b[1;32m      4\u001b[0m        \u001b[0;34m' Muscle Area (cm2)'\u001b[0m\u001b[0;34m,\u001b[0m \u001b[0;34m'L3 SMI (cm2/m2)'\u001b[0m\u001b[0;34m,\u001b[0m \u001b[0;34m'AoCa        Agatston'\u001b[0m\u001b[0;34m,\u001b[0m\u001b[0;34m\u001b[0m\u001b[0;34m\u001b[0m\u001b[0m\n\u001b[0;32m----> 5\u001b[0;31m        'Liver HU    (Median)', 'Type 2 Diabetes DX']];\n\u001b[0m\u001b[1;32m      6\u001b[0m     \u001b[0mn\u001b[0m \u001b[0;34m=\u001b[0m \u001b[0mct_data\u001b[0m\u001b[0;34m.\u001b[0m\u001b[0mshape\u001b[0m\u001b[0;34m[\u001b[0m\u001b[0;36m0\u001b[0m\u001b[0;34m]\u001b[0m\u001b[0;34m\u001b[0m\u001b[0;34m\u001b[0m\u001b[0m\n\u001b[1;32m      7\u001b[0m     \u001b[0mpreprocessed_ct_data\u001b[0m \u001b[0;34m=\u001b[0m \u001b[0;34m[\u001b[0m\u001b[0;34m]\u001b[0m\u001b[0;34m\u001b[0m\u001b[0;34m\u001b[0m\u001b[0m\n",
            "\u001b[0;32m/usr/local/lib/python3.7/dist-packages/pandas/core/frame.py\u001b[0m in \u001b[0;36m__getitem__\u001b[0;34m(self, key)\u001b[0m\n\u001b[1;32m   3462\u001b[0m             \u001b[0;32mif\u001b[0m \u001b[0mis_iterator\u001b[0m\u001b[0;34m(\u001b[0m\u001b[0mkey\u001b[0m\u001b[0;34m)\u001b[0m\u001b[0;34m:\u001b[0m\u001b[0;34m\u001b[0m\u001b[0;34m\u001b[0m\u001b[0m\n\u001b[1;32m   3463\u001b[0m                 \u001b[0mkey\u001b[0m \u001b[0;34m=\u001b[0m \u001b[0mlist\u001b[0m\u001b[0;34m(\u001b[0m\u001b[0mkey\u001b[0m\u001b[0;34m)\u001b[0m\u001b[0;34m\u001b[0m\u001b[0;34m\u001b[0m\u001b[0m\n\u001b[0;32m-> 3464\u001b[0;31m             \u001b[0mindexer\u001b[0m \u001b[0;34m=\u001b[0m \u001b[0mself\u001b[0m\u001b[0;34m.\u001b[0m\u001b[0mloc\u001b[0m\u001b[0;34m.\u001b[0m\u001b[0m_get_listlike_indexer\u001b[0m\u001b[0;34m(\u001b[0m\u001b[0mkey\u001b[0m\u001b[0;34m,\u001b[0m \u001b[0maxis\u001b[0m\u001b[0;34m=\u001b[0m\u001b[0;36m1\u001b[0m\u001b[0;34m)\u001b[0m\u001b[0;34m[\u001b[0m\u001b[0;36m1\u001b[0m\u001b[0;34m]\u001b[0m\u001b[0;34m\u001b[0m\u001b[0;34m\u001b[0m\u001b[0m\n\u001b[0m\u001b[1;32m   3465\u001b[0m \u001b[0;34m\u001b[0m\u001b[0m\n\u001b[1;32m   3466\u001b[0m         \u001b[0;31m# take() does not accept boolean indexers\u001b[0m\u001b[0;34m\u001b[0m\u001b[0;34m\u001b[0m\u001b[0;34m\u001b[0m\u001b[0m\n",
            "\u001b[0;32m/usr/local/lib/python3.7/dist-packages/pandas/core/indexing.py\u001b[0m in \u001b[0;36m_get_listlike_indexer\u001b[0;34m(self, key, axis)\u001b[0m\n\u001b[1;32m   1312\u001b[0m             \u001b[0mkeyarr\u001b[0m\u001b[0;34m,\u001b[0m \u001b[0mindexer\u001b[0m\u001b[0;34m,\u001b[0m \u001b[0mnew_indexer\u001b[0m \u001b[0;34m=\u001b[0m \u001b[0max\u001b[0m\u001b[0;34m.\u001b[0m\u001b[0m_reindex_non_unique\u001b[0m\u001b[0;34m(\u001b[0m\u001b[0mkeyarr\u001b[0m\u001b[0;34m)\u001b[0m\u001b[0;34m\u001b[0m\u001b[0;34m\u001b[0m\u001b[0m\n\u001b[1;32m   1313\u001b[0m \u001b[0;34m\u001b[0m\u001b[0m\n\u001b[0;32m-> 1314\u001b[0;31m         \u001b[0mself\u001b[0m\u001b[0;34m.\u001b[0m\u001b[0m_validate_read_indexer\u001b[0m\u001b[0;34m(\u001b[0m\u001b[0mkeyarr\u001b[0m\u001b[0;34m,\u001b[0m \u001b[0mindexer\u001b[0m\u001b[0;34m,\u001b[0m \u001b[0maxis\u001b[0m\u001b[0;34m)\u001b[0m\u001b[0;34m\u001b[0m\u001b[0;34m\u001b[0m\u001b[0m\n\u001b[0m\u001b[1;32m   1315\u001b[0m \u001b[0;34m\u001b[0m\u001b[0m\n\u001b[1;32m   1316\u001b[0m         if needs_i8_conversion(ax.dtype) or isinstance(\n",
            "\u001b[0;32m/usr/local/lib/python3.7/dist-packages/pandas/core/indexing.py\u001b[0m in \u001b[0;36m_validate_read_indexer\u001b[0;34m(self, key, indexer, axis)\u001b[0m\n\u001b[1;32m   1375\u001b[0m \u001b[0;34m\u001b[0m\u001b[0m\n\u001b[1;32m   1376\u001b[0m             \u001b[0mnot_found\u001b[0m \u001b[0;34m=\u001b[0m \u001b[0mlist\u001b[0m\u001b[0;34m(\u001b[0m\u001b[0mensure_index\u001b[0m\u001b[0;34m(\u001b[0m\u001b[0mkey\u001b[0m\u001b[0;34m)\u001b[0m\u001b[0;34m[\u001b[0m\u001b[0mmissing_mask\u001b[0m\u001b[0;34m.\u001b[0m\u001b[0mnonzero\u001b[0m\u001b[0;34m(\u001b[0m\u001b[0;34m)\u001b[0m\u001b[0;34m[\u001b[0m\u001b[0;36m0\u001b[0m\u001b[0;34m]\u001b[0m\u001b[0;34m]\u001b[0m\u001b[0;34m.\u001b[0m\u001b[0munique\u001b[0m\u001b[0;34m(\u001b[0m\u001b[0;34m)\u001b[0m\u001b[0;34m)\u001b[0m\u001b[0;34m\u001b[0m\u001b[0;34m\u001b[0m\u001b[0m\n\u001b[0;32m-> 1377\u001b[0;31m             \u001b[0;32mraise\u001b[0m \u001b[0mKeyError\u001b[0m\u001b[0;34m(\u001b[0m\u001b[0;34mf\"{not_found} not in index\"\u001b[0m\u001b[0;34m)\u001b[0m\u001b[0;34m\u001b[0m\u001b[0;34m\u001b[0m\u001b[0m\n\u001b[0m\u001b[1;32m   1378\u001b[0m \u001b[0;34m\u001b[0m\u001b[0m\n\u001b[1;32m   1379\u001b[0m \u001b[0;34m\u001b[0m\u001b[0m\n",
            "\u001b[0;31mKeyError\u001b[0m: \"['Type 2 Diabetes DX'] not in index\""
          ]
        }
      ]
    },
    {
      "cell_type": "code",
      "source": [
        "diabetes_ct_data[0]"
      ],
      "metadata": {
        "colab": {
          "base_uri": "https://localhost:8080/"
        },
        "id": "0fLUifN0peMm",
        "outputId": "1b621848-685b-4d9f-d3b8-c0e9d70e7878"
      },
      "execution_count": 7,
      "outputs": [
        {
          "output_type": "execute_result",
          "data": {
            "text/plain": [
              "array([106.       , 315.53076  , 588.89233  , 202.31795  , 113.21282  ,\n",
              "         1.7870586,  -3.181874 , 168.92395  ,  47.814583 , 431.519    ,\n",
              "        53.       ,   1.       ,   0.       ,   0.       ,   0.       ],\n",
              "      dtype=float32)"
            ]
          },
          "metadata": {},
          "execution_count": 7
        }
      ]
    },
    {
      "cell_type": "code",
      "source": [
        "X = diabetes_ct_data[:, :-4]\n",
        "y = diabetes_ct_data[:, -4:]"
      ],
      "metadata": {
        "id": "UrR16rjQnuqp"
      },
      "execution_count": 12,
      "outputs": []
    },
    {
      "cell_type": "code",
      "source": [
        "y"
      ],
      "metadata": {
        "id": "d5QfIdSOohhG",
        "colab": {
          "base_uri": "https://localhost:8080/"
        },
        "outputId": "c5d564e7-a0c7-4216-db81-d3c9e0c37496"
      },
      "execution_count": 13,
      "outputs": [
        {
          "output_type": "execute_result",
          "data": {
            "text/plain": [
              "array([[1., 0., 0., 0.],\n",
              "       [0., 0., 0., 1.],\n",
              "       [1., 0., 0., 0.],\n",
              "       ...,\n",
              "       [0., 1., 0., 0.],\n",
              "       [1., 0., 0., 0.],\n",
              "       [0., 0., 1., 0.]], dtype=float32)"
            ]
          },
          "metadata": {},
          "execution_count": 13
        }
      ]
    },
    {
      "cell_type": "markdown",
      "source": [
        "**NORMAL REPRESENTATION**"
      ],
      "metadata": {
        "id": "ojSHE_ahxQCU"
      }
    },
    {
      "cell_type": "code",
      "source": [
        "df = pd.read_excel(r'sample_data/OppScrData.xlsx')  \n",
        "p = ['Otherabnormalglucose', 'Impairedfastingglucose', 'TypeIIorunspecifiedtypediabetesmellituswithoutmentionofcomplication,uncontrolled', 'Type2diabetesmellituswithoutcomplications'];\n",
        "df = df.loc[df[\"Type 2 Diabetes DX\"].isin(p)]\n",
        "r = {\"Otherabnormalglucose\":1, \"Impairedfastingglucose\":2, \"Type2diabetesmellituswithoutcomplications\":3, \"TypeIIorunspecifiedtypediabetesmellituswithoutmentionofcomplication,uncontrolled\":4}\n",
        "df[\"Type 2 Diabetes DX\"].replace(r, inplace=True)\n",
        "diabetes_ct_data = fetch_diabetes_ct_data(df)"
      ],
      "metadata": {
        "id": "j62FTsX8PMDV"
      },
      "execution_count": 8,
      "outputs": []
    },
    {
      "cell_type": "code",
      "source": [
        "X = diabetes_ct_data[:, :-1]\n",
        "y = diabetes_ct_data[:, -1]"
      ],
      "metadata": {
        "id": "7I0Lan-8Poh5"
      },
      "execution_count": 9,
      "outputs": []
    },
    {
      "cell_type": "code",
      "source": [
        "X[0]"
      ],
      "metadata": {
        "colab": {
          "base_uri": "https://localhost:8080/"
        },
        "id": "9osP28kCxr9D",
        "outputId": "c9015b02-dc93-4fbd-8d8d-2ad8b631f710"
      },
      "execution_count": 10,
      "outputs": [
        {
          "output_type": "execute_result",
          "data": {
            "text/plain": [
              "array([106.       , 315.53076  , 588.89233  , 202.31795  , 113.21282  ,\n",
              "         1.7870586,  -3.181874 , 168.92395  ,  47.814583 , 431.519    ,\n",
              "        53.       ], dtype=float32)"
            ]
          },
          "metadata": {},
          "execution_count": 10
        }
      ]
    },
    {
      "cell_type": "code",
      "source": [
        "X_train, X_test, y_train, y_test = train_test_split(X, y, random_state = 0)\n"
      ],
      "metadata": {
        "id": "xv_x7MVtRrEW"
      },
      "execution_count": 11,
      "outputs": []
    },
    {
      "cell_type": "code",
      "source": [
        "gnb = GaussianNB().fit(X_train, y_train)\n",
        "gnb_predictions = gnb.predict(X_test)\n",
        " \n",
        "# accuracy on X_test\n",
        "accuracy = gnb.score(X_test, y_test)\n",
        "print(accuracy)\n",
        " \n",
        "# creating a confusion matrix\n",
        "cm = confusion_matrix(y_test, gnb_predictions)\n",
        "print(cm)\n"
      ],
      "metadata": {
        "colab": {
          "base_uri": "https://localhost:8080/"
        },
        "id": "52-mymH4SoFz",
        "outputId": "6441850c-5a20-4b21-e34b-260890b1cecc"
      },
      "execution_count": 43,
      "outputs": [
        {
          "output_type": "stream",
          "name": "stdout",
          "text": [
            "0.3745247148288973\n",
            "[[ 29 150  29  12]\n",
            " [ 25 144  13   7]\n",
            " [  8  23  10   8]\n",
            " [ 15  27  12  14]]\n"
          ]
        }
      ]
    },
    {
      "cell_type": "code",
      "source": [
        "# TODO - tSNE"
      ],
      "metadata": {
        "id": "UPzSLZSCSrtc"
      },
      "execution_count": 19,
      "outputs": []
    },
    {
      "cell_type": "code",
      "source": [
        "neigh = KNeighborsClassifier(n_neighbors=10)\n",
        "neigh.fit(X_train, y_train)\n",
        "accuracy = neigh.score(X_test, y_test)\n",
        "print(accuracy)\n",
        "\n",
        "# creating a confusion matrix\n",
        "neigh_predictions = neigh.predict(X_test)\n",
        "cm = confusion_matrix(y_test, neigh_predictions)\n",
        "print(cm)"
      ],
      "metadata": {
        "colab": {
          "base_uri": "https://localhost:8080/"
        },
        "id": "8a3kTIKpv6ED",
        "outputId": "1fd01793-9d39-4960-8590-69c1bbc9edfc"
      },
      "execution_count": 45,
      "outputs": [
        {
          "output_type": "stream",
          "name": "stdout",
          "text": [
            "0.3935361216730038\n",
            "[[143  65   4   8]\n",
            " [126  55   3   5]\n",
            " [ 35  10   1   3]\n",
            " [ 44  15   1   8]]\n"
          ]
        }
      ]
    },
    {
      "cell_type": "code",
      "source": [
        ""
      ],
      "metadata": {
        "id": "k97ZaAZG2SbP"
      },
      "execution_count": null,
      "outputs": []
    },
    {
      "cell_type": "markdown",
      "source": [
        "check"
      ],
      "metadata": {
        "id": "nBjbMyLU2Tdk"
      }
    },
    {
      "cell_type": "code",
      "source": [
        ""
      ],
      "metadata": {
        "id": "I8MirPiI2UAK"
      },
      "execution_count": 68,
      "outputs": []
    },
    {
      "cell_type": "code",
      "source": [
        "knn_pipe = Pipeline([('mms', StandardScaler()),\n",
        "                     ('knn', KNeighborsClassifier())])\n",
        "params = [{'knn__n_neighbors': [ 11, 12, 13],\n",
        "         'knn__weights': ['uniform', 'distance'],\n",
        "         'knn__leaf_size': [15, 20]}]\n",
        "gs_knn = GridSearchCV(knn_pipe,\n",
        "                      param_grid=params,\n",
        "                      scoring='accuracy',\n",
        "                      cv=3)\n",
        "gs_knn.fit(X, y)\n",
        "print(gs_knn.best_params_)\n",
        "print(gs_knn.score(X, y))"
      ],
      "metadata": {
        "colab": {
          "base_uri": "https://localhost:8080/"
        },
        "id": "7L0xaI862UoE",
        "outputId": "7fee43d7-7c58-422e-91a6-07e93c2348d8"
      },
      "execution_count": 74,
      "outputs": [
        {
          "output_type": "stream",
          "name": "stdout",
          "text": [
            "{'knn__leaf_size': 15, 'knn__n_neighbors': 11, 'knn__weights': 'uniform'}\n",
            "0.5135520684736091\n"
          ]
        }
      ]
    },
    {
      "cell_type": "code",
      "source": [
        "\n"
      ],
      "metadata": {
        "colab": {
          "base_uri": "https://localhost:8080/"
        },
        "id": "KMFRhNCV2c66",
        "outputId": "49b591f7-fb8f-4348-d7eb-44eeb5e890e8"
      },
      "execution_count": 62,
      "outputs": [
        {
          "output_type": "stream",
          "name": "stdout",
          "text": [
            "0.5135520684736091\n"
          ]
        }
      ]
    },
    {
      "cell_type": "code",
      "source": [
        "\n",
        "SVC_pipe = Pipeline([('mms', StandardScaler()),\n",
        "                     ('svc', SVC())])\n",
        "\n",
        "params = {'C':[0.1,1,100,1000],\n",
        "          'kernel':['rbf','poly','sigmoid','linear'],\n",
        "          'degree':[1,2,3,4,5,6],\n",
        "          'gamma': [1, 0.1, 0.01, 0.001, 0.0001]}\n",
        "\n",
        "gs_SVC = GridSearchCV(SVC(),\n",
        "                      param_grid=params,\n",
        "                      scoring='accuracy',\n",
        "                      cv=3)\n",
        "gs_SVC.fit(X, y)\n",
        "print(gs_SVC.best_params_)\n",
        "print(gs_SVC.score(X, y))"
      ],
      "metadata": {
        "id": "rpETrP0C2k3S"
      },
      "execution_count": null,
      "outputs": []
    },
    {
      "cell_type": "code",
      "source": [
        "from sklearn.metrics.pairwise import rbf_kernel\n",
        "s = SVC(kernel='rbf')\n",
        "s.fit(X,y)\n",
        "print(s.score(X, y))"
      ],
      "metadata": {
        "colab": {
          "base_uri": "https://localhost:8080/"
        },
        "id": "WVAWEmn14Aoe",
        "outputId": "e5adf66e-0477-49d5-f86f-917037d9a37a"
      },
      "execution_count": 18,
      "outputs": [
        {
          "output_type": "stream",
          "name": "stdout",
          "text": [
            "0.43128863528292916\n"
          ]
        }
      ]
    },
    {
      "cell_type": "code",
      "source": [
        ""
      ],
      "metadata": {
        "colab": {
          "base_uri": "https://localhost:8080/"
        },
        "id": "B7fa4-ko4h8S",
        "outputId": "23e0e390-fa06-466a-e8a3-c42f7790898e"
      },
      "execution_count": 17,
      "outputs": [
        {
          "output_type": "stream",
          "name": "stdout",
          "text": [
            "0.43128863528292916\n"
          ]
        }
      ]
    },
    {
      "cell_type": "code",
      "source": [
        ""
      ],
      "metadata": {
        "id": "KZCACsaLFlJd"
      },
      "execution_count": null,
      "outputs": []
    }
  ]
}