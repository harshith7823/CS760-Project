{
  "cells": [
    {
      "cell_type": "markdown",
      "metadata": {
        "id": "view-in-github",
        "colab_type": "text"
      },
      "source": [
        "<a href=\"https://colab.research.google.com/github/harshith7823/CS760-Project/blob/reetu/experiments_part2.ipynb\" target=\"_parent\"><img src=\"https://colab.research.google.com/assets/colab-badge.svg\" alt=\"Open In Colab\"/></a>"
      ]
    },
    {
      "cell_type": "code",
      "execution_count": 3,
      "metadata": {
        "id": "9Sdox0HvWnzP"
      },
      "outputs": [],
      "source": [
        "import pandas as pd\n",
        "import numpy as np\n",
        "from sklearn.preprocessing import StandardScaler"
      ]
    },
    {
      "cell_type": "code",
      "execution_count": 5,
      "metadata": {
        "id": "J-MUZX4QNBU2"
      },
      "outputs": [],
      "source": [
        "def preprocess_clinical_data(oppScrData, mean=True):\n",
        "    clinical_data = oppScrData.filter(['Record ID','BMI','BMI >30', 'Sex', 'Tobacco', 'Met Sx', 'FRAX 10y Fx Prob (Orange-w/ DXA)',\n",
        "                                'FRAX 10y Hip Fx Prob (Orange-w/ DXA)','FRS 10-year risk (%)','Age at CT', 'DEATH [d from CT]' ], axis=1)\n",
        "    # Replace all _,X,blanks with nan\n",
        "    clinical_data = clinical_data.replace(r'_', np.nan, regex=True)\n",
        "    clinical_data = clinical_data.replace(r'X', np.nan, regex=True)\n",
        "    clinical_data = clinical_data.replace(r'^\\s*$', np.nan, regex=True)\n",
        "\n",
        "    # Fill na in bmi column with mean\n",
        "    clinical_data['BMI'].fillna(value=clinical_data['BMI'].mean(skipna=True), inplace=True)\n",
        "    \n",
        "    # Fill na in bmi>30 column based on bmi col\n",
        "    clinical_data.loc[clinical_data.BMI>30, 'BMI >30'] = 1\n",
        "    clinical_data.loc[clinical_data.BMI<=30, 'BMI >30'] = -1\n",
        "    \n",
        "    clinical_data['Sex'] = np.where(clinical_data['Sex']=='Male',1,-1)\n",
        "    clinical_data['Met Sx'] = np.where(clinical_data['Met Sx']=='Y',1,-1) \n",
        "\n",
        "    # Treat no data in tobacco as no tobacco usage \n",
        "    clinical_data['Tobacco'] = np.where(clinical_data['Tobacco']=='Yes',1,-1) \n",
        "  \n",
        "    clinical_data['FRS 10-year risk (%)'] = clinical_data['FRS 10-year risk (%)'].replace(\"<1\", 0.01, regex=True)\n",
        "    clinical_data['FRS 10-year risk (%)'] = clinical_data['FRS 10-year risk (%)'].replace(\">30\", 0.30, regex=True)\n",
        "    clinical_data['FRS 10-year risk (%)'] =  clinical_data['FRS 10-year risk (%)'] * 100\n",
        "   \n",
        "    cols_to_be_filled = ['FRAX 10y Fx Prob (Orange-w/ DXA)','FRAX 10y Hip Fx Prob (Orange-w/ DXA)','FRS 10-year risk (%)']\n",
        "    for c in cols_to_be_filled:\n",
        "      if mean:  \n",
        "        clinical_data[c].fillna(value=clinical_data[c].mean(skipna=True), inplace=True)\n",
        "      else :\n",
        "        clinical_data[c].fillna(value=clinical_data[c].median(skipna=True), inplace=True)\n",
        "\n",
        "    # clinical_data['Age_at_death'] = np.where(clinical_data['DEATH [d from CT]'].isna(), np.nan, (clinical_data['Age at CT']*365 + clinical_data['DEATH [d from CT]'])/365)\n",
        "    clinical_data = fill_death_col(clinical_data)\n",
        "    return [clinical_data, np.array(clinical_data, dtype=np.float32)]"
      ]
    },
    {
      "cell_type": "code",
      "execution_count": 6,
      "metadata": {
        "id": "HUADfFdAWF6d"
      },
      "outputs": [],
      "source": [
        "def clean_ct_data(oppScrData):\n",
        "    # Delete rows with empty values\n",
        "    ct_data= oppScrData[[\"Record ID\", \"L1_HU_BMD\", \"TAT Area (cm2)\", 'Total Body                Area EA (cm2)',\n",
        "       'VAT Area (cm2)', 'SAT Area (cm2)', 'VAT/SAT     Ratio', 'Muscle HU',\n",
        "       ' Muscle Area (cm2)', 'L3 SMI (cm2/m2)', 'AoCa        Agatston',\n",
        "       'Liver HU    (Median)', 'Age at CT']]\n",
        "    ct_data['Liver HU    (Median)'].replace(' ', np.nan, inplace=True)\n",
        "    ct_data.dropna(axis = 0, how ='any', thresh = None, subset = None, inplace=True)\n",
        "    return [ct_data, np.array(ct_data, dtype=np.float32)]"
      ]
    },
    {
      "cell_type": "code",
      "source": [
        "def fill_death_col(clinical_data):\n",
        "  \n",
        "  male_obese = (clinical_data['Sex'] == 1) & (clinical_data['BMI'] > 30)\n",
        "  female_obese = (clinical_data['Sex'] == -1) & (clinical_data['BMI'] > 30)\n",
        "  male_underweight = (clinical_data['Sex'] == 1) & (clinical_data['BMI'] < 18.5)\n",
        "  female_underweight = (clinical_data['Sex'] == -1) & (clinical_data['BMI'] < 18.5)\n",
        "  clinical_data['BMI_reduction_factor'] = 0\n",
        "  clinical_data.loc[male_obese, 'BMI_reduction_factor'] = 4.2\n",
        "  clinical_data.loc[female_obese, 'BMI_reduction_factor'] = 3.5\n",
        "  clinical_data.loc[male_underweight, 'BMI_reduction_factor'] = 4.3\n",
        "  clinical_data.loc[female_underweight, 'BMI_reduction_factor'] = 4.5\n",
        "\n",
        "  clinical_data['Tobacco_reduction_factor'] = np.where(clinical_data['Tobacco']==1,10,0)\n",
        "\n",
        "  \n",
        "  #Leave na on rows with no death data, fill the rest with age*365+death days \n",
        "  # clinical_data['Age_at_death'] = np.where(clinical_data['DEATH [d from CT]'].isna(), np.nan, clinical_data['Age at CT']*365 + clinical_data['DEATH [d from CT]'])\n",
        "  clinical_data['Age_at_death'] = np.where(clinical_data['DEATH [d from CT]'].isna(), np.nan, clinical_data['Age at CT'] + clinical_data['DEATH [d from CT]']/365)\n",
        "\n",
        "  # fill death with avg lifespan - alpha(reduction for tobacco) - beta(reduction for bmi)\n",
        "  corr_bmi_death = clinical_data['BMI'].corr(clinical_data['Age_at_death'])\n",
        "  corr_tobacco_death = clinical_data['Tobacco'].corr(clinical_data['Age_at_death'])\n",
        "\n",
        "  # print(corr_bmi_death)\n",
        "  # print(corr_tobacco_death)\n",
        "\n",
        "  #normalize\n",
        "  alpha = corr_bmi_death/(corr_bmi_death+corr_tobacco_death)\n",
        "  beta = corr_tobacco_death/(corr_bmi_death+corr_tobacco_death)\n",
        "\n",
        "  # print(alpha)\n",
        "  # print(beta)\n",
        "  \n",
        "  avg_lifespan_male=76.3  \n",
        "  avg_lifespan_female=81.2\n",
        "\n",
        "  clinical_data['avg_life'] = np.where(clinical_data['Sex']==1, avg_lifespan_male, avg_lifespan_female)\n",
        "  clinical_data['avg_life'] = clinical_data['avg_life'] - alpha*(clinical_data['BMI_reduction_factor'])-beta*(clinical_data['Tobacco_reduction_factor'])\n",
        "  clinical_data['DEATH [d from CT]'].fillna((clinical_data['avg_life']-clinical_data['Age at CT'])*365, inplace=True)\n",
        "  clinical_data['Age_at_death'].fillna(clinical_data['Age at CT'] + clinical_data['DEATH [d from CT]']/365, inplace=True)\n",
        "  # clinical_data.drop(columns=['Age_at_death'], inplace=True) #only used for correlation, we dont need this any further\n",
        "  return clinical_data\n"
      ],
      "metadata": {
        "id": "guFpAjpQM-tW"
      },
      "execution_count": 7,
      "outputs": []
    },
    {
      "cell_type": "code",
      "execution_count": 8,
      "metadata": {
        "id": "glMYGZoFW6_V"
      },
      "outputs": [],
      "source": [
        "oppScrData = pd.read_excel (r'sample_data/OppScrData.xlsx') "
      ]
    },
    {
      "cell_type": "code",
      "execution_count": null,
      "metadata": {
        "id": "V2E_FmyiHDI2"
      },
      "outputs": [],
      "source": [
        "clinical_data, clinical_data_np = preprocess_clinical_data(oppScrData)\n",
        "ct_data, ct_data_np = clean_ct_data(oppScrData)\n"
      ]
    },
    {
      "cell_type": "code",
      "source": [
        "combined_data = clinical_data.merge(ct_data, on='Record ID', how='inner' )\n",
        "print(clinical_data['Age_at_death'])\n",
        "# data_for_corr = combined_data.drop(columns=['Record ID','Tobacco','DEATH [d from CT]','BMI >30','Age at CT_x', 'Age at CT_y'])\n"
      ],
      "metadata": {
        "id": "zrF2bfxth1AQ"
      },
      "execution_count": null,
      "outputs": []
    },
    {
      "cell_type": "code",
      "source": [
        "print(combined_data.shape)"
      ],
      "metadata": {
        "colab": {
          "base_uri": "https://localhost:8080/"
        },
        "id": "7xQLkL-N5DTH",
        "outputId": "400d3993-75ac-4eaf-82d3-52d12fe7c25c"
      },
      "execution_count": 281,
      "outputs": [
        {
          "output_type": "stream",
          "name": "stdout",
          "text": [
            "(8878, 27)\n"
          ]
        }
      ]
    },
    {
      "cell_type": "code",
      "execution_count": 11,
      "metadata": {
        "colab": {
          "base_uri": "https://localhost:8080/"
        },
        "id": "mHl4ratFXDVS",
        "outputId": "13a38784-121e-413f-a250-16adebc32eba"
      },
      "outputs": [
        {
          "output_type": "stream",
          "name": "stdout",
          "text": [
            "(8878, 27)\n"
          ]
        }
      ],
      "source": [
        "selected_rows = combined_data[~combined_data['Age_at_death'].isnull()]\n",
        "print(selected_rows.shape)"
      ]
    },
    {
      "cell_type": "code",
      "source": [
        "print(selected_rows['Age_at_death'].head)"
      ],
      "metadata": {
        "colab": {
          "base_uri": "https://localhost:8080/"
        },
        "id": "QU95roxxzkBb",
        "outputId": "a472e19b-184f-4552-ed4f-14da443b37b1"
      },
      "execution_count": 283,
      "outputs": [
        {
          "output_type": "stream",
          "name": "stdout",
          "text": [
            "<bound method NDFrame.head of 0       55.983562\n",
            "1       81.200000\n",
            "2       66.441096\n",
            "3       89.802740\n",
            "4       75.120198\n",
            "          ...    \n",
            "8873    76.300000\n",
            "8874    75.120198\n",
            "8875    78.112931\n",
            "8876    81.200000\n",
            "8877    76.300000\n",
            "Name: Age_at_death, Length: 8878, dtype: float64>\n"
          ]
        }
      ]
    },
    {
      "cell_type": "code",
      "execution_count": 12,
      "metadata": {
        "id": "8ADIBKbg7UXj"
      },
      "outputs": [],
      "source": [
        "# make a regression prediction with an RFE pipeline\n",
        "from numpy import mean\n",
        "from numpy import std\n",
        "from sklearn.model_selection import train_test_split\n",
        "from sklearn.feature_selection import RFE\n",
        "from sklearn.linear_model import Lasso, ElasticNet,RidgeCV\n",
        "from sklearn.neighbors import KNeighborsRegressor\n",
        "from sklearn.tree import DecisionTreeRegressor\n",
        "from sklearn.pipeline import Pipeline, make_pipeline\n",
        "from sklearn.svm import SVR\n",
        "from sklearn.neural_network import MLPRegressor\n",
        "\n",
        "def testWithModel(model):\n",
        "  # define dataset\n",
        "  y = np.array(selected_rows['Age_at_death'])\n",
        "  X = np.array(selected_rows.drop(columns=['Age_at_death']))\n",
        "\n",
        "  X_train, X_test, y_train, y_test = train_test_split(X, y, test_size=0.05, random_state=42)\n",
        "  regr = make_pipeline(StandardScaler(), model)\n",
        "  regr.fit(X_train, y_train)\n",
        "  y_hat = regr.predict(X_test)\n",
        "\n",
        "  print(mean_absolute_error(y_test, y_hat))  \n",
        "  # plot_results()\n"
      ]
    },
    {
      "cell_type": "code",
      "source": [
        "print('SVR')\n",
        "testWithModel(SVR(C=300, epsilon=0.02)) # uses RBF kernel by default\n",
        "print('Lasso')\n",
        "testWithModel(Lasso(alpha=0.5))\n",
        "print('Elastic')\n",
        "testWithModel(ElasticNet(random_state=0))\n",
        "print('Decision Tree Regressor')\n",
        "testWithModel(DecisionTreeRegressor(criterion=\"absolute_error\"))\n",
        "print('Ridge')\n",
        "testWithModel(RidgeCV())\n",
        "print(\"KNNRegressor\")\n",
        "testWithModel(KNeighborsRegressor())"
      ],
      "metadata": {
        "colab": {
          "base_uri": "https://localhost:8080/"
        },
        "id": "yzwe_ciPvNmy",
        "outputId": "a91f1a21-a46f-4fca-eefa-a2c64883c11d"
      },
      "execution_count": 15,
      "outputs": [
        {
          "output_type": "stream",
          "name": "stdout",
          "text": [
            "SVR\n",
            "0.1992646258266487\n",
            "Lasso\n",
            "0.9209740005576368\n",
            "Elastic\n",
            "1.4582292071573772\n",
            "Decision Tree Regressor\n",
            "0.7392178728878768\n",
            "Ridge\n",
            "0.00014193027648818753\n",
            "KNNRegressor\n",
            "0.569429878630226\n"
          ]
        }
      ]
    },
    {
      "cell_type": "code",
      "source": [
        ""
      ],
      "metadata": {
        "id": "5hX4qI2P8qKR"
      },
      "execution_count": null,
      "outputs": []
    },
    {
      "cell_type": "code",
      "execution_count": 14,
      "metadata": {
        "id": "KPTXAXSmChiL"
      },
      "outputs": [],
      "source": [
        "import matplotlib.pyplot as plt\n",
        "\n",
        "def plot_results():\n",
        "  plt.figure()\n",
        "  x = [i+1 for i in range(len(y_test))]\n",
        "  plt.plot((x,x),([i for i in yhat], [j for j in y_test]),c='green')\n",
        "  plt.scatter(x, yhat, label=\"predicted_y\")\n",
        "  plt.scatter(x, y_test, label=\"actual_y\")\n",
        "  plt.xlabel(\"X\")\n",
        "  plt.ylabel(\"Y\")\n",
        "  plt.legend()\n",
        "  plt.show()"
      ]
    },
    {
      "cell_type": "code",
      "execution_count": 13,
      "metadata": {
        "id": "xm38ss6_Dy_q"
      },
      "outputs": [],
      "source": [
        "import math\n",
        "def mean_absolute_error(actual, predictions):\n",
        "  n = len(actual)\n",
        "  return np.sum(abs(np.subtract(actual, predictions)))/n\n",
        "\n",
        "def root_mean_squared_error(actual, predictions):\n",
        "  n = len(actual)\n",
        "  se = sum((actual - predictions)**2)\n",
        "  return math.sqrt(se/n)\n",
        "\n",
        "def mean_absolute_percentage_error(actual, predictions):\n",
        "  n = len(actual)\n",
        "  return sum((actual - predictions)/actual)/n\n",
        "\n",
        "def avg_error_for_np_arr(actual_np, pred_np):\n",
        "  sum=0\n",
        "  for i, _ in enumerate(pred_np):\n",
        "    val = pred_np[i]-actual_np[i]\n",
        "    if(val<0):\n",
        "      val=-val\n",
        "    sum+=val\n",
        "  return(sum/len(pred_np))\n",
        "  \n",
        "def print_errors(y_test, predicted_y):\n",
        "  print(mean_absolute_error(y_test, predicted_y))\n",
        "  print(root_mean_squared_error(y_test, predicted_y))\n",
        "  print(mean_absolute_percentage_error(y_test, predicted_y))"
      ]
    }
  ],
  "metadata": {
    "colab": {
      "name": "experiments part2.ipynb",
      "provenance": [],
      "authorship_tag": "ABX9TyMPfYSb0Qg9TB9rloLNIwEG",
      "include_colab_link": true
    },
    "kernelspec": {
      "display_name": "Python 3",
      "name": "python3"
    },
    "language_info": {
      "name": "python"
    }
  },
  "nbformat": 4,
  "nbformat_minor": 0
}